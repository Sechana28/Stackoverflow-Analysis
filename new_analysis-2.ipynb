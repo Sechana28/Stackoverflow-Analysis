{
 "cells": [
  {
   "cell_type": "code",
   "execution_count": 198,
   "metadata": {},
   "outputs": [],
   "source": [
    "import pandas as pd\n",
    "import numpy as np\n",
    "import math\n",
    "import matplotlib.pyplot as plt\n",
    "import seaborn as sns\n",
    "import streamlit as st\n",
    "import plotly.express as px\n",
    "import plotly.graph_objects as go\n",
    "import pycountry\n",
    "from scipy.stats import norm\n",
    "import random\n",
    "from scipy.stats import norm\n",
    "import re"
   ]
  },
  {
   "cell_type": "markdown",
   "metadata": {},
   "source": [
    "# Dataset 2021"
   ]
  },
  {
   "cell_type": "code",
   "execution_count": 199,
   "metadata": {},
   "outputs": [
    {
     "data": {
      "text/html": [
       "<div>\n",
       "<style scoped>\n",
       "    .dataframe tbody tr th:only-of-type {\n",
       "        vertical-align: middle;\n",
       "    }\n",
       "\n",
       "    .dataframe tbody tr th {\n",
       "        vertical-align: top;\n",
       "    }\n",
       "\n",
       "    .dataframe thead th {\n",
       "        text-align: right;\n",
       "    }\n",
       "</style>\n",
       "<table border=\"1\" class=\"dataframe\">\n",
       "  <thead>\n",
       "    <tr style=\"text-align: right;\">\n",
       "      <th></th>\n",
       "      <th>Unnamed: 0.1</th>\n",
       "      <th>Unnamed: 0</th>\n",
       "      <th>ResponseId</th>\n",
       "      <th>MainBranch</th>\n",
       "      <th>Employment</th>\n",
       "      <th>Country</th>\n",
       "      <th>EdLevel</th>\n",
       "      <th>Age1stCode</th>\n",
       "      <th>LearnCode</th>\n",
       "      <th>YearsCode</th>\n",
       "      <th>...</th>\n",
       "      <th>OpSys</th>\n",
       "      <th>NEWStuck</th>\n",
       "      <th>NEWOtherComms</th>\n",
       "      <th>Age</th>\n",
       "      <th>Gender</th>\n",
       "      <th>Trans</th>\n",
       "      <th>Sexuality</th>\n",
       "      <th>Ethnicity</th>\n",
       "      <th>Accessibility</th>\n",
       "      <th>MentalHealth</th>\n",
       "    </tr>\n",
       "  </thead>\n",
       "  <tbody>\n",
       "    <tr>\n",
       "      <th>0</th>\n",
       "      <td>0</td>\n",
       "      <td>0</td>\n",
       "      <td>1</td>\n",
       "      <td>developer</td>\n",
       "      <td>Independent contractor, freelancer, or self-em...</td>\n",
       "      <td>Slovakia</td>\n",
       "      <td>Secondary school (e.g. American high school, G...</td>\n",
       "      <td>18 - 24 years</td>\n",
       "      <td>bootcampother</td>\n",
       "      <td>NaN</td>\n",
       "      <td>...</td>\n",
       "      <td>MacOS</td>\n",
       "      <td>overflowgo</td>\n",
       "      <td>No</td>\n",
       "      <td>25-34 years old</td>\n",
       "      <td>Man</td>\n",
       "      <td>No</td>\n",
       "      <td>Straight / Heterosexual</td>\n",
       "      <td>White or of European descent</td>\n",
       "      <td>None of the above</td>\n",
       "      <td>None of the above</td>\n",
       "    </tr>\n",
       "    <tr>\n",
       "      <th>1</th>\n",
       "      <td>1</td>\n",
       "      <td>1</td>\n",
       "      <td>2</td>\n",
       "      <td>student</td>\n",
       "      <td>Student, full-time</td>\n",
       "      <td>Netherlands</td>\n",
       "      <td>Bachelor’s degree (B.A., B.S., B.Eng., etc.)</td>\n",
       "      <td>11 - 17 years</td>\n",
       "      <td>etcschool</td>\n",
       "      <td>7</td>\n",
       "      <td>...</td>\n",
       "      <td>Windows</td>\n",
       "      <td>stack</td>\n",
       "      <td>No</td>\n",
       "      <td>18-24 years old</td>\n",
       "      <td>Man</td>\n",
       "      <td>No</td>\n",
       "      <td>Straight / Heterosexual</td>\n",
       "      <td>White or of European descent</td>\n",
       "      <td>None of the above</td>\n",
       "      <td>None of the above</td>\n",
       "    </tr>\n",
       "    <tr>\n",
       "      <th>2</th>\n",
       "      <td>2</td>\n",
       "      <td>2</td>\n",
       "      <td>3</td>\n",
       "      <td>developer</td>\n",
       "      <td>Student, full-time</td>\n",
       "      <td>Russian Federation</td>\n",
       "      <td>Bachelor’s degree (B.A., B.S., B.Eng., etc.)</td>\n",
       "      <td>11 - 17 years</td>\n",
       "      <td>forum</td>\n",
       "      <td>NaN</td>\n",
       "      <td>...</td>\n",
       "      <td>MacOS</td>\n",
       "      <td>itwatch</td>\n",
       "      <td>Yes</td>\n",
       "      <td>18-24 years old</td>\n",
       "      <td>Man</td>\n",
       "      <td>No</td>\n",
       "      <td>Prefer not to say</td>\n",
       "      <td>Prefer not to say</td>\n",
       "      <td>None of the above</td>\n",
       "      <td>None of the above</td>\n",
       "    </tr>\n",
       "    <tr>\n",
       "      <th>3</th>\n",
       "      <td>3</td>\n",
       "      <td>3</td>\n",
       "      <td>4</td>\n",
       "      <td>developer</td>\n",
       "      <td>Employed full-time</td>\n",
       "      <td>Austria</td>\n",
       "      <td>Master’s degree (M.A., M.S., M.Eng., MBA, etc.)</td>\n",
       "      <td>11 - 17 years</td>\n",
       "      <td>other</td>\n",
       "      <td>NaN</td>\n",
       "      <td>...</td>\n",
       "      <td>Windows</td>\n",
       "      <td>overflowgo</td>\n",
       "      <td>No</td>\n",
       "      <td>35-44 years old</td>\n",
       "      <td>Man</td>\n",
       "      <td>No</td>\n",
       "      <td>Straight / Heterosexual</td>\n",
       "      <td>White or of European descent</td>\n",
       "      <td>I am deaf / hard of hearing</td>\n",
       "      <td>NaN</td>\n",
       "    </tr>\n",
       "    <tr>\n",
       "      <th>4</th>\n",
       "      <td>4</td>\n",
       "      <td>4</td>\n",
       "      <td>5</td>\n",
       "      <td>developer</td>\n",
       "      <td>Independent contractor, freelancer, or self-em...</td>\n",
       "      <td>United Kingdom of Great Britain and Northern I...</td>\n",
       "      <td>Master’s degree (M.A., M.S., M.Eng., MBA, etc.)</td>\n",
       "      <td>5 - 10 years</td>\n",
       "      <td>friend</td>\n",
       "      <td>17</td>\n",
       "      <td>...</td>\n",
       "      <td>Linux-based</td>\n",
       "      <td>itwatch</td>\n",
       "      <td>No</td>\n",
       "      <td>25-34 years old</td>\n",
       "      <td>Man</td>\n",
       "      <td>No</td>\n",
       "      <td>NaN</td>\n",
       "      <td>White or of European descent</td>\n",
       "      <td>None of the above</td>\n",
       "      <td>NaN</td>\n",
       "    </tr>\n",
       "  </tbody>\n",
       "</table>\n",
       "<p>5 rows × 39 columns</p>\n",
       "</div>"
      ],
      "text/plain": [
       "   Unnamed: 0.1  Unnamed: 0  ResponseId MainBranch  \\\n",
       "0             0           0           1  developer   \n",
       "1             1           1           2    student   \n",
       "2             2           2           3  developer   \n",
       "3             3           3           4  developer   \n",
       "4             4           4           5  developer   \n",
       "\n",
       "                                          Employment  \\\n",
       "0  Independent contractor, freelancer, or self-em...   \n",
       "1                                 Student, full-time   \n",
       "2                                 Student, full-time   \n",
       "3                                 Employed full-time   \n",
       "4  Independent contractor, freelancer, or self-em...   \n",
       "\n",
       "                                             Country  \\\n",
       "0                                           Slovakia   \n",
       "1                                        Netherlands   \n",
       "2                                 Russian Federation   \n",
       "3                                            Austria   \n",
       "4  United Kingdom of Great Britain and Northern I...   \n",
       "\n",
       "                                             EdLevel     Age1stCode  \\\n",
       "0  Secondary school (e.g. American high school, G...  18 - 24 years   \n",
       "1       Bachelor’s degree (B.A., B.S., B.Eng., etc.)  11 - 17 years   \n",
       "2       Bachelor’s degree (B.A., B.S., B.Eng., etc.)  11 - 17 years   \n",
       "3    Master’s degree (M.A., M.S., M.Eng., MBA, etc.)  11 - 17 years   \n",
       "4    Master’s degree (M.A., M.S., M.Eng., MBA, etc.)   5 - 10 years   \n",
       "\n",
       "       LearnCode YearsCode  ...        OpSys    NEWStuck NEWOtherComms  \\\n",
       "0  bootcampother       NaN  ...        MacOS  overflowgo            No   \n",
       "1      etcschool         7  ...      Windows       stack            No   \n",
       "2          forum       NaN  ...        MacOS     itwatch           Yes   \n",
       "3          other       NaN  ...      Windows  overflowgo            No   \n",
       "4         friend        17  ...  Linux-based     itwatch            No   \n",
       "\n",
       "               Age Gender Trans                Sexuality  \\\n",
       "0  25-34 years old    Man    No  Straight / Heterosexual   \n",
       "1  18-24 years old    Man    No  Straight / Heterosexual   \n",
       "2  18-24 years old    Man    No        Prefer not to say   \n",
       "3  35-44 years old    Man    No  Straight / Heterosexual   \n",
       "4  25-34 years old    Man    No                      NaN   \n",
       "\n",
       "                      Ethnicity                Accessibility  \\\n",
       "0  White or of European descent            None of the above   \n",
       "1  White or of European descent            None of the above   \n",
       "2             Prefer not to say            None of the above   \n",
       "3  White or of European descent  I am deaf / hard of hearing   \n",
       "4  White or of European descent            None of the above   \n",
       "\n",
       "        MentalHealth  \n",
       "0  None of the above  \n",
       "1  None of the above  \n",
       "2  None of the above  \n",
       "3                NaN  \n",
       "4                NaN  \n",
       "\n",
       "[5 rows x 39 columns]"
      ]
     },
     "execution_count": 199,
     "metadata": {},
     "output_type": "execute_result"
    }
   ],
   "source": [
    "df2021=pd.read_csv('./Data/nlp_df2021.csv')\n",
    "df2021.head()"
   ]
  },
  {
   "cell_type": "code",
   "execution_count": 200,
   "metadata": {},
   "outputs": [
    {
     "name": "stdout",
     "output_type": "stream",
     "text": [
      "<class 'pandas.core.frame.DataFrame'>\n",
      "RangeIndex: 83439 entries, 0 to 83438\n",
      "Data columns (total 39 columns):\n",
      " #   Column                        Non-Null Count  Dtype  \n",
      "---  ------                        --------------  -----  \n",
      " 0   Unnamed: 0.1                  83439 non-null  int64  \n",
      " 1   Unnamed: 0                    83439 non-null  int64  \n",
      " 2   ResponseId                    83439 non-null  int64  \n",
      " 3   MainBranch                    83439 non-null  object \n",
      " 4   Employment                    83323 non-null  object \n",
      " 5   Country                       83439 non-null  object \n",
      " 6   EdLevel                       83126 non-null  object \n",
      " 7   Age1stCode                    83243 non-null  object \n",
      " 8   LearnCode                     83439 non-null  object \n",
      " 9   YearsCode                     81641 non-null  object \n",
      " 10  YearsCodePro                  61216 non-null  object \n",
      " 11  DevType                       66484 non-null  object \n",
      " 12  OrgSize                       60726 non-null  object \n",
      " 13  CompTotal                     47183 non-null  float64\n",
      " 14  CompFreq                      52150 non-null  object \n",
      " 15  LanguageHaveWorkedWith        82357 non-null  object \n",
      " 16  LanguageWantToWorkWith        76821 non-null  object \n",
      " 17  DatabaseHaveWorkedWith        69546 non-null  object \n",
      " 18  DatabaseWantToWorkWith        58299 non-null  object \n",
      " 19  PlatformHaveWorkedWith        52135 non-null  object \n",
      " 20  PlatformWantToWorkWith        41619 non-null  object \n",
      " 21  WebframeHaveWorkedWith        61707 non-null  object \n",
      " 22  WebframeWantToWorkWith        52095 non-null  object \n",
      " 23  MiscTechHaveWorkedWith        47055 non-null  object \n",
      " 24  MiscTechWantToWorkWith        38021 non-null  object \n",
      " 25  ToolsTechHaveWorkedWith       72537 non-null  object \n",
      " 26  ToolsTechWantToWorkWith       65480 non-null  object \n",
      " 27  NEWCollabToolsHaveWorkedWith  81234 non-null  object \n",
      " 28  NEWCollabToolsWantToWorkWith  73022 non-null  object \n",
      " 29  OpSys                         83294 non-null  object \n",
      " 30  NEWStuck                      83439 non-null  object \n",
      " 31  NEWOtherComms                 82828 non-null  object \n",
      " 32  Age                           82407 non-null  object \n",
      " 33  Gender                        82286 non-null  object \n",
      " 34  Trans                         80678 non-null  object \n",
      " 35  Sexuality                     73366 non-null  object \n",
      " 36  Ethnicity                     79464 non-null  object \n",
      " 37  Accessibility                 77603 non-null  object \n",
      " 38  MentalHealth                  76920 non-null  object \n",
      "dtypes: float64(1), int64(3), object(35)\n",
      "memory usage: 24.8+ MB\n"
     ]
    }
   ],
   "source": [
    "df2021.info()"
   ]
  },
  {
   "cell_type": "code",
   "execution_count": 201,
   "metadata": {},
   "outputs": [
    {
     "data": {
      "text/plain": [
       "Unnamed: 0.1                        0\n",
       "Unnamed: 0                          0\n",
       "ResponseId                          0\n",
       "MainBranch                          0\n",
       "Employment                        116\n",
       "Country                             0\n",
       "EdLevel                           313\n",
       "Age1stCode                        196\n",
       "LearnCode                           0\n",
       "YearsCode                        1798\n",
       "YearsCodePro                    22223\n",
       "DevType                         16955\n",
       "OrgSize                         22713\n",
       "CompTotal                       36256\n",
       "CompFreq                        31289\n",
       "LanguageHaveWorkedWith           1082\n",
       "LanguageWantToWorkWith           6618\n",
       "DatabaseHaveWorkedWith          13893\n",
       "DatabaseWantToWorkWith          25140\n",
       "PlatformHaveWorkedWith          31304\n",
       "PlatformWantToWorkWith          41820\n",
       "WebframeHaveWorkedWith          21732\n",
       "WebframeWantToWorkWith          31344\n",
       "MiscTechHaveWorkedWith          36384\n",
       "MiscTechWantToWorkWith          45418\n",
       "ToolsTechHaveWorkedWith         10902\n",
       "ToolsTechWantToWorkWith         17959\n",
       "NEWCollabToolsHaveWorkedWith     2205\n",
       "NEWCollabToolsWantToWorkWith    10417\n",
       "OpSys                             145\n",
       "NEWStuck                            0\n",
       "NEWOtherComms                     611\n",
       "Age                              1032\n",
       "Gender                           1153\n",
       "Trans                            2761\n",
       "Sexuality                       10073\n",
       "Ethnicity                        3975\n",
       "Accessibility                    5836\n",
       "MentalHealth                     6519\n",
       "dtype: int64"
      ]
     },
     "execution_count": 201,
     "metadata": {},
     "output_type": "execute_result"
    }
   ],
   "source": [
    "df2021.isnull().sum()"
   ]
  },
  {
   "cell_type": "code",
   "execution_count": 202,
   "metadata": {},
   "outputs": [],
   "source": [
    "df2021=df2021.drop(['Unnamed: 0'], axis=1)#drop the unnecessary columns\n",
    "df2021=df2021.drop(['Unnamed: 0.1'], axis=1)"
   ]
  },
  {
   "cell_type": "markdown",
   "metadata": {},
   "source": [
    "## Functions for analysis"
   ]
  },
  {
   "cell_type": "code",
   "execution_count": 203,
   "metadata": {},
   "outputs": [],
   "source": [
    "def sorted_value_counts(df, column):\n",
    "    # Get the value counts for the specified column\n",
    "    value_counts = df[column].value_counts()\n",
    "    \n",
    "    # Ensure the index is of type string to handle alphabetical sorting correctly\n",
    "    value_counts.index = value_counts.index.astype(str)\n",
    "    \n",
    "    # Sort the value counts by the index alphabetically\n",
    "    value_counts = value_counts.sort_index()\n",
    "    \n",
    "    # Return the sorted value counts\n",
    "    return value_counts"
   ]
  },
  {
   "cell_type": "code",
   "execution_count": 204,
   "metadata": {},
   "outputs": [],
   "source": [
    "def substr_replace(df, column,substr, replacement):\n",
    "    df[column] = np.where(\n",
    "    df[column].str.contains(substr, case=False, na=False, regex=False), \n",
    "    replacement, \n",
    "    df[column]\n",
    "    )"
   ]
  },
  {
   "cell_type": "code",
   "execution_count": 205,
   "metadata": {},
   "outputs": [],
   "source": [
    "def calculate_midpoint_age1stcode(age_col):\n",
    "    if isinstance(age_col, str):\n",
    "        if 'Younger than' in age_col:\n",
    "            return math.ceil((0 + 5) / 2)  # Assume 0-5 years for 'Younger than 5 years'\n",
    "        elif 'Older than' in age_col:\n",
    "            return math.ceil(64 + (69 - 64) / 2)  # Assume 64-69 years for 'Older than 64 years'\n",
    "        else:\n",
    "            start, end = age_col.replace(' years', '').split(' - ')\n",
    "            start = int(start)\n",
    "            end = int(end)\n",
    "            return  math.ceil((start + end) / 2)\n",
    "    return None  # Handle non-string cases\n"
   ]
  },
  {
   "cell_type": "code",
   "execution_count": 206,
   "metadata": {},
   "outputs": [],
   "source": [
    "def calculate_age_midpoint(age_col):\n",
    "    if isinstance(age_col, str):\n",
    "        if 'Under' in age_col:\n",
    "            return math.ceil((0 + 18) / 2)  # Assume 0-18 years for 'Under 18 years'\n",
    "        elif 'older' in age_col:\n",
    "            return math.ceil(65 + (69 - 65) / 2)  # Assume 65-69 years for 'Older than 65 years'\n",
    "        elif '-' in age_col:  # Check if the string contains a hyphen\n",
    "            start, end = age_col.replace(' years old', '').split('-')\n",
    "            start = int(start)\n",
    "            end = int(end)\n",
    "            return math.ceil((start + end) / 2)\n",
    "        else:\n",
    "            # If the string doesn't contain a hyphen, return None or handle accordingly\n",
    "            return None\n",
    "    return None  # Handle non-string cases"
   ]
  },
  {
   "cell_type": "markdown",
   "metadata": {},
   "source": [
    "## Analysing columns"
   ]
  },
  {
   "cell_type": "code",
   "execution_count": 207,
   "metadata": {},
   "outputs": [
    {
     "data": {
      "text/plain": [
       "Employment\n",
       "Employed full-time                                      53584\n",
       "Student, full-time                                      11781\n",
       "Independent contractor, freelancer, or self-employed     8041\n",
       "Not employed, but looking for work                       2961\n",
       "Employed part-time                                       2461\n",
       "Student, part-time                                       2051\n",
       "Not employed, and not looking for work                   1228\n",
       "I prefer not to say                                       890\n",
       "Retired                                                   326\n",
       "Name: count, dtype: int64"
      ]
     },
     "execution_count": 207,
     "metadata": {},
     "output_type": "execute_result"
    }
   ],
   "source": [
    "df2021['Employment'].value_counts()"
   ]
  },
  {
   "cell_type": "code",
   "execution_count": 208,
   "metadata": {},
   "outputs": [
    {
     "name": "stderr",
     "output_type": "stream",
     "text": [
      "C:\\Users\\Nikita\\AppData\\Local\\Temp\\ipykernel_17576\\190981787.py:1: FutureWarning:\n",
      "\n",
      "Series.fillna with 'method' is deprecated and will raise in a future version. Use obj.ffill() or obj.bfill() instead.\n",
      "\n"
     ]
    }
   ],
   "source": [
    "df2021['Employment'] = df2021['Employment'].fillna(method='ffill') #fill the missing values with the previous value"
   ]
  },
  {
   "cell_type": "code",
   "execution_count": 209,
   "metadata": {},
   "outputs": [
    {
     "data": {
      "text/plain": [
       "EdLevel\n",
       "Bachelor’s degree (B.A., B.S., B.Eng., etc.)                                          35357\n",
       "Master’s degree (M.A., M.S., M.Eng., MBA, etc.)                                       17512\n",
       "Some college/university study without earning a degree                                10589\n",
       "Secondary school (e.g. American high school, German Realschule or Gymnasium, etc.)     9534\n",
       "Other doctoral degree (Ph.D., Ed.D., etc.)                                             2567\n",
       "Primary/elementary school                                                              2479\n",
       "Associate degree (A.A., A.S., etc.)                                                    2231\n",
       "Something else                                                                         1914\n",
       "Professional degree (JD, MD, etc.)                                                     1256\n",
       "Name: count, dtype: int64"
      ]
     },
     "execution_count": 209,
     "metadata": {},
     "output_type": "execute_result"
    }
   ],
   "source": [
    "df2021['EdLevel']=df2021['EdLevel'].fillna(\"Something else\")#fill the missing values with \"Something else\"\n",
    "df2021['EdLevel'].value_counts()"
   ]
  },
  {
   "cell_type": "code",
   "execution_count": 210,
   "metadata": {},
   "outputs": [
    {
     "data": {
      "text/plain": [
       "Age1stCode_avg\n",
       "14.0    44170\n",
       "21.0    20065\n",
       "8.0     11720\n",
       "30.0     4199\n",
       "40.0     1312\n",
       "3.0       905\n",
       "50.0      544\n",
       "60.0      245\n",
       "17.0      196\n",
       "67.0       83\n",
       "Name: count, dtype: int64"
      ]
     },
     "execution_count": 210,
     "metadata": {},
     "output_type": "execute_result"
    }
   ],
   "source": [
    "df2021['Age1stCode_avg'] = df2021['Age1stCode'].apply(calculate_midpoint_age1stcode)\n",
    "df2021['Age1stCode_avg']=df2021['Age1stCode_avg'].fillna(math.ceil(df2021['Age1stCode_avg'].mean()))#fill the missing values with the mean\n",
    "df2021['Age1stCode_avg'].value_counts()"
   ]
  },
  {
   "cell_type": "code",
   "execution_count": 211,
   "metadata": {},
   "outputs": [
    {
     "data": {
      "text/plain": [
       "Age_avg\n",
       "30.0    32568\n",
       "21.0    20993\n",
       "40.0    15183\n",
       "50.0     5472\n",
       "9.0      5376\n",
       "60.0     1819\n",
       "31.0     1607\n",
       "67.0      421\n",
       "Name: count, dtype: int64"
      ]
     },
     "execution_count": 211,
     "metadata": {},
     "output_type": "execute_result"
    }
   ],
   "source": [
    "df2021['Age_avg'] = df2021['Age'].apply(calculate_age_midpoint)\n",
    "df2021['Age_avg']=df2021['Age_avg'].fillna(math.ceil(df2021['Age_avg'].mean()))#fill the missing values with the mean\n",
    "df2021['Age_avg'].value_counts()"
   ]
  },
  {
   "cell_type": "code",
   "execution_count": 212,
   "metadata": {},
   "outputs": [
    {
     "data": {
      "text/plain": [
       "LearnCode\n",
       "online                    21614\n",
       "certification              8926\n",
       "other                      8076\n",
       "school                     7242\n",
       "bootcampother              5835\n",
       "forumonline                5198\n",
       "family                     4044\n",
       "forum                      3352\n",
       "please                     2292\n",
       "etcschool                  2292\n",
       "friend                     2063\n",
       "schoolonline               1807\n",
       "etcschoolfriend            1764\n",
       "certificationcolleague     1592\n",
       "etcfriend                  1416\n",
       "certificationother         1135\n",
       "colleague                   683\n",
       "schoolother                 673\n",
       "forumother                  619\n",
       "etcother                    599\n",
       "bootcamp                    497\n",
       "forumcolleague              383\n",
       "bootcampschoolonline        327\n",
       "etcschoolother              296\n",
       "schoolcolleague             263\n",
       "bootcamponline              215\n",
       "forumfriend                 151\n",
       "specifycolleague             85\n",
       "Name: count, dtype: int64"
      ]
     },
     "execution_count": 212,
     "metadata": {},
     "output_type": "execute_result"
    }
   ],
   "source": [
    "df2021['LearnCode'].value_counts()"
   ]
  },
  {
   "cell_type": "code",
   "execution_count": 213,
   "metadata": {},
   "outputs": [
    {
     "name": "stderr",
     "output_type": "stream",
     "text": [
      "C:\\Users\\Nikita\\AppData\\Local\\Temp\\ipykernel_17576\\81534222.py:1: FutureWarning:\n",
      "\n",
      "Series.fillna with 'method' is deprecated and will raise in a future version. Use obj.ffill() or obj.bfill() instead.\n",
      "\n",
      "C:\\Users\\Nikita\\AppData\\Local\\Temp\\ipykernel_17576\\81534222.py:2: FutureWarning:\n",
      "\n",
      "Series.fillna with 'method' is deprecated and will raise in a future version. Use obj.ffill() or obj.bfill() instead.\n",
      "\n"
     ]
    }
   ],
   "source": [
    "df2021['YearsCode']=df2021['YearsCode'].fillna(method='ffill')#fill the missing values with the previous value\n",
    "df2021['YearsCodePro']=df2021['YearsCodePro'].fillna(method='ffill')#fill the missing values with the previous value"
   ]
  },
  {
   "cell_type": "code",
   "execution_count": 214,
   "metadata": {},
   "outputs": [
    {
     "name": "stderr",
     "output_type": "stream",
     "text": [
      "C:\\Users\\Nikita\\AppData\\Local\\Temp\\ipykernel_17576\\1991386150.py:1: FutureWarning:\n",
      "\n",
      "Series.fillna with 'method' is deprecated and will raise in a future version. Use obj.ffill() or obj.bfill() instead.\n",
      "\n"
     ]
    },
    {
     "data": {
      "text/plain": [
       "OpSys\n",
       "Windows                              37821\n",
       "Linux-based                          21121\n",
       "MacOS                                21025\n",
       "Windows Subsystem for Linux (WSL)     2749\n",
       "Other (please specify):                576\n",
       "BSD                                    147\n",
       "Name: count, dtype: int64"
      ]
     },
     "execution_count": 214,
     "metadata": {},
     "output_type": "execute_result"
    }
   ],
   "source": [
    "df2021['OpSys']=df2021['OpSys'].fillna(method='ffill')#fill the missing values with the previous value\n",
    "df2021[\"OpSys\"].value_counts()"
   ]
  },
  {
   "cell_type": "code",
   "execution_count": 215,
   "metadata": {},
   "outputs": [
    {
     "data": {
      "text/plain": [
       "Sexuality\n",
       "Straight / Heterosexual                                                           61094\n",
       "Prefer not to say                                                                  4783\n",
       "Bisexual                                                                           2879\n",
       "Gay or Lesbian                                                                     1367\n",
       "Prefer to self-describe:                                                           1258\n",
       "Straight / Heterosexual;Bisexual                                                    492\n",
       "Queer                                                                               376\n",
       "Bisexual;Queer                                                                      273\n",
       "Straight / Heterosexual;Prefer to self-describe:                                    225\n",
       "Gay or Lesbian;Queer                                                                149\n",
       "Straight / Heterosexual;Queer                                                        78\n",
       "Bisexual;Gay or Lesbian                                                              71\n",
       "Prefer to self-describe:;Queer                                                       61\n",
       "Bisexual;Gay or Lesbian;Queer                                                        49\n",
       "Bisexual;Prefer to self-describe:                                                    36\n",
       "Bisexual;Prefer to self-describe:;Queer                                              26\n",
       "Straight / Heterosexual;Bisexual;Prefer to self-describe:;Gay or Lesbian;Queer       22\n",
       "Straight / Heterosexual;Gay or Lesbian                                               21\n",
       "Straight / Heterosexual;Bisexual;Gay or Lesbian;Queer                                21\n",
       "Straight / Heterosexual;Bisexual;Gay or Lesbian                                      18\n",
       "Straight / Heterosexual;Bisexual;Queer                                               15\n",
       "Prefer to self-describe:;Gay or Lesbian;Queer                                        14\n",
       "Straight / Heterosexual;Bisexual;Prefer to self-describe:                            11\n",
       "Bisexual;Prefer to self-describe:;Gay or Lesbian;Queer                               10\n",
       "Straight / Heterosexual;Prefer to self-describe:;Queer                                5\n",
       "Prefer to self-describe:;Gay or Lesbian                                               5\n",
       "Bisexual;Prefer to self-describe:;Gay or Lesbian                                      3\n",
       "Straight / Heterosexual;Bisexual;Prefer to self-describe:;Gay or Lesbian              2\n",
       "Straight / Heterosexual;Gay or Lesbian;Queer                                          1\n",
       "Straight / Heterosexual;Bisexual;Prefer to self-describe:;Queer                       1\n",
       "Name: count, dtype: int64"
      ]
     },
     "execution_count": 215,
     "metadata": {},
     "output_type": "execute_result"
    }
   ],
   "source": [
    "df2021['Sexuality'].value_counts()"
   ]
  },
  {
   "cell_type": "code",
   "execution_count": 216,
   "metadata": {},
   "outputs": [
    {
     "name": "stderr",
     "output_type": "stream",
     "text": [
      "C:\\Users\\Nikita\\AppData\\Local\\Temp\\ipykernel_17576\\1383141237.py:1: FutureWarning:\n",
      "\n",
      "Series.fillna with 'method' is deprecated and will raise in a future version. Use obj.ffill() or obj.bfill() instead.\n",
      "\n"
     ]
    },
    {
     "data": {
      "text/plain": [
       "DevType\n",
       "Developer, full-stack                                                                                                                                                                                                                  10781\n",
       "Developer, back-end                                                                                                                                                                                                                     6870\n",
       "Developer, front-end                                                                                                                                                                                                                    2989\n",
       "Developer, front-end;Developer, full-stack;Developer, back-end                                                                                                                                                                          2628\n",
       "Developer, full-stack;Developer, back-end                                                                                                                                                                                               2224\n",
       "                                                                                                                                                                                                                                       ...  \n",
       "Developer, desktop or enterprise applications;Developer, full-stack;Engineer, data;Data scientist or machine learning specialist;Database administrator;Developer, QA or test;Data or business analyst;Designer                            1\n",
       "Developer, front-end;Developer, desktop or enterprise applications;Developer, full-stack;Engineer, data;Other (please specify):;Data scientist or machine learning specialist;Developer, back-end;Data or business analyst;Designer        1\n",
       "Data scientist or machine learning specialist;Scientist;Student;Data or business analyst;Educator                                                                                                                                          1\n",
       "Developer, mobile;Developer, full-stack;Academic researcher;Database administrator;DevOps specialist                                                                                                                                       1\n",
       "Developer, mobile;Developer, desktop or enterprise applications;Data scientist or machine learning specialist;Developer, back-end;Engineering manager                                                                                      1\n",
       "Name: count, Length: 8626, dtype: int64"
      ]
     },
     "execution_count": 216,
     "metadata": {},
     "output_type": "execute_result"
    }
   ],
   "source": [
    "df2021['DevType']=df2021['DevType'].fillna(method='ffill')#fill the missing values with \"Something else\"\n",
    "df2021['DevType'].value_counts()"
   ]
  },
  {
   "cell_type": "code",
   "execution_count": 217,
   "metadata": {},
   "outputs": [
    {
     "data": {
      "text/plain": [
       "0"
      ]
     },
     "execution_count": 217,
     "metadata": {},
     "output_type": "execute_result"
    }
   ],
   "source": [
    "df2021['CompFreq']=df2021['CompFreq'].fillna(df2021['CompFreq'].mode()[0])#fill the missing values with the previous value\n",
    "df2021['CompFreq'].isnull().sum()"
   ]
  },
  {
   "cell_type": "code",
   "execution_count": 218,
   "metadata": {},
   "outputs": [
    {
     "data": {
      "text/plain": [
       "0"
      ]
     },
     "execution_count": 218,
     "metadata": {},
     "output_type": "execute_result"
    }
   ],
   "source": [
    "df2021['CompTotal']=df2021['CompTotal'].fillna(df2021['CompTotal'].mean())#fill the missing values with the mean\n",
    "df2021['CompTotal'].isnull().sum()"
   ]
  },
  {
   "cell_type": "code",
   "execution_count": 219,
   "metadata": {},
   "outputs": [],
   "source": [
    "df2021 = df2021.drop(columns=['MiscTechHaveWorkedWith'])\n",
    "df2021 = df2021.drop(columns=['MiscTechWantToWorkWith'])\n",
    "df2021 = df2021.drop(columns=['PlatformWantToWorkWith'])\n",
    "df2021 = df2021.drop(columns=['PlatformHaveWorkedWith'])\n",
    "df2021=df2021.drop(columns=['Age'])\n",
    "df2021=df2021.drop(columns=['Age1stCode'])\n",
    "df2021=df2021.drop(columns=['Trans'])"
   ]
  },
  {
   "cell_type": "code",
   "execution_count": 220,
   "metadata": {},
   "outputs": [
    {
     "data": {
      "text/plain": [
       "LanguageHaveWorkedWith\n",
       "Python                                    1337\n",
       "HTML/CSS;JavaScript;Node.js;TypeScript     811\n",
       "Java                                       715\n",
       "HTML/CSS;JavaScript;PHP;SQL                674\n",
       "C#                                         597\n",
       "C#;HTML/CSS;JavaScript;SQL                 558\n",
       "HTML/CSS;JavaScript                        531\n",
       "HTML/CSS;JavaScript;Node.js                494\n",
       "HTML/CSS;JavaScript;TypeScript             491\n",
       "HTML/CSS;JavaScript;Python                 432\n",
       "Name: count, dtype: int64"
      ]
     },
     "execution_count": 220,
     "metadata": {},
     "output_type": "execute_result"
    }
   ],
   "source": [
    "df2021['LanguageHaveWorkedWith'].value_counts()[0:10]"
   ]
  },
  {
   "cell_type": "code",
   "execution_count": 221,
   "metadata": {},
   "outputs": [
    {
     "data": {
      "text/plain": [
       "LanguageWantToWorkWith\n",
       "Python                                                                             1389\n",
       "Rust                                                                                821\n",
       "HTML/CSS;JavaScript;Node.js;TypeScript                                              812\n",
       "C#                                                                                  700\n",
       "Java                                                                                512\n",
       "                                                                                   ... \n",
       "C#;HTML/CSS;Java;JavaScript;Node.js;Objective-C;PHP;Python;SQL;Swift;TypeScript       1\n",
       "C#;Elixir;Erlang;HTML/CSS;JavaScript;Python;Ruby;Rust;SQL                             1\n",
       "C#;Go;JavaScript;Kotlin;Node.js;Python;SQL;Swift;TypeScript                           1\n",
       "Bash/Shell;C;C++;HTML/CSS;Java;JavaScript;Objective-C;PHP;PowerShell;SQL              1\n",
       "Elixir;HTML/CSS;Java;JavaScript;Node.js;PHP;SQL;TypeScript                            1\n",
       "Name: count, Length: 27545, dtype: int64"
      ]
     },
     "execution_count": 221,
     "metadata": {},
     "output_type": "execute_result"
    }
   ],
   "source": [
    "df2021['LanguageWantToWorkWith'].value_counts()"
   ]
  },
  {
   "cell_type": "code",
   "execution_count": 222,
   "metadata": {},
   "outputs": [
    {
     "data": {
      "text/plain": [
       "MentalHealth\n",
       "None of the above                                                                                                                                                                                                                                    56459\n",
       "Prefer not to say                                                                                                                                                                                                                                     3932\n",
       "I have a concentration and/or memory disorder (e.g. ADHD)                                                                                                                                                                                             3059\n",
       "I have an anxiety disorder                                                                                                                                                                                                                            2840\n",
       "I have a mood or emotional disorder (e.g. depression, bipolar disorder)                                                                                                                                                                               2324\n",
       "I have a mood or emotional disorder (e.g. depression, bipolar disorder);I have an anxiety disorder                                                                                                                                                    1811\n",
       "I have autism / an autism spectrum disorder (e.g. Asperger's)                                                                                                                                                                                         1224\n",
       "Or, in your own words:                                                                                                                                                                                                                                1050\n",
       "I have a concentration and/or memory disorder (e.g. ADHD);I have a mood or emotional disorder (e.g. depression, bipolar disorder);I have an anxiety disorder                                                                                          1009\n",
       "I have a concentration and/or memory disorder (e.g. ADHD);I have a mood or emotional disorder (e.g. depression, bipolar disorder)                                                                                                                      664\n",
       "I have a concentration and/or memory disorder (e.g. ADHD);I have an anxiety disorder                                                                                                                                                                   660\n",
       "I have a concentration and/or memory disorder (e.g. ADHD);I have a mood or emotional disorder (e.g. depression, bipolar disorder);I have an anxiety disorder;I have autism / an autism spectrum disorder (e.g. Asperger's)                             386\n",
       "I have a concentration and/or memory disorder (e.g. ADHD);I have autism / an autism spectrum disorder (e.g. Asperger's)                                                                                                                                377\n",
       "I have a mood or emotional disorder (e.g. depression, bipolar disorder);I have autism / an autism spectrum disorder (e.g. Asperger's)                                                                                                                  197\n",
       "I have a mood or emotional disorder (e.g. depression, bipolar disorder);I have an anxiety disorder;I have autism / an autism spectrum disorder (e.g. Asperger's)                                                                                       191\n",
       "I have an anxiety disorder;I have autism / an autism spectrum disorder (e.g. Asperger's)                                                                                                                                                               166\n",
       "I have a concentration and/or memory disorder (e.g. ADHD);I have a mood or emotional disorder (e.g. depression, bipolar disorder);I have autism / an autism spectrum disorder (e.g. Asperger's)                                                        115\n",
       "I have a concentration and/or memory disorder (e.g. ADHD);I have an anxiety disorder;I have autism / an autism spectrum disorder (e.g. Asperger's)                                                                                                     114\n",
       "I have a concentration and/or memory disorder (e.g. ADHD);Or, in your own words:                                                                                                                                                                        69\n",
       "I have a mood or emotional disorder (e.g. depression, bipolar disorder);Or, in your own words:                                                                                                                                                          56\n",
       "I have an anxiety disorder;Or, in your own words:                                                                                                                                                                                                       52\n",
       "I have a mood or emotional disorder (e.g. depression, bipolar disorder);I have an anxiety disorder;Or, in your own words:                                                                                                                               36\n",
       "I have a concentration and/or memory disorder (e.g. ADHD);I have a mood or emotional disorder (e.g. depression, bipolar disorder);I have an anxiety disorder;I have autism / an autism spectrum disorder (e.g. Asperger's);Or, in your own words:       26\n",
       "I have a concentration and/or memory disorder (e.g. ADHD);I have a mood or emotional disorder (e.g. depression, bipolar disorder);I have an anxiety disorder;Or, in your own words:                                                                     24\n",
       "I have a concentration and/or memory disorder (e.g. ADHD);I have a mood or emotional disorder (e.g. depression, bipolar disorder);Or, in your own words:                                                                                                21\n",
       "I have autism / an autism spectrum disorder (e.g. Asperger's);Or, in your own words:                                                                                                                                                                    20\n",
       "I have a concentration and/or memory disorder (e.g. ADHD);I have an anxiety disorder;Or, in your own words:                                                                                                                                             11\n",
       "I have a concentration and/or memory disorder (e.g. ADHD);I have autism / an autism spectrum disorder (e.g. Asperger's);Or, in your own words:                                                                                                           9\n",
       "I have a mood or emotional disorder (e.g. depression, bipolar disorder);I have autism / an autism spectrum disorder (e.g. Asperger's);Or, in your own words:                                                                                             7\n",
       "I have a mood or emotional disorder (e.g. depression, bipolar disorder);I have an anxiety disorder;I have autism / an autism spectrum disorder (e.g. Asperger's);Or, in your own words:                                                                  3\n",
       "I have a concentration and/or memory disorder (e.g. ADHD);I have a mood or emotional disorder (e.g. depression, bipolar disorder);I have autism / an autism spectrum disorder (e.g. Asperger's);Or, in your own words:                                   3\n",
       "I have an anxiety disorder;I have autism / an autism spectrum disorder (e.g. Asperger's);Or, in your own words:                                                                                                                                          3\n",
       "I have a concentration and/or memory disorder (e.g. ADHD);I have an anxiety disorder;I have autism / an autism spectrum disorder (e.g. Asperger's);Or, in your own words:                                                                                2\n",
       "Name: count, dtype: int64"
      ]
     },
     "execution_count": 222,
     "metadata": {},
     "output_type": "execute_result"
    }
   ],
   "source": [
    "df2021['MentalHealth'].value_counts()"
   ]
  },
  {
   "cell_type": "code",
   "execution_count": 223,
   "metadata": {},
   "outputs": [
    {
     "data": {
      "text/plain": [
       "Gender\n",
       "Man                                                                                   74817\n",
       "Woman                                                                                  4120\n",
       "Prefer not to say                                                                      1442\n",
       "Non-binary, genderqueer, or gender non-conforming                                       690\n",
       "Or, in your own words:                                                                  413\n",
       "Man;Or, in your own words:                                                              268\n",
       "Man;Non-binary, genderqueer, or gender non-conforming                                   252\n",
       "Woman;Non-binary, genderqueer, or gender non-conforming                                 147\n",
       "Man;Woman                                                                                41\n",
       "Non-binary, genderqueer, or gender non-conforming;Or, in your own words:                 21\n",
       "Man;Woman;Non-binary, genderqueer, or gender non-conforming                              21\n",
       "Man;Woman;Non-binary, genderqueer, or gender non-conforming;Or, in your own words:       17\n",
       "Woman;Or, in your own words:                                                             16\n",
       "Man;Non-binary, genderqueer, or gender non-conforming;Or, in your own words:             11\n",
       "Woman;Non-binary, genderqueer, or gender non-conforming;Or, in your own words:            9\n",
       "Man;Woman;Or, in your own words:                                                          1\n",
       "Name: count, dtype: int64"
      ]
     },
     "execution_count": 223,
     "metadata": {},
     "output_type": "execute_result"
    }
   ],
   "source": [
    "df2021['Gender'].value_counts()"
   ]
  },
  {
   "cell_type": "code",
   "execution_count": 224,
   "metadata": {},
   "outputs": [
    {
     "name": "stderr",
     "output_type": "stream",
     "text": [
      "C:\\Users\\Nikita\\AppData\\Local\\Temp\\ipykernel_17576\\4242856068.py:1: FutureWarning:\n",
      "\n",
      "Series.fillna with 'method' is deprecated and will raise in a future version. Use obj.ffill() or obj.bfill() instead.\n",
      "\n",
      "C:\\Users\\Nikita\\AppData\\Local\\Temp\\ipykernel_17576\\4242856068.py:2: FutureWarning:\n",
      "\n",
      "Series.fillna with 'method' is deprecated and will raise in a future version. Use obj.ffill() or obj.bfill() instead.\n",
      "\n",
      "C:\\Users\\Nikita\\AppData\\Local\\Temp\\ipykernel_17576\\4242856068.py:3: FutureWarning:\n",
      "\n",
      "Series.fillna with 'method' is deprecated and will raise in a future version. Use obj.ffill() or obj.bfill() instead.\n",
      "\n",
      "C:\\Users\\Nikita\\AppData\\Local\\Temp\\ipykernel_17576\\4242856068.py:4: FutureWarning:\n",
      "\n",
      "Series.fillna with 'method' is deprecated and will raise in a future version. Use obj.ffill() or obj.bfill() instead.\n",
      "\n",
      "C:\\Users\\Nikita\\AppData\\Local\\Temp\\ipykernel_17576\\4242856068.py:5: FutureWarning:\n",
      "\n",
      "Series.fillna with 'method' is deprecated and will raise in a future version. Use obj.ffill() or obj.bfill() instead.\n",
      "\n",
      "C:\\Users\\Nikita\\AppData\\Local\\Temp\\ipykernel_17576\\4242856068.py:6: FutureWarning:\n",
      "\n",
      "Series.fillna with 'method' is deprecated and will raise in a future version. Use obj.ffill() or obj.bfill() instead.\n",
      "\n",
      "C:\\Users\\Nikita\\AppData\\Local\\Temp\\ipykernel_17576\\4242856068.py:7: FutureWarning:\n",
      "\n",
      "Series.fillna with 'method' is deprecated and will raise in a future version. Use obj.ffill() or obj.bfill() instead.\n",
      "\n",
      "C:\\Users\\Nikita\\AppData\\Local\\Temp\\ipykernel_17576\\4242856068.py:8: FutureWarning:\n",
      "\n",
      "Series.fillna with 'method' is deprecated and will raise in a future version. Use obj.ffill() or obj.bfill() instead.\n",
      "\n",
      "C:\\Users\\Nikita\\AppData\\Local\\Temp\\ipykernel_17576\\4242856068.py:9: FutureWarning:\n",
      "\n",
      "Series.fillna with 'method' is deprecated and will raise in a future version. Use obj.ffill() or obj.bfill() instead.\n",
      "\n",
      "C:\\Users\\Nikita\\AppData\\Local\\Temp\\ipykernel_17576\\4242856068.py:10: FutureWarning:\n",
      "\n",
      "Series.fillna with 'method' is deprecated and will raise in a future version. Use obj.ffill() or obj.bfill() instead.\n",
      "\n",
      "C:\\Users\\Nikita\\AppData\\Local\\Temp\\ipykernel_17576\\4242856068.py:11: FutureWarning:\n",
      "\n",
      "Series.fillna with 'method' is deprecated and will raise in a future version. Use obj.ffill() or obj.bfill() instead.\n",
      "\n",
      "C:\\Users\\Nikita\\AppData\\Local\\Temp\\ipykernel_17576\\4242856068.py:12: FutureWarning:\n",
      "\n",
      "Series.fillna with 'method' is deprecated and will raise in a future version. Use obj.ffill() or obj.bfill() instead.\n",
      "\n",
      "C:\\Users\\Nikita\\AppData\\Local\\Temp\\ipykernel_17576\\4242856068.py:13: FutureWarning:\n",
      "\n",
      "Series.fillna with 'method' is deprecated and will raise in a future version. Use obj.ffill() or obj.bfill() instead.\n",
      "\n",
      "C:\\Users\\Nikita\\AppData\\Local\\Temp\\ipykernel_17576\\4242856068.py:14: FutureWarning:\n",
      "\n",
      "Series.fillna with 'method' is deprecated and will raise in a future version. Use obj.ffill() or obj.bfill() instead.\n",
      "\n",
      "C:\\Users\\Nikita\\AppData\\Local\\Temp\\ipykernel_17576\\4242856068.py:15: FutureWarning:\n",
      "\n",
      "Series.fillna with 'method' is deprecated and will raise in a future version. Use obj.ffill() or obj.bfill() instead.\n",
      "\n"
     ]
    }
   ],
   "source": [
    "df2021['LanguageHaveWorkedWith']=df2021['LanguageHaveWorkedWith'].fillna(method='ffill')#fill the missing values with the previous value\n",
    "df2021['LanguageWantToWorkWith']=df2021['LanguageWantToWorkWith'].fillna(method='ffill')#fill the missing values with the previous value\n",
    "df2021['DatabaseHaveWorkedWith']=df2021['DatabaseHaveWorkedWith'].fillna(method='ffill')#fill the missing values with the previous value\n",
    "df2021['DatabaseWantToWorkWith']=df2021['DatabaseWantToWorkWith'].fillna(method='ffill')#fill the missing values with the previous value\n",
    "df2021['WebframeHaveWorkedWith']=df2021['WebframeHaveWorkedWith'].fillna(method='ffill')#fill the missing values with the previous value\n",
    "df2021['WebframeWantToWorkWith']=df2021['WebframeWantToWorkWith'].fillna(method='ffill')#fill the missing values with the previous value\n",
    "df2021['ToolsTechHaveWorkedWith']=df2021['ToolsTechHaveWorkedWith'].fillna(method='ffill')#fill the missing values with the previous value\n",
    "df2021['ToolsTechWantToWorkWith']=df2021['ToolsTechWantToWorkWith'].fillna(method='ffill')#fill the missing values with the previous value\n",
    "df2021['NEWCollabToolsHaveWorkedWith']=df2021['NEWCollabToolsHaveWorkedWith'].fillna(method='ffill')#fill the missing values with the previous value\n",
    "df2021['NEWCollabToolsWantToWorkWith']=df2021['NEWCollabToolsWantToWorkWith'].fillna(method='ffill')#fill the missing values with the previous value\n",
    "df2021['OrgSize']=df2021['OrgSize'].fillna(method='ffill')\n",
    "df2021['Accessibility']=df2021['Accessibility'].fillna(method='ffill')\n",
    "df2021['MentalHealth']=df2021['MentalHealth'].fillna(method='ffill')\n",
    "df2021['NEWOtherComms']=df2021['NEWOtherComms'].fillna(method='ffill')\n",
    "df2021['Ethnicity']=df2021['Ethnicity'].fillna(method='ffill')\n",
    "df2021['Sexuality']=df2021['Sexuality'].fillna('Prefer not to say')\n",
    "df2021['Gender']=df2021['Gender'].fillna(\"Prefer not to say\")"
   ]
  },
  {
   "cell_type": "code",
   "execution_count": 225,
   "metadata": {},
   "outputs": [
    {
     "name": "stdout",
     "output_type": "stream",
     "text": [
      "count      83439.000000\n",
      "mean      102961.667833\n",
      "std       112840.529772\n",
      "min            0.000000\n",
      "25%        55000.000000\n",
      "50%       102961.667833\n",
      "75%       102961.667833\n",
      "max      1000000.000000\n",
      "Name: CompTotal, dtype: float64\n"
     ]
    }
   ],
   "source": [
    "mean_comp_total = df2021.loc[df2021['CompTotal'] <= 1000000, 'CompTotal'].mean()\n",
    "\n",
    "df2021.loc[df2021['CompTotal'] > 1000000, 'CompTotal'] = mean_comp_total\n",
    "\n",
    "df2021.reset_index(drop=True, inplace=True)  # Reset index if needed\n",
    "\n",
    "print(df2021['CompTotal'].describe())"
   ]
  },
  {
   "cell_type": "code",
   "execution_count": 226,
   "metadata": {},
   "outputs": [
    {
     "data": {
      "text/plain": [
       "OrgSize\n",
       "20 to 99 employees                                    17054\n",
       "100 to 499 employees                                  14365\n",
       "10,000 or more employees                              11100\n",
       "2 to 9 employees                                       9067\n",
       "1,000 to 4,999 employees                               8590\n",
       "10 to 19 employees                                     7465\n",
       "Just me - I am a freelancer, sole proprietor, etc.     5679\n",
       "500 to 999 employees                                   5184\n",
       "5,000 to 9,999 employees                               3116\n",
       "I don’t know                                           1819\n",
       "Name: count, dtype: int64"
      ]
     },
     "execution_count": 226,
     "metadata": {},
     "output_type": "execute_result"
    }
   ],
   "source": [
    "#fill the missing values with the previous value\n",
    "df2021['OrgSize'].value_counts()"
   ]
  },
  {
   "cell_type": "code",
   "execution_count": 227,
   "metadata": {},
   "outputs": [],
   "source": [
    "df2021.dropna(inplace=True)"
   ]
  },
  {
   "cell_type": "code",
   "execution_count": 228,
   "metadata": {},
   "outputs": [
    {
     "data": {
      "text/plain": [
       "ResponseId                      0\n",
       "MainBranch                      0\n",
       "Employment                      0\n",
       "Country                         0\n",
       "EdLevel                         0\n",
       "LearnCode                       0\n",
       "YearsCode                       0\n",
       "YearsCodePro                    0\n",
       "DevType                         0\n",
       "OrgSize                         0\n",
       "CompTotal                       0\n",
       "CompFreq                        0\n",
       "LanguageHaveWorkedWith          0\n",
       "LanguageWantToWorkWith          0\n",
       "DatabaseHaveWorkedWith          0\n",
       "DatabaseWantToWorkWith          0\n",
       "WebframeHaveWorkedWith          0\n",
       "WebframeWantToWorkWith          0\n",
       "ToolsTechHaveWorkedWith         0\n",
       "ToolsTechWantToWorkWith         0\n",
       "NEWCollabToolsHaveWorkedWith    0\n",
       "NEWCollabToolsWantToWorkWith    0\n",
       "OpSys                           0\n",
       "NEWStuck                        0\n",
       "NEWOtherComms                   0\n",
       "Gender                          0\n",
       "Sexuality                       0\n",
       "Ethnicity                       0\n",
       "Accessibility                   0\n",
       "MentalHealth                    0\n",
       "Age1stCode_avg                  0\n",
       "Age_avg                         0\n",
       "dtype: int64"
      ]
     },
     "execution_count": 228,
     "metadata": {},
     "output_type": "execute_result"
    }
   ],
   "source": [
    "df2021.isnull().sum()"
   ]
  },
  {
   "cell_type": "markdown",
   "metadata": {},
   "source": [
    "## Visualizations Functions"
   ]
  },
  {
   "cell_type": "code",
   "execution_count": 229,
   "metadata": {},
   "outputs": [],
   "source": [
    "def plot_boxplot(data, x, y, title):\n",
    "    fig = go.Figure()\n",
    "    for group_name, group_data in data.groupby(x):\n",
    "        fig.add_trace(go.Box(y=group_data[y], name=group_name))\n",
    "    fig.update_layout(title=title, xaxis_title=x, yaxis_title=y)\n",
    "    st.plotly_chart(fig)"
   ]
  },
  {
   "cell_type": "code",
   "execution_count": 230,
   "metadata": {},
   "outputs": [],
   "source": [
    "def plot_bar(data, x, y, title):\n",
    "    fig = px.bar(data, x=x, y=y, title=title)\n",
    "    return fig"
   ]
  },
  {
   "cell_type": "code",
   "execution_count": 231,
   "metadata": {},
   "outputs": [],
   "source": [
    "def plot_bar_plotly(df, column_name, top_n=10, height=450, width=700):\n",
    "    df_counts = df[column_name].value_counts().head(top_n).reset_index()\n",
    "    df_counts.columns = [column_name, 'Count']\n",
    "    \n",
    "    fig = px.bar(df_counts, x=column_name, y='Count', \n",
    "                 labels={column_name: column_name, 'Count': 'Number of Developers'},\n",
    "                 color=column_name, color_discrete_sequence=px.colors.qualitative.Pastel)\n",
    "    \n",
    "    fig.update_layout(xaxis_title=column_name, yaxis_title='Number of Developers')\n",
    "    fig.update_layout(height=height, width=width)\n",
    "\n",
    "    return fig\n"
   ]
  },
  {
   "cell_type": "code",
   "execution_count": 232,
   "metadata": {},
   "outputs": [],
   "source": [
    "def plot_comparison_plotly(df, column1_name, column2_name, top_n=10, height=450, width=700):\n",
    "    # Get the top values of column1_name\n",
    "    df_top = df[column1_name].value_counts().head(top_n).index.tolist()\n",
    "    \n",
    "    # Filter the dataframe to include only rows where column1_name is in the top values\n",
    "    df_filtered = df[df[column1_name].isin(df_top)]\n",
    "    \n",
    "    # Group by column1_name and get the mean (or any other statistic) of column2_name\n",
    "    df_grouped = df_filtered.groupby(column1_name)[column2_name].mean().reset_index()\n",
    "    \n",
    "    # Sort by column1_name to maintain order in the plot\n",
    "    df_grouped = df_grouped.sort_values(by=column1_name)\n",
    "    \n",
    "    # Plotting using Plotly Express\n",
    "    fig = px.bar(df_grouped, x=column1_name, y=column2_name,\n",
    "                 labels={column1_name: column1_name, column2_name: f'Average {column2_name}'},\n",
    "                 color_discrete_sequence=px.colors.qualitative.Pastel)\n",
    "    \n",
    "    fig.update_layout(xaxis_title=column1_name, yaxis_title=f'Average {column2_name}')\n",
    "    fig.update_layout(height=height, width=width)\n",
    "\n",
    "    return fig\n"
   ]
  },
  {
   "cell_type": "code",
   "execution_count": 233,
   "metadata": {},
   "outputs": [],
   "source": [
    "import plotly.graph_objects as go\n",
    "import plotly.express as px\n",
    "\n",
    "def plot_pie_plotly(df, column_name, top_n=10, height=600, width=600):\n",
    "    participation_rate = df[column_name].value_counts().keys().tolist()[:top_n]\n",
    "    count = df[column_name].value_counts().tolist()[:top_n]\n",
    "\n",
    "    fig_pie = go.Figure(data=[go.Pie(labels=participation_rate, values=count, hole=.3)])\n",
    "\n",
    "    fig_pie.update_layout(\n",
    "        title='Top {} Distribution'.format(column_name),\n",
    "        title_x=0.5,  # Center the title\n",
    "        height=height,\n",
    "        width=width,\n",
    "        showlegend=True,\n",
    "        legend=dict(\n",
    "            x=1,\n",
    "            y=0.5,\n",
    "            traceorder='normal',\n",
    "            font=dict(\n",
    "                size=12,\n",
    "            ),\n",
    "        ),\n",
    "    )\n",
    "\n",
    "    # color differentiation and spacing of labels\n",
    "    fig_pie.update_traces(\n",
    "        marker=dict(\n",
    "            colors=px.colors.qualitative.Plotly,\n",
    "            line=dict(color='#000000', width=2)\n",
    "        ),\n",
    "        textinfo='percent+label',\n",
    "        textfont_size=14,\n",
    "        textposition='inside',\n",
    "        hoverinfo='label+percent+name',\n",
    "    )\n",
    "\n",
    "    return fig_pie\n"
   ]
  },
  {
   "cell_type": "code",
   "execution_count": 234,
   "metadata": {},
   "outputs": [],
   "source": [
    "def plot_value_counts_plotly(df, column_name):\n",
    "    colors = ['lightseagreen', 'lightgreen', 'lightyellow', 'lightcoral', 'lightsalmon', 'lavender']\n",
    "\n",
    "    counts = df[column_name].value_counts()\n",
    "    fig = go.Figure(go.Bar(x=counts.index, y=counts.values, marker_color=random.choice(colors)))\n",
    "    fig.update_layout(title=f'Value Counts for {column_name}', xaxis_title='Response', yaxis_title='Count')\n",
    "    return fig"
   ]
  },
  {
   "cell_type": "code",
   "execution_count": 235,
   "metadata": {},
   "outputs": [],
   "source": [
    "def gender_vs_top5countries(df):\n",
    "    all_data = df.groupby(['Country', 'Gender']).size().reset_index(name='Count')\n",
    "    all_data['Total'] = all_data.groupby('Country')['Count'].transform('sum')\n",
    "    all_data['Percentage'] = all_data['Count'] / all_data['Total'] * 100\n",
    "\n",
    "\n",
    "    top_countries = all_data.groupby('Country')['Total'].max().nlargest(5).index\n",
    "    top_data = all_data[all_data['Country'].isin(top_countries)]\n",
    "\n",
    "    # men and women data\n",
    "    men_data = top_data[top_data['Gender'] == 'Man']\n",
    "    women_data = top_data[top_data['Gender'] == 'Woman']\n",
    "\n",
    "    fig = go.Figure()\n",
    "\n",
    "    #bars for 'Men'\n",
    "    fig.add_trace(go.Bar(x=men_data['Country'], y=men_data['Percentage'], name='Men', marker_color='darkblue'))\n",
    "\n",
    "    #bars for 'Women'\n",
    "    fig.add_trace(go.Bar(x=women_data['Country'], y=women_data['Percentage'], name='Women', marker_color='#5E96E9'))\n",
    "\n",
    "    fig.update_layout(\n",
    "        title='Gender vs Top 5 Countries in 2019',\n",
    "        xaxis_title='Top 5 Countries',\n",
    "        yaxis_title='Percentage',\n",
    "        barmode='group'\n",
    "    )\n",
    "\n",
    "    return fig"
   ]
  },
  {
   "cell_type": "code",
   "execution_count": 236,
   "metadata": {},
   "outputs": [],
   "source": [
    "\n",
    "def highest_paying_countries(df, salary_cap=1000000, top_n=10, name='Median'):\n",
    "    # Filter data for Data Scientists\n",
    "    ds = df[df['DevType'].str.contains('Data scientist', na=False)]\n",
    "    \n",
    "    # Remove rows with unrealistic salaries\n",
    "    ds = ds[ds['CompTotal'] <= salary_cap]\n",
    "    \n",
    "    # Group by country and calculate median salary\n",
    "    ds_median_salary = ds.groupby('Country')['CompTotal'].median().reset_index(name=name)\n",
    "    \n",
    "    # Sort values by median salary in descending order\n",
    "    ds_median_salary.sort_values(by=[name], ascending=False, inplace=True)\n",
    "    \n",
    "    # Select top n countries with highest median salaries\n",
    "    top_median_salary = ds_median_salary.head(top_n)\n",
    "    \n",
    "    # Create a horizontal bar plot with multicolor bars\n",
    "    fig = px.bar(top_median_salary, x=name, y='Country', orientation='h',\n",
    "                 labels={name: f'Average Salary in US$ ({name})', 'Country': 'Country'},\n",
    "                 title=f'Top {top_n} highest paying data scientist countries',\n",
    "                 color='Country',  # Color bars by Country for multicolor effect\n",
    "                 color_discrete_sequence=px.colors.qualitative.Set3)  # Use qualitative color palette\n",
    "    \n",
    "    # Update layout for better readability\n",
    "    fig.update_layout(yaxis={'categoryorder':'total ascending'}, \n",
    "                      title={'x':0.5, 'xanchor': 'center', 'yanchor': 'top'})\n",
    "    \n",
    "    return fig\n"
   ]
  },
  {
   "cell_type": "code",
   "execution_count": 237,
   "metadata": {},
   "outputs": [],
   "source": [
    "\n",
    "def clustered_graph(df, col1, col2):   \n",
    "    top_10 = df[col2].value_counts().nlargest(10).index\n",
    "\n",
    "    filtered_df = df[df[col2].isin(top_10)]\n",
    "\n",
    "    sns.catplot(data=filtered_df, x=col2, hue=col1, kind=\"count\", height=6, aspect=2)\n",
    "    plt.title(f'Clustered Bar Chart of {col1} and {col2}')\n",
    "    plt.xticks(rotation=45)\n",
    "    plt.show()"
   ]
  },
  {
   "cell_type": "code",
   "execution_count": 238,
   "metadata": {},
   "outputs": [],
   "source": [
    "def stacked_graph_for_correlation(df, col1, col2, height=600, width=800):\n",
    "    # Create a frequency table\n",
    "    freq_table = df.groupby([col1, col2]).size().reset_index(name='counts')\n",
    "    \n",
    "    fig = px.bar(freq_table, x=col2, y='counts', color=col1, \n",
    "                 title=f'Distribution of {col1} by {col2}',\n",
    "                 labels={col1: col1, col2: col2, 'counts': 'Counts'},\n",
    "                 height=height, width=width)\n",
    "    \n",
    "    fig.update_layout(\n",
    "        title={'text': f'{col1} Distribution by {col2}', 'x': 0.5},\n",
    "        xaxis_title=col2,\n",
    "        yaxis_title='Counts',\n",
    "        legend_title=col1,\n",
    "        legend=dict(x=1, y=1)\n",
    "    )\n",
    "    \n",
    "    return fig"
   ]
  },
  {
   "cell_type": "code",
   "execution_count": 239,
   "metadata": {},
   "outputs": [],
   "source": [
    "def map_mental_health(value):\n",
    "    if pd.isna(value):\n",
    "        return \"Other/Prefer not to say/Or, in your own words\"\n",
    "    if \"concentration and/or memory disorder\" in value:\n",
    "        return \"Concentration/Memory Disorder\"\n",
    "    elif \"anxiety disorder\" in value:\n",
    "        return \"Anxiety Disorder\"\n",
    "    elif \"mood or emotional disorder\" in value:\n",
    "        return \"Mood/Emotional Disorder\"\n",
    "    elif \"autism / an autism spectrum disorder\" in value:\n",
    "        return \"Autism Spectrum Disorder\"\n",
    "    elif \";\" in value:  # Multiple disorders\n",
    "        return \"Multiple Disorders\"\n",
    "    elif \"Prefer not to say\" in value or \"Or, in your own words:\" in value or \"None of the above\" in value:\n",
    "        return \"Other/Prefer not to say/Or, in your own words\"\n",
    "    else:\n",
    "        return \"Other/Prefer not to say/Or, in your own words\"\n",
    "\n",
    "df2021['MentalHealth'] = df2021['MentalHealth'].apply(map_mental_health)\n",
    "\n",
    "# print(df.head())"
   ]
  },
  {
   "cell_type": "code",
   "execution_count": 240,
   "metadata": {},
   "outputs": [],
   "source": [
    "def map_ethnicity(value):\n",
    "    if pd.isna(value):\n",
    "        return \"Other/Prefer not to say\"\n",
    "    \n",
    "    categories = {\n",
    "        \"White or of European descent\": [\"White or of European descent\"],\n",
    "        \"South Asian\": [\"South Asian\"],\n",
    "        \"Hispanic or Latino/a/x\": [\"Hispanic or Latino/a/x\", \"Hispanic or Latino/a/x;Or, in your own words:\"],\n",
    "        \"Southeast Asian\": [\"Southeast Asian\"],\n",
    "        \"East Asian\": [\"East Asian\"],\n",
    "        \"Black or of African descent\": [\"Black or of African descent\"],\n",
    "        \"Middle Eastern\": [\"Middle Eastern\"],\n",
    "        \"Indigenous\": [\"Indigenous\", \"Native American\", \"Pacific Islander\", \"Indigenous Australian\"],\n",
    "        \"Multiracial/Biracial\": [\"Multiracial\", \"Biracial\"],\n",
    "        \"Other/Prefer not to say\": [\"Prefer not to say\", \"Or, in your own words:\", \"I don't know\"]\n",
    "    }\n",
    "    \n",
    "    for category, keywords in categories.items():\n",
    "        for keyword in keywords:\n",
    "            if keyword in value:\n",
    "                return category\n",
    "    return \"Other/Prefer not to say\"\n",
    "\n",
    "df2021['EthnicityCategory'] = df2021['Ethnicity'].apply(map_ethnicity)"
   ]
  },
  {
   "cell_type": "code",
   "execution_count": 271,
   "metadata": {},
   "outputs": [],
   "source": [
    "def counts(df, column_name, year):\n",
    "    language_counts = df[column_name].str.split(';', expand=True).stack().value_counts().to_frame(name=year)\n",
    "    language_counts[column_name] = language_counts.index\n",
    "    language_counts.reset_index(drop=True, inplace=True)\n",
    "    language_counts = language_counts[[column_name, year]]\n",
    "    return language_counts\n",
    "\n",
    "def compare_column_and_plot(column):\n",
    "    languagedesire_2021 = counts(df2021, column, '2021')\n",
    "    languagedesire_2022 = counts(df2022, column, '2022')\n",
    "\n",
    "    print(\"2021 Data:\")\n",
    "    print(languagedesire_2021.head())\n",
    "    print(\"2022 Data:\")\n",
    "    print(languagedesire_2022.head())\n",
    "\n",
    "    # Merge language counts for both years\n",
    "    languagedesire_all = pd.merge(languagedesire_2021, languagedesire_2022, on=column, how='outer')\n",
    "    \n",
    "    print(\"Merged Data:\")\n",
    "    print(languagedesire_all.head())\n",
    "\n",
    "    # Fill NaN values with 0 and convert counts to integers\n",
    "    languagedesire_all.fillna(0, inplace=True)\n",
    "    languagedesire_all['2021'] = languagedesire_all['2021'].astype(int)\n",
    "    languagedesire_all['2022'] = languagedesire_all['2022'].astype(int)\n",
    "    \n",
    "    languagedesire_all.set_index(column, inplace=True)\n",
    "    \n",
    "    print(\"Filled and Converted Data:\")\n",
    "    print(languagedesire_all.head())\n",
    "\n",
    "    languagedesire19_20 = languagedesire_all.div(languagedesire_all.sum())\n",
    "    \n",
    "    print(\"Percentage Data:\")\n",
    "    print(languagedesire19_20.head())\n",
    "\n",
    "    fig = go.Figure()\n",
    "\n",
    "    colors = ['#636EFA', '#EF553B']  # Define custom colors for the bars\n",
    "\n",
    "    for i, col in enumerate(languagedesire19_20.columns):\n",
    "        fig.add_trace(go.Bar(\n",
    "            x=languagedesire19_20.index, \n",
    "            y=languagedesire19_20[col], \n",
    "            name=col,\n",
    "            marker=dict(color=colors[i % len(colors)])  # Apply custom colors\n",
    "        ))\n",
    "\n",
    "    fig.update_layout(\n",
    "        title='Comparison of Language Desires by Year',\n",
    "        xaxis_title=column,\n",
    "        yaxis_title='Percentages',\n",
    "        font=dict(size=14),\n",
    "        barmode='group',\n",
    "        height=600,\n",
    "        width=800\n",
    "    )\n",
    "\n",
    "    return fig "
   ]
  },
  {
   "cell_type": "code",
   "execution_count": 273,
   "metadata": {},
   "outputs": [],
   "source": [
    "def counts(df, column_name):\n",
    "    # Split the entries in the column, stack them, and count occurrences\n",
    "    language_counts = df[column_name].str.split(';', expand=True).stack().value_counts().to_frame(name='Count')\n",
    "    language_counts.reset_index(inplace=True)\n",
    "    language_counts.columns = ['Language', 'Count']\n",
    "    return language_counts\n",
    "\n",
    "def compare_language_columns_and_plot(df, column1, column2):\n",
    "    # Get counts for both columns\n",
    "    worked_with_counts = counts(df, column1)\n",
    "    want_to_work_with_counts = counts(df, column2)\n",
    "\n",
    "    # Merge the counts on the language column\n",
    "    all_languages = pd.merge(worked_with_counts, want_to_work_with_counts, on='Language', how='outer')\n",
    "    \n",
    "    # Fill NaN values with 0 and convert counts to integers\n",
    "    all_languages.fillna(0, inplace=True)\n",
    "    all_languages['Count_x'] = all_languages['Count_x'].astype(int)\n",
    "    all_languages['Count_y'] = all_languages['Count_y'].astype(int)\n",
    "    \n",
    "    all_languages.set_index('Language', inplace=True)\n",
    "    \n",
    "    fig = go.Figure()\n",
    "\n",
    "    colors = ['#636EFA', '#EF553B']  # Define custom colors for the bars\n",
    "\n",
    "    for i, col in enumerate(all_languages.columns):\n",
    "        fig.add_trace(go.Bar(\n",
    "            x=all_languages.index, \n",
    "            y=all_languages[col], \n",
    "            name=col.split('_')[1],  # Use column names to label the traces\n",
    "            marker=dict(color=colors[i % len(colors)])  # Apply custom colors\n",
    "        ))\n",
    "\n",
    "    fig.update_layout(\n",
    "        title='Comparison of Languages Worked With and Want to Work With',\n",
    "        xaxis_title='Programming Languages',\n",
    "        yaxis_title='Count',\n",
    "        font=dict(size=14),\n",
    "        barmode='stack',\n",
    "        height=600,\n",
    "        width=800\n",
    "    )\n",
    "\n",
    "    return fig\n"
   ]
  },
  {
   "cell_type": "markdown",
   "metadata": {},
   "source": [
    "## Graphs"
   ]
  },
  {
   "cell_type": "code",
   "execution_count": 241,
   "metadata": {},
   "outputs": [
    {
     "data": {
      "application/vnd.plotly.v1+json": {
       "config": {
        "plotlyServerURL": "https://plot.ly"
       },
       "data": [
        {
         "marker": {
          "color": "lavender"
         },
         "type": "bar",
         "x": [
          "itwatch",
          "stack",
          "activitygoogle",
          "developer",
          "overflowgo",
          "google",
          "friendgoogle",
          "overflowgoogle",
          "videosplay",
          "other",
          "overflow",
          "help",
          "please",
          "activitywatch",
          "overflowdo",
          "videosmeditate",
          "tutorial",
          "coworker",
          "latermeditatepanic",
          "activitydo",
          "laterpanicvisit",
          "latermeditateplay",
          "itpanic",
          "latermeditate",
          "gamespanic",
          "laterplay",
          "gamesother",
          "laterpanic"
         ],
         "y": [
          27230,
          17074,
          8163,
          6206,
          5087,
          5085,
          1918,
          1532,
          1470,
          1229,
          1199,
          1117,
          1016,
          848,
          737,
          736,
          716,
          447,
          417,
          311,
          288,
          248,
          103,
          94,
          75,
          63,
          15,
          11
         ]
        }
       ],
       "layout": {
        "template": {
         "data": {
          "candlestick": [
           {
            "decreasing": {
             "line": {
              "color": "#000033"
             }
            },
            "increasing": {
             "line": {
              "color": "#000032"
             }
            },
            "type": "candlestick"
           }
          ],
          "contour": [
           {
            "colorscale": [
             [
              0,
              "#000011"
             ],
             [
              0.1111111111111111,
              "#000012"
             ],
             [
              0.2222222222222222,
              "#000013"
             ],
             [
              0.3333333333333333,
              "#000014"
             ],
             [
              0.4444444444444444,
              "#000015"
             ],
             [
              0.5555555555555556,
              "#000016"
             ],
             [
              0.6666666666666666,
              "#000017"
             ],
             [
              0.7777777777777778,
              "#000018"
             ],
             [
              0.8888888888888888,
              "#000019"
             ],
             [
              1,
              "#000020"
             ]
            ],
            "type": "contour"
           }
          ],
          "contourcarpet": [
           {
            "colorscale": [
             [
              0,
              "#000011"
             ],
             [
              0.1111111111111111,
              "#000012"
             ],
             [
              0.2222222222222222,
              "#000013"
             ],
             [
              0.3333333333333333,
              "#000014"
             ],
             [
              0.4444444444444444,
              "#000015"
             ],
             [
              0.5555555555555556,
              "#000016"
             ],
             [
              0.6666666666666666,
              "#000017"
             ],
             [
              0.7777777777777778,
              "#000018"
             ],
             [
              0.8888888888888888,
              "#000019"
             ],
             [
              1,
              "#000020"
             ]
            ],
            "type": "contourcarpet"
           }
          ],
          "heatmap": [
           {
            "colorscale": [
             [
              0,
              "#000011"
             ],
             [
              0.1111111111111111,
              "#000012"
             ],
             [
              0.2222222222222222,
              "#000013"
             ],
             [
              0.3333333333333333,
              "#000014"
             ],
             [
              0.4444444444444444,
              "#000015"
             ],
             [
              0.5555555555555556,
              "#000016"
             ],
             [
              0.6666666666666666,
              "#000017"
             ],
             [
              0.7777777777777778,
              "#000018"
             ],
             [
              0.8888888888888888,
              "#000019"
             ],
             [
              1,
              "#000020"
             ]
            ],
            "type": "heatmap"
           }
          ],
          "histogram2d": [
           {
            "colorscale": [
             [
              0,
              "#000011"
             ],
             [
              0.1111111111111111,
              "#000012"
             ],
             [
              0.2222222222222222,
              "#000013"
             ],
             [
              0.3333333333333333,
              "#000014"
             ],
             [
              0.4444444444444444,
              "#000015"
             ],
             [
              0.5555555555555556,
              "#000016"
             ],
             [
              0.6666666666666666,
              "#000017"
             ],
             [
              0.7777777777777778,
              "#000018"
             ],
             [
              0.8888888888888888,
              "#000019"
             ],
             [
              1,
              "#000020"
             ]
            ],
            "type": "histogram2d"
           }
          ],
          "icicle": [
           {
            "textfont": {
             "color": "white"
            },
            "type": "icicle"
           }
          ],
          "sankey": [
           {
            "textfont": {
             "color": "#000036"
            },
            "type": "sankey"
           }
          ],
          "scatter": [
           {
            "marker": {
             "line": {
              "width": 0
             }
            },
            "type": "scatter"
           }
          ],
          "table": [
           {
            "cells": {
             "fill": {
              "color": "#000038"
             },
             "font": {
              "color": "#000037"
             },
             "line": {
              "color": "#000039"
             }
            },
            "header": {
             "fill": {
              "color": "#000040"
             },
             "font": {
              "color": "#000036"
             },
             "line": {
              "color": "#000039"
             }
            },
            "type": "table"
           }
          ],
          "waterfall": [
           {
            "connector": {
             "line": {
              "color": "#000036",
              "width": 2
             }
            },
            "decreasing": {
             "marker": {
              "color": "#000033"
             }
            },
            "increasing": {
             "marker": {
              "color": "#000032"
             }
            },
            "totals": {
             "marker": {
              "color": "#000034"
             }
            },
            "type": "waterfall"
           }
          ]
         },
         "layout": {
          "coloraxis": {
           "colorscale": [
            [
             0,
             "#000011"
            ],
            [
             0.1111111111111111,
             "#000012"
            ],
            [
             0.2222222222222222,
             "#000013"
            ],
            [
             0.3333333333333333,
             "#000014"
            ],
            [
             0.4444444444444444,
             "#000015"
            ],
            [
             0.5555555555555556,
             "#000016"
            ],
            [
             0.6666666666666666,
             "#000017"
            ],
            [
             0.7777777777777778,
             "#000018"
            ],
            [
             0.8888888888888888,
             "#000019"
            ],
            [
             1,
             "#000020"
            ]
           ]
          },
          "colorscale": {
           "diverging": [
            [
             0,
             "#000021"
            ],
            [
             0.1,
             "#000022"
            ],
            [
             0.2,
             "#000023"
            ],
            [
             0.3,
             "#000024"
            ],
            [
             0.4,
             "#000025"
            ],
            [
             0.5,
             "#000026"
            ],
            [
             0.6,
             "#000027"
            ],
            [
             0.7,
             "#000028"
            ],
            [
             0.8,
             "#000029"
            ],
            [
             0.9,
             "#000030"
            ],
            [
             1,
             "#000031"
            ]
           ],
           "sequential": [
            [
             0,
             "#000011"
            ],
            [
             0.1111111111111111,
             "#000012"
            ],
            [
             0.2222222222222222,
             "#000013"
            ],
            [
             0.3333333333333333,
             "#000014"
            ],
            [
             0.4444444444444444,
             "#000015"
            ],
            [
             0.5555555555555556,
             "#000016"
            ],
            [
             0.6666666666666666,
             "#000017"
            ],
            [
             0.7777777777777778,
             "#000018"
            ],
            [
             0.8888888888888888,
             "#000019"
            ],
            [
             1,
             "#000020"
            ]
           ],
           "sequentialminus": [
            [
             0,
             "#000011"
            ],
            [
             0.1111111111111111,
             "#000012"
            ],
            [
             0.2222222222222222,
             "#000013"
            ],
            [
             0.3333333333333333,
             "#000014"
            ],
            [
             0.4444444444444444,
             "#000015"
            ],
            [
             0.5555555555555556,
             "#000016"
            ],
            [
             0.6666666666666666,
             "#000017"
            ],
            [
             0.7777777777777778,
             "#000018"
            ],
            [
             0.8888888888888888,
             "#000019"
            ],
            [
             1,
             "#000020"
            ]
           ]
          },
          "colorway": [
           "#000001",
           "#000002",
           "#000003",
           "#000004",
           "#000005",
           "#000006",
           "#000007",
           "#000008",
           "#000009",
           "#000010"
          ]
         }
        },
        "title": {
         "text": "Value Counts for NEWStuck"
        },
        "xaxis": {
         "title": {
          "text": "Response"
         }
        },
        "yaxis": {
         "title": {
          "text": "Count"
         }
        }
       }
      }
     },
     "metadata": {},
     "output_type": "display_data"
    }
   ],
   "source": [
    "fig=plot_value_counts_plotly(df2021,'NEWStuck')\n",
    "fig.show()"
   ]
  },
  {
   "cell_type": "code",
   "execution_count": 242,
   "metadata": {},
   "outputs": [
    {
     "data": {
      "application/vnd.plotly.v1+json": {
       "config": {
        "plotlyServerURL": "https://plot.ly"
       },
       "data": [
        {
         "alignmentgroup": "True",
         "hovertemplate": "EdLevel=%{x}<br>Average CompTotal=%{y}<extra></extra>",
         "legendgroup": "",
         "marker": {
          "color": "rgb(102, 197, 204)",
          "pattern": {
           "shape": ""
          }
         },
         "name": "",
         "offsetgroup": "",
         "orientation": "v",
         "showlegend": false,
         "textposition": "auto",
         "type": "bar",
         "x": [
          "Associate degree (A.A., A.S., etc.)",
          "Bachelor’s degree (B.A., B.S., B.Eng., etc.)",
          "Master’s degree (M.A., M.S., M.Eng., MBA, etc.)",
          "Other doctoral degree (Ph.D., Ed.D., etc.)",
          "Primary/elementary school",
          "Professional degree (JD, MD, etc.)",
          "Secondary school (e.g. American high school, German Realschule or Gymnasium, etc.)",
          "Some college/university study without earning a degree",
          "Something else"
         ],
         "xaxis": "x",
         "y": [
          89508.20561525613,
          110233.55455115913,
          101667.314850989,
          105909.67772522049,
          101239.18002021914,
          88636.03580035953,
          94834.54517134125,
          93928.73308479678,
          94341.91971224725
         ],
         "yaxis": "y"
        }
       ],
       "layout": {
        "barmode": "relative",
        "height": 450,
        "legend": {
         "tracegroupgap": 0
        },
        "margin": {
         "t": 60
        },
        "template": {
         "data": {
          "candlestick": [
           {
            "decreasing": {
             "line": {
              "color": "#000033"
             }
            },
            "increasing": {
             "line": {
              "color": "#000032"
             }
            },
            "type": "candlestick"
           }
          ],
          "contour": [
           {
            "colorscale": [
             [
              0,
              "#000011"
             ],
             [
              0.1111111111111111,
              "#000012"
             ],
             [
              0.2222222222222222,
              "#000013"
             ],
             [
              0.3333333333333333,
              "#000014"
             ],
             [
              0.4444444444444444,
              "#000015"
             ],
             [
              0.5555555555555556,
              "#000016"
             ],
             [
              0.6666666666666666,
              "#000017"
             ],
             [
              0.7777777777777778,
              "#000018"
             ],
             [
              0.8888888888888888,
              "#000019"
             ],
             [
              1,
              "#000020"
             ]
            ],
            "type": "contour"
           }
          ],
          "contourcarpet": [
           {
            "colorscale": [
             [
              0,
              "#000011"
             ],
             [
              0.1111111111111111,
              "#000012"
             ],
             [
              0.2222222222222222,
              "#000013"
             ],
             [
              0.3333333333333333,
              "#000014"
             ],
             [
              0.4444444444444444,
              "#000015"
             ],
             [
              0.5555555555555556,
              "#000016"
             ],
             [
              0.6666666666666666,
              "#000017"
             ],
             [
              0.7777777777777778,
              "#000018"
             ],
             [
              0.8888888888888888,
              "#000019"
             ],
             [
              1,
              "#000020"
             ]
            ],
            "type": "contourcarpet"
           }
          ],
          "heatmap": [
           {
            "colorscale": [
             [
              0,
              "#000011"
             ],
             [
              0.1111111111111111,
              "#000012"
             ],
             [
              0.2222222222222222,
              "#000013"
             ],
             [
              0.3333333333333333,
              "#000014"
             ],
             [
              0.4444444444444444,
              "#000015"
             ],
             [
              0.5555555555555556,
              "#000016"
             ],
             [
              0.6666666666666666,
              "#000017"
             ],
             [
              0.7777777777777778,
              "#000018"
             ],
             [
              0.8888888888888888,
              "#000019"
             ],
             [
              1,
              "#000020"
             ]
            ],
            "type": "heatmap"
           }
          ],
          "histogram2d": [
           {
            "colorscale": [
             [
              0,
              "#000011"
             ],
             [
              0.1111111111111111,
              "#000012"
             ],
             [
              0.2222222222222222,
              "#000013"
             ],
             [
              0.3333333333333333,
              "#000014"
             ],
             [
              0.4444444444444444,
              "#000015"
             ],
             [
              0.5555555555555556,
              "#000016"
             ],
             [
              0.6666666666666666,
              "#000017"
             ],
             [
              0.7777777777777778,
              "#000018"
             ],
             [
              0.8888888888888888,
              "#000019"
             ],
             [
              1,
              "#000020"
             ]
            ],
            "type": "histogram2d"
           }
          ],
          "icicle": [
           {
            "textfont": {
             "color": "white"
            },
            "type": "icicle"
           }
          ],
          "sankey": [
           {
            "textfont": {
             "color": "#000036"
            },
            "type": "sankey"
           }
          ],
          "scatter": [
           {
            "marker": {
             "line": {
              "width": 0
             }
            },
            "type": "scatter"
           }
          ],
          "table": [
           {
            "cells": {
             "fill": {
              "color": "#000038"
             },
             "font": {
              "color": "#000037"
             },
             "line": {
              "color": "#000039"
             }
            },
            "header": {
             "fill": {
              "color": "#000040"
             },
             "font": {
              "color": "#000036"
             },
             "line": {
              "color": "#000039"
             }
            },
            "type": "table"
           }
          ],
          "waterfall": [
           {
            "connector": {
             "line": {
              "color": "#000036",
              "width": 2
             }
            },
            "decreasing": {
             "marker": {
              "color": "#000033"
             }
            },
            "increasing": {
             "marker": {
              "color": "#000032"
             }
            },
            "totals": {
             "marker": {
              "color": "#000034"
             }
            },
            "type": "waterfall"
           }
          ]
         },
         "layout": {
          "coloraxis": {
           "colorscale": [
            [
             0,
             "#000011"
            ],
            [
             0.1111111111111111,
             "#000012"
            ],
            [
             0.2222222222222222,
             "#000013"
            ],
            [
             0.3333333333333333,
             "#000014"
            ],
            [
             0.4444444444444444,
             "#000015"
            ],
            [
             0.5555555555555556,
             "#000016"
            ],
            [
             0.6666666666666666,
             "#000017"
            ],
            [
             0.7777777777777778,
             "#000018"
            ],
            [
             0.8888888888888888,
             "#000019"
            ],
            [
             1,
             "#000020"
            ]
           ]
          },
          "colorscale": {
           "diverging": [
            [
             0,
             "#000021"
            ],
            [
             0.1,
             "#000022"
            ],
            [
             0.2,
             "#000023"
            ],
            [
             0.3,
             "#000024"
            ],
            [
             0.4,
             "#000025"
            ],
            [
             0.5,
             "#000026"
            ],
            [
             0.6,
             "#000027"
            ],
            [
             0.7,
             "#000028"
            ],
            [
             0.8,
             "#000029"
            ],
            [
             0.9,
             "#000030"
            ],
            [
             1,
             "#000031"
            ]
           ],
           "sequential": [
            [
             0,
             "#000011"
            ],
            [
             0.1111111111111111,
             "#000012"
            ],
            [
             0.2222222222222222,
             "#000013"
            ],
            [
             0.3333333333333333,
             "#000014"
            ],
            [
             0.4444444444444444,
             "#000015"
            ],
            [
             0.5555555555555556,
             "#000016"
            ],
            [
             0.6666666666666666,
             "#000017"
            ],
            [
             0.7777777777777778,
             "#000018"
            ],
            [
             0.8888888888888888,
             "#000019"
            ],
            [
             1,
             "#000020"
            ]
           ],
           "sequentialminus": [
            [
             0,
             "#000011"
            ],
            [
             0.1111111111111111,
             "#000012"
            ],
            [
             0.2222222222222222,
             "#000013"
            ],
            [
             0.3333333333333333,
             "#000014"
            ],
            [
             0.4444444444444444,
             "#000015"
            ],
            [
             0.5555555555555556,
             "#000016"
            ],
            [
             0.6666666666666666,
             "#000017"
            ],
            [
             0.7777777777777778,
             "#000018"
            ],
            [
             0.8888888888888888,
             "#000019"
            ],
            [
             1,
             "#000020"
            ]
           ]
          },
          "colorway": [
           "#000001",
           "#000002",
           "#000003",
           "#000004",
           "#000005",
           "#000006",
           "#000007",
           "#000008",
           "#000009",
           "#000010"
          ]
         }
        },
        "width": 700,
        "xaxis": {
         "anchor": "y",
         "domain": [
          0,
          1
         ],
         "title": {
          "text": "EdLevel"
         }
        },
        "yaxis": {
         "anchor": "x",
         "domain": [
          0,
          1
         ],
         "title": {
          "text": "Average CompTotal"
         }
        }
       }
      }
     },
     "metadata": {},
     "output_type": "display_data"
    }
   ],
   "source": [
    "plot_comparison_plotly(df2021,'EdLevel','CompTotal',10,450,700)"
   ]
  },
  {
   "cell_type": "code",
   "execution_count": 243,
   "metadata": {},
   "outputs": [
    {
     "data": {
      "application/vnd.plotly.v1+json": {
       "config": {
        "plotlyServerURL": "https://plot.ly"
       },
       "data": [
        {
         "alignmentgroup": "True",
         "hovertemplate": "DevType=%{x}<br>Average CompTotal=%{y}<extra></extra>",
         "legendgroup": "",
         "marker": {
          "color": "rgb(102, 197, 204)",
          "pattern": {
           "shape": ""
          }
         },
         "name": "",
         "offsetgroup": "",
         "orientation": "v",
         "showlegend": false,
         "textposition": "auto",
         "type": "bar",
         "x": [
          "Developer, back-end",
          "Developer, desktop or enterprise applications",
          "Developer, front-end",
          "Developer, front-end;Developer, full-stack",
          "Developer, front-end;Developer, full-stack;Developer, back-end",
          "Developer, full-stack",
          "Developer, full-stack;Developer, back-end",
          "Developer, mobile",
          "Other (please specify):",
          "Student"
         ],
         "xaxis": "x",
         "y": [
          107444.72395809904,
          98219.06053456457,
          101144.00097260159,
          109357.8213268611,
          105935.88583693723,
          101495.18697343492,
          106408.10331367304,
          111051.73183929046,
          105172.58023458702,
          101956.07797933063
         ],
         "yaxis": "y"
        }
       ],
       "layout": {
        "barmode": "relative",
        "height": 450,
        "legend": {
         "tracegroupgap": 0
        },
        "margin": {
         "t": 60
        },
        "template": {
         "data": {
          "candlestick": [
           {
            "decreasing": {
             "line": {
              "color": "#000033"
             }
            },
            "increasing": {
             "line": {
              "color": "#000032"
             }
            },
            "type": "candlestick"
           }
          ],
          "contour": [
           {
            "colorscale": [
             [
              0,
              "#000011"
             ],
             [
              0.1111111111111111,
              "#000012"
             ],
             [
              0.2222222222222222,
              "#000013"
             ],
             [
              0.3333333333333333,
              "#000014"
             ],
             [
              0.4444444444444444,
              "#000015"
             ],
             [
              0.5555555555555556,
              "#000016"
             ],
             [
              0.6666666666666666,
              "#000017"
             ],
             [
              0.7777777777777778,
              "#000018"
             ],
             [
              0.8888888888888888,
              "#000019"
             ],
             [
              1,
              "#000020"
             ]
            ],
            "type": "contour"
           }
          ],
          "contourcarpet": [
           {
            "colorscale": [
             [
              0,
              "#000011"
             ],
             [
              0.1111111111111111,
              "#000012"
             ],
             [
              0.2222222222222222,
              "#000013"
             ],
             [
              0.3333333333333333,
              "#000014"
             ],
             [
              0.4444444444444444,
              "#000015"
             ],
             [
              0.5555555555555556,
              "#000016"
             ],
             [
              0.6666666666666666,
              "#000017"
             ],
             [
              0.7777777777777778,
              "#000018"
             ],
             [
              0.8888888888888888,
              "#000019"
             ],
             [
              1,
              "#000020"
             ]
            ],
            "type": "contourcarpet"
           }
          ],
          "heatmap": [
           {
            "colorscale": [
             [
              0,
              "#000011"
             ],
             [
              0.1111111111111111,
              "#000012"
             ],
             [
              0.2222222222222222,
              "#000013"
             ],
             [
              0.3333333333333333,
              "#000014"
             ],
             [
              0.4444444444444444,
              "#000015"
             ],
             [
              0.5555555555555556,
              "#000016"
             ],
             [
              0.6666666666666666,
              "#000017"
             ],
             [
              0.7777777777777778,
              "#000018"
             ],
             [
              0.8888888888888888,
              "#000019"
             ],
             [
              1,
              "#000020"
             ]
            ],
            "type": "heatmap"
           }
          ],
          "histogram2d": [
           {
            "colorscale": [
             [
              0,
              "#000011"
             ],
             [
              0.1111111111111111,
              "#000012"
             ],
             [
              0.2222222222222222,
              "#000013"
             ],
             [
              0.3333333333333333,
              "#000014"
             ],
             [
              0.4444444444444444,
              "#000015"
             ],
             [
              0.5555555555555556,
              "#000016"
             ],
             [
              0.6666666666666666,
              "#000017"
             ],
             [
              0.7777777777777778,
              "#000018"
             ],
             [
              0.8888888888888888,
              "#000019"
             ],
             [
              1,
              "#000020"
             ]
            ],
            "type": "histogram2d"
           }
          ],
          "icicle": [
           {
            "textfont": {
             "color": "white"
            },
            "type": "icicle"
           }
          ],
          "sankey": [
           {
            "textfont": {
             "color": "#000036"
            },
            "type": "sankey"
           }
          ],
          "scatter": [
           {
            "marker": {
             "line": {
              "width": 0
             }
            },
            "type": "scatter"
           }
          ],
          "table": [
           {
            "cells": {
             "fill": {
              "color": "#000038"
             },
             "font": {
              "color": "#000037"
             },
             "line": {
              "color": "#000039"
             }
            },
            "header": {
             "fill": {
              "color": "#000040"
             },
             "font": {
              "color": "#000036"
             },
             "line": {
              "color": "#000039"
             }
            },
            "type": "table"
           }
          ],
          "waterfall": [
           {
            "connector": {
             "line": {
              "color": "#000036",
              "width": 2
             }
            },
            "decreasing": {
             "marker": {
              "color": "#000033"
             }
            },
            "increasing": {
             "marker": {
              "color": "#000032"
             }
            },
            "totals": {
             "marker": {
              "color": "#000034"
             }
            },
            "type": "waterfall"
           }
          ]
         },
         "layout": {
          "coloraxis": {
           "colorscale": [
            [
             0,
             "#000011"
            ],
            [
             0.1111111111111111,
             "#000012"
            ],
            [
             0.2222222222222222,
             "#000013"
            ],
            [
             0.3333333333333333,
             "#000014"
            ],
            [
             0.4444444444444444,
             "#000015"
            ],
            [
             0.5555555555555556,
             "#000016"
            ],
            [
             0.6666666666666666,
             "#000017"
            ],
            [
             0.7777777777777778,
             "#000018"
            ],
            [
             0.8888888888888888,
             "#000019"
            ],
            [
             1,
             "#000020"
            ]
           ]
          },
          "colorscale": {
           "diverging": [
            [
             0,
             "#000021"
            ],
            [
             0.1,
             "#000022"
            ],
            [
             0.2,
             "#000023"
            ],
            [
             0.3,
             "#000024"
            ],
            [
             0.4,
             "#000025"
            ],
            [
             0.5,
             "#000026"
            ],
            [
             0.6,
             "#000027"
            ],
            [
             0.7,
             "#000028"
            ],
            [
             0.8,
             "#000029"
            ],
            [
             0.9,
             "#000030"
            ],
            [
             1,
             "#000031"
            ]
           ],
           "sequential": [
            [
             0,
             "#000011"
            ],
            [
             0.1111111111111111,
             "#000012"
            ],
            [
             0.2222222222222222,
             "#000013"
            ],
            [
             0.3333333333333333,
             "#000014"
            ],
            [
             0.4444444444444444,
             "#000015"
            ],
            [
             0.5555555555555556,
             "#000016"
            ],
            [
             0.6666666666666666,
             "#000017"
            ],
            [
             0.7777777777777778,
             "#000018"
            ],
            [
             0.8888888888888888,
             "#000019"
            ],
            [
             1,
             "#000020"
            ]
           ],
           "sequentialminus": [
            [
             0,
             "#000011"
            ],
            [
             0.1111111111111111,
             "#000012"
            ],
            [
             0.2222222222222222,
             "#000013"
            ],
            [
             0.3333333333333333,
             "#000014"
            ],
            [
             0.4444444444444444,
             "#000015"
            ],
            [
             0.5555555555555556,
             "#000016"
            ],
            [
             0.6666666666666666,
             "#000017"
            ],
            [
             0.7777777777777778,
             "#000018"
            ],
            [
             0.8888888888888888,
             "#000019"
            ],
            [
             1,
             "#000020"
            ]
           ]
          },
          "colorway": [
           "#000001",
           "#000002",
           "#000003",
           "#000004",
           "#000005",
           "#000006",
           "#000007",
           "#000008",
           "#000009",
           "#000010"
          ]
         }
        },
        "width": 700,
        "xaxis": {
         "anchor": "y",
         "domain": [
          0,
          1
         ],
         "title": {
          "text": "DevType"
         }
        },
        "yaxis": {
         "anchor": "x",
         "domain": [
          0,
          1
         ],
         "title": {
          "text": "Average CompTotal"
         }
        }
       }
      }
     },
     "metadata": {},
     "output_type": "display_data"
    }
   ],
   "source": [
    "plot_comparison_plotly(df2021,'DevType','CompTotal',10,450,700)"
   ]
  },
  {
   "cell_type": "code",
   "execution_count": 244,
   "metadata": {},
   "outputs": [
    {
     "data": {
      "application/vnd.plotly.v1+json": {
       "config": {
        "plotlyServerURL": "https://plot.ly"
       },
       "data": [
        {
         "alignmentgroup": "True",
         "hovertemplate": "Country=%{y}<br>Average Salary in US$ (Median)=%{x}<extra></extra>",
         "legendgroup": "Norway",
         "marker": {
          "color": "rgb(141,211,199)",
          "pattern": {
           "shape": ""
          }
         },
         "name": "Norway",
         "offsetgroup": "Norway",
         "orientation": "h",
         "showlegend": true,
         "textposition": "auto",
         "type": "bar",
         "x": [
          570000
         ],
         "xaxis": "x",
         "y": [
          "Norway"
         ],
         "yaxis": "y"
        },
        {
         "alignmentgroup": "True",
         "hovertemplate": "Country=%{y}<br>Average Salary in US$ (Median)=%{x}<extra></extra>",
         "legendgroup": "Iceland",
         "marker": {
          "color": "rgb(255,255,179)",
          "pattern": {
           "shape": ""
          }
         },
         "name": "Iceland",
         "offsetgroup": "Iceland",
         "orientation": "h",
         "showlegend": true,
         "textposition": "auto",
         "type": "bar",
         "x": [
          501480.83391628374
         ],
         "xaxis": "x",
         "y": [
          "Iceland"
         ],
         "yaxis": "y"
        },
        {
         "alignmentgroup": "True",
         "hovertemplate": "Country=%{y}<br>Average Salary in US$ (Median)=%{x}<extra></extra>",
         "legendgroup": "Kazakhstan",
         "marker": {
          "color": "rgb(190,186,218)",
          "pattern": {
           "shape": ""
          }
         },
         "name": "Kazakhstan",
         "offsetgroup": "Kazakhstan",
         "orientation": "h",
         "showlegend": true,
         "textposition": "auto",
         "type": "bar",
         "x": [
          420000
         ],
         "xaxis": "x",
         "y": [
          "Kazakhstan"
         ],
         "yaxis": "y"
        },
        {
         "alignmentgroup": "True",
         "hovertemplate": "Country=%{y}<br>Average Salary in US$ (Median)=%{x}<extra></extra>",
         "legendgroup": "Côte d'Ivoire",
         "marker": {
          "color": "rgb(251,128,114)",
          "pattern": {
           "shape": ""
          }
         },
         "name": "Côte d'Ivoire",
         "offsetgroup": "Côte d'Ivoire",
         "orientation": "h",
         "showlegend": true,
         "textposition": "auto",
         "type": "bar",
         "x": [
          301480.83391628374
         ],
         "xaxis": "x",
         "y": [
          "Côte d'Ivoire"
         ],
         "yaxis": "y"
        },
        {
         "alignmentgroup": "True",
         "hovertemplate": "Country=%{y}<br>Average Salary in US$ (Median)=%{x}<extra></extra>",
         "legendgroup": "Cameroon",
         "marker": {
          "color": "rgb(128,177,211)",
          "pattern": {
           "shape": ""
          }
         },
         "name": "Cameroon",
         "offsetgroup": "Cameroon",
         "orientation": "h",
         "showlegend": true,
         "textposition": "auto",
         "type": "bar",
         "x": [
          151480.83391628374
         ],
         "xaxis": "x",
         "y": [
          "Cameroon"
         ],
         "yaxis": "y"
        },
        {
         "alignmentgroup": "True",
         "hovertemplate": "Country=%{y}<br>Average Salary in US$ (Median)=%{x}<extra></extra>",
         "legendgroup": "The former Yugoslav Republic of Macedonia",
         "marker": {
          "color": "rgb(253,180,98)",
          "pattern": {
           "shape": ""
          }
         },
         "name": "The former Yugoslav Republic of Macedonia",
         "offsetgroup": "The former Yugoslav Republic of Macedonia",
         "orientation": "h",
         "showlegend": true,
         "textposition": "auto",
         "type": "bar",
         "x": [
          111480.83391628375
         ],
         "xaxis": "x",
         "y": [
          "The former Yugoslav Republic of Macedonia"
         ],
         "yaxis": "y"
        },
        {
         "alignmentgroup": "True",
         "hovertemplate": "Country=%{y}<br>Average Salary in US$ (Median)=%{x}<extra></extra>",
         "legendgroup": "Zambia",
         "marker": {
          "color": "rgb(179,222,105)",
          "pattern": {
           "shape": ""
          }
         },
         "name": "Zambia",
         "offsetgroup": "Zambia",
         "orientation": "h",
         "showlegend": true,
         "textposition": "auto",
         "type": "bar",
         "x": [
          105000
         ],
         "xaxis": "x",
         "y": [
          "Zambia"
         ],
         "yaxis": "y"
        },
        {
         "alignmentgroup": "True",
         "hovertemplate": "Country=%{y}<br>Average Salary in US$ (Median)=%{x}<extra></extra>",
         "legendgroup": "Myanmar",
         "marker": {
          "color": "rgb(252,205,229)",
          "pattern": {
           "shape": ""
          }
         },
         "name": "Myanmar",
         "offsetgroup": "Myanmar",
         "orientation": "h",
         "showlegend": true,
         "textposition": "auto",
         "type": "bar",
         "x": [
          102961.6678325675
         ],
         "xaxis": "x",
         "y": [
          "Myanmar"
         ],
         "yaxis": "y"
        },
        {
         "alignmentgroup": "True",
         "hovertemplate": "Country=%{y}<br>Average Salary in US$ (Median)=%{x}<extra></extra>",
         "legendgroup": "Paraguay",
         "marker": {
          "color": "rgb(217,217,217)",
          "pattern": {
           "shape": ""
          }
         },
         "name": "Paraguay",
         "offsetgroup": "Paraguay",
         "orientation": "h",
         "showlegend": true,
         "textposition": "auto",
         "type": "bar",
         "x": [
          102961.6678325675
         ],
         "xaxis": "x",
         "y": [
          "Paraguay"
         ],
         "yaxis": "y"
        },
        {
         "alignmentgroup": "True",
         "hovertemplate": "Country=%{y}<br>Average Salary in US$ (Median)=%{x}<extra></extra>",
         "legendgroup": "Pakistan",
         "marker": {
          "color": "rgb(188,128,189)",
          "pattern": {
           "shape": ""
          }
         },
         "name": "Pakistan",
         "offsetgroup": "Pakistan",
         "orientation": "h",
         "showlegend": true,
         "textposition": "auto",
         "type": "bar",
         "x": [
          102961.6678325675
         ],
         "xaxis": "x",
         "y": [
          "Pakistan"
         ],
         "yaxis": "y"
        }
       ],
       "layout": {
        "barmode": "relative",
        "legend": {
         "title": {
          "text": "Country"
         },
         "tracegroupgap": 0
        },
        "template": {
         "data": {
          "candlestick": [
           {
            "decreasing": {
             "line": {
              "color": "#000033"
             }
            },
            "increasing": {
             "line": {
              "color": "#000032"
             }
            },
            "type": "candlestick"
           }
          ],
          "contour": [
           {
            "colorscale": [
             [
              0,
              "#000011"
             ],
             [
              0.1111111111111111,
              "#000012"
             ],
             [
              0.2222222222222222,
              "#000013"
             ],
             [
              0.3333333333333333,
              "#000014"
             ],
             [
              0.4444444444444444,
              "#000015"
             ],
             [
              0.5555555555555556,
              "#000016"
             ],
             [
              0.6666666666666666,
              "#000017"
             ],
             [
              0.7777777777777778,
              "#000018"
             ],
             [
              0.8888888888888888,
              "#000019"
             ],
             [
              1,
              "#000020"
             ]
            ],
            "type": "contour"
           }
          ],
          "contourcarpet": [
           {
            "colorscale": [
             [
              0,
              "#000011"
             ],
             [
              0.1111111111111111,
              "#000012"
             ],
             [
              0.2222222222222222,
              "#000013"
             ],
             [
              0.3333333333333333,
              "#000014"
             ],
             [
              0.4444444444444444,
              "#000015"
             ],
             [
              0.5555555555555556,
              "#000016"
             ],
             [
              0.6666666666666666,
              "#000017"
             ],
             [
              0.7777777777777778,
              "#000018"
             ],
             [
              0.8888888888888888,
              "#000019"
             ],
             [
              1,
              "#000020"
             ]
            ],
            "type": "contourcarpet"
           }
          ],
          "heatmap": [
           {
            "colorscale": [
             [
              0,
              "#000011"
             ],
             [
              0.1111111111111111,
              "#000012"
             ],
             [
              0.2222222222222222,
              "#000013"
             ],
             [
              0.3333333333333333,
              "#000014"
             ],
             [
              0.4444444444444444,
              "#000015"
             ],
             [
              0.5555555555555556,
              "#000016"
             ],
             [
              0.6666666666666666,
              "#000017"
             ],
             [
              0.7777777777777778,
              "#000018"
             ],
             [
              0.8888888888888888,
              "#000019"
             ],
             [
              1,
              "#000020"
             ]
            ],
            "type": "heatmap"
           }
          ],
          "histogram2d": [
           {
            "colorscale": [
             [
              0,
              "#000011"
             ],
             [
              0.1111111111111111,
              "#000012"
             ],
             [
              0.2222222222222222,
              "#000013"
             ],
             [
              0.3333333333333333,
              "#000014"
             ],
             [
              0.4444444444444444,
              "#000015"
             ],
             [
              0.5555555555555556,
              "#000016"
             ],
             [
              0.6666666666666666,
              "#000017"
             ],
             [
              0.7777777777777778,
              "#000018"
             ],
             [
              0.8888888888888888,
              "#000019"
             ],
             [
              1,
              "#000020"
             ]
            ],
            "type": "histogram2d"
           }
          ],
          "icicle": [
           {
            "textfont": {
             "color": "white"
            },
            "type": "icicle"
           }
          ],
          "sankey": [
           {
            "textfont": {
             "color": "#000036"
            },
            "type": "sankey"
           }
          ],
          "scatter": [
           {
            "marker": {
             "line": {
              "width": 0
             }
            },
            "type": "scatter"
           }
          ],
          "table": [
           {
            "cells": {
             "fill": {
              "color": "#000038"
             },
             "font": {
              "color": "#000037"
             },
             "line": {
              "color": "#000039"
             }
            },
            "header": {
             "fill": {
              "color": "#000040"
             },
             "font": {
              "color": "#000036"
             },
             "line": {
              "color": "#000039"
             }
            },
            "type": "table"
           }
          ],
          "waterfall": [
           {
            "connector": {
             "line": {
              "color": "#000036",
              "width": 2
             }
            },
            "decreasing": {
             "marker": {
              "color": "#000033"
             }
            },
            "increasing": {
             "marker": {
              "color": "#000032"
             }
            },
            "totals": {
             "marker": {
              "color": "#000034"
             }
            },
            "type": "waterfall"
           }
          ]
         },
         "layout": {
          "coloraxis": {
           "colorscale": [
            [
             0,
             "#000011"
            ],
            [
             0.1111111111111111,
             "#000012"
            ],
            [
             0.2222222222222222,
             "#000013"
            ],
            [
             0.3333333333333333,
             "#000014"
            ],
            [
             0.4444444444444444,
             "#000015"
            ],
            [
             0.5555555555555556,
             "#000016"
            ],
            [
             0.6666666666666666,
             "#000017"
            ],
            [
             0.7777777777777778,
             "#000018"
            ],
            [
             0.8888888888888888,
             "#000019"
            ],
            [
             1,
             "#000020"
            ]
           ]
          },
          "colorscale": {
           "diverging": [
            [
             0,
             "#000021"
            ],
            [
             0.1,
             "#000022"
            ],
            [
             0.2,
             "#000023"
            ],
            [
             0.3,
             "#000024"
            ],
            [
             0.4,
             "#000025"
            ],
            [
             0.5,
             "#000026"
            ],
            [
             0.6,
             "#000027"
            ],
            [
             0.7,
             "#000028"
            ],
            [
             0.8,
             "#000029"
            ],
            [
             0.9,
             "#000030"
            ],
            [
             1,
             "#000031"
            ]
           ],
           "sequential": [
            [
             0,
             "#000011"
            ],
            [
             0.1111111111111111,
             "#000012"
            ],
            [
             0.2222222222222222,
             "#000013"
            ],
            [
             0.3333333333333333,
             "#000014"
            ],
            [
             0.4444444444444444,
             "#000015"
            ],
            [
             0.5555555555555556,
             "#000016"
            ],
            [
             0.6666666666666666,
             "#000017"
            ],
            [
             0.7777777777777778,
             "#000018"
            ],
            [
             0.8888888888888888,
             "#000019"
            ],
            [
             1,
             "#000020"
            ]
           ],
           "sequentialminus": [
            [
             0,
             "#000011"
            ],
            [
             0.1111111111111111,
             "#000012"
            ],
            [
             0.2222222222222222,
             "#000013"
            ],
            [
             0.3333333333333333,
             "#000014"
            ],
            [
             0.4444444444444444,
             "#000015"
            ],
            [
             0.5555555555555556,
             "#000016"
            ],
            [
             0.6666666666666666,
             "#000017"
            ],
            [
             0.7777777777777778,
             "#000018"
            ],
            [
             0.8888888888888888,
             "#000019"
            ],
            [
             1,
             "#000020"
            ]
           ]
          },
          "colorway": [
           "#000001",
           "#000002",
           "#000003",
           "#000004",
           "#000005",
           "#000006",
           "#000007",
           "#000008",
           "#000009",
           "#000010"
          ]
         }
        },
        "title": {
         "text": "Top 10 highest paying data scientist countries",
         "x": 0.5,
         "xanchor": "center",
         "yanchor": "top"
        },
        "xaxis": {
         "anchor": "y",
         "domain": [
          0,
          1
         ],
         "title": {
          "text": "Average Salary in US$ (Median)"
         }
        },
        "yaxis": {
         "anchor": "x",
         "categoryarray": [
          "Pakistan",
          "Paraguay",
          "Myanmar",
          "Zambia",
          "The former Yugoslav Republic of Macedonia",
          "Cameroon",
          "Côte d'Ivoire",
          "Kazakhstan",
          "Iceland",
          "Norway"
         ],
         "categoryorder": "total ascending",
         "domain": [
          0,
          1
         ],
         "title": {
          "text": "Country"
         }
        }
       }
      }
     },
     "metadata": {},
     "output_type": "display_data"
    }
   ],
   "source": [
    "fig = highest_paying_countries(df2021, salary_cap=1000000, top_n=10, name='Median')\n",
    "fig.show()"
   ]
  },
  {
   "cell_type": "code",
   "execution_count": 245,
   "metadata": {},
   "outputs": [
    {
     "data": {
      "application/vnd.plotly.v1+json": {
       "config": {
        "plotlyServerURL": "https://plot.ly"
       },
       "data": [
        {
         "alignmentgroup": "True",
         "hovertemplate": "Country=%{y}<br>Average Salary in US$ (Median)=%{x}<extra></extra>",
         "legendgroup": "Norway",
         "marker": {
          "color": "rgb(141,211,199)",
          "pattern": {
           "shape": ""
          }
         },
         "name": "Norway",
         "offsetgroup": "Norway",
         "orientation": "h",
         "showlegend": true,
         "textposition": "auto",
         "type": "bar",
         "x": [
          570000
         ],
         "xaxis": "x",
         "y": [
          "Norway"
         ],
         "yaxis": "y"
        },
        {
         "alignmentgroup": "True",
         "hovertemplate": "Country=%{y}<br>Average Salary in US$ (Median)=%{x}<extra></extra>",
         "legendgroup": "Iceland",
         "marker": {
          "color": "rgb(255,255,179)",
          "pattern": {
           "shape": ""
          }
         },
         "name": "Iceland",
         "offsetgroup": "Iceland",
         "orientation": "h",
         "showlegend": true,
         "textposition": "auto",
         "type": "bar",
         "x": [
          501480.83391628374
         ],
         "xaxis": "x",
         "y": [
          "Iceland"
         ],
         "yaxis": "y"
        },
        {
         "alignmentgroup": "True",
         "hovertemplate": "Country=%{y}<br>Average Salary in US$ (Median)=%{x}<extra></extra>",
         "legendgroup": "Kazakhstan",
         "marker": {
          "color": "rgb(190,186,218)",
          "pattern": {
           "shape": ""
          }
         },
         "name": "Kazakhstan",
         "offsetgroup": "Kazakhstan",
         "orientation": "h",
         "showlegend": true,
         "textposition": "auto",
         "type": "bar",
         "x": [
          420000
         ],
         "xaxis": "x",
         "y": [
          "Kazakhstan"
         ],
         "yaxis": "y"
        },
        {
         "alignmentgroup": "True",
         "hovertemplate": "Country=%{y}<br>Average Salary in US$ (Median)=%{x}<extra></extra>",
         "legendgroup": "Côte d'Ivoire",
         "marker": {
          "color": "rgb(251,128,114)",
          "pattern": {
           "shape": ""
          }
         },
         "name": "Côte d'Ivoire",
         "offsetgroup": "Côte d'Ivoire",
         "orientation": "h",
         "showlegend": true,
         "textposition": "auto",
         "type": "bar",
         "x": [
          301480.83391628374
         ],
         "xaxis": "x",
         "y": [
          "Côte d'Ivoire"
         ],
         "yaxis": "y"
        },
        {
         "alignmentgroup": "True",
         "hovertemplate": "Country=%{y}<br>Average Salary in US$ (Median)=%{x}<extra></extra>",
         "legendgroup": "Cameroon",
         "marker": {
          "color": "rgb(128,177,211)",
          "pattern": {
           "shape": ""
          }
         },
         "name": "Cameroon",
         "offsetgroup": "Cameroon",
         "orientation": "h",
         "showlegend": true,
         "textposition": "auto",
         "type": "bar",
         "x": [
          151480.83391628374
         ],
         "xaxis": "x",
         "y": [
          "Cameroon"
         ],
         "yaxis": "y"
        },
        {
         "alignmentgroup": "True",
         "hovertemplate": "Country=%{y}<br>Average Salary in US$ (Median)=%{x}<extra></extra>",
         "legendgroup": "The former Yugoslav Republic of Macedonia",
         "marker": {
          "color": "rgb(253,180,98)",
          "pattern": {
           "shape": ""
          }
         },
         "name": "The former Yugoslav Republic of Macedonia",
         "offsetgroup": "The former Yugoslav Republic of Macedonia",
         "orientation": "h",
         "showlegend": true,
         "textposition": "auto",
         "type": "bar",
         "x": [
          111480.83391628375
         ],
         "xaxis": "x",
         "y": [
          "The former Yugoslav Republic of Macedonia"
         ],
         "yaxis": "y"
        },
        {
         "alignmentgroup": "True",
         "hovertemplate": "Country=%{y}<br>Average Salary in US$ (Median)=%{x}<extra></extra>",
         "legendgroup": "Zambia",
         "marker": {
          "color": "rgb(179,222,105)",
          "pattern": {
           "shape": ""
          }
         },
         "name": "Zambia",
         "offsetgroup": "Zambia",
         "orientation": "h",
         "showlegend": true,
         "textposition": "auto",
         "type": "bar",
         "x": [
          105000
         ],
         "xaxis": "x",
         "y": [
          "Zambia"
         ],
         "yaxis": "y"
        },
        {
         "alignmentgroup": "True",
         "hovertemplate": "Country=%{y}<br>Average Salary in US$ (Median)=%{x}<extra></extra>",
         "legendgroup": "Myanmar",
         "marker": {
          "color": "rgb(252,205,229)",
          "pattern": {
           "shape": ""
          }
         },
         "name": "Myanmar",
         "offsetgroup": "Myanmar",
         "orientation": "h",
         "showlegend": true,
         "textposition": "auto",
         "type": "bar",
         "x": [
          102961.6678325675
         ],
         "xaxis": "x",
         "y": [
          "Myanmar"
         ],
         "yaxis": "y"
        },
        {
         "alignmentgroup": "True",
         "hovertemplate": "Country=%{y}<br>Average Salary in US$ (Median)=%{x}<extra></extra>",
         "legendgroup": "Paraguay",
         "marker": {
          "color": "rgb(217,217,217)",
          "pattern": {
           "shape": ""
          }
         },
         "name": "Paraguay",
         "offsetgroup": "Paraguay",
         "orientation": "h",
         "showlegend": true,
         "textposition": "auto",
         "type": "bar",
         "x": [
          102961.6678325675
         ],
         "xaxis": "x",
         "y": [
          "Paraguay"
         ],
         "yaxis": "y"
        },
        {
         "alignmentgroup": "True",
         "hovertemplate": "Country=%{y}<br>Average Salary in US$ (Median)=%{x}<extra></extra>",
         "legendgroup": "Pakistan",
         "marker": {
          "color": "rgb(188,128,189)",
          "pattern": {
           "shape": ""
          }
         },
         "name": "Pakistan",
         "offsetgroup": "Pakistan",
         "orientation": "h",
         "showlegend": true,
         "textposition": "auto",
         "type": "bar",
         "x": [
          102961.6678325675
         ],
         "xaxis": "x",
         "y": [
          "Pakistan"
         ],
         "yaxis": "y"
        }
       ],
       "layout": {
        "barmode": "relative",
        "legend": {
         "title": {
          "text": "Country"
         },
         "tracegroupgap": 0
        },
        "template": {
         "data": {
          "candlestick": [
           {
            "decreasing": {
             "line": {
              "color": "#000033"
             }
            },
            "increasing": {
             "line": {
              "color": "#000032"
             }
            },
            "type": "candlestick"
           }
          ],
          "contour": [
           {
            "colorscale": [
             [
              0,
              "#000011"
             ],
             [
              0.1111111111111111,
              "#000012"
             ],
             [
              0.2222222222222222,
              "#000013"
             ],
             [
              0.3333333333333333,
              "#000014"
             ],
             [
              0.4444444444444444,
              "#000015"
             ],
             [
              0.5555555555555556,
              "#000016"
             ],
             [
              0.6666666666666666,
              "#000017"
             ],
             [
              0.7777777777777778,
              "#000018"
             ],
             [
              0.8888888888888888,
              "#000019"
             ],
             [
              1,
              "#000020"
             ]
            ],
            "type": "contour"
           }
          ],
          "contourcarpet": [
           {
            "colorscale": [
             [
              0,
              "#000011"
             ],
             [
              0.1111111111111111,
              "#000012"
             ],
             [
              0.2222222222222222,
              "#000013"
             ],
             [
              0.3333333333333333,
              "#000014"
             ],
             [
              0.4444444444444444,
              "#000015"
             ],
             [
              0.5555555555555556,
              "#000016"
             ],
             [
              0.6666666666666666,
              "#000017"
             ],
             [
              0.7777777777777778,
              "#000018"
             ],
             [
              0.8888888888888888,
              "#000019"
             ],
             [
              1,
              "#000020"
             ]
            ],
            "type": "contourcarpet"
           }
          ],
          "heatmap": [
           {
            "colorscale": [
             [
              0,
              "#000011"
             ],
             [
              0.1111111111111111,
              "#000012"
             ],
             [
              0.2222222222222222,
              "#000013"
             ],
             [
              0.3333333333333333,
              "#000014"
             ],
             [
              0.4444444444444444,
              "#000015"
             ],
             [
              0.5555555555555556,
              "#000016"
             ],
             [
              0.6666666666666666,
              "#000017"
             ],
             [
              0.7777777777777778,
              "#000018"
             ],
             [
              0.8888888888888888,
              "#000019"
             ],
             [
              1,
              "#000020"
             ]
            ],
            "type": "heatmap"
           }
          ],
          "histogram2d": [
           {
            "colorscale": [
             [
              0,
              "#000011"
             ],
             [
              0.1111111111111111,
              "#000012"
             ],
             [
              0.2222222222222222,
              "#000013"
             ],
             [
              0.3333333333333333,
              "#000014"
             ],
             [
              0.4444444444444444,
              "#000015"
             ],
             [
              0.5555555555555556,
              "#000016"
             ],
             [
              0.6666666666666666,
              "#000017"
             ],
             [
              0.7777777777777778,
              "#000018"
             ],
             [
              0.8888888888888888,
              "#000019"
             ],
             [
              1,
              "#000020"
             ]
            ],
            "type": "histogram2d"
           }
          ],
          "icicle": [
           {
            "textfont": {
             "color": "white"
            },
            "type": "icicle"
           }
          ],
          "sankey": [
           {
            "textfont": {
             "color": "#000036"
            },
            "type": "sankey"
           }
          ],
          "scatter": [
           {
            "marker": {
             "line": {
              "width": 0
             }
            },
            "type": "scatter"
           }
          ],
          "table": [
           {
            "cells": {
             "fill": {
              "color": "#000038"
             },
             "font": {
              "color": "#000037"
             },
             "line": {
              "color": "#000039"
             }
            },
            "header": {
             "fill": {
              "color": "#000040"
             },
             "font": {
              "color": "#000036"
             },
             "line": {
              "color": "#000039"
             }
            },
            "type": "table"
           }
          ],
          "waterfall": [
           {
            "connector": {
             "line": {
              "color": "#000036",
              "width": 2
             }
            },
            "decreasing": {
             "marker": {
              "color": "#000033"
             }
            },
            "increasing": {
             "marker": {
              "color": "#000032"
             }
            },
            "totals": {
             "marker": {
              "color": "#000034"
             }
            },
            "type": "waterfall"
           }
          ]
         },
         "layout": {
          "coloraxis": {
           "colorscale": [
            [
             0,
             "#000011"
            ],
            [
             0.1111111111111111,
             "#000012"
            ],
            [
             0.2222222222222222,
             "#000013"
            ],
            [
             0.3333333333333333,
             "#000014"
            ],
            [
             0.4444444444444444,
             "#000015"
            ],
            [
             0.5555555555555556,
             "#000016"
            ],
            [
             0.6666666666666666,
             "#000017"
            ],
            [
             0.7777777777777778,
             "#000018"
            ],
            [
             0.8888888888888888,
             "#000019"
            ],
            [
             1,
             "#000020"
            ]
           ]
          },
          "colorscale": {
           "diverging": [
            [
             0,
             "#000021"
            ],
            [
             0.1,
             "#000022"
            ],
            [
             0.2,
             "#000023"
            ],
            [
             0.3,
             "#000024"
            ],
            [
             0.4,
             "#000025"
            ],
            [
             0.5,
             "#000026"
            ],
            [
             0.6,
             "#000027"
            ],
            [
             0.7,
             "#000028"
            ],
            [
             0.8,
             "#000029"
            ],
            [
             0.9,
             "#000030"
            ],
            [
             1,
             "#000031"
            ]
           ],
           "sequential": [
            [
             0,
             "#000011"
            ],
            [
             0.1111111111111111,
             "#000012"
            ],
            [
             0.2222222222222222,
             "#000013"
            ],
            [
             0.3333333333333333,
             "#000014"
            ],
            [
             0.4444444444444444,
             "#000015"
            ],
            [
             0.5555555555555556,
             "#000016"
            ],
            [
             0.6666666666666666,
             "#000017"
            ],
            [
             0.7777777777777778,
             "#000018"
            ],
            [
             0.8888888888888888,
             "#000019"
            ],
            [
             1,
             "#000020"
            ]
           ],
           "sequentialminus": [
            [
             0,
             "#000011"
            ],
            [
             0.1111111111111111,
             "#000012"
            ],
            [
             0.2222222222222222,
             "#000013"
            ],
            [
             0.3333333333333333,
             "#000014"
            ],
            [
             0.4444444444444444,
             "#000015"
            ],
            [
             0.5555555555555556,
             "#000016"
            ],
            [
             0.6666666666666666,
             "#000017"
            ],
            [
             0.7777777777777778,
             "#000018"
            ],
            [
             0.8888888888888888,
             "#000019"
            ],
            [
             1,
             "#000020"
            ]
           ]
          },
          "colorway": [
           "#000001",
           "#000002",
           "#000003",
           "#000004",
           "#000005",
           "#000006",
           "#000007",
           "#000008",
           "#000009",
           "#000010"
          ]
         }
        },
        "title": {
         "text": "Top 10 highest paying data scientist countries",
         "x": 0.5,
         "xanchor": "center",
         "yanchor": "top"
        },
        "xaxis": {
         "anchor": "y",
         "domain": [
          0,
          1
         ],
         "title": {
          "text": "Average Salary in US$ (Median)"
         }
        },
        "yaxis": {
         "anchor": "x",
         "categoryarray": [
          "Pakistan",
          "Paraguay",
          "Myanmar",
          "Zambia",
          "The former Yugoslav Republic of Macedonia",
          "Cameroon",
          "Côte d'Ivoire",
          "Kazakhstan",
          "Iceland",
          "Norway"
         ],
         "categoryorder": "total ascending",
         "domain": [
          0,
          1
         ],
         "title": {
          "text": "Country"
         }
        }
       }
      }
     },
     "metadata": {},
     "output_type": "display_data"
    }
   ],
   "source": [
    "highest_paying_countries(df2021, salary_cap=1000000, top_n=10, name='Median')"
   ]
  },
  {
   "cell_type": "code",
   "execution_count": 246,
   "metadata": {},
   "outputs": [
    {
     "data": {
      "application/vnd.plotly.v1+json": {
       "config": {
        "plotlyServerURL": "https://plot.ly"
       },
       "data": [
        {
         "hole": 0.3,
         "hoverinfo": "label+percent+name",
         "labels": [
          "Windows",
          "Linux-based",
          "MacOS",
          "Windows Subsystem for Linux (WSL)",
          "Other (please specify):",
          "BSD"
         ],
         "marker": {
          "colors": [
           "#636EFA",
           "#EF553B",
           "#00CC96",
           "#AB63FA",
           "#FFA15A",
           "#19D3F3",
           "#FF6692",
           "#B6E880",
           "#FF97FF",
           "#FECB52"
          ],
          "line": {
           "color": "#000000",
           "width": 2
          }
         },
         "textfont": {
          "size": 14
         },
         "textinfo": "percent+label",
         "textposition": "inside",
         "type": "pie",
         "values": [
          37819,
          21121,
          21023,
          2749,
          576,
          147
         ]
        }
       ],
       "layout": {
        "height": 700,
        "legend": {
         "font": {
          "size": 12
         },
         "traceorder": "normal",
         "x": 1,
         "y": 0.5
        },
        "showlegend": true,
        "template": {
         "data": {
          "candlestick": [
           {
            "decreasing": {
             "line": {
              "color": "#000033"
             }
            },
            "increasing": {
             "line": {
              "color": "#000032"
             }
            },
            "type": "candlestick"
           }
          ],
          "contour": [
           {
            "colorscale": [
             [
              0,
              "#000011"
             ],
             [
              0.1111111111111111,
              "#000012"
             ],
             [
              0.2222222222222222,
              "#000013"
             ],
             [
              0.3333333333333333,
              "#000014"
             ],
             [
              0.4444444444444444,
              "#000015"
             ],
             [
              0.5555555555555556,
              "#000016"
             ],
             [
              0.6666666666666666,
              "#000017"
             ],
             [
              0.7777777777777778,
              "#000018"
             ],
             [
              0.8888888888888888,
              "#000019"
             ],
             [
              1,
              "#000020"
             ]
            ],
            "type": "contour"
           }
          ],
          "contourcarpet": [
           {
            "colorscale": [
             [
              0,
              "#000011"
             ],
             [
              0.1111111111111111,
              "#000012"
             ],
             [
              0.2222222222222222,
              "#000013"
             ],
             [
              0.3333333333333333,
              "#000014"
             ],
             [
              0.4444444444444444,
              "#000015"
             ],
             [
              0.5555555555555556,
              "#000016"
             ],
             [
              0.6666666666666666,
              "#000017"
             ],
             [
              0.7777777777777778,
              "#000018"
             ],
             [
              0.8888888888888888,
              "#000019"
             ],
             [
              1,
              "#000020"
             ]
            ],
            "type": "contourcarpet"
           }
          ],
          "heatmap": [
           {
            "colorscale": [
             [
              0,
              "#000011"
             ],
             [
              0.1111111111111111,
              "#000012"
             ],
             [
              0.2222222222222222,
              "#000013"
             ],
             [
              0.3333333333333333,
              "#000014"
             ],
             [
              0.4444444444444444,
              "#000015"
             ],
             [
              0.5555555555555556,
              "#000016"
             ],
             [
              0.6666666666666666,
              "#000017"
             ],
             [
              0.7777777777777778,
              "#000018"
             ],
             [
              0.8888888888888888,
              "#000019"
             ],
             [
              1,
              "#000020"
             ]
            ],
            "type": "heatmap"
           }
          ],
          "histogram2d": [
           {
            "colorscale": [
             [
              0,
              "#000011"
             ],
             [
              0.1111111111111111,
              "#000012"
             ],
             [
              0.2222222222222222,
              "#000013"
             ],
             [
              0.3333333333333333,
              "#000014"
             ],
             [
              0.4444444444444444,
              "#000015"
             ],
             [
              0.5555555555555556,
              "#000016"
             ],
             [
              0.6666666666666666,
              "#000017"
             ],
             [
              0.7777777777777778,
              "#000018"
             ],
             [
              0.8888888888888888,
              "#000019"
             ],
             [
              1,
              "#000020"
             ]
            ],
            "type": "histogram2d"
           }
          ],
          "icicle": [
           {
            "textfont": {
             "color": "white"
            },
            "type": "icicle"
           }
          ],
          "sankey": [
           {
            "textfont": {
             "color": "#000036"
            },
            "type": "sankey"
           }
          ],
          "scatter": [
           {
            "marker": {
             "line": {
              "width": 0
             }
            },
            "type": "scatter"
           }
          ],
          "table": [
           {
            "cells": {
             "fill": {
              "color": "#000038"
             },
             "font": {
              "color": "#000037"
             },
             "line": {
              "color": "#000039"
             }
            },
            "header": {
             "fill": {
              "color": "#000040"
             },
             "font": {
              "color": "#000036"
             },
             "line": {
              "color": "#000039"
             }
            },
            "type": "table"
           }
          ],
          "waterfall": [
           {
            "connector": {
             "line": {
              "color": "#000036",
              "width": 2
             }
            },
            "decreasing": {
             "marker": {
              "color": "#000033"
             }
            },
            "increasing": {
             "marker": {
              "color": "#000032"
             }
            },
            "totals": {
             "marker": {
              "color": "#000034"
             }
            },
            "type": "waterfall"
           }
          ]
         },
         "layout": {
          "coloraxis": {
           "colorscale": [
            [
             0,
             "#000011"
            ],
            [
             0.1111111111111111,
             "#000012"
            ],
            [
             0.2222222222222222,
             "#000013"
            ],
            [
             0.3333333333333333,
             "#000014"
            ],
            [
             0.4444444444444444,
             "#000015"
            ],
            [
             0.5555555555555556,
             "#000016"
            ],
            [
             0.6666666666666666,
             "#000017"
            ],
            [
             0.7777777777777778,
             "#000018"
            ],
            [
             0.8888888888888888,
             "#000019"
            ],
            [
             1,
             "#000020"
            ]
           ]
          },
          "colorscale": {
           "diverging": [
            [
             0,
             "#000021"
            ],
            [
             0.1,
             "#000022"
            ],
            [
             0.2,
             "#000023"
            ],
            [
             0.3,
             "#000024"
            ],
            [
             0.4,
             "#000025"
            ],
            [
             0.5,
             "#000026"
            ],
            [
             0.6,
             "#000027"
            ],
            [
             0.7,
             "#000028"
            ],
            [
             0.8,
             "#000029"
            ],
            [
             0.9,
             "#000030"
            ],
            [
             1,
             "#000031"
            ]
           ],
           "sequential": [
            [
             0,
             "#000011"
            ],
            [
             0.1111111111111111,
             "#000012"
            ],
            [
             0.2222222222222222,
             "#000013"
            ],
            [
             0.3333333333333333,
             "#000014"
            ],
            [
             0.4444444444444444,
             "#000015"
            ],
            [
             0.5555555555555556,
             "#000016"
            ],
            [
             0.6666666666666666,
             "#000017"
            ],
            [
             0.7777777777777778,
             "#000018"
            ],
            [
             0.8888888888888888,
             "#000019"
            ],
            [
             1,
             "#000020"
            ]
           ],
           "sequentialminus": [
            [
             0,
             "#000011"
            ],
            [
             0.1111111111111111,
             "#000012"
            ],
            [
             0.2222222222222222,
             "#000013"
            ],
            [
             0.3333333333333333,
             "#000014"
            ],
            [
             0.4444444444444444,
             "#000015"
            ],
            [
             0.5555555555555556,
             "#000016"
            ],
            [
             0.6666666666666666,
             "#000017"
            ],
            [
             0.7777777777777778,
             "#000018"
            ],
            [
             0.8888888888888888,
             "#000019"
            ],
            [
             1,
             "#000020"
            ]
           ]
          },
          "colorway": [
           "#000001",
           "#000002",
           "#000003",
           "#000004",
           "#000005",
           "#000006",
           "#000007",
           "#000008",
           "#000009",
           "#000010"
          ]
         }
        },
        "title": {
         "text": "Top OpSys Distribution",
         "x": 0.5
        },
        "width": 800
       }
      }
     },
     "metadata": {},
     "output_type": "display_data"
    }
   ],
   "source": [
    "plot_pie_plotly(df2021, 'OpSys', 10, 700, 800)"
   ]
  },
  {
   "cell_type": "code",
   "execution_count": 247,
   "metadata": {},
   "outputs": [
    {
     "data": {
      "application/vnd.plotly.v1+json": {
       "config": {
        "plotlyServerURL": "https://plot.ly"
       },
       "data": [
        {
         "alignmentgroup": "True",
         "hovertemplate": "DevType=%{x}<br>Number of Developers=%{y}<extra></extra>",
         "legendgroup": "Developer, full-stack",
         "marker": {
          "color": "rgb(102, 197, 204)",
          "pattern": {
           "shape": ""
          }
         },
         "name": "Developer, full-stack",
         "offsetgroup": "Developer, full-stack",
         "orientation": "v",
         "showlegend": true,
         "textposition": "auto",
         "type": "bar",
         "x": [
          "Developer, full-stack"
         ],
         "xaxis": "x",
         "y": [
          10781
         ],
         "yaxis": "y"
        },
        {
         "alignmentgroup": "True",
         "hovertemplate": "DevType=%{x}<br>Number of Developers=%{y}<extra></extra>",
         "legendgroup": "Developer, back-end",
         "marker": {
          "color": "rgb(246, 207, 113)",
          "pattern": {
           "shape": ""
          }
         },
         "name": "Developer, back-end",
         "offsetgroup": "Developer, back-end",
         "orientation": "v",
         "showlegend": true,
         "textposition": "auto",
         "type": "bar",
         "x": [
          "Developer, back-end"
         ],
         "xaxis": "x",
         "y": [
          6870
         ],
         "yaxis": "y"
        },
        {
         "alignmentgroup": "True",
         "hovertemplate": "DevType=%{x}<br>Number of Developers=%{y}<extra></extra>",
         "legendgroup": "Developer, front-end",
         "marker": {
          "color": "rgb(248, 156, 116)",
          "pattern": {
           "shape": ""
          }
         },
         "name": "Developer, front-end",
         "offsetgroup": "Developer, front-end",
         "orientation": "v",
         "showlegend": true,
         "textposition": "auto",
         "type": "bar",
         "x": [
          "Developer, front-end"
         ],
         "xaxis": "x",
         "y": [
          2988
         ],
         "yaxis": "y"
        },
        {
         "alignmentgroup": "True",
         "hovertemplate": "DevType=%{x}<br>Number of Developers=%{y}<extra></extra>",
         "legendgroup": "Developer, front-end;Developer, full-stack;Developer, back-end",
         "marker": {
          "color": "rgb(220, 176, 242)",
          "pattern": {
           "shape": ""
          }
         },
         "name": "Developer, front-end;Developer, full-stack;Developer, back-end",
         "offsetgroup": "Developer, front-end;Developer, full-stack;Developer, back-end",
         "orientation": "v",
         "showlegend": true,
         "textposition": "auto",
         "type": "bar",
         "x": [
          "Developer, front-end;Developer, full-stack;Developer, back-end"
         ],
         "xaxis": "x",
         "y": [
          2628
         ],
         "yaxis": "y"
        },
        {
         "alignmentgroup": "True",
         "hovertemplate": "DevType=%{x}<br>Number of Developers=%{y}<extra></extra>",
         "legendgroup": "Developer, full-stack;Developer, back-end",
         "marker": {
          "color": "rgb(135, 197, 95)",
          "pattern": {
           "shape": ""
          }
         },
         "name": "Developer, full-stack;Developer, back-end",
         "offsetgroup": "Developer, full-stack;Developer, back-end",
         "orientation": "v",
         "showlegend": true,
         "textposition": "auto",
         "type": "bar",
         "x": [
          "Developer, full-stack;Developer, back-end"
         ],
         "xaxis": "x",
         "y": [
          2224
         ],
         "yaxis": "y"
        },
        {
         "alignmentgroup": "True",
         "hovertemplate": "DevType=%{x}<br>Number of Developers=%{y}<extra></extra>",
         "legendgroup": "Other (please specify):",
         "marker": {
          "color": "rgb(158, 185, 243)",
          "pattern": {
           "shape": ""
          }
         },
         "name": "Other (please specify):",
         "offsetgroup": "Other (please specify):",
         "orientation": "v",
         "showlegend": true,
         "textposition": "auto",
         "type": "bar",
         "x": [
          "Other (please specify):"
         ],
         "xaxis": "x",
         "y": [
          2208
         ],
         "yaxis": "y"
        },
        {
         "alignmentgroup": "True",
         "hovertemplate": "DevType=%{x}<br>Number of Developers=%{y}<extra></extra>",
         "legendgroup": "Developer, mobile",
         "marker": {
          "color": "rgb(254, 136, 177)",
          "pattern": {
           "shape": ""
          }
         },
         "name": "Developer, mobile",
         "offsetgroup": "Developer, mobile",
         "orientation": "v",
         "showlegend": true,
         "textposition": "auto",
         "type": "bar",
         "x": [
          "Developer, mobile"
         ],
         "xaxis": "x",
         "y": [
          2157
         ],
         "yaxis": "y"
        },
        {
         "alignmentgroup": "True",
         "hovertemplate": "DevType=%{x}<br>Number of Developers=%{y}<extra></extra>",
         "legendgroup": "Developer, front-end;Developer, full-stack",
         "marker": {
          "color": "rgb(201, 219, 116)",
          "pattern": {
           "shape": ""
          }
         },
         "name": "Developer, front-end;Developer, full-stack",
         "offsetgroup": "Developer, front-end;Developer, full-stack",
         "orientation": "v",
         "showlegend": true,
         "textposition": "auto",
         "type": "bar",
         "x": [
          "Developer, front-end;Developer, full-stack"
         ],
         "xaxis": "x",
         "y": [
          1243
         ],
         "yaxis": "y"
        },
        {
         "alignmentgroup": "True",
         "hovertemplate": "DevType=%{x}<br>Number of Developers=%{y}<extra></extra>",
         "legendgroup": "Developer, desktop or enterprise applications",
         "marker": {
          "color": "rgb(139, 224, 164)",
          "pattern": {
           "shape": ""
          }
         },
         "name": "Developer, desktop or enterprise applications",
         "offsetgroup": "Developer, desktop or enterprise applications",
         "orientation": "v",
         "showlegend": true,
         "textposition": "auto",
         "type": "bar",
         "x": [
          "Developer, desktop or enterprise applications"
         ],
         "xaxis": "x",
         "y": [
          1122
         ],
         "yaxis": "y"
        },
        {
         "alignmentgroup": "True",
         "hovertemplate": "DevType=%{x}<br>Number of Developers=%{y}<extra></extra>",
         "legendgroup": "Student",
         "marker": {
          "color": "rgb(180, 151, 231)",
          "pattern": {
           "shape": ""
          }
         },
         "name": "Student",
         "offsetgroup": "Student",
         "orientation": "v",
         "showlegend": true,
         "textposition": "auto",
         "type": "bar",
         "x": [
          "Student"
         ],
         "xaxis": "x",
         "y": [
          1063
         ],
         "yaxis": "y"
        }
       ],
       "layout": {
        "barmode": "relative",
        "height": 700,
        "legend": {
         "title": {
          "text": "DevType"
         },
         "tracegroupgap": 0
        },
        "margin": {
         "t": 60
        },
        "template": {
         "data": {
          "candlestick": [
           {
            "decreasing": {
             "line": {
              "color": "#000033"
             }
            },
            "increasing": {
             "line": {
              "color": "#000032"
             }
            },
            "type": "candlestick"
           }
          ],
          "contour": [
           {
            "colorscale": [
             [
              0,
              "#000011"
             ],
             [
              0.1111111111111111,
              "#000012"
             ],
             [
              0.2222222222222222,
              "#000013"
             ],
             [
              0.3333333333333333,
              "#000014"
             ],
             [
              0.4444444444444444,
              "#000015"
             ],
             [
              0.5555555555555556,
              "#000016"
             ],
             [
              0.6666666666666666,
              "#000017"
             ],
             [
              0.7777777777777778,
              "#000018"
             ],
             [
              0.8888888888888888,
              "#000019"
             ],
             [
              1,
              "#000020"
             ]
            ],
            "type": "contour"
           }
          ],
          "contourcarpet": [
           {
            "colorscale": [
             [
              0,
              "#000011"
             ],
             [
              0.1111111111111111,
              "#000012"
             ],
             [
              0.2222222222222222,
              "#000013"
             ],
             [
              0.3333333333333333,
              "#000014"
             ],
             [
              0.4444444444444444,
              "#000015"
             ],
             [
              0.5555555555555556,
              "#000016"
             ],
             [
              0.6666666666666666,
              "#000017"
             ],
             [
              0.7777777777777778,
              "#000018"
             ],
             [
              0.8888888888888888,
              "#000019"
             ],
             [
              1,
              "#000020"
             ]
            ],
            "type": "contourcarpet"
           }
          ],
          "heatmap": [
           {
            "colorscale": [
             [
              0,
              "#000011"
             ],
             [
              0.1111111111111111,
              "#000012"
             ],
             [
              0.2222222222222222,
              "#000013"
             ],
             [
              0.3333333333333333,
              "#000014"
             ],
             [
              0.4444444444444444,
              "#000015"
             ],
             [
              0.5555555555555556,
              "#000016"
             ],
             [
              0.6666666666666666,
              "#000017"
             ],
             [
              0.7777777777777778,
              "#000018"
             ],
             [
              0.8888888888888888,
              "#000019"
             ],
             [
              1,
              "#000020"
             ]
            ],
            "type": "heatmap"
           }
          ],
          "histogram2d": [
           {
            "colorscale": [
             [
              0,
              "#000011"
             ],
             [
              0.1111111111111111,
              "#000012"
             ],
             [
              0.2222222222222222,
              "#000013"
             ],
             [
              0.3333333333333333,
              "#000014"
             ],
             [
              0.4444444444444444,
              "#000015"
             ],
             [
              0.5555555555555556,
              "#000016"
             ],
             [
              0.6666666666666666,
              "#000017"
             ],
             [
              0.7777777777777778,
              "#000018"
             ],
             [
              0.8888888888888888,
              "#000019"
             ],
             [
              1,
              "#000020"
             ]
            ],
            "type": "histogram2d"
           }
          ],
          "icicle": [
           {
            "textfont": {
             "color": "white"
            },
            "type": "icicle"
           }
          ],
          "sankey": [
           {
            "textfont": {
             "color": "#000036"
            },
            "type": "sankey"
           }
          ],
          "scatter": [
           {
            "marker": {
             "line": {
              "width": 0
             }
            },
            "type": "scatter"
           }
          ],
          "table": [
           {
            "cells": {
             "fill": {
              "color": "#000038"
             },
             "font": {
              "color": "#000037"
             },
             "line": {
              "color": "#000039"
             }
            },
            "header": {
             "fill": {
              "color": "#000040"
             },
             "font": {
              "color": "#000036"
             },
             "line": {
              "color": "#000039"
             }
            },
            "type": "table"
           }
          ],
          "waterfall": [
           {
            "connector": {
             "line": {
              "color": "#000036",
              "width": 2
             }
            },
            "decreasing": {
             "marker": {
              "color": "#000033"
             }
            },
            "increasing": {
             "marker": {
              "color": "#000032"
             }
            },
            "totals": {
             "marker": {
              "color": "#000034"
             }
            },
            "type": "waterfall"
           }
          ]
         },
         "layout": {
          "coloraxis": {
           "colorscale": [
            [
             0,
             "#000011"
            ],
            [
             0.1111111111111111,
             "#000012"
            ],
            [
             0.2222222222222222,
             "#000013"
            ],
            [
             0.3333333333333333,
             "#000014"
            ],
            [
             0.4444444444444444,
             "#000015"
            ],
            [
             0.5555555555555556,
             "#000016"
            ],
            [
             0.6666666666666666,
             "#000017"
            ],
            [
             0.7777777777777778,
             "#000018"
            ],
            [
             0.8888888888888888,
             "#000019"
            ],
            [
             1,
             "#000020"
            ]
           ]
          },
          "colorscale": {
           "diverging": [
            [
             0,
             "#000021"
            ],
            [
             0.1,
             "#000022"
            ],
            [
             0.2,
             "#000023"
            ],
            [
             0.3,
             "#000024"
            ],
            [
             0.4,
             "#000025"
            ],
            [
             0.5,
             "#000026"
            ],
            [
             0.6,
             "#000027"
            ],
            [
             0.7,
             "#000028"
            ],
            [
             0.8,
             "#000029"
            ],
            [
             0.9,
             "#000030"
            ],
            [
             1,
             "#000031"
            ]
           ],
           "sequential": [
            [
             0,
             "#000011"
            ],
            [
             0.1111111111111111,
             "#000012"
            ],
            [
             0.2222222222222222,
             "#000013"
            ],
            [
             0.3333333333333333,
             "#000014"
            ],
            [
             0.4444444444444444,
             "#000015"
            ],
            [
             0.5555555555555556,
             "#000016"
            ],
            [
             0.6666666666666666,
             "#000017"
            ],
            [
             0.7777777777777778,
             "#000018"
            ],
            [
             0.8888888888888888,
             "#000019"
            ],
            [
             1,
             "#000020"
            ]
           ],
           "sequentialminus": [
            [
             0,
             "#000011"
            ],
            [
             0.1111111111111111,
             "#000012"
            ],
            [
             0.2222222222222222,
             "#000013"
            ],
            [
             0.3333333333333333,
             "#000014"
            ],
            [
             0.4444444444444444,
             "#000015"
            ],
            [
             0.5555555555555556,
             "#000016"
            ],
            [
             0.6666666666666666,
             "#000017"
            ],
            [
             0.7777777777777778,
             "#000018"
            ],
            [
             0.8888888888888888,
             "#000019"
            ],
            [
             1,
             "#000020"
            ]
           ]
          },
          "colorway": [
           "#000001",
           "#000002",
           "#000003",
           "#000004",
           "#000005",
           "#000006",
           "#000007",
           "#000008",
           "#000009",
           "#000010"
          ]
         }
        },
        "width": 800,
        "xaxis": {
         "anchor": "y",
         "categoryarray": [
          "Developer, full-stack",
          "Developer, back-end",
          "Developer, front-end",
          "Developer, front-end;Developer, full-stack;Developer, back-end",
          "Developer, full-stack;Developer, back-end",
          "Other (please specify):",
          "Developer, mobile",
          "Developer, front-end;Developer, full-stack",
          "Developer, desktop or enterprise applications",
          "Student"
         ],
         "categoryorder": "array",
         "domain": [
          0,
          1
         ],
         "title": {
          "text": "DevType"
         }
        },
        "yaxis": {
         "anchor": "x",
         "domain": [
          0,
          1
         ],
         "title": {
          "text": "Number of Developers"
         }
        }
       }
      }
     },
     "metadata": {},
     "output_type": "display_data"
    }
   ],
   "source": [
    "plot_bar_plotly(df2021, 'DevType', 10, 700, 800)"
   ]
  },
  {
   "cell_type": "code",
   "execution_count": 248,
   "metadata": {},
   "outputs": [
    {
     "data": {
      "application/vnd.plotly.v1+json": {
       "config": {
        "plotlyServerURL": "https://plot.ly"
       },
       "data": [
        {
         "alignmentgroup": "True",
         "hovertemplate": "Employment=%{x}<br>Number of Developers=%{y}<extra></extra>",
         "legendgroup": "Employed full-time",
         "marker": {
          "color": "rgb(102, 197, 204)",
          "pattern": {
           "shape": ""
          }
         },
         "name": "Employed full-time",
         "offsetgroup": "Employed full-time",
         "orientation": "v",
         "showlegend": true,
         "textposition": "auto",
         "type": "bar",
         "x": [
          "Employed full-time"
         ],
         "xaxis": "x",
         "y": [
          53655
         ],
         "yaxis": "y"
        },
        {
         "alignmentgroup": "True",
         "hovertemplate": "Employment=%{x}<br>Number of Developers=%{y}<extra></extra>",
         "legendgroup": "Student, full-time",
         "marker": {
          "color": "rgb(246, 207, 113)",
          "pattern": {
           "shape": ""
          }
         },
         "name": "Student, full-time",
         "offsetgroup": "Student, full-time",
         "orientation": "v",
         "showlegend": true,
         "textposition": "auto",
         "type": "bar",
         "x": [
          "Student, full-time"
         ],
         "xaxis": "x",
         "y": [
          11803
         ],
         "yaxis": "y"
        },
        {
         "alignmentgroup": "True",
         "hovertemplate": "Employment=%{x}<br>Number of Developers=%{y}<extra></extra>",
         "legendgroup": "Independent contractor, freelancer, or self-employed",
         "marker": {
          "color": "rgb(248, 156, 116)",
          "pattern": {
           "shape": ""
          }
         },
         "name": "Independent contractor, freelancer, or self-employed",
         "offsetgroup": "Independent contractor, freelancer, or self-employed",
         "orientation": "v",
         "showlegend": true,
         "textposition": "auto",
         "type": "bar",
         "x": [
          "Independent contractor, freelancer, or self-employed"
         ],
         "xaxis": "x",
         "y": [
          8051
         ],
         "yaxis": "y"
        },
        {
         "alignmentgroup": "True",
         "hovertemplate": "Employment=%{x}<br>Number of Developers=%{y}<extra></extra>",
         "legendgroup": "Not employed, but looking for work",
         "marker": {
          "color": "rgb(220, 176, 242)",
          "pattern": {
           "shape": ""
          }
         },
         "name": "Not employed, but looking for work",
         "offsetgroup": "Not employed, but looking for work",
         "orientation": "v",
         "showlegend": true,
         "textposition": "auto",
         "type": "bar",
         "x": [
          "Not employed, but looking for work"
         ],
         "xaxis": "x",
         "y": [
          2963
         ],
         "yaxis": "y"
        },
        {
         "alignmentgroup": "True",
         "hovertemplate": "Employment=%{x}<br>Number of Developers=%{y}<extra></extra>",
         "legendgroup": "Employed part-time",
         "marker": {
          "color": "rgb(135, 197, 95)",
          "pattern": {
           "shape": ""
          }
         },
         "name": "Employed part-time",
         "offsetgroup": "Employed part-time",
         "orientation": "v",
         "showlegend": true,
         "textposition": "auto",
         "type": "bar",
         "x": [
          "Employed part-time"
         ],
         "xaxis": "x",
         "y": [
          2464
         ],
         "yaxis": "y"
        },
        {
         "alignmentgroup": "True",
         "hovertemplate": "Employment=%{x}<br>Number of Developers=%{y}<extra></extra>",
         "legendgroup": "Student, part-time",
         "marker": {
          "color": "rgb(158, 185, 243)",
          "pattern": {
           "shape": ""
          }
         },
         "name": "Student, part-time",
         "offsetgroup": "Student, part-time",
         "orientation": "v",
         "showlegend": true,
         "textposition": "auto",
         "type": "bar",
         "x": [
          "Student, part-time"
         ],
         "xaxis": "x",
         "y": [
          2053
         ],
         "yaxis": "y"
        },
        {
         "alignmentgroup": "True",
         "hovertemplate": "Employment=%{x}<br>Number of Developers=%{y}<extra></extra>",
         "legendgroup": "Not employed, and not looking for work",
         "marker": {
          "color": "rgb(254, 136, 177)",
          "pattern": {
           "shape": ""
          }
         },
         "name": "Not employed, and not looking for work",
         "offsetgroup": "Not employed, and not looking for work",
         "orientation": "v",
         "showlegend": true,
         "textposition": "auto",
         "type": "bar",
         "x": [
          "Not employed, and not looking for work"
         ],
         "xaxis": "x",
         "y": [
          1230
         ],
         "yaxis": "y"
        },
        {
         "alignmentgroup": "True",
         "hovertemplate": "Employment=%{x}<br>Number of Developers=%{y}<extra></extra>",
         "legendgroup": "I prefer not to say",
         "marker": {
          "color": "rgb(201, 219, 116)",
          "pattern": {
           "shape": ""
          }
         },
         "name": "I prefer not to say",
         "offsetgroup": "I prefer not to say",
         "orientation": "v",
         "showlegend": true,
         "textposition": "auto",
         "type": "bar",
         "x": [
          "I prefer not to say"
         ],
         "xaxis": "x",
         "y": [
          890
         ],
         "yaxis": "y"
        },
        {
         "alignmentgroup": "True",
         "hovertemplate": "Employment=%{x}<br>Number of Developers=%{y}<extra></extra>",
         "legendgroup": "Retired",
         "marker": {
          "color": "rgb(139, 224, 164)",
          "pattern": {
           "shape": ""
          }
         },
         "name": "Retired",
         "offsetgroup": "Retired",
         "orientation": "v",
         "showlegend": true,
         "textposition": "auto",
         "type": "bar",
         "x": [
          "Retired"
         ],
         "xaxis": "x",
         "y": [
          326
         ],
         "yaxis": "y"
        }
       ],
       "layout": {
        "barmode": "relative",
        "height": 500,
        "legend": {
         "title": {
          "text": "Employment"
         },
         "tracegroupgap": 0
        },
        "margin": {
         "t": 60
        },
        "template": {
         "data": {
          "candlestick": [
           {
            "decreasing": {
             "line": {
              "color": "#000033"
             }
            },
            "increasing": {
             "line": {
              "color": "#000032"
             }
            },
            "type": "candlestick"
           }
          ],
          "contour": [
           {
            "colorscale": [
             [
              0,
              "#000011"
             ],
             [
              0.1111111111111111,
              "#000012"
             ],
             [
              0.2222222222222222,
              "#000013"
             ],
             [
              0.3333333333333333,
              "#000014"
             ],
             [
              0.4444444444444444,
              "#000015"
             ],
             [
              0.5555555555555556,
              "#000016"
             ],
             [
              0.6666666666666666,
              "#000017"
             ],
             [
              0.7777777777777778,
              "#000018"
             ],
             [
              0.8888888888888888,
              "#000019"
             ],
             [
              1,
              "#000020"
             ]
            ],
            "type": "contour"
           }
          ],
          "contourcarpet": [
           {
            "colorscale": [
             [
              0,
              "#000011"
             ],
             [
              0.1111111111111111,
              "#000012"
             ],
             [
              0.2222222222222222,
              "#000013"
             ],
             [
              0.3333333333333333,
              "#000014"
             ],
             [
              0.4444444444444444,
              "#000015"
             ],
             [
              0.5555555555555556,
              "#000016"
             ],
             [
              0.6666666666666666,
              "#000017"
             ],
             [
              0.7777777777777778,
              "#000018"
             ],
             [
              0.8888888888888888,
              "#000019"
             ],
             [
              1,
              "#000020"
             ]
            ],
            "type": "contourcarpet"
           }
          ],
          "heatmap": [
           {
            "colorscale": [
             [
              0,
              "#000011"
             ],
             [
              0.1111111111111111,
              "#000012"
             ],
             [
              0.2222222222222222,
              "#000013"
             ],
             [
              0.3333333333333333,
              "#000014"
             ],
             [
              0.4444444444444444,
              "#000015"
             ],
             [
              0.5555555555555556,
              "#000016"
             ],
             [
              0.6666666666666666,
              "#000017"
             ],
             [
              0.7777777777777778,
              "#000018"
             ],
             [
              0.8888888888888888,
              "#000019"
             ],
             [
              1,
              "#000020"
             ]
            ],
            "type": "heatmap"
           }
          ],
          "histogram2d": [
           {
            "colorscale": [
             [
              0,
              "#000011"
             ],
             [
              0.1111111111111111,
              "#000012"
             ],
             [
              0.2222222222222222,
              "#000013"
             ],
             [
              0.3333333333333333,
              "#000014"
             ],
             [
              0.4444444444444444,
              "#000015"
             ],
             [
              0.5555555555555556,
              "#000016"
             ],
             [
              0.6666666666666666,
              "#000017"
             ],
             [
              0.7777777777777778,
              "#000018"
             ],
             [
              0.8888888888888888,
              "#000019"
             ],
             [
              1,
              "#000020"
             ]
            ],
            "type": "histogram2d"
           }
          ],
          "icicle": [
           {
            "textfont": {
             "color": "white"
            },
            "type": "icicle"
           }
          ],
          "sankey": [
           {
            "textfont": {
             "color": "#000036"
            },
            "type": "sankey"
           }
          ],
          "scatter": [
           {
            "marker": {
             "line": {
              "width": 0
             }
            },
            "type": "scatter"
           }
          ],
          "table": [
           {
            "cells": {
             "fill": {
              "color": "#000038"
             },
             "font": {
              "color": "#000037"
             },
             "line": {
              "color": "#000039"
             }
            },
            "header": {
             "fill": {
              "color": "#000040"
             },
             "font": {
              "color": "#000036"
             },
             "line": {
              "color": "#000039"
             }
            },
            "type": "table"
           }
          ],
          "waterfall": [
           {
            "connector": {
             "line": {
              "color": "#000036",
              "width": 2
             }
            },
            "decreasing": {
             "marker": {
              "color": "#000033"
             }
            },
            "increasing": {
             "marker": {
              "color": "#000032"
             }
            },
            "totals": {
             "marker": {
              "color": "#000034"
             }
            },
            "type": "waterfall"
           }
          ]
         },
         "layout": {
          "coloraxis": {
           "colorscale": [
            [
             0,
             "#000011"
            ],
            [
             0.1111111111111111,
             "#000012"
            ],
            [
             0.2222222222222222,
             "#000013"
            ],
            [
             0.3333333333333333,
             "#000014"
            ],
            [
             0.4444444444444444,
             "#000015"
            ],
            [
             0.5555555555555556,
             "#000016"
            ],
            [
             0.6666666666666666,
             "#000017"
            ],
            [
             0.7777777777777778,
             "#000018"
            ],
            [
             0.8888888888888888,
             "#000019"
            ],
            [
             1,
             "#000020"
            ]
           ]
          },
          "colorscale": {
           "diverging": [
            [
             0,
             "#000021"
            ],
            [
             0.1,
             "#000022"
            ],
            [
             0.2,
             "#000023"
            ],
            [
             0.3,
             "#000024"
            ],
            [
             0.4,
             "#000025"
            ],
            [
             0.5,
             "#000026"
            ],
            [
             0.6,
             "#000027"
            ],
            [
             0.7,
             "#000028"
            ],
            [
             0.8,
             "#000029"
            ],
            [
             0.9,
             "#000030"
            ],
            [
             1,
             "#000031"
            ]
           ],
           "sequential": [
            [
             0,
             "#000011"
            ],
            [
             0.1111111111111111,
             "#000012"
            ],
            [
             0.2222222222222222,
             "#000013"
            ],
            [
             0.3333333333333333,
             "#000014"
            ],
            [
             0.4444444444444444,
             "#000015"
            ],
            [
             0.5555555555555556,
             "#000016"
            ],
            [
             0.6666666666666666,
             "#000017"
            ],
            [
             0.7777777777777778,
             "#000018"
            ],
            [
             0.8888888888888888,
             "#000019"
            ],
            [
             1,
             "#000020"
            ]
           ],
           "sequentialminus": [
            [
             0,
             "#000011"
            ],
            [
             0.1111111111111111,
             "#000012"
            ],
            [
             0.2222222222222222,
             "#000013"
            ],
            [
             0.3333333333333333,
             "#000014"
            ],
            [
             0.4444444444444444,
             "#000015"
            ],
            [
             0.5555555555555556,
             "#000016"
            ],
            [
             0.6666666666666666,
             "#000017"
            ],
            [
             0.7777777777777778,
             "#000018"
            ],
            [
             0.8888888888888888,
             "#000019"
            ],
            [
             1,
             "#000020"
            ]
           ]
          },
          "colorway": [
           "#000001",
           "#000002",
           "#000003",
           "#000004",
           "#000005",
           "#000006",
           "#000007",
           "#000008",
           "#000009",
           "#000010"
          ]
         }
        },
        "width": 1000,
        "xaxis": {
         "anchor": "y",
         "categoryarray": [
          "Employed full-time",
          "Student, full-time",
          "Independent contractor, freelancer, or self-employed",
          "Not employed, but looking for work",
          "Employed part-time",
          "Student, part-time",
          "Not employed, and not looking for work",
          "I prefer not to say",
          "Retired"
         ],
         "categoryorder": "array",
         "domain": [
          0,
          1
         ],
         "title": {
          "text": "Employment"
         }
        },
        "yaxis": {
         "anchor": "x",
         "domain": [
          0,
          1
         ],
         "title": {
          "text": "Number of Developers"
         }
        }
       }
      }
     },
     "metadata": {},
     "output_type": "display_data"
    }
   ],
   "source": [
    "plot_bar_plotly(df2021, 'Employment', top_n=10, height=500, width=1000)"
   ]
  },
  {
   "cell_type": "code",
   "execution_count": 249,
   "metadata": {},
   "outputs": [
    {
     "data": {
      "application/vnd.plotly.v1+json": {
       "config": {
        "plotlyServerURL": "https://plot.ly"
       },
       "data": [
        {
         "alignmentgroup": "True",
         "hovertemplate": "EdLevel=%{x}<br>Number of Developers=%{y}<extra></extra>",
         "legendgroup": "Bachelor’s degree (B.A., B.S., B.Eng., etc.)",
         "marker": {
          "color": "rgb(102, 197, 204)",
          "pattern": {
           "shape": ""
          }
         },
         "name": "Bachelor’s degree (B.A., B.S., B.Eng., etc.)",
         "offsetgroup": "Bachelor’s degree (B.A., B.S., B.Eng., etc.)",
         "orientation": "v",
         "showlegend": true,
         "textposition": "auto",
         "type": "bar",
         "x": [
          "Bachelor’s degree (B.A., B.S., B.Eng., etc.)"
         ],
         "xaxis": "x",
         "y": [
          35355
         ],
         "yaxis": "y"
        },
        {
         "alignmentgroup": "True",
         "hovertemplate": "EdLevel=%{x}<br>Number of Developers=%{y}<extra></extra>",
         "legendgroup": "Master’s degree (M.A., M.S., M.Eng., MBA, etc.)",
         "marker": {
          "color": "rgb(246, 207, 113)",
          "pattern": {
           "shape": ""
          }
         },
         "name": "Master’s degree (M.A., M.S., M.Eng., MBA, etc.)",
         "offsetgroup": "Master’s degree (M.A., M.S., M.Eng., MBA, etc.)",
         "orientation": "v",
         "showlegend": true,
         "textposition": "auto",
         "type": "bar",
         "x": [
          "Master’s degree (M.A., M.S., M.Eng., MBA, etc.)"
         ],
         "xaxis": "x",
         "y": [
          17511
         ],
         "yaxis": "y"
        },
        {
         "alignmentgroup": "True",
         "hovertemplate": "EdLevel=%{x}<br>Number of Developers=%{y}<extra></extra>",
         "legendgroup": "Some college/university study without earning a degree",
         "marker": {
          "color": "rgb(248, 156, 116)",
          "pattern": {
           "shape": ""
          }
         },
         "name": "Some college/university study without earning a degree",
         "offsetgroup": "Some college/university study without earning a degree",
         "orientation": "v",
         "showlegend": true,
         "textposition": "auto",
         "type": "bar",
         "x": [
          "Some college/university study without earning a degree"
         ],
         "xaxis": "x",
         "y": [
          10589
         ],
         "yaxis": "y"
        },
        {
         "alignmentgroup": "True",
         "hovertemplate": "EdLevel=%{x}<br>Number of Developers=%{y}<extra></extra>",
         "legendgroup": "Secondary school (e.g. American high school, German Realschule or Gymnasium, etc.)",
         "marker": {
          "color": "rgb(220, 176, 242)",
          "pattern": {
           "shape": ""
          }
         },
         "name": "Secondary school (e.g. American high school, German Realschule or Gymnasium, etc.)",
         "offsetgroup": "Secondary school (e.g. American high school, German Realschule or Gymnasium, etc.)",
         "orientation": "v",
         "showlegend": true,
         "textposition": "auto",
         "type": "bar",
         "x": [
          "Secondary school (e.g. American high school, German Realschule or Gymnasium, etc.)"
         ],
         "xaxis": "x",
         "y": [
          9533
         ],
         "yaxis": "y"
        },
        {
         "alignmentgroup": "True",
         "hovertemplate": "EdLevel=%{x}<br>Number of Developers=%{y}<extra></extra>",
         "legendgroup": "Other doctoral degree (Ph.D., Ed.D., etc.)",
         "marker": {
          "color": "rgb(135, 197, 95)",
          "pattern": {
           "shape": ""
          }
         },
         "name": "Other doctoral degree (Ph.D., Ed.D., etc.)",
         "offsetgroup": "Other doctoral degree (Ph.D., Ed.D., etc.)",
         "orientation": "v",
         "showlegend": true,
         "textposition": "auto",
         "type": "bar",
         "x": [
          "Other doctoral degree (Ph.D., Ed.D., etc.)"
         ],
         "xaxis": "x",
         "y": [
          2567
         ],
         "yaxis": "y"
        },
        {
         "alignmentgroup": "True",
         "hovertemplate": "EdLevel=%{x}<br>Number of Developers=%{y}<extra></extra>",
         "legendgroup": "Primary/elementary school",
         "marker": {
          "color": "rgb(158, 185, 243)",
          "pattern": {
           "shape": ""
          }
         },
         "name": "Primary/elementary school",
         "offsetgroup": "Primary/elementary school",
         "orientation": "v",
         "showlegend": true,
         "textposition": "auto",
         "type": "bar",
         "x": [
          "Primary/elementary school"
         ],
         "xaxis": "x",
         "y": [
          2479
         ],
         "yaxis": "y"
        },
        {
         "alignmentgroup": "True",
         "hovertemplate": "EdLevel=%{x}<br>Number of Developers=%{y}<extra></extra>",
         "legendgroup": "Associate degree (A.A., A.S., etc.)",
         "marker": {
          "color": "rgb(254, 136, 177)",
          "pattern": {
           "shape": ""
          }
         },
         "name": "Associate degree (A.A., A.S., etc.)",
         "offsetgroup": "Associate degree (A.A., A.S., etc.)",
         "orientation": "v",
         "showlegend": true,
         "textposition": "auto",
         "type": "bar",
         "x": [
          "Associate degree (A.A., A.S., etc.)"
         ],
         "xaxis": "x",
         "y": [
          2231
         ],
         "yaxis": "y"
        },
        {
         "alignmentgroup": "True",
         "hovertemplate": "EdLevel=%{x}<br>Number of Developers=%{y}<extra></extra>",
         "legendgroup": "Something else",
         "marker": {
          "color": "rgb(201, 219, 116)",
          "pattern": {
           "shape": ""
          }
         },
         "name": "Something else",
         "offsetgroup": "Something else",
         "orientation": "v",
         "showlegend": true,
         "textposition": "auto",
         "type": "bar",
         "x": [
          "Something else"
         ],
         "xaxis": "x",
         "y": [
          1914
         ],
         "yaxis": "y"
        },
        {
         "alignmentgroup": "True",
         "hovertemplate": "EdLevel=%{x}<br>Number of Developers=%{y}<extra></extra>",
         "legendgroup": "Professional degree (JD, MD, etc.)",
         "marker": {
          "color": "rgb(139, 224, 164)",
          "pattern": {
           "shape": ""
          }
         },
         "name": "Professional degree (JD, MD, etc.)",
         "offsetgroup": "Professional degree (JD, MD, etc.)",
         "orientation": "v",
         "showlegend": true,
         "textposition": "auto",
         "type": "bar",
         "x": [
          "Professional degree (JD, MD, etc.)"
         ],
         "xaxis": "x",
         "y": [
          1256
         ],
         "yaxis": "y"
        }
       ],
       "layout": {
        "barmode": "relative",
        "height": 500,
        "legend": {
         "title": {
          "text": "EdLevel"
         },
         "tracegroupgap": 0
        },
        "margin": {
         "t": 60
        },
        "template": {
         "data": {
          "candlestick": [
           {
            "decreasing": {
             "line": {
              "color": "#000033"
             }
            },
            "increasing": {
             "line": {
              "color": "#000032"
             }
            },
            "type": "candlestick"
           }
          ],
          "contour": [
           {
            "colorscale": [
             [
              0,
              "#000011"
             ],
             [
              0.1111111111111111,
              "#000012"
             ],
             [
              0.2222222222222222,
              "#000013"
             ],
             [
              0.3333333333333333,
              "#000014"
             ],
             [
              0.4444444444444444,
              "#000015"
             ],
             [
              0.5555555555555556,
              "#000016"
             ],
             [
              0.6666666666666666,
              "#000017"
             ],
             [
              0.7777777777777778,
              "#000018"
             ],
             [
              0.8888888888888888,
              "#000019"
             ],
             [
              1,
              "#000020"
             ]
            ],
            "type": "contour"
           }
          ],
          "contourcarpet": [
           {
            "colorscale": [
             [
              0,
              "#000011"
             ],
             [
              0.1111111111111111,
              "#000012"
             ],
             [
              0.2222222222222222,
              "#000013"
             ],
             [
              0.3333333333333333,
              "#000014"
             ],
             [
              0.4444444444444444,
              "#000015"
             ],
             [
              0.5555555555555556,
              "#000016"
             ],
             [
              0.6666666666666666,
              "#000017"
             ],
             [
              0.7777777777777778,
              "#000018"
             ],
             [
              0.8888888888888888,
              "#000019"
             ],
             [
              1,
              "#000020"
             ]
            ],
            "type": "contourcarpet"
           }
          ],
          "heatmap": [
           {
            "colorscale": [
             [
              0,
              "#000011"
             ],
             [
              0.1111111111111111,
              "#000012"
             ],
             [
              0.2222222222222222,
              "#000013"
             ],
             [
              0.3333333333333333,
              "#000014"
             ],
             [
              0.4444444444444444,
              "#000015"
             ],
             [
              0.5555555555555556,
              "#000016"
             ],
             [
              0.6666666666666666,
              "#000017"
             ],
             [
              0.7777777777777778,
              "#000018"
             ],
             [
              0.8888888888888888,
              "#000019"
             ],
             [
              1,
              "#000020"
             ]
            ],
            "type": "heatmap"
           }
          ],
          "histogram2d": [
           {
            "colorscale": [
             [
              0,
              "#000011"
             ],
             [
              0.1111111111111111,
              "#000012"
             ],
             [
              0.2222222222222222,
              "#000013"
             ],
             [
              0.3333333333333333,
              "#000014"
             ],
             [
              0.4444444444444444,
              "#000015"
             ],
             [
              0.5555555555555556,
              "#000016"
             ],
             [
              0.6666666666666666,
              "#000017"
             ],
             [
              0.7777777777777778,
              "#000018"
             ],
             [
              0.8888888888888888,
              "#000019"
             ],
             [
              1,
              "#000020"
             ]
            ],
            "type": "histogram2d"
           }
          ],
          "icicle": [
           {
            "textfont": {
             "color": "white"
            },
            "type": "icicle"
           }
          ],
          "sankey": [
           {
            "textfont": {
             "color": "#000036"
            },
            "type": "sankey"
           }
          ],
          "scatter": [
           {
            "marker": {
             "line": {
              "width": 0
             }
            },
            "type": "scatter"
           }
          ],
          "table": [
           {
            "cells": {
             "fill": {
              "color": "#000038"
             },
             "font": {
              "color": "#000037"
             },
             "line": {
              "color": "#000039"
             }
            },
            "header": {
             "fill": {
              "color": "#000040"
             },
             "font": {
              "color": "#000036"
             },
             "line": {
              "color": "#000039"
             }
            },
            "type": "table"
           }
          ],
          "waterfall": [
           {
            "connector": {
             "line": {
              "color": "#000036",
              "width": 2
             }
            },
            "decreasing": {
             "marker": {
              "color": "#000033"
             }
            },
            "increasing": {
             "marker": {
              "color": "#000032"
             }
            },
            "totals": {
             "marker": {
              "color": "#000034"
             }
            },
            "type": "waterfall"
           }
          ]
         },
         "layout": {
          "coloraxis": {
           "colorscale": [
            [
             0,
             "#000011"
            ],
            [
             0.1111111111111111,
             "#000012"
            ],
            [
             0.2222222222222222,
             "#000013"
            ],
            [
             0.3333333333333333,
             "#000014"
            ],
            [
             0.4444444444444444,
             "#000015"
            ],
            [
             0.5555555555555556,
             "#000016"
            ],
            [
             0.6666666666666666,
             "#000017"
            ],
            [
             0.7777777777777778,
             "#000018"
            ],
            [
             0.8888888888888888,
             "#000019"
            ],
            [
             1,
             "#000020"
            ]
           ]
          },
          "colorscale": {
           "diverging": [
            [
             0,
             "#000021"
            ],
            [
             0.1,
             "#000022"
            ],
            [
             0.2,
             "#000023"
            ],
            [
             0.3,
             "#000024"
            ],
            [
             0.4,
             "#000025"
            ],
            [
             0.5,
             "#000026"
            ],
            [
             0.6,
             "#000027"
            ],
            [
             0.7,
             "#000028"
            ],
            [
             0.8,
             "#000029"
            ],
            [
             0.9,
             "#000030"
            ],
            [
             1,
             "#000031"
            ]
           ],
           "sequential": [
            [
             0,
             "#000011"
            ],
            [
             0.1111111111111111,
             "#000012"
            ],
            [
             0.2222222222222222,
             "#000013"
            ],
            [
             0.3333333333333333,
             "#000014"
            ],
            [
             0.4444444444444444,
             "#000015"
            ],
            [
             0.5555555555555556,
             "#000016"
            ],
            [
             0.6666666666666666,
             "#000017"
            ],
            [
             0.7777777777777778,
             "#000018"
            ],
            [
             0.8888888888888888,
             "#000019"
            ],
            [
             1,
             "#000020"
            ]
           ],
           "sequentialminus": [
            [
             0,
             "#000011"
            ],
            [
             0.1111111111111111,
             "#000012"
            ],
            [
             0.2222222222222222,
             "#000013"
            ],
            [
             0.3333333333333333,
             "#000014"
            ],
            [
             0.4444444444444444,
             "#000015"
            ],
            [
             0.5555555555555556,
             "#000016"
            ],
            [
             0.6666666666666666,
             "#000017"
            ],
            [
             0.7777777777777778,
             "#000018"
            ],
            [
             0.8888888888888888,
             "#000019"
            ],
            [
             1,
             "#000020"
            ]
           ]
          },
          "colorway": [
           "#000001",
           "#000002",
           "#000003",
           "#000004",
           "#000005",
           "#000006",
           "#000007",
           "#000008",
           "#000009",
           "#000010"
          ]
         }
        },
        "width": 1000,
        "xaxis": {
         "anchor": "y",
         "categoryarray": [
          "Bachelor’s degree (B.A., B.S., B.Eng., etc.)",
          "Master’s degree (M.A., M.S., M.Eng., MBA, etc.)",
          "Some college/university study without earning a degree",
          "Secondary school (e.g. American high school, German Realschule or Gymnasium, etc.)",
          "Other doctoral degree (Ph.D., Ed.D., etc.)",
          "Primary/elementary school",
          "Associate degree (A.A., A.S., etc.)",
          "Something else",
          "Professional degree (JD, MD, etc.)"
         ],
         "categoryorder": "array",
         "domain": [
          0,
          1
         ],
         "title": {
          "text": "EdLevel"
         }
        },
        "yaxis": {
         "anchor": "x",
         "domain": [
          0,
          1
         ],
         "title": {
          "text": "Number of Developers"
         }
        }
       }
      }
     },
     "metadata": {},
     "output_type": "display_data"
    }
   ],
   "source": [
    "plot_bar_plotly(df2021, 'EdLevel', top_n=10, height=500, width=1000)"
   ]
  },
  {
   "cell_type": "code",
   "execution_count": 250,
   "metadata": {},
   "outputs": [
    {
     "data": {
      "application/vnd.plotly.v1+json": {
       "config": {
        "plotlyServerURL": "https://plot.ly"
       },
       "data": [
        {
         "alignmentgroup": "True",
         "hovertemplate": "DevType=%{x}<br>Number of Developers=%{y}<extra></extra>",
         "legendgroup": "Developer, full-stack",
         "marker": {
          "color": "rgb(102, 197, 204)",
          "pattern": {
           "shape": ""
          }
         },
         "name": "Developer, full-stack",
         "offsetgroup": "Developer, full-stack",
         "orientation": "v",
         "showlegend": true,
         "textposition": "auto",
         "type": "bar",
         "x": [
          "Developer, full-stack"
         ],
         "xaxis": "x",
         "y": [
          10781
         ],
         "yaxis": "y"
        },
        {
         "alignmentgroup": "True",
         "hovertemplate": "DevType=%{x}<br>Number of Developers=%{y}<extra></extra>",
         "legendgroup": "Developer, back-end",
         "marker": {
          "color": "rgb(246, 207, 113)",
          "pattern": {
           "shape": ""
          }
         },
         "name": "Developer, back-end",
         "offsetgroup": "Developer, back-end",
         "orientation": "v",
         "showlegend": true,
         "textposition": "auto",
         "type": "bar",
         "x": [
          "Developer, back-end"
         ],
         "xaxis": "x",
         "y": [
          6870
         ],
         "yaxis": "y"
        },
        {
         "alignmentgroup": "True",
         "hovertemplate": "DevType=%{x}<br>Number of Developers=%{y}<extra></extra>",
         "legendgroup": "Developer, front-end",
         "marker": {
          "color": "rgb(248, 156, 116)",
          "pattern": {
           "shape": ""
          }
         },
         "name": "Developer, front-end",
         "offsetgroup": "Developer, front-end",
         "orientation": "v",
         "showlegend": true,
         "textposition": "auto",
         "type": "bar",
         "x": [
          "Developer, front-end"
         ],
         "xaxis": "x",
         "y": [
          2988
         ],
         "yaxis": "y"
        },
        {
         "alignmentgroup": "True",
         "hovertemplate": "DevType=%{x}<br>Number of Developers=%{y}<extra></extra>",
         "legendgroup": "Developer, front-end;Developer, full-stack;Developer, back-end",
         "marker": {
          "color": "rgb(220, 176, 242)",
          "pattern": {
           "shape": ""
          }
         },
         "name": "Developer, front-end;Developer, full-stack;Developer, back-end",
         "offsetgroup": "Developer, front-end;Developer, full-stack;Developer, back-end",
         "orientation": "v",
         "showlegend": true,
         "textposition": "auto",
         "type": "bar",
         "x": [
          "Developer, front-end;Developer, full-stack;Developer, back-end"
         ],
         "xaxis": "x",
         "y": [
          2628
         ],
         "yaxis": "y"
        },
        {
         "alignmentgroup": "True",
         "hovertemplate": "DevType=%{x}<br>Number of Developers=%{y}<extra></extra>",
         "legendgroup": "Developer, full-stack;Developer, back-end",
         "marker": {
          "color": "rgb(135, 197, 95)",
          "pattern": {
           "shape": ""
          }
         },
         "name": "Developer, full-stack;Developer, back-end",
         "offsetgroup": "Developer, full-stack;Developer, back-end",
         "orientation": "v",
         "showlegend": true,
         "textposition": "auto",
         "type": "bar",
         "x": [
          "Developer, full-stack;Developer, back-end"
         ],
         "xaxis": "x",
         "y": [
          2224
         ],
         "yaxis": "y"
        },
        {
         "alignmentgroup": "True",
         "hovertemplate": "DevType=%{x}<br>Number of Developers=%{y}<extra></extra>",
         "legendgroup": "Other (please specify):",
         "marker": {
          "color": "rgb(158, 185, 243)",
          "pattern": {
           "shape": ""
          }
         },
         "name": "Other (please specify):",
         "offsetgroup": "Other (please specify):",
         "orientation": "v",
         "showlegend": true,
         "textposition": "auto",
         "type": "bar",
         "x": [
          "Other (please specify):"
         ],
         "xaxis": "x",
         "y": [
          2208
         ],
         "yaxis": "y"
        },
        {
         "alignmentgroup": "True",
         "hovertemplate": "DevType=%{x}<br>Number of Developers=%{y}<extra></extra>",
         "legendgroup": "Developer, mobile",
         "marker": {
          "color": "rgb(254, 136, 177)",
          "pattern": {
           "shape": ""
          }
         },
         "name": "Developer, mobile",
         "offsetgroup": "Developer, mobile",
         "orientation": "v",
         "showlegend": true,
         "textposition": "auto",
         "type": "bar",
         "x": [
          "Developer, mobile"
         ],
         "xaxis": "x",
         "y": [
          2157
         ],
         "yaxis": "y"
        },
        {
         "alignmentgroup": "True",
         "hovertemplate": "DevType=%{x}<br>Number of Developers=%{y}<extra></extra>",
         "legendgroup": "Developer, front-end;Developer, full-stack",
         "marker": {
          "color": "rgb(201, 219, 116)",
          "pattern": {
           "shape": ""
          }
         },
         "name": "Developer, front-end;Developer, full-stack",
         "offsetgroup": "Developer, front-end;Developer, full-stack",
         "orientation": "v",
         "showlegend": true,
         "textposition": "auto",
         "type": "bar",
         "x": [
          "Developer, front-end;Developer, full-stack"
         ],
         "xaxis": "x",
         "y": [
          1243
         ],
         "yaxis": "y"
        },
        {
         "alignmentgroup": "True",
         "hovertemplate": "DevType=%{x}<br>Number of Developers=%{y}<extra></extra>",
         "legendgroup": "Developer, desktop or enterprise applications",
         "marker": {
          "color": "rgb(139, 224, 164)",
          "pattern": {
           "shape": ""
          }
         },
         "name": "Developer, desktop or enterprise applications",
         "offsetgroup": "Developer, desktop or enterprise applications",
         "orientation": "v",
         "showlegend": true,
         "textposition": "auto",
         "type": "bar",
         "x": [
          "Developer, desktop or enterprise applications"
         ],
         "xaxis": "x",
         "y": [
          1122
         ],
         "yaxis": "y"
        },
        {
         "alignmentgroup": "True",
         "hovertemplate": "DevType=%{x}<br>Number of Developers=%{y}<extra></extra>",
         "legendgroup": "Student",
         "marker": {
          "color": "rgb(180, 151, 231)",
          "pattern": {
           "shape": ""
          }
         },
         "name": "Student",
         "offsetgroup": "Student",
         "orientation": "v",
         "showlegend": true,
         "textposition": "auto",
         "type": "bar",
         "x": [
          "Student"
         ],
         "xaxis": "x",
         "y": [
          1063
         ],
         "yaxis": "y"
        }
       ],
       "layout": {
        "barmode": "relative",
        "height": 500,
        "legend": {
         "title": {
          "text": "DevType"
         },
         "tracegroupgap": 0
        },
        "margin": {
         "t": 60
        },
        "template": {
         "data": {
          "candlestick": [
           {
            "decreasing": {
             "line": {
              "color": "#000033"
             }
            },
            "increasing": {
             "line": {
              "color": "#000032"
             }
            },
            "type": "candlestick"
           }
          ],
          "contour": [
           {
            "colorscale": [
             [
              0,
              "#000011"
             ],
             [
              0.1111111111111111,
              "#000012"
             ],
             [
              0.2222222222222222,
              "#000013"
             ],
             [
              0.3333333333333333,
              "#000014"
             ],
             [
              0.4444444444444444,
              "#000015"
             ],
             [
              0.5555555555555556,
              "#000016"
             ],
             [
              0.6666666666666666,
              "#000017"
             ],
             [
              0.7777777777777778,
              "#000018"
             ],
             [
              0.8888888888888888,
              "#000019"
             ],
             [
              1,
              "#000020"
             ]
            ],
            "type": "contour"
           }
          ],
          "contourcarpet": [
           {
            "colorscale": [
             [
              0,
              "#000011"
             ],
             [
              0.1111111111111111,
              "#000012"
             ],
             [
              0.2222222222222222,
              "#000013"
             ],
             [
              0.3333333333333333,
              "#000014"
             ],
             [
              0.4444444444444444,
              "#000015"
             ],
             [
              0.5555555555555556,
              "#000016"
             ],
             [
              0.6666666666666666,
              "#000017"
             ],
             [
              0.7777777777777778,
              "#000018"
             ],
             [
              0.8888888888888888,
              "#000019"
             ],
             [
              1,
              "#000020"
             ]
            ],
            "type": "contourcarpet"
           }
          ],
          "heatmap": [
           {
            "colorscale": [
             [
              0,
              "#000011"
             ],
             [
              0.1111111111111111,
              "#000012"
             ],
             [
              0.2222222222222222,
              "#000013"
             ],
             [
              0.3333333333333333,
              "#000014"
             ],
             [
              0.4444444444444444,
              "#000015"
             ],
             [
              0.5555555555555556,
              "#000016"
             ],
             [
              0.6666666666666666,
              "#000017"
             ],
             [
              0.7777777777777778,
              "#000018"
             ],
             [
              0.8888888888888888,
              "#000019"
             ],
             [
              1,
              "#000020"
             ]
            ],
            "type": "heatmap"
           }
          ],
          "histogram2d": [
           {
            "colorscale": [
             [
              0,
              "#000011"
             ],
             [
              0.1111111111111111,
              "#000012"
             ],
             [
              0.2222222222222222,
              "#000013"
             ],
             [
              0.3333333333333333,
              "#000014"
             ],
             [
              0.4444444444444444,
              "#000015"
             ],
             [
              0.5555555555555556,
              "#000016"
             ],
             [
              0.6666666666666666,
              "#000017"
             ],
             [
              0.7777777777777778,
              "#000018"
             ],
             [
              0.8888888888888888,
              "#000019"
             ],
             [
              1,
              "#000020"
             ]
            ],
            "type": "histogram2d"
           }
          ],
          "icicle": [
           {
            "textfont": {
             "color": "white"
            },
            "type": "icicle"
           }
          ],
          "sankey": [
           {
            "textfont": {
             "color": "#000036"
            },
            "type": "sankey"
           }
          ],
          "scatter": [
           {
            "marker": {
             "line": {
              "width": 0
             }
            },
            "type": "scatter"
           }
          ],
          "table": [
           {
            "cells": {
             "fill": {
              "color": "#000038"
             },
             "font": {
              "color": "#000037"
             },
             "line": {
              "color": "#000039"
             }
            },
            "header": {
             "fill": {
              "color": "#000040"
             },
             "font": {
              "color": "#000036"
             },
             "line": {
              "color": "#000039"
             }
            },
            "type": "table"
           }
          ],
          "waterfall": [
           {
            "connector": {
             "line": {
              "color": "#000036",
              "width": 2
             }
            },
            "decreasing": {
             "marker": {
              "color": "#000033"
             }
            },
            "increasing": {
             "marker": {
              "color": "#000032"
             }
            },
            "totals": {
             "marker": {
              "color": "#000034"
             }
            },
            "type": "waterfall"
           }
          ]
         },
         "layout": {
          "coloraxis": {
           "colorscale": [
            [
             0,
             "#000011"
            ],
            [
             0.1111111111111111,
             "#000012"
            ],
            [
             0.2222222222222222,
             "#000013"
            ],
            [
             0.3333333333333333,
             "#000014"
            ],
            [
             0.4444444444444444,
             "#000015"
            ],
            [
             0.5555555555555556,
             "#000016"
            ],
            [
             0.6666666666666666,
             "#000017"
            ],
            [
             0.7777777777777778,
             "#000018"
            ],
            [
             0.8888888888888888,
             "#000019"
            ],
            [
             1,
             "#000020"
            ]
           ]
          },
          "colorscale": {
           "diverging": [
            [
             0,
             "#000021"
            ],
            [
             0.1,
             "#000022"
            ],
            [
             0.2,
             "#000023"
            ],
            [
             0.3,
             "#000024"
            ],
            [
             0.4,
             "#000025"
            ],
            [
             0.5,
             "#000026"
            ],
            [
             0.6,
             "#000027"
            ],
            [
             0.7,
             "#000028"
            ],
            [
             0.8,
             "#000029"
            ],
            [
             0.9,
             "#000030"
            ],
            [
             1,
             "#000031"
            ]
           ],
           "sequential": [
            [
             0,
             "#000011"
            ],
            [
             0.1111111111111111,
             "#000012"
            ],
            [
             0.2222222222222222,
             "#000013"
            ],
            [
             0.3333333333333333,
             "#000014"
            ],
            [
             0.4444444444444444,
             "#000015"
            ],
            [
             0.5555555555555556,
             "#000016"
            ],
            [
             0.6666666666666666,
             "#000017"
            ],
            [
             0.7777777777777778,
             "#000018"
            ],
            [
             0.8888888888888888,
             "#000019"
            ],
            [
             1,
             "#000020"
            ]
           ],
           "sequentialminus": [
            [
             0,
             "#000011"
            ],
            [
             0.1111111111111111,
             "#000012"
            ],
            [
             0.2222222222222222,
             "#000013"
            ],
            [
             0.3333333333333333,
             "#000014"
            ],
            [
             0.4444444444444444,
             "#000015"
            ],
            [
             0.5555555555555556,
             "#000016"
            ],
            [
             0.6666666666666666,
             "#000017"
            ],
            [
             0.7777777777777778,
             "#000018"
            ],
            [
             0.8888888888888888,
             "#000019"
            ],
            [
             1,
             "#000020"
            ]
           ]
          },
          "colorway": [
           "#000001",
           "#000002",
           "#000003",
           "#000004",
           "#000005",
           "#000006",
           "#000007",
           "#000008",
           "#000009",
           "#000010"
          ]
         }
        },
        "width": 1000,
        "xaxis": {
         "anchor": "y",
         "categoryarray": [
          "Developer, full-stack",
          "Developer, back-end",
          "Developer, front-end",
          "Developer, front-end;Developer, full-stack;Developer, back-end",
          "Developer, full-stack;Developer, back-end",
          "Other (please specify):",
          "Developer, mobile",
          "Developer, front-end;Developer, full-stack",
          "Developer, desktop or enterprise applications",
          "Student"
         ],
         "categoryorder": "array",
         "domain": [
          0,
          1
         ],
         "title": {
          "text": "DevType"
         }
        },
        "yaxis": {
         "anchor": "x",
         "domain": [
          0,
          1
         ],
         "title": {
          "text": "Number of Developers"
         }
        }
       }
      }
     },
     "metadata": {},
     "output_type": "display_data"
    }
   ],
   "source": [
    "plot_bar_plotly(df2021, 'DevType', top_n=10, height=500, width=1000)"
   ]
  },
  {
   "cell_type": "code",
   "execution_count": 251,
   "metadata": {},
   "outputs": [
    {
     "data": {
      "application/vnd.plotly.v1+json": {
       "config": {
        "plotlyServerURL": "https://plot.ly"
       },
       "data": [
        {
         "alignmentgroup": "True",
         "hovertemplate": "MentalHealth=Anxiety Disorder<br>Sexuality=%{x}<br>Counts=%{y}<extra></extra>",
         "legendgroup": "Anxiety Disorder",
         "marker": {
          "color": "#000001",
          "pattern": {
           "shape": ""
          }
         },
         "name": "Anxiety Disorder",
         "offsetgroup": "Anxiety Disorder",
         "orientation": "v",
         "showlegend": true,
         "textposition": "auto",
         "type": "bar",
         "x": [
          "Bisexual",
          "Bisexual;Gay or Lesbian",
          "Bisexual;Gay or Lesbian;Queer",
          "Bisexual;Prefer to self-describe:",
          "Bisexual;Prefer to self-describe:;Gay or Lesbian;Queer",
          "Bisexual;Prefer to self-describe:;Queer",
          "Bisexual;Queer",
          "Gay or Lesbian",
          "Gay or Lesbian;Queer",
          "Prefer not to say",
          "Prefer to self-describe:",
          "Prefer to self-describe:;Gay or Lesbian",
          "Prefer to self-describe:;Gay or Lesbian;Queer",
          "Prefer to self-describe:;Queer",
          "Queer",
          "Straight / Heterosexual",
          "Straight / Heterosexual;Bisexual",
          "Straight / Heterosexual;Bisexual;Gay or Lesbian",
          "Straight / Heterosexual;Bisexual;Prefer to self-describe:",
          "Straight / Heterosexual;Bisexual;Prefer to self-describe:;Gay or Lesbian",
          "Straight / Heterosexual;Bisexual;Prefer to self-describe:;Gay or Lesbian;Queer",
          "Straight / Heterosexual;Bisexual;Queer",
          "Straight / Heterosexual;Gay or Lesbian",
          "Straight / Heterosexual;Prefer to self-describe:",
          "Straight / Heterosexual;Prefer to self-describe:;Queer",
          "Straight / Heterosexual;Queer"
         ],
         "xaxis": "x",
         "y": [
          403,
          11,
          7,
          5,
          5,
          5,
          53,
          174,
          25,
          719,
          108,
          1,
          2,
          9,
          71,
          3822,
          58,
          1,
          1,
          1,
          1,
          2,
          1,
          27,
          1,
          8
         ],
         "yaxis": "y"
        },
        {
         "alignmentgroup": "True",
         "hovertemplate": "MentalHealth=Autism Spectrum Disorder<br>Sexuality=%{x}<br>Counts=%{y}<extra></extra>",
         "legendgroup": "Autism Spectrum Disorder",
         "marker": {
          "color": "#000002",
          "pattern": {
           "shape": ""
          }
         },
         "name": "Autism Spectrum Disorder",
         "offsetgroup": "Autism Spectrum Disorder",
         "orientation": "v",
         "showlegend": true,
         "textposition": "auto",
         "type": "bar",
         "x": [
          "Bisexual",
          "Bisexual;Gay or Lesbian",
          "Bisexual;Gay or Lesbian;Queer",
          "Bisexual;Prefer to self-describe:",
          "Bisexual;Prefer to self-describe:;Gay or Lesbian;Queer",
          "Bisexual;Prefer to self-describe:;Queer",
          "Bisexual;Queer",
          "Gay or Lesbian",
          "Gay or Lesbian;Queer",
          "Prefer not to say",
          "Prefer to self-describe:",
          "Prefer to self-describe:;Gay or Lesbian",
          "Prefer to self-describe:;Queer",
          "Queer",
          "Straight / Heterosexual",
          "Straight / Heterosexual;Bisexual",
          "Straight / Heterosexual;Bisexual;Gay or Lesbian;Queer",
          "Straight / Heterosexual;Bisexual;Queer",
          "Straight / Heterosexual;Gay or Lesbian",
          "Straight / Heterosexual;Prefer to self-describe:",
          "Straight / Heterosexual;Queer"
         ],
         "xaxis": "x",
         "y": [
          79,
          1,
          1,
          2,
          1,
          1,
          13,
          49,
          6,
          242,
          51,
          1,
          2,
          18,
          852,
          23,
          2,
          2,
          1,
          6,
          2
         ],
         "yaxis": "y"
        },
        {
         "alignmentgroup": "True",
         "hovertemplate": "MentalHealth=Concentration/Memory Disorder<br>Sexuality=%{x}<br>Counts=%{y}<extra></extra>",
         "legendgroup": "Concentration/Memory Disorder",
         "marker": {
          "color": "#000003",
          "pattern": {
           "shape": ""
          }
         },
         "name": "Concentration/Memory Disorder",
         "offsetgroup": "Concentration/Memory Disorder",
         "orientation": "v",
         "showlegend": true,
         "textposition": "auto",
         "type": "bar",
         "x": [
          "Bisexual",
          "Bisexual;Gay or Lesbian",
          "Bisexual;Gay or Lesbian;Queer",
          "Bisexual;Prefer to self-describe:",
          "Bisexual;Prefer to self-describe:;Gay or Lesbian",
          "Bisexual;Prefer to self-describe:;Gay or Lesbian;Queer",
          "Bisexual;Prefer to self-describe:;Queer",
          "Bisexual;Queer",
          "Gay or Lesbian",
          "Gay or Lesbian;Queer",
          "Prefer not to say",
          "Prefer to self-describe:",
          "Prefer to self-describe:;Gay or Lesbian",
          "Prefer to self-describe:;Gay or Lesbian;Queer",
          "Prefer to self-describe:;Queer",
          "Queer",
          "Straight / Heterosexual",
          "Straight / Heterosexual;Bisexual",
          "Straight / Heterosexual;Bisexual;Gay or Lesbian",
          "Straight / Heterosexual;Bisexual;Gay or Lesbian;Queer",
          "Straight / Heterosexual;Bisexual;Prefer to self-describe:",
          "Straight / Heterosexual;Bisexual;Prefer to self-describe:;Gay or Lesbian;Queer",
          "Straight / Heterosexual;Bisexual;Prefer to self-describe:;Queer",
          "Straight / Heterosexual;Bisexual;Queer",
          "Straight / Heterosexual;Gay or Lesbian",
          "Straight / Heterosexual;Gay or Lesbian;Queer",
          "Straight / Heterosexual;Prefer to self-describe:",
          "Straight / Heterosexual;Prefer to self-describe:;Queer",
          "Straight / Heterosexual;Queer"
         ],
         "xaxis": "x",
         "y": [
          556,
          15,
          18,
          11,
          1,
          4,
          11,
          103,
          211,
          52,
          1111,
          179,
          1,
          4,
          21,
          100,
          4518,
          89,
          4,
          12,
          5,
          11,
          1,
          2,
          5,
          1,
          30,
          3,
          26
         ],
         "yaxis": "y"
        },
        {
         "alignmentgroup": "True",
         "hovertemplate": "MentalHealth=Mood/Emotional Disorder<br>Sexuality=%{x}<br>Counts=%{y}<extra></extra>",
         "legendgroup": "Mood/Emotional Disorder",
         "marker": {
          "color": "#000004",
          "pattern": {
           "shape": ""
          }
         },
         "name": "Mood/Emotional Disorder",
         "offsetgroup": "Mood/Emotional Disorder",
         "orientation": "v",
         "showlegend": true,
         "textposition": "auto",
         "type": "bar",
         "x": [
          "Bisexual",
          "Bisexual;Gay or Lesbian",
          "Bisexual;Gay or Lesbian;Queer",
          "Bisexual;Prefer to self-describe:",
          "Bisexual;Prefer to self-describe:;Queer",
          "Bisexual;Queer",
          "Gay or Lesbian",
          "Gay or Lesbian;Queer",
          "Prefer not to say",
          "Prefer to self-describe:",
          "Prefer to self-describe:;Gay or Lesbian",
          "Prefer to self-describe:;Queer",
          "Queer",
          "Straight / Heterosexual",
          "Straight / Heterosexual;Bisexual",
          "Straight / Heterosexual;Bisexual;Gay or Lesbian",
          "Straight / Heterosexual;Bisexual;Prefer to self-describe:",
          "Straight / Heterosexual;Bisexual;Prefer to self-describe:;Gay or Lesbian;Queer",
          "Straight / Heterosexual;Bisexual;Queer",
          "Straight / Heterosexual;Prefer to self-describe:",
          "Straight / Heterosexual;Queer"
         ],
         "xaxis": "x",
         "y": [
          209,
          3,
          8,
          1,
          2,
          27,
          107,
          10,
          393,
          56,
          1,
          7,
          21,
          1882,
          29,
          1,
          1,
          1,
          4,
          8,
          5
         ],
         "yaxis": "y"
        },
        {
         "alignmentgroup": "True",
         "hovertemplate": "MentalHealth=Other/Prefer not to say/Or, in your own words<br>Sexuality=%{x}<br>Counts=%{y}<extra></extra>",
         "legendgroup": "Other/Prefer not to say/Or, in your own words",
         "marker": {
          "color": "#000005",
          "pattern": {
           "shape": ""
          }
         },
         "name": "Other/Prefer not to say/Or, in your own words",
         "offsetgroup": "Other/Prefer not to say/Or, in your own words",
         "orientation": "v",
         "showlegend": true,
         "textposition": "auto",
         "type": "bar",
         "x": [
          "Bisexual",
          "Bisexual;Gay or Lesbian",
          "Bisexual;Gay or Lesbian;Queer",
          "Bisexual;Prefer to self-describe:",
          "Bisexual;Prefer to self-describe:;Gay or Lesbian",
          "Bisexual;Prefer to self-describe:;Queer",
          "Bisexual;Queer",
          "Gay or Lesbian",
          "Gay or Lesbian;Queer",
          "Prefer not to say",
          "Prefer to self-describe:",
          "Prefer to self-describe:;Gay or Lesbian",
          "Prefer to self-describe:;Gay or Lesbian;Queer",
          "Prefer to self-describe:;Queer",
          "Queer",
          "Straight / Heterosexual",
          "Straight / Heterosexual;Bisexual",
          "Straight / Heterosexual;Bisexual;Gay or Lesbian",
          "Straight / Heterosexual;Bisexual;Gay or Lesbian;Queer",
          "Straight / Heterosexual;Bisexual;Prefer to self-describe:",
          "Straight / Heterosexual;Bisexual;Prefer to self-describe:;Gay or Lesbian",
          "Straight / Heterosexual;Bisexual;Prefer to self-describe:;Gay or Lesbian;Queer",
          "Straight / Heterosexual;Bisexual;Queer",
          "Straight / Heterosexual;Gay or Lesbian",
          "Straight / Heterosexual;Prefer to self-describe:",
          "Straight / Heterosexual;Prefer to self-describe:;Queer",
          "Straight / Heterosexual;Queer"
         ],
         "xaxis": "x",
         "y": [
          1632,
          41,
          15,
          17,
          2,
          7,
          77,
          826,
          56,
          12390,
          864,
          1,
          8,
          22,
          166,
          50017,
          293,
          12,
          7,
          4,
          1,
          9,
          5,
          14,
          154,
          1,
          37
         ],
         "yaxis": "y"
        }
       ],
       "layout": {
        "barmode": "relative",
        "height": 1400,
        "legend": {
         "title": {
          "text": "MentalHealth"
         },
         "tracegroupgap": 0,
         "x": 1,
         "y": 1
        },
        "template": {
         "data": {
          "candlestick": [
           {
            "decreasing": {
             "line": {
              "color": "#000033"
             }
            },
            "increasing": {
             "line": {
              "color": "#000032"
             }
            },
            "type": "candlestick"
           }
          ],
          "contour": [
           {
            "colorscale": [
             [
              0,
              "#000011"
             ],
             [
              0.1111111111111111,
              "#000012"
             ],
             [
              0.2222222222222222,
              "#000013"
             ],
             [
              0.3333333333333333,
              "#000014"
             ],
             [
              0.4444444444444444,
              "#000015"
             ],
             [
              0.5555555555555556,
              "#000016"
             ],
             [
              0.6666666666666666,
              "#000017"
             ],
             [
              0.7777777777777778,
              "#000018"
             ],
             [
              0.8888888888888888,
              "#000019"
             ],
             [
              1,
              "#000020"
             ]
            ],
            "type": "contour"
           }
          ],
          "contourcarpet": [
           {
            "colorscale": [
             [
              0,
              "#000011"
             ],
             [
              0.1111111111111111,
              "#000012"
             ],
             [
              0.2222222222222222,
              "#000013"
             ],
             [
              0.3333333333333333,
              "#000014"
             ],
             [
              0.4444444444444444,
              "#000015"
             ],
             [
              0.5555555555555556,
              "#000016"
             ],
             [
              0.6666666666666666,
              "#000017"
             ],
             [
              0.7777777777777778,
              "#000018"
             ],
             [
              0.8888888888888888,
              "#000019"
             ],
             [
              1,
              "#000020"
             ]
            ],
            "type": "contourcarpet"
           }
          ],
          "heatmap": [
           {
            "colorscale": [
             [
              0,
              "#000011"
             ],
             [
              0.1111111111111111,
              "#000012"
             ],
             [
              0.2222222222222222,
              "#000013"
             ],
             [
              0.3333333333333333,
              "#000014"
             ],
             [
              0.4444444444444444,
              "#000015"
             ],
             [
              0.5555555555555556,
              "#000016"
             ],
             [
              0.6666666666666666,
              "#000017"
             ],
             [
              0.7777777777777778,
              "#000018"
             ],
             [
              0.8888888888888888,
              "#000019"
             ],
             [
              1,
              "#000020"
             ]
            ],
            "type": "heatmap"
           }
          ],
          "histogram2d": [
           {
            "colorscale": [
             [
              0,
              "#000011"
             ],
             [
              0.1111111111111111,
              "#000012"
             ],
             [
              0.2222222222222222,
              "#000013"
             ],
             [
              0.3333333333333333,
              "#000014"
             ],
             [
              0.4444444444444444,
              "#000015"
             ],
             [
              0.5555555555555556,
              "#000016"
             ],
             [
              0.6666666666666666,
              "#000017"
             ],
             [
              0.7777777777777778,
              "#000018"
             ],
             [
              0.8888888888888888,
              "#000019"
             ],
             [
              1,
              "#000020"
             ]
            ],
            "type": "histogram2d"
           }
          ],
          "icicle": [
           {
            "textfont": {
             "color": "white"
            },
            "type": "icicle"
           }
          ],
          "sankey": [
           {
            "textfont": {
             "color": "#000036"
            },
            "type": "sankey"
           }
          ],
          "scatter": [
           {
            "marker": {
             "line": {
              "width": 0
             }
            },
            "type": "scatter"
           }
          ],
          "table": [
           {
            "cells": {
             "fill": {
              "color": "#000038"
             },
             "font": {
              "color": "#000037"
             },
             "line": {
              "color": "#000039"
             }
            },
            "header": {
             "fill": {
              "color": "#000040"
             },
             "font": {
              "color": "#000036"
             },
             "line": {
              "color": "#000039"
             }
            },
            "type": "table"
           }
          ],
          "waterfall": [
           {
            "connector": {
             "line": {
              "color": "#000036",
              "width": 2
             }
            },
            "decreasing": {
             "marker": {
              "color": "#000033"
             }
            },
            "increasing": {
             "marker": {
              "color": "#000032"
             }
            },
            "totals": {
             "marker": {
              "color": "#000034"
             }
            },
            "type": "waterfall"
           }
          ]
         },
         "layout": {
          "coloraxis": {
           "colorscale": [
            [
             0,
             "#000011"
            ],
            [
             0.1111111111111111,
             "#000012"
            ],
            [
             0.2222222222222222,
             "#000013"
            ],
            [
             0.3333333333333333,
             "#000014"
            ],
            [
             0.4444444444444444,
             "#000015"
            ],
            [
             0.5555555555555556,
             "#000016"
            ],
            [
             0.6666666666666666,
             "#000017"
            ],
            [
             0.7777777777777778,
             "#000018"
            ],
            [
             0.8888888888888888,
             "#000019"
            ],
            [
             1,
             "#000020"
            ]
           ]
          },
          "colorscale": {
           "diverging": [
            [
             0,
             "#000021"
            ],
            [
             0.1,
             "#000022"
            ],
            [
             0.2,
             "#000023"
            ],
            [
             0.3,
             "#000024"
            ],
            [
             0.4,
             "#000025"
            ],
            [
             0.5,
             "#000026"
            ],
            [
             0.6,
             "#000027"
            ],
            [
             0.7,
             "#000028"
            ],
            [
             0.8,
             "#000029"
            ],
            [
             0.9,
             "#000030"
            ],
            [
             1,
             "#000031"
            ]
           ],
           "sequential": [
            [
             0,
             "#000011"
            ],
            [
             0.1111111111111111,
             "#000012"
            ],
            [
             0.2222222222222222,
             "#000013"
            ],
            [
             0.3333333333333333,
             "#000014"
            ],
            [
             0.4444444444444444,
             "#000015"
            ],
            [
             0.5555555555555556,
             "#000016"
            ],
            [
             0.6666666666666666,
             "#000017"
            ],
            [
             0.7777777777777778,
             "#000018"
            ],
            [
             0.8888888888888888,
             "#000019"
            ],
            [
             1,
             "#000020"
            ]
           ],
           "sequentialminus": [
            [
             0,
             "#000011"
            ],
            [
             0.1111111111111111,
             "#000012"
            ],
            [
             0.2222222222222222,
             "#000013"
            ],
            [
             0.3333333333333333,
             "#000014"
            ],
            [
             0.4444444444444444,
             "#000015"
            ],
            [
             0.5555555555555556,
             "#000016"
            ],
            [
             0.6666666666666666,
             "#000017"
            ],
            [
             0.7777777777777778,
             "#000018"
            ],
            [
             0.8888888888888888,
             "#000019"
            ],
            [
             1,
             "#000020"
            ]
           ]
          },
          "colorway": [
           "#000001",
           "#000002",
           "#000003",
           "#000004",
           "#000005",
           "#000006",
           "#000007",
           "#000008",
           "#000009",
           "#000010"
          ]
         }
        },
        "title": {
         "text": "MentalHealth Distribution by Sexuality",
         "x": 0.5
        },
        "width": 1000,
        "xaxis": {
         "anchor": "y",
         "domain": [
          0,
          1
         ],
         "title": {
          "text": "Sexuality"
         }
        },
        "yaxis": {
         "anchor": "x",
         "domain": [
          0,
          1
         ],
         "title": {
          "text": "Counts"
         }
        }
       }
      }
     },
     "metadata": {},
     "output_type": "display_data"
    }
   ],
   "source": [
    "fig = stacked_graph_for_correlation(df2021, 'MentalHealth', 'Sexuality', 1400, 1000)\n",
    "fig.show()"
   ]
  },
  {
   "cell_type": "code",
   "execution_count": 272,
   "metadata": {},
   "outputs": [
    {
     "name": "stdout",
     "output_type": "stream",
     "text": [
      "2021 Data:\n",
      "  LanguageWantToWorkWith   2021\n",
      "0             JavaScript  40208\n",
      "1                 Python  37970\n",
      "2               HTML/CSS  31924\n",
      "3             TypeScript  29173\n",
      "4                    SQL  28958\n",
      "2022 Data:\n",
      "  LanguageWantToWorkWith   2022\n",
      "0             JavaScript  33404\n",
      "1                 Python  31021\n",
      "2             TypeScript  27642\n",
      "3               HTML/CSS  26914\n",
      "4                    SQL  26304\n",
      "Merged Data:\n",
      "  LanguageWantToWorkWith     2021     2022\n",
      "0                    APL    602.0    655.0\n",
      "1               Assembly   3894.0   3219.0\n",
      "2             Bash/Shell  15258.0  14019.0\n",
      "3                      C  10522.0   8291.0\n",
      "4                     C#  19529.0  16597.0\n",
      "Filled and Converted Data:\n",
      "                         2021   2022\n",
      "LanguageWantToWorkWith              \n",
      "APL                       602    655\n",
      "Assembly                 3894   3219\n",
      "Bash/Shell              15258  14019\n",
      "C                       10522   8291\n",
      "C#                      19529  16597\n",
      "Percentage Data:\n",
      "                            2021      2022\n",
      "LanguageWantToWorkWith                    \n",
      "APL                     0.001522  0.002021\n",
      "Assembly                0.009846  0.009932\n",
      "Bash/Shell              0.038580  0.043256\n",
      "C                       0.026605  0.025582\n",
      "C#                      0.049379  0.051210\n"
     ]
    },
    {
     "data": {
      "application/vnd.plotly.v1+json": {
       "config": {
        "plotlyServerURL": "https://plot.ly"
       },
       "data": [
        {
         "marker": {
          "color": "#636EFA"
         },
         "name": "2021",
         "type": "bar",
         "x": [
          "APL",
          "Assembly",
          "Bash/Shell",
          "C",
          "C#",
          "C++",
          "COBOL",
          "Clojure",
          "Crystal",
          "Dart",
          "Delphi",
          "Elixir",
          "Erlang",
          "F#",
          "Fortran",
          "Go",
          "Groovy",
          "HTML/CSS",
          "Haskell",
          "Java",
          "JavaScript",
          "Julia",
          "Kotlin",
          "LISP",
          "Lua",
          "MATLAB",
          "Matlab",
          "Node.js",
          "OCaml",
          "Objective-C",
          "PHP",
          "Perl",
          "PowerShell",
          "Python",
          "R",
          "Ruby",
          "Rust",
          "SAS",
          "SQL",
          "Scala",
          "Solidity",
          "Swift",
          "TypeScript",
          "VBA"
         ],
         "y": [
          0.0015221508345280447,
          0.009845939119023598,
          0.03857969673293838,
          0.026604769237382205,
          0.04937887649086077,
          0.04184650550072947,
          0.0008394585997729417,
          0.006662570513258136,
          0.0022023145795247957,
          0.019236750081543796,
          0.00270548404143689,
          0.00924668704629412,
          0.0037699782297031807,
          0.005914137544785875,
          0,
          0.04335854237622411,
          0.0032491093394826204,
          0.08071950704563671,
          0.009469194145029116,
          0.04726758754263666,
          0.10166551620382662,
          0.006685326921083306,
          0.029431620787220003,
          0.004116381326597436,
          0,
          0,
          0.004275676181373627,
          0.06635009974892096,
          0,
          0.0037902061477699985,
          0.02448336633012468,
          0.003213710482865689,
          0.013476850412017407,
          0.09600675612463432,
          0.011052028733757614,
          0.013512249268634337,
          0.043416697640666205,
          0,
          0.07322000642236398,
          0.008667662891631457,
          0,
          0.017497149127797457,
          0.07376363172040971,
          0.002955804527513761
         ]
        },
        {
         "marker": {
          "color": "#EF553B"
         },
         "name": "2022",
         "type": "bar",
         "x": [
          "APL",
          "Assembly",
          "Bash/Shell",
          "C",
          "C#",
          "C++",
          "COBOL",
          "Clojure",
          "Crystal",
          "Dart",
          "Delphi",
          "Elixir",
          "Erlang",
          "F#",
          "Fortran",
          "Go",
          "Groovy",
          "HTML/CSS",
          "Haskell",
          "Java",
          "JavaScript",
          "Julia",
          "Kotlin",
          "LISP",
          "Lua",
          "MATLAB",
          "Matlab",
          "Node.js",
          "OCaml",
          "Objective-C",
          "PHP",
          "Perl",
          "PowerShell",
          "Python",
          "R",
          "Ruby",
          "Rust",
          "SAS",
          "SQL",
          "Scala",
          "Solidity",
          "Swift",
          "TypeScript",
          "VBA"
         ],
         "y": [
          0.0020210123574877737,
          0.009932272944661287,
          0.043255835480337554,
          0.025582005276230734,
          0.05121029327820546,
          0.038803437263765256,
          0.0011354695382526727,
          0.00634073342692729,
          0.0016816057020318117,
          0.019947854795661767,
          0.005384223761551397,
          0.010777704068251593,
          0.004048195745074747,
          0.006365417547324087,
          0.0014347644980638394,
          0.050670328144525524,
          0.003437263765254015,
          0.0830435520449251,
          0.00973171446643731,
          0.043502676684305526,
          0.10306854471682686,
          0.007247874851509588,
          0.030620651352226972,
          0.004125333621314738,
          0.007775497924991129,
          0.003455776855551613,
          0,
          0,
          0.0024159582838365295,
          0.0028880420864252766,
          0.023962109875190915,
          0.0030639164442524567,
          0.01535660840185748,
          0.09571576235363088,
          0.009571267683858128,
          0.01286042672673136,
          0.05570897422052176,
          0.0012434625649886608,
          0.08116138786466931,
          0.008080963914901495,
          0.008553047717490242,
          0.01650133448525895,
          0.08528980700103364,
          0.003026890263657261
         ]
        }
       ],
       "layout": {
        "barmode": "group",
        "font": {
         "size": 14
        },
        "height": 600,
        "template": {
         "data": {
          "candlestick": [
           {
            "decreasing": {
             "line": {
              "color": "#000033"
             }
            },
            "increasing": {
             "line": {
              "color": "#000032"
             }
            },
            "type": "candlestick"
           }
          ],
          "contour": [
           {
            "colorscale": [
             [
              0,
              "#000011"
             ],
             [
              0.1111111111111111,
              "#000012"
             ],
             [
              0.2222222222222222,
              "#000013"
             ],
             [
              0.3333333333333333,
              "#000014"
             ],
             [
              0.4444444444444444,
              "#000015"
             ],
             [
              0.5555555555555556,
              "#000016"
             ],
             [
              0.6666666666666666,
              "#000017"
             ],
             [
              0.7777777777777778,
              "#000018"
             ],
             [
              0.8888888888888888,
              "#000019"
             ],
             [
              1,
              "#000020"
             ]
            ],
            "type": "contour"
           }
          ],
          "contourcarpet": [
           {
            "colorscale": [
             [
              0,
              "#000011"
             ],
             [
              0.1111111111111111,
              "#000012"
             ],
             [
              0.2222222222222222,
              "#000013"
             ],
             [
              0.3333333333333333,
              "#000014"
             ],
             [
              0.4444444444444444,
              "#000015"
             ],
             [
              0.5555555555555556,
              "#000016"
             ],
             [
              0.6666666666666666,
              "#000017"
             ],
             [
              0.7777777777777778,
              "#000018"
             ],
             [
              0.8888888888888888,
              "#000019"
             ],
             [
              1,
              "#000020"
             ]
            ],
            "type": "contourcarpet"
           }
          ],
          "heatmap": [
           {
            "colorscale": [
             [
              0,
              "#000011"
             ],
             [
              0.1111111111111111,
              "#000012"
             ],
             [
              0.2222222222222222,
              "#000013"
             ],
             [
              0.3333333333333333,
              "#000014"
             ],
             [
              0.4444444444444444,
              "#000015"
             ],
             [
              0.5555555555555556,
              "#000016"
             ],
             [
              0.6666666666666666,
              "#000017"
             ],
             [
              0.7777777777777778,
              "#000018"
             ],
             [
              0.8888888888888888,
              "#000019"
             ],
             [
              1,
              "#000020"
             ]
            ],
            "type": "heatmap"
           }
          ],
          "histogram2d": [
           {
            "colorscale": [
             [
              0,
              "#000011"
             ],
             [
              0.1111111111111111,
              "#000012"
             ],
             [
              0.2222222222222222,
              "#000013"
             ],
             [
              0.3333333333333333,
              "#000014"
             ],
             [
              0.4444444444444444,
              "#000015"
             ],
             [
              0.5555555555555556,
              "#000016"
             ],
             [
              0.6666666666666666,
              "#000017"
             ],
             [
              0.7777777777777778,
              "#000018"
             ],
             [
              0.8888888888888888,
              "#000019"
             ],
             [
              1,
              "#000020"
             ]
            ],
            "type": "histogram2d"
           }
          ],
          "icicle": [
           {
            "textfont": {
             "color": "white"
            },
            "type": "icicle"
           }
          ],
          "sankey": [
           {
            "textfont": {
             "color": "#000036"
            },
            "type": "sankey"
           }
          ],
          "scatter": [
           {
            "marker": {
             "line": {
              "width": 0
             }
            },
            "type": "scatter"
           }
          ],
          "table": [
           {
            "cells": {
             "fill": {
              "color": "#000038"
             },
             "font": {
              "color": "#000037"
             },
             "line": {
              "color": "#000039"
             }
            },
            "header": {
             "fill": {
              "color": "#000040"
             },
             "font": {
              "color": "#000036"
             },
             "line": {
              "color": "#000039"
             }
            },
            "type": "table"
           }
          ],
          "waterfall": [
           {
            "connector": {
             "line": {
              "color": "#000036",
              "width": 2
             }
            },
            "decreasing": {
             "marker": {
              "color": "#000033"
             }
            },
            "increasing": {
             "marker": {
              "color": "#000032"
             }
            },
            "totals": {
             "marker": {
              "color": "#000034"
             }
            },
            "type": "waterfall"
           }
          ]
         },
         "layout": {
          "coloraxis": {
           "colorscale": [
            [
             0,
             "#000011"
            ],
            [
             0.1111111111111111,
             "#000012"
            ],
            [
             0.2222222222222222,
             "#000013"
            ],
            [
             0.3333333333333333,
             "#000014"
            ],
            [
             0.4444444444444444,
             "#000015"
            ],
            [
             0.5555555555555556,
             "#000016"
            ],
            [
             0.6666666666666666,
             "#000017"
            ],
            [
             0.7777777777777778,
             "#000018"
            ],
            [
             0.8888888888888888,
             "#000019"
            ],
            [
             1,
             "#000020"
            ]
           ]
          },
          "colorscale": {
           "diverging": [
            [
             0,
             "#000021"
            ],
            [
             0.1,
             "#000022"
            ],
            [
             0.2,
             "#000023"
            ],
            [
             0.3,
             "#000024"
            ],
            [
             0.4,
             "#000025"
            ],
            [
             0.5,
             "#000026"
            ],
            [
             0.6,
             "#000027"
            ],
            [
             0.7,
             "#000028"
            ],
            [
             0.8,
             "#000029"
            ],
            [
             0.9,
             "#000030"
            ],
            [
             1,
             "#000031"
            ]
           ],
           "sequential": [
            [
             0,
             "#000011"
            ],
            [
             0.1111111111111111,
             "#000012"
            ],
            [
             0.2222222222222222,
             "#000013"
            ],
            [
             0.3333333333333333,
             "#000014"
            ],
            [
             0.4444444444444444,
             "#000015"
            ],
            [
             0.5555555555555556,
             "#000016"
            ],
            [
             0.6666666666666666,
             "#000017"
            ],
            [
             0.7777777777777778,
             "#000018"
            ],
            [
             0.8888888888888888,
             "#000019"
            ],
            [
             1,
             "#000020"
            ]
           ],
           "sequentialminus": [
            [
             0,
             "#000011"
            ],
            [
             0.1111111111111111,
             "#000012"
            ],
            [
             0.2222222222222222,
             "#000013"
            ],
            [
             0.3333333333333333,
             "#000014"
            ],
            [
             0.4444444444444444,
             "#000015"
            ],
            [
             0.5555555555555556,
             "#000016"
            ],
            [
             0.6666666666666666,
             "#000017"
            ],
            [
             0.7777777777777778,
             "#000018"
            ],
            [
             0.8888888888888888,
             "#000019"
            ],
            [
             1,
             "#000020"
            ]
           ]
          },
          "colorway": [
           "#000001",
           "#000002",
           "#000003",
           "#000004",
           "#000005",
           "#000006",
           "#000007",
           "#000008",
           "#000009",
           "#000010"
          ]
         }
        },
        "title": {
         "text": "Comparison of Language Desires by Year"
        },
        "width": 800,
        "xaxis": {
         "title": {
          "text": "LanguageWantToWorkWith"
         }
        },
        "yaxis": {
         "title": {
          "text": "Percentages"
         }
        }
       }
      }
     },
     "metadata": {},
     "output_type": "display_data"
    }
   ],
   "source": [
    "fig = compare_column_and_plot('LanguageWantToWorkWith')\n",
    "fig.show()"
   ]
  },
  {
   "cell_type": "code",
   "execution_count": 274,
   "metadata": {},
   "outputs": [
    {
     "data": {
      "application/vnd.plotly.v1+json": {
       "config": {
        "plotlyServerURL": "https://plot.ly"
       },
       "data": [
        {
         "marker": {
          "color": "#636EFA"
         },
         "name": "x",
         "type": "bar",
         "x": [
          "APL",
          "Assembly",
          "Bash/Shell",
          "C",
          "C#",
          "C++",
          "COBOL",
          "Clojure",
          "Crystal",
          "Dart",
          "Delphi",
          "Elixir",
          "Erlang",
          "F#",
          "Go",
          "Groovy",
          "HTML/CSS",
          "Haskell",
          "Java",
          "JavaScript",
          "Julia",
          "Kotlin",
          "LISP",
          "Matlab",
          "Node.js",
          "Objective-C",
          "PHP",
          "Perl",
          "PowerShell",
          "Python",
          "R",
          "Ruby",
          "Rust",
          "SQL",
          "Scala",
          "Swift",
          "TypeScript",
          "VBA"
         ],
         "y": [
          545,
          4684,
          22655,
          17548,
          23272,
          20325,
          442,
          1570,
          476,
          5030,
          1751,
          1459,
          663,
          818,
          7978,
          2508,
          46853,
          1776,
          29558,
          54291,
          1086,
          6977,
          1104,
          3889,
          28344,
          2343,
          18360,
          2051,
          8978,
          40311,
          4235,
          5638,
          5858,
          39337,
          2172,
          4258,
          25243,
          3897
         ]
        },
        {
         "marker": {
          "color": "#EF553B"
         },
         "name": "y",
         "type": "bar",
         "x": [
          "APL",
          "Assembly",
          "Bash/Shell",
          "C",
          "C#",
          "C++",
          "COBOL",
          "Clojure",
          "Crystal",
          "Dart",
          "Delphi",
          "Elixir",
          "Erlang",
          "F#",
          "Go",
          "Groovy",
          "HTML/CSS",
          "Haskell",
          "Java",
          "JavaScript",
          "Julia",
          "Kotlin",
          "LISP",
          "Matlab",
          "Node.js",
          "Objective-C",
          "PHP",
          "Perl",
          "PowerShell",
          "Python",
          "R",
          "Ruby",
          "Rust",
          "SQL",
          "Scala",
          "Swift",
          "TypeScript",
          "VBA"
         ],
         "y": [
          602,
          3894,
          15258,
          10522,
          19529,
          16550,
          332,
          2635,
          871,
          7608,
          1070,
          3657,
          1491,
          2339,
          17148,
          1285,
          31924,
          3745,
          18694,
          40208,
          2644,
          11640,
          1628,
          1691,
          26241,
          1499,
          9683,
          1271,
          5330,
          37970,
          4371,
          5344,
          17171,
          28958,
          3428,
          6920,
          29173,
          1169
         ]
        }
       ],
       "layout": {
        "barmode": "stack",
        "font": {
         "size": 14
        },
        "height": 600,
        "template": {
         "data": {
          "candlestick": [
           {
            "decreasing": {
             "line": {
              "color": "#000033"
             }
            },
            "increasing": {
             "line": {
              "color": "#000032"
             }
            },
            "type": "candlestick"
           }
          ],
          "contour": [
           {
            "colorscale": [
             [
              0,
              "#000011"
             ],
             [
              0.1111111111111111,
              "#000012"
             ],
             [
              0.2222222222222222,
              "#000013"
             ],
             [
              0.3333333333333333,
              "#000014"
             ],
             [
              0.4444444444444444,
              "#000015"
             ],
             [
              0.5555555555555556,
              "#000016"
             ],
             [
              0.6666666666666666,
              "#000017"
             ],
             [
              0.7777777777777778,
              "#000018"
             ],
             [
              0.8888888888888888,
              "#000019"
             ],
             [
              1,
              "#000020"
             ]
            ],
            "type": "contour"
           }
          ],
          "contourcarpet": [
           {
            "colorscale": [
             [
              0,
              "#000011"
             ],
             [
              0.1111111111111111,
              "#000012"
             ],
             [
              0.2222222222222222,
              "#000013"
             ],
             [
              0.3333333333333333,
              "#000014"
             ],
             [
              0.4444444444444444,
              "#000015"
             ],
             [
              0.5555555555555556,
              "#000016"
             ],
             [
              0.6666666666666666,
              "#000017"
             ],
             [
              0.7777777777777778,
              "#000018"
             ],
             [
              0.8888888888888888,
              "#000019"
             ],
             [
              1,
              "#000020"
             ]
            ],
            "type": "contourcarpet"
           }
          ],
          "heatmap": [
           {
            "colorscale": [
             [
              0,
              "#000011"
             ],
             [
              0.1111111111111111,
              "#000012"
             ],
             [
              0.2222222222222222,
              "#000013"
             ],
             [
              0.3333333333333333,
              "#000014"
             ],
             [
              0.4444444444444444,
              "#000015"
             ],
             [
              0.5555555555555556,
              "#000016"
             ],
             [
              0.6666666666666666,
              "#000017"
             ],
             [
              0.7777777777777778,
              "#000018"
             ],
             [
              0.8888888888888888,
              "#000019"
             ],
             [
              1,
              "#000020"
             ]
            ],
            "type": "heatmap"
           }
          ],
          "histogram2d": [
           {
            "colorscale": [
             [
              0,
              "#000011"
             ],
             [
              0.1111111111111111,
              "#000012"
             ],
             [
              0.2222222222222222,
              "#000013"
             ],
             [
              0.3333333333333333,
              "#000014"
             ],
             [
              0.4444444444444444,
              "#000015"
             ],
             [
              0.5555555555555556,
              "#000016"
             ],
             [
              0.6666666666666666,
              "#000017"
             ],
             [
              0.7777777777777778,
              "#000018"
             ],
             [
              0.8888888888888888,
              "#000019"
             ],
             [
              1,
              "#000020"
             ]
            ],
            "type": "histogram2d"
           }
          ],
          "icicle": [
           {
            "textfont": {
             "color": "white"
            },
            "type": "icicle"
           }
          ],
          "sankey": [
           {
            "textfont": {
             "color": "#000036"
            },
            "type": "sankey"
           }
          ],
          "scatter": [
           {
            "marker": {
             "line": {
              "width": 0
             }
            },
            "type": "scatter"
           }
          ],
          "table": [
           {
            "cells": {
             "fill": {
              "color": "#000038"
             },
             "font": {
              "color": "#000037"
             },
             "line": {
              "color": "#000039"
             }
            },
            "header": {
             "fill": {
              "color": "#000040"
             },
             "font": {
              "color": "#000036"
             },
             "line": {
              "color": "#000039"
             }
            },
            "type": "table"
           }
          ],
          "waterfall": [
           {
            "connector": {
             "line": {
              "color": "#000036",
              "width": 2
             }
            },
            "decreasing": {
             "marker": {
              "color": "#000033"
             }
            },
            "increasing": {
             "marker": {
              "color": "#000032"
             }
            },
            "totals": {
             "marker": {
              "color": "#000034"
             }
            },
            "type": "waterfall"
           }
          ]
         },
         "layout": {
          "coloraxis": {
           "colorscale": [
            [
             0,
             "#000011"
            ],
            [
             0.1111111111111111,
             "#000012"
            ],
            [
             0.2222222222222222,
             "#000013"
            ],
            [
             0.3333333333333333,
             "#000014"
            ],
            [
             0.4444444444444444,
             "#000015"
            ],
            [
             0.5555555555555556,
             "#000016"
            ],
            [
             0.6666666666666666,
             "#000017"
            ],
            [
             0.7777777777777778,
             "#000018"
            ],
            [
             0.8888888888888888,
             "#000019"
            ],
            [
             1,
             "#000020"
            ]
           ]
          },
          "colorscale": {
           "diverging": [
            [
             0,
             "#000021"
            ],
            [
             0.1,
             "#000022"
            ],
            [
             0.2,
             "#000023"
            ],
            [
             0.3,
             "#000024"
            ],
            [
             0.4,
             "#000025"
            ],
            [
             0.5,
             "#000026"
            ],
            [
             0.6,
             "#000027"
            ],
            [
             0.7,
             "#000028"
            ],
            [
             0.8,
             "#000029"
            ],
            [
             0.9,
             "#000030"
            ],
            [
             1,
             "#000031"
            ]
           ],
           "sequential": [
            [
             0,
             "#000011"
            ],
            [
             0.1111111111111111,
             "#000012"
            ],
            [
             0.2222222222222222,
             "#000013"
            ],
            [
             0.3333333333333333,
             "#000014"
            ],
            [
             0.4444444444444444,
             "#000015"
            ],
            [
             0.5555555555555556,
             "#000016"
            ],
            [
             0.6666666666666666,
             "#000017"
            ],
            [
             0.7777777777777778,
             "#000018"
            ],
            [
             0.8888888888888888,
             "#000019"
            ],
            [
             1,
             "#000020"
            ]
           ],
           "sequentialminus": [
            [
             0,
             "#000011"
            ],
            [
             0.1111111111111111,
             "#000012"
            ],
            [
             0.2222222222222222,
             "#000013"
            ],
            [
             0.3333333333333333,
             "#000014"
            ],
            [
             0.4444444444444444,
             "#000015"
            ],
            [
             0.5555555555555556,
             "#000016"
            ],
            [
             0.6666666666666666,
             "#000017"
            ],
            [
             0.7777777777777778,
             "#000018"
            ],
            [
             0.8888888888888888,
             "#000019"
            ],
            [
             1,
             "#000020"
            ]
           ]
          },
          "colorway": [
           "#000001",
           "#000002",
           "#000003",
           "#000004",
           "#000005",
           "#000006",
           "#000007",
           "#000008",
           "#000009",
           "#000010"
          ]
         }
        },
        "title": {
         "text": "Comparison of Languages Worked With and Want to Work With"
        },
        "width": 800,
        "xaxis": {
         "title": {
          "text": "Programming Languages"
         }
        },
        "yaxis": {
         "title": {
          "text": "Count"
         }
        }
       }
      }
     },
     "metadata": {},
     "output_type": "display_data"
    }
   ],
   "source": [
    "fig = compare_language_columns_and_plot(df2021, 'LanguageHaveWorkedWith', 'LanguageWantToWorkWith')\n",
    "fig.show()"
   ]
  },
  {
   "cell_type": "code",
   "execution_count": 275,
   "metadata": {},
   "outputs": [
    {
     "data": {
      "application/vnd.plotly.v1+json": {
       "config": {
        "plotlyServerURL": "https://plot.ly"
       },
       "data": [
        {
         "marker": {
          "color": "#636EFA"
         },
         "name": "x",
         "type": "bar",
         "x": [
          "Cassandra",
          "Couchbase",
          "DynamoDB",
          "Elasticsearch",
          "Firebase",
          "IBM DB2",
          "MariaDB",
          "Microsoft SQL Server",
          "MongoDB",
          "MySQL",
          "Oracle",
          "PostgreSQL",
          "Redis",
          "SQLite"
         ],
         "y": [
          2258,
          1337,
          6079,
          11143,
          13678,
          1728,
          14449,
          22563,
          23459,
          42398,
          10649,
          34060,
          17422,
          27173
         ]
        },
        {
         "marker": {
          "color": "#EF553B"
         },
         "name": "y",
         "type": "bar",
         "x": [
          "Cassandra",
          "Couchbase",
          "DynamoDB",
          "Elasticsearch",
          "Firebase",
          "IBM DB2",
          "MariaDB",
          "Microsoft SQL Server",
          "MongoDB",
          "MySQL",
          "Oracle",
          "PostgreSQL",
          "Redis",
          "SQLite"
         ],
         "y": [
          6057,
          2416,
          8580,
          16529,
          15458,
          978,
          11707,
          16242,
          28843,
          28934,
          6537,
          38576,
          24450,
          21913
         ]
        }
       ],
       "layout": {
        "barmode": "stack",
        "font": {
         "size": 14
        },
        "height": 600,
        "template": {
         "data": {
          "candlestick": [
           {
            "decreasing": {
             "line": {
              "color": "#000033"
             }
            },
            "increasing": {
             "line": {
              "color": "#000032"
             }
            },
            "type": "candlestick"
           }
          ],
          "contour": [
           {
            "colorscale": [
             [
              0,
              "#000011"
             ],
             [
              0.1111111111111111,
              "#000012"
             ],
             [
              0.2222222222222222,
              "#000013"
             ],
             [
              0.3333333333333333,
              "#000014"
             ],
             [
              0.4444444444444444,
              "#000015"
             ],
             [
              0.5555555555555556,
              "#000016"
             ],
             [
              0.6666666666666666,
              "#000017"
             ],
             [
              0.7777777777777778,
              "#000018"
             ],
             [
              0.8888888888888888,
              "#000019"
             ],
             [
              1,
              "#000020"
             ]
            ],
            "type": "contour"
           }
          ],
          "contourcarpet": [
           {
            "colorscale": [
             [
              0,
              "#000011"
             ],
             [
              0.1111111111111111,
              "#000012"
             ],
             [
              0.2222222222222222,
              "#000013"
             ],
             [
              0.3333333333333333,
              "#000014"
             ],
             [
              0.4444444444444444,
              "#000015"
             ],
             [
              0.5555555555555556,
              "#000016"
             ],
             [
              0.6666666666666666,
              "#000017"
             ],
             [
              0.7777777777777778,
              "#000018"
             ],
             [
              0.8888888888888888,
              "#000019"
             ],
             [
              1,
              "#000020"
             ]
            ],
            "type": "contourcarpet"
           }
          ],
          "heatmap": [
           {
            "colorscale": [
             [
              0,
              "#000011"
             ],
             [
              0.1111111111111111,
              "#000012"
             ],
             [
              0.2222222222222222,
              "#000013"
             ],
             [
              0.3333333333333333,
              "#000014"
             ],
             [
              0.4444444444444444,
              "#000015"
             ],
             [
              0.5555555555555556,
              "#000016"
             ],
             [
              0.6666666666666666,
              "#000017"
             ],
             [
              0.7777777777777778,
              "#000018"
             ],
             [
              0.8888888888888888,
              "#000019"
             ],
             [
              1,
              "#000020"
             ]
            ],
            "type": "heatmap"
           }
          ],
          "histogram2d": [
           {
            "colorscale": [
             [
              0,
              "#000011"
             ],
             [
              0.1111111111111111,
              "#000012"
             ],
             [
              0.2222222222222222,
              "#000013"
             ],
             [
              0.3333333333333333,
              "#000014"
             ],
             [
              0.4444444444444444,
              "#000015"
             ],
             [
              0.5555555555555556,
              "#000016"
             ],
             [
              0.6666666666666666,
              "#000017"
             ],
             [
              0.7777777777777778,
              "#000018"
             ],
             [
              0.8888888888888888,
              "#000019"
             ],
             [
              1,
              "#000020"
             ]
            ],
            "type": "histogram2d"
           }
          ],
          "icicle": [
           {
            "textfont": {
             "color": "white"
            },
            "type": "icicle"
           }
          ],
          "sankey": [
           {
            "textfont": {
             "color": "#000036"
            },
            "type": "sankey"
           }
          ],
          "scatter": [
           {
            "marker": {
             "line": {
              "width": 0
             }
            },
            "type": "scatter"
           }
          ],
          "table": [
           {
            "cells": {
             "fill": {
              "color": "#000038"
             },
             "font": {
              "color": "#000037"
             },
             "line": {
              "color": "#000039"
             }
            },
            "header": {
             "fill": {
              "color": "#000040"
             },
             "font": {
              "color": "#000036"
             },
             "line": {
              "color": "#000039"
             }
            },
            "type": "table"
           }
          ],
          "waterfall": [
           {
            "connector": {
             "line": {
              "color": "#000036",
              "width": 2
             }
            },
            "decreasing": {
             "marker": {
              "color": "#000033"
             }
            },
            "increasing": {
             "marker": {
              "color": "#000032"
             }
            },
            "totals": {
             "marker": {
              "color": "#000034"
             }
            },
            "type": "waterfall"
           }
          ]
         },
         "layout": {
          "coloraxis": {
           "colorscale": [
            [
             0,
             "#000011"
            ],
            [
             0.1111111111111111,
             "#000012"
            ],
            [
             0.2222222222222222,
             "#000013"
            ],
            [
             0.3333333333333333,
             "#000014"
            ],
            [
             0.4444444444444444,
             "#000015"
            ],
            [
             0.5555555555555556,
             "#000016"
            ],
            [
             0.6666666666666666,
             "#000017"
            ],
            [
             0.7777777777777778,
             "#000018"
            ],
            [
             0.8888888888888888,
             "#000019"
            ],
            [
             1,
             "#000020"
            ]
           ]
          },
          "colorscale": {
           "diverging": [
            [
             0,
             "#000021"
            ],
            [
             0.1,
             "#000022"
            ],
            [
             0.2,
             "#000023"
            ],
            [
             0.3,
             "#000024"
            ],
            [
             0.4,
             "#000025"
            ],
            [
             0.5,
             "#000026"
            ],
            [
             0.6,
             "#000027"
            ],
            [
             0.7,
             "#000028"
            ],
            [
             0.8,
             "#000029"
            ],
            [
             0.9,
             "#000030"
            ],
            [
             1,
             "#000031"
            ]
           ],
           "sequential": [
            [
             0,
             "#000011"
            ],
            [
             0.1111111111111111,
             "#000012"
            ],
            [
             0.2222222222222222,
             "#000013"
            ],
            [
             0.3333333333333333,
             "#000014"
            ],
            [
             0.4444444444444444,
             "#000015"
            ],
            [
             0.5555555555555556,
             "#000016"
            ],
            [
             0.6666666666666666,
             "#000017"
            ],
            [
             0.7777777777777778,
             "#000018"
            ],
            [
             0.8888888888888888,
             "#000019"
            ],
            [
             1,
             "#000020"
            ]
           ],
           "sequentialminus": [
            [
             0,
             "#000011"
            ],
            [
             0.1111111111111111,
             "#000012"
            ],
            [
             0.2222222222222222,
             "#000013"
            ],
            [
             0.3333333333333333,
             "#000014"
            ],
            [
             0.4444444444444444,
             "#000015"
            ],
            [
             0.5555555555555556,
             "#000016"
            ],
            [
             0.6666666666666666,
             "#000017"
            ],
            [
             0.7777777777777778,
             "#000018"
            ],
            [
             0.8888888888888888,
             "#000019"
            ],
            [
             1,
             "#000020"
            ]
           ]
          },
          "colorway": [
           "#000001",
           "#000002",
           "#000003",
           "#000004",
           "#000005",
           "#000006",
           "#000007",
           "#000008",
           "#000009",
           "#000010"
          ]
         }
        },
        "title": {
         "text": "Comparison of Languages Worked With and Want to Work With"
        },
        "width": 800,
        "xaxis": {
         "title": {
          "text": "Programming Languages"
         }
        },
        "yaxis": {
         "title": {
          "text": "Count"
         }
        }
       }
      }
     },
     "metadata": {},
     "output_type": "display_data"
    }
   ],
   "source": [
    "fig = compare_language_columns_and_plot(df2021, 'DatabaseHaveWorkedWith', 'DatabaseWantToWorkWith')\n",
    "fig.show()"
   ]
  },
  {
   "cell_type": "code",
   "execution_count": 276,
   "metadata": {},
   "outputs": [
    {
     "data": {
      "application/vnd.plotly.v1+json": {
       "config": {
        "plotlyServerURL": "https://plot.ly"
       },
       "data": [
        {
         "marker": {
          "color": "#636EFA"
         },
         "name": "x",
         "type": "bar",
         "x": [
          "ASP.NET",
          "ASP.NET Core ",
          "Angular",
          "Angular.js",
          "Django",
          "Drupal",
          "Express",
          "FastAPI",
          "Flask",
          "Gatsby",
          "Laravel",
          "React.js",
          "Ruby on Rails",
          "Spring",
          "Svelte",
          "Symfony",
          "Vue.js",
          "jQuery"
         ],
         "y": [
          13367,
          15349,
          19423,
          9750,
          12850,
          2064,
          20450,
          3345,
          13880,
          3434,
          8562,
          34226,
          6026,
          12454,
          2373,
          3258,
          16140,
          29357
         ]
        },
        {
         "marker": {
          "color": "#EF553B"
         },
         "name": "y",
         "type": "bar",
         "x": [
          "ASP.NET",
          "ASP.NET Core ",
          "Angular",
          "Angular.js",
          "Django",
          "Drupal",
          "Express",
          "FastAPI",
          "Flask",
          "Gatsby",
          "Laravel",
          "React.js",
          "Ruby on Rails",
          "Spring",
          "Svelte",
          "Symfony",
          "Vue.js",
          "jQuery"
         ],
         "y": [
          7055,
          16580,
          18293,
          6855,
          14667,
          1047,
          19076,
          6471,
          12092,
          4567,
          7612,
          41049,
          6840,
          11632,
          8468,
          2867,
          25337,
          13609
         ]
        }
       ],
       "layout": {
        "barmode": "stack",
        "font": {
         "size": 14
        },
        "height": 600,
        "template": {
         "data": {
          "candlestick": [
           {
            "decreasing": {
             "line": {
              "color": "#000033"
             }
            },
            "increasing": {
             "line": {
              "color": "#000032"
             }
            },
            "type": "candlestick"
           }
          ],
          "contour": [
           {
            "colorscale": [
             [
              0,
              "#000011"
             ],
             [
              0.1111111111111111,
              "#000012"
             ],
             [
              0.2222222222222222,
              "#000013"
             ],
             [
              0.3333333333333333,
              "#000014"
             ],
             [
              0.4444444444444444,
              "#000015"
             ],
             [
              0.5555555555555556,
              "#000016"
             ],
             [
              0.6666666666666666,
              "#000017"
             ],
             [
              0.7777777777777778,
              "#000018"
             ],
             [
              0.8888888888888888,
              "#000019"
             ],
             [
              1,
              "#000020"
             ]
            ],
            "type": "contour"
           }
          ],
          "contourcarpet": [
           {
            "colorscale": [
             [
              0,
              "#000011"
             ],
             [
              0.1111111111111111,
              "#000012"
             ],
             [
              0.2222222222222222,
              "#000013"
             ],
             [
              0.3333333333333333,
              "#000014"
             ],
             [
              0.4444444444444444,
              "#000015"
             ],
             [
              0.5555555555555556,
              "#000016"
             ],
             [
              0.6666666666666666,
              "#000017"
             ],
             [
              0.7777777777777778,
              "#000018"
             ],
             [
              0.8888888888888888,
              "#000019"
             ],
             [
              1,
              "#000020"
             ]
            ],
            "type": "contourcarpet"
           }
          ],
          "heatmap": [
           {
            "colorscale": [
             [
              0,
              "#000011"
             ],
             [
              0.1111111111111111,
              "#000012"
             ],
             [
              0.2222222222222222,
              "#000013"
             ],
             [
              0.3333333333333333,
              "#000014"
             ],
             [
              0.4444444444444444,
              "#000015"
             ],
             [
              0.5555555555555556,
              "#000016"
             ],
             [
              0.6666666666666666,
              "#000017"
             ],
             [
              0.7777777777777778,
              "#000018"
             ],
             [
              0.8888888888888888,
              "#000019"
             ],
             [
              1,
              "#000020"
             ]
            ],
            "type": "heatmap"
           }
          ],
          "histogram2d": [
           {
            "colorscale": [
             [
              0,
              "#000011"
             ],
             [
              0.1111111111111111,
              "#000012"
             ],
             [
              0.2222222222222222,
              "#000013"
             ],
             [
              0.3333333333333333,
              "#000014"
             ],
             [
              0.4444444444444444,
              "#000015"
             ],
             [
              0.5555555555555556,
              "#000016"
             ],
             [
              0.6666666666666666,
              "#000017"
             ],
             [
              0.7777777777777778,
              "#000018"
             ],
             [
              0.8888888888888888,
              "#000019"
             ],
             [
              1,
              "#000020"
             ]
            ],
            "type": "histogram2d"
           }
          ],
          "icicle": [
           {
            "textfont": {
             "color": "white"
            },
            "type": "icicle"
           }
          ],
          "sankey": [
           {
            "textfont": {
             "color": "#000036"
            },
            "type": "sankey"
           }
          ],
          "scatter": [
           {
            "marker": {
             "line": {
              "width": 0
             }
            },
            "type": "scatter"
           }
          ],
          "table": [
           {
            "cells": {
             "fill": {
              "color": "#000038"
             },
             "font": {
              "color": "#000037"
             },
             "line": {
              "color": "#000039"
             }
            },
            "header": {
             "fill": {
              "color": "#000040"
             },
             "font": {
              "color": "#000036"
             },
             "line": {
              "color": "#000039"
             }
            },
            "type": "table"
           }
          ],
          "waterfall": [
           {
            "connector": {
             "line": {
              "color": "#000036",
              "width": 2
             }
            },
            "decreasing": {
             "marker": {
              "color": "#000033"
             }
            },
            "increasing": {
             "marker": {
              "color": "#000032"
             }
            },
            "totals": {
             "marker": {
              "color": "#000034"
             }
            },
            "type": "waterfall"
           }
          ]
         },
         "layout": {
          "coloraxis": {
           "colorscale": [
            [
             0,
             "#000011"
            ],
            [
             0.1111111111111111,
             "#000012"
            ],
            [
             0.2222222222222222,
             "#000013"
            ],
            [
             0.3333333333333333,
             "#000014"
            ],
            [
             0.4444444444444444,
             "#000015"
            ],
            [
             0.5555555555555556,
             "#000016"
            ],
            [
             0.6666666666666666,
             "#000017"
            ],
            [
             0.7777777777777778,
             "#000018"
            ],
            [
             0.8888888888888888,
             "#000019"
            ],
            [
             1,
             "#000020"
            ]
           ]
          },
          "colorscale": {
           "diverging": [
            [
             0,
             "#000021"
            ],
            [
             0.1,
             "#000022"
            ],
            [
             0.2,
             "#000023"
            ],
            [
             0.3,
             "#000024"
            ],
            [
             0.4,
             "#000025"
            ],
            [
             0.5,
             "#000026"
            ],
            [
             0.6,
             "#000027"
            ],
            [
             0.7,
             "#000028"
            ],
            [
             0.8,
             "#000029"
            ],
            [
             0.9,
             "#000030"
            ],
            [
             1,
             "#000031"
            ]
           ],
           "sequential": [
            [
             0,
             "#000011"
            ],
            [
             0.1111111111111111,
             "#000012"
            ],
            [
             0.2222222222222222,
             "#000013"
            ],
            [
             0.3333333333333333,
             "#000014"
            ],
            [
             0.4444444444444444,
             "#000015"
            ],
            [
             0.5555555555555556,
             "#000016"
            ],
            [
             0.6666666666666666,
             "#000017"
            ],
            [
             0.7777777777777778,
             "#000018"
            ],
            [
             0.8888888888888888,
             "#000019"
            ],
            [
             1,
             "#000020"
            ]
           ],
           "sequentialminus": [
            [
             0,
             "#000011"
            ],
            [
             0.1111111111111111,
             "#000012"
            ],
            [
             0.2222222222222222,
             "#000013"
            ],
            [
             0.3333333333333333,
             "#000014"
            ],
            [
             0.4444444444444444,
             "#000015"
            ],
            [
             0.5555555555555556,
             "#000016"
            ],
            [
             0.6666666666666666,
             "#000017"
            ],
            [
             0.7777777777777778,
             "#000018"
            ],
            [
             0.8888888888888888,
             "#000019"
            ],
            [
             1,
             "#000020"
            ]
           ]
          },
          "colorway": [
           "#000001",
           "#000002",
           "#000003",
           "#000004",
           "#000005",
           "#000006",
           "#000007",
           "#000008",
           "#000009",
           "#000010"
          ]
         }
        },
        "title": {
         "text": "Comparison of Languages Worked With and Want to Work With"
        },
        "width": 800,
        "xaxis": {
         "title": {
          "text": "Programming Languages"
         }
        },
        "yaxis": {
         "title": {
          "text": "Count"
         }
        }
       }
      }
     },
     "metadata": {},
     "output_type": "display_data"
    }
   ],
   "source": [
    "fig = compare_language_columns_and_plot(df2021, 'WebframeHaveWorkedWith', 'WebframeWantToWorkWith')\n",
    "fig.show()"
   ]
  },
  {
   "cell_type": "code",
   "execution_count": 252,
   "metadata": {},
   "outputs": [
    {
     "name": "stderr",
     "output_type": "stream",
     "text": [
      "C:\\Users\\Nikita\\AppData\\Local\\Temp\\ipykernel_17576\\4068930218.py:9: UserWarning:\n",
      "\n",
      "FigureCanvasAgg is non-interactive, and thus cannot be shown\n",
      "\n"
     ]
    }
   ],
   "source": [
    "clustered_graph(df2021,'MentalHealth','Sexuality')"
   ]
  },
  {
   "cell_type": "markdown",
   "metadata": {},
   "source": [
    "# 2022 Dataset"
   ]
  },
  {
   "cell_type": "code",
   "execution_count": 253,
   "metadata": {},
   "outputs": [
    {
     "data": {
      "text/html": [
       "<div>\n",
       "<style scoped>\n",
       "    .dataframe tbody tr th:only-of-type {\n",
       "        vertical-align: middle;\n",
       "    }\n",
       "\n",
       "    .dataframe tbody tr th {\n",
       "        vertical-align: top;\n",
       "    }\n",
       "\n",
       "    .dataframe thead th {\n",
       "        text-align: right;\n",
       "    }\n",
       "</style>\n",
       "<table border=\"1\" class=\"dataframe\">\n",
       "  <thead>\n",
       "    <tr style=\"text-align: right;\">\n",
       "      <th></th>\n",
       "      <th>Unnamed: 0.1</th>\n",
       "      <th>Unnamed: 0</th>\n",
       "      <th>ResponseId</th>\n",
       "      <th>MainBranch</th>\n",
       "      <th>Employment</th>\n",
       "      <th>RemoteWork</th>\n",
       "      <th>CodingActivities</th>\n",
       "      <th>EdLevel</th>\n",
       "      <th>LearnCode</th>\n",
       "      <th>LearnCodeOnline</th>\n",
       "      <th>...</th>\n",
       "      <th>Knowledge_5</th>\n",
       "      <th>Knowledge_6</th>\n",
       "      <th>Knowledge_7</th>\n",
       "      <th>Frequency_1</th>\n",
       "      <th>Frequency_2</th>\n",
       "      <th>Frequency_3</th>\n",
       "      <th>TimeSearching</th>\n",
       "      <th>TimeAnswering</th>\n",
       "      <th>Onboarding</th>\n",
       "      <th>ProfessionalTech</th>\n",
       "    </tr>\n",
       "  </thead>\n",
       "  <tbody>\n",
       "    <tr>\n",
       "      <th>0</th>\n",
       "      <td>0</td>\n",
       "      <td>0</td>\n",
       "      <td>1</td>\n",
       "      <td>other</td>\n",
       "      <td>NaN</td>\n",
       "      <td>other</td>\n",
       "      <td>NaN</td>\n",
       "      <td>NaN</td>\n",
       "      <td>other</td>\n",
       "      <td>NaN</td>\n",
       "      <td>...</td>\n",
       "      <td>NaN</td>\n",
       "      <td>NaN</td>\n",
       "      <td>NaN</td>\n",
       "      <td>NaN</td>\n",
       "      <td>NaN</td>\n",
       "      <td>NaN</td>\n",
       "      <td>NaN</td>\n",
       "      <td>NaN</td>\n",
       "      <td>NaN</td>\n",
       "      <td>NaN</td>\n",
       "    </tr>\n",
       "    <tr>\n",
       "      <th>1</th>\n",
       "      <td>1</td>\n",
       "      <td>1</td>\n",
       "      <td>2</td>\n",
       "      <td>profession</td>\n",
       "      <td>Employed, full-time</td>\n",
       "      <td>remote</td>\n",
       "      <td>Hobby;Contribute to open-source projects</td>\n",
       "      <td>NaN</td>\n",
       "      <td>other</td>\n",
       "      <td>NaN</td>\n",
       "      <td>...</td>\n",
       "      <td>NaN</td>\n",
       "      <td>NaN</td>\n",
       "      <td>NaN</td>\n",
       "      <td>NaN</td>\n",
       "      <td>NaN</td>\n",
       "      <td>NaN</td>\n",
       "      <td>NaN</td>\n",
       "      <td>NaN</td>\n",
       "      <td>NaN</td>\n",
       "      <td>NaN</td>\n",
       "    </tr>\n",
       "    <tr>\n",
       "      <th>2</th>\n",
       "      <td>2</td>\n",
       "      <td>2</td>\n",
       "      <td>3</td>\n",
       "      <td>code</td>\n",
       "      <td>Employed, full-time</td>\n",
       "      <td>remote</td>\n",
       "      <td>Hobby</td>\n",
       "      <td>Master’s degree (M.A., M.S., M.Eng., MBA, etc.)</td>\n",
       "      <td>college</td>\n",
       "      <td>Technical documentation;Blogs;Programming Game...</td>\n",
       "      <td>...</td>\n",
       "      <td>NaN</td>\n",
       "      <td>NaN</td>\n",
       "      <td>NaN</td>\n",
       "      <td>NaN</td>\n",
       "      <td>NaN</td>\n",
       "      <td>NaN</td>\n",
       "      <td>NaN</td>\n",
       "      <td>NaN</td>\n",
       "      <td>NaN</td>\n",
       "      <td>NaN</td>\n",
       "    </tr>\n",
       "    <tr>\n",
       "      <th>3</th>\n",
       "      <td>3</td>\n",
       "      <td>3</td>\n",
       "      <td>4</td>\n",
       "      <td>profession</td>\n",
       "      <td>Employed, full-time</td>\n",
       "      <td>remote</td>\n",
       "      <td>I don’t code outside of work</td>\n",
       "      <td>Bachelor’s degree (B.A., B.S., B.Eng., etc.)</td>\n",
       "      <td>mediaschool</td>\n",
       "      <td>NaN</td>\n",
       "      <td>...</td>\n",
       "      <td>NaN</td>\n",
       "      <td>NaN</td>\n",
       "      <td>NaN</td>\n",
       "      <td>NaN</td>\n",
       "      <td>NaN</td>\n",
       "      <td>NaN</td>\n",
       "      <td>NaN</td>\n",
       "      <td>NaN</td>\n",
       "      <td>NaN</td>\n",
       "      <td>NaN</td>\n",
       "    </tr>\n",
       "    <tr>\n",
       "      <th>4</th>\n",
       "      <td>4</td>\n",
       "      <td>4</td>\n",
       "      <td>5</td>\n",
       "      <td>profession</td>\n",
       "      <td>Employed, full-time</td>\n",
       "      <td>remote</td>\n",
       "      <td>Hobby</td>\n",
       "      <td>Bachelor’s degree (B.A., B.S., B.Eng., etc.)</td>\n",
       "      <td>college</td>\n",
       "      <td>Technical documentation;Blogs;Stack Overflow;O...</td>\n",
       "      <td>...</td>\n",
       "      <td>NaN</td>\n",
       "      <td>NaN</td>\n",
       "      <td>NaN</td>\n",
       "      <td>NaN</td>\n",
       "      <td>NaN</td>\n",
       "      <td>NaN</td>\n",
       "      <td>NaN</td>\n",
       "      <td>NaN</td>\n",
       "      <td>NaN</td>\n",
       "      <td>NaN</td>\n",
       "    </tr>\n",
       "  </tbody>\n",
       "</table>\n",
       "<p>5 rows × 68 columns</p>\n",
       "</div>"
      ],
      "text/plain": [
       "   Unnamed: 0.1  Unnamed: 0  ResponseId  MainBranch           Employment  \\\n",
       "0             0           0           1       other                  NaN   \n",
       "1             1           1           2  profession  Employed, full-time   \n",
       "2             2           2           3        code  Employed, full-time   \n",
       "3             3           3           4  profession  Employed, full-time   \n",
       "4             4           4           5  profession  Employed, full-time   \n",
       "\n",
       "  RemoteWork                          CodingActivities  \\\n",
       "0      other                                       NaN   \n",
       "1     remote  Hobby;Contribute to open-source projects   \n",
       "2     remote                                     Hobby   \n",
       "3     remote              I don’t code outside of work   \n",
       "4     remote                                     Hobby   \n",
       "\n",
       "                                           EdLevel    LearnCode  \\\n",
       "0                                              NaN        other   \n",
       "1                                              NaN        other   \n",
       "2  Master’s degree (M.A., M.S., M.Eng., MBA, etc.)      college   \n",
       "3     Bachelor’s degree (B.A., B.S., B.Eng., etc.)  mediaschool   \n",
       "4     Bachelor’s degree (B.A., B.S., B.Eng., etc.)      college   \n",
       "\n",
       "                                     LearnCodeOnline  ... Knowledge_5  \\\n",
       "0                                                NaN  ...         NaN   \n",
       "1                                                NaN  ...         NaN   \n",
       "2  Technical documentation;Blogs;Programming Game...  ...         NaN   \n",
       "3                                                NaN  ...         NaN   \n",
       "4  Technical documentation;Blogs;Stack Overflow;O...  ...         NaN   \n",
       "\n",
       "  Knowledge_6 Knowledge_7 Frequency_1 Frequency_2 Frequency_3 TimeSearching  \\\n",
       "0         NaN         NaN         NaN         NaN         NaN           NaN   \n",
       "1         NaN         NaN         NaN         NaN         NaN           NaN   \n",
       "2         NaN         NaN         NaN         NaN         NaN           NaN   \n",
       "3         NaN         NaN         NaN         NaN         NaN           NaN   \n",
       "4         NaN         NaN         NaN         NaN         NaN           NaN   \n",
       "\n",
       "   TimeAnswering Onboarding ProfessionalTech  \n",
       "0            NaN        NaN              NaN  \n",
       "1            NaN        NaN              NaN  \n",
       "2            NaN        NaN              NaN  \n",
       "3            NaN        NaN              NaN  \n",
       "4            NaN        NaN              NaN  \n",
       "\n",
       "[5 rows x 68 columns]"
      ]
     },
     "execution_count": 253,
     "metadata": {},
     "output_type": "execute_result"
    }
   ],
   "source": [
    "df2022=pd.read_csv('./Data/nlp_df2022.csv')\n",
    "df2022.head()"
   ]
  },
  {
   "cell_type": "markdown",
   "metadata": {},
   "source": [
    "## Analysis"
   ]
  },
  {
   "cell_type": "code",
   "execution_count": 254,
   "metadata": {},
   "outputs": [
    {
     "name": "stdout",
     "output_type": "stream",
     "text": [
      "<class 'pandas.core.frame.DataFrame'>\n",
      "RangeIndex: 73268 entries, 0 to 73267\n",
      "Data columns (total 68 columns):\n",
      " #   Column                          Non-Null Count  Dtype  \n",
      "---  ------                          --------------  -----  \n",
      " 0   Unnamed: 0.1                    73268 non-null  int64  \n",
      " 1   Unnamed: 0                      73268 non-null  int64  \n",
      " 2   ResponseId                      73268 non-null  int64  \n",
      " 3   MainBranch                      73268 non-null  object \n",
      " 4   Employment                      71709 non-null  object \n",
      " 5   RemoteWork                      73268 non-null  object \n",
      " 6   CodingActivities                58899 non-null  object \n",
      " 7   EdLevel                         71571 non-null  object \n",
      " 8   LearnCode                       73268 non-null  object \n",
      " 9   LearnCodeOnline                 50685 non-null  object \n",
      " 10  LearnCodeCoursesCert            29389 non-null  object \n",
      " 11  YearsCode                       71331 non-null  object \n",
      " 12  YearsCodePro                    51833 non-null  object \n",
      " 13  DevType                         61302 non-null  object \n",
      " 14  OrgSize                         51039 non-null  object \n",
      " 15  PurchaseInfluence               50969 non-null  object \n",
      " 16  Country                         71771 non-null  object \n",
      " 17  CompTotal                       38422 non-null  float64\n",
      " 18  CompFreq                        44425 non-null  object \n",
      " 19  LanguageHaveWorkedWith          70975 non-null  object \n",
      " 20  LanguageWantToWorkWith          67027 non-null  object \n",
      " 21  DatabaseHaveWorkedWith          60121 non-null  object \n",
      " 22  DatabaseWantToWorkWith          51014 non-null  object \n",
      " 23  PlatformHaveWorkedWith          49924 non-null  object \n",
      " 24  PlatformWantToWorkWith          40415 non-null  object \n",
      " 25  WebframeHaveWorkedWith          53544 non-null  object \n",
      " 26  WebframeWantToWorkWith          46122 non-null  object \n",
      " 27  MiscTechHaveWorkedWith          44992 non-null  object \n",
      " 28  MiscTechWantToWorkWith          36810 non-null  object \n",
      " 29  ToolsTechHaveWorkedWith         54171 non-null  object \n",
      " 30  ToolsTechWantToWorkWith         46566 non-null  object \n",
      " 31  NEWCollabToolsHaveWorkedWith    70347 non-null  object \n",
      " 32  NEWCollabToolsWantToWorkWith    64108 non-null  object \n",
      " 33  OpSysProfessional use           65503 non-null  object \n",
      " 34  OpSysPersonal use               70963 non-null  object \n",
      " 35  VersionControlSystem            71379 non-null  object \n",
      " 36  VCInteraction                   68156 non-null  object \n",
      " 37  VCHostingPersonal use           0 non-null      float64\n",
      " 38  VCHostingProfessional use       0 non-null      float64\n",
      " 39  OfficeStackAsyncHaveWorkedWith  46223 non-null  object \n",
      " 40  OfficeStackAsyncWantToWorkWith  32072 non-null  object \n",
      " 41  OfficeStackSyncHaveWorkedWith   62128 non-null  object \n",
      " 42  OfficeStackSyncWantToWorkWith   47688 non-null  object \n",
      " 43  Blockchain                      71071 non-null  object \n",
      " 44  Age                             70946 non-null  object \n",
      " 45  Gender                          70853 non-null  object \n",
      " 46  Trans                           70315 non-null  object \n",
      " 47  Sexuality                       66565 non-null  object \n",
      " 48  Ethnicity                       69474 non-null  object \n",
      " 49  Accessibility                   67244 non-null  object \n",
      " 50  MentalHealth                    66447 non-null  object \n",
      " 51  TBranch                         52670 non-null  object \n",
      " 52  ICorPM                          36283 non-null  object \n",
      " 53  WorkExp                         36769 non-null  float64\n",
      " 54  Knowledge_1                     35804 non-null  object \n",
      " 55  Knowledge_2                     34973 non-null  object \n",
      " 56  Knowledge_3                     35133 non-null  object \n",
      " 57  Knowledge_4                     35097 non-null  object \n",
      " 58  Knowledge_5                     35014 non-null  object \n",
      " 59  Knowledge_6                     34991 non-null  object \n",
      " 60  Knowledge_7                     34977 non-null  object \n",
      " 61  Frequency_1                     35371 non-null  object \n",
      " 62  Frequency_2                     35344 non-null  object \n",
      " 63  Frequency_3                     34515 non-null  object \n",
      " 64  TimeSearching                   36198 non-null  object \n",
      " 65  TimeAnswering                   36022 non-null  object \n",
      " 66  Onboarding                      35679 non-null  object \n",
      " 67  ProfessionalTech                34906 non-null  object \n",
      "dtypes: float64(4), int64(3), object(61)\n",
      "memory usage: 38.0+ MB\n"
     ]
    }
   ],
   "source": [
    "df2022.info()"
   ]
  },
  {
   "cell_type": "code",
   "execution_count": 255,
   "metadata": {},
   "outputs": [],
   "source": [
    "df2022 = df2022.drop(df2022.columns[51:67], axis=1)\n",
    "df2022=df2022.drop(['Unnamed: 0'], axis=1)\n",
    "df2022=df2022.drop(['Unnamed: 0.1'], axis=1)\n",
    "df2022 = df2022.drop(columns=['MiscTechHaveWorkedWith'])\n",
    "df2022 = df2022.drop(columns=['MiscTechWantToWorkWith'])\n",
    "df2022 = df2022.drop(columns=['PlatformWantToWorkWith'])\n",
    "df2022 = df2022.drop(columns=['PlatformHaveWorkedWith'])\n",
    "df2022=df2022.drop(columns=['Trans'])\n",
    "df2022=df2022.drop(columns=['VCHostingPersonal use'])\n",
    "df2022=df2022.drop(columns=['VCHostingProfessional use'])\n",
    "df2022=df2022.drop(columns=['LearnCodeCoursesCert'])\n",
    "df2022=df2022.drop(columns=['OfficeStackAsyncHaveWorkedWith'])\n",
    "df2022=df2022.drop(columns=['OfficeStackAsyncWantToWorkWith'])\n",
    "df2022=df2022.drop(columns=['OfficeStackSyncHaveWorkedWith'])\n",
    "df2022=df2022.drop(columns=['OfficeStackSyncWantToWorkWith'])"
   ]
  },
  {
   "cell_type": "code",
   "execution_count": 256,
   "metadata": {},
   "outputs": [
    {
     "data": {
      "text/plain": [
       "ResponseId                          0\n",
       "MainBranch                          0\n",
       "Employment                       1559\n",
       "RemoteWork                          0\n",
       "CodingActivities                14369\n",
       "EdLevel                          1697\n",
       "LearnCode                           0\n",
       "LearnCodeOnline                 22583\n",
       "YearsCode                        1937\n",
       "YearsCodePro                    21435\n",
       "DevType                         11966\n",
       "OrgSize                         22229\n",
       "PurchaseInfluence               22299\n",
       "Country                          1497\n",
       "CompTotal                       34846\n",
       "CompFreq                        28843\n",
       "LanguageHaveWorkedWith           2293\n",
       "LanguageWantToWorkWith           6241\n",
       "DatabaseHaveWorkedWith          13147\n",
       "DatabaseWantToWorkWith          22254\n",
       "WebframeHaveWorkedWith          19724\n",
       "WebframeWantToWorkWith          27146\n",
       "ToolsTechHaveWorkedWith         19097\n",
       "ToolsTechWantToWorkWith         26702\n",
       "NEWCollabToolsHaveWorkedWith     2921\n",
       "NEWCollabToolsWantToWorkWith     9160\n",
       "OpSysProfessional use            7765\n",
       "OpSysPersonal use                2305\n",
       "VersionControlSystem             1889\n",
       "VCInteraction                    5112\n",
       "Blockchain                       2197\n",
       "Age                              2322\n",
       "Gender                           2415\n",
       "Sexuality                        6703\n",
       "Ethnicity                        3794\n",
       "Accessibility                    6024\n",
       "MentalHealth                     6821\n",
       "ProfessionalTech                38362\n",
       "dtype: int64"
      ]
     },
     "execution_count": 256,
     "metadata": {},
     "output_type": "execute_result"
    }
   ],
   "source": [
    "df2022.isnull().sum()"
   ]
  },
  {
   "cell_type": "code",
   "execution_count": 257,
   "metadata": {
    "scrolled": true
   },
   "outputs": [
    {
     "name": "stderr",
     "output_type": "stream",
     "text": [
      "C:\\Users\\Nikita\\AppData\\Local\\Temp\\ipykernel_17576\\1557613256.py:1: FutureWarning:\n",
      "\n",
      "Series.fillna with 'method' is deprecated and will raise in a future version. Use obj.ffill() or obj.bfill() instead.\n",
      "\n",
      "C:\\Users\\Nikita\\AppData\\Local\\Temp\\ipykernel_17576\\1557613256.py:3: FutureWarning:\n",
      "\n",
      "Series.fillna with 'method' is deprecated and will raise in a future version. Use obj.ffill() or obj.bfill() instead.\n",
      "\n",
      "C:\\Users\\Nikita\\AppData\\Local\\Temp\\ipykernel_17576\\1557613256.py:4: FutureWarning:\n",
      "\n",
      "Series.fillna with 'method' is deprecated and will raise in a future version. Use obj.ffill() or obj.bfill() instead.\n",
      "\n",
      "C:\\Users\\Nikita\\AppData\\Local\\Temp\\ipykernel_17576\\1557613256.py:5: FutureWarning:\n",
      "\n",
      "Series.fillna with 'method' is deprecated and will raise in a future version. Use obj.ffill() or obj.bfill() instead.\n",
      "\n",
      "C:\\Users\\Nikita\\AppData\\Local\\Temp\\ipykernel_17576\\1557613256.py:6: FutureWarning:\n",
      "\n",
      "Series.fillna with 'method' is deprecated and will raise in a future version. Use obj.ffill() or obj.bfill() instead.\n",
      "\n",
      "C:\\Users\\Nikita\\AppData\\Local\\Temp\\ipykernel_17576\\1557613256.py:7: FutureWarning:\n",
      "\n",
      "Series.fillna with 'method' is deprecated and will raise in a future version. Use obj.ffill() or obj.bfill() instead.\n",
      "\n",
      "C:\\Users\\Nikita\\AppData\\Local\\Temp\\ipykernel_17576\\1557613256.py:8: FutureWarning:\n",
      "\n",
      "Series.fillna with 'method' is deprecated and will raise in a future version. Use obj.ffill() or obj.bfill() instead.\n",
      "\n",
      "C:\\Users\\Nikita\\AppData\\Local\\Temp\\ipykernel_17576\\1557613256.py:9: FutureWarning:\n",
      "\n",
      "Series.fillna with 'method' is deprecated and will raise in a future version. Use obj.ffill() or obj.bfill() instead.\n",
      "\n",
      "C:\\Users\\Nikita\\AppData\\Local\\Temp\\ipykernel_17576\\1557613256.py:10: FutureWarning:\n",
      "\n",
      "Series.fillna with 'method' is deprecated and will raise in a future version. Use obj.ffill() or obj.bfill() instead.\n",
      "\n",
      "C:\\Users\\Nikita\\AppData\\Local\\Temp\\ipykernel_17576\\1557613256.py:11: FutureWarning:\n",
      "\n",
      "Series.fillna with 'method' is deprecated and will raise in a future version. Use obj.ffill() or obj.bfill() instead.\n",
      "\n",
      "C:\\Users\\Nikita\\AppData\\Local\\Temp\\ipykernel_17576\\1557613256.py:12: FutureWarning:\n",
      "\n",
      "Series.fillna with 'method' is deprecated and will raise in a future version. Use obj.ffill() or obj.bfill() instead.\n",
      "\n",
      "C:\\Users\\Nikita\\AppData\\Local\\Temp\\ipykernel_17576\\1557613256.py:13: FutureWarning:\n",
      "\n",
      "Series.fillna with 'method' is deprecated and will raise in a future version. Use obj.ffill() or obj.bfill() instead.\n",
      "\n",
      "C:\\Users\\Nikita\\AppData\\Local\\Temp\\ipykernel_17576\\1557613256.py:18: FutureWarning:\n",
      "\n",
      "Series.fillna with 'method' is deprecated and will raise in a future version. Use obj.ffill() or obj.bfill() instead.\n",
      "\n",
      "C:\\Users\\Nikita\\AppData\\Local\\Temp\\ipykernel_17576\\1557613256.py:19: FutureWarning:\n",
      "\n",
      "Series.fillna with 'method' is deprecated and will raise in a future version. Use obj.ffill() or obj.bfill() instead.\n",
      "\n",
      "C:\\Users\\Nikita\\AppData\\Local\\Temp\\ipykernel_17576\\1557613256.py:20: FutureWarning:\n",
      "\n",
      "Series.fillna with 'method' is deprecated and will raise in a future version. Use obj.ffill() or obj.bfill() instead.\n",
      "\n",
      "C:\\Users\\Nikita\\AppData\\Local\\Temp\\ipykernel_17576\\1557613256.py:21: FutureWarning:\n",
      "\n",
      "Series.fillna with 'method' is deprecated and will raise in a future version. Use obj.ffill() or obj.bfill() instead.\n",
      "\n",
      "C:\\Users\\Nikita\\AppData\\Local\\Temp\\ipykernel_17576\\1557613256.py:22: FutureWarning:\n",
      "\n",
      "Series.fillna with 'method' is deprecated and will raise in a future version. Use obj.ffill() or obj.bfill() instead.\n",
      "\n",
      "C:\\Users\\Nikita\\AppData\\Local\\Temp\\ipykernel_17576\\1557613256.py:23: FutureWarning:\n",
      "\n",
      "Series.fillna with 'method' is deprecated and will raise in a future version. Use obj.ffill() or obj.bfill() instead.\n",
      "\n",
      "C:\\Users\\Nikita\\AppData\\Local\\Temp\\ipykernel_17576\\1557613256.py:24: FutureWarning:\n",
      "\n",
      "Series.fillna with 'method' is deprecated and will raise in a future version. Use obj.ffill() or obj.bfill() instead.\n",
      "\n",
      "C:\\Users\\Nikita\\AppData\\Local\\Temp\\ipykernel_17576\\1557613256.py:25: FutureWarning:\n",
      "\n",
      "Series.fillna with 'method' is deprecated and will raise in a future version. Use obj.ffill() or obj.bfill() instead.\n",
      "\n",
      "C:\\Users\\Nikita\\AppData\\Local\\Temp\\ipykernel_17576\\1557613256.py:26: FutureWarning:\n",
      "\n",
      "Series.fillna with 'method' is deprecated and will raise in a future version. Use obj.ffill() or obj.bfill() instead.\n",
      "\n",
      "C:\\Users\\Nikita\\AppData\\Local\\Temp\\ipykernel_17576\\1557613256.py:27: FutureWarning:\n",
      "\n",
      "Series.fillna with 'method' is deprecated and will raise in a future version. Use obj.ffill() or obj.bfill() instead.\n",
      "\n",
      "C:\\Users\\Nikita\\AppData\\Local\\Temp\\ipykernel_17576\\1557613256.py:28: FutureWarning:\n",
      "\n",
      "Series.fillna with 'method' is deprecated and will raise in a future version. Use obj.ffill() or obj.bfill() instead.\n",
      "\n",
      "C:\\Users\\Nikita\\AppData\\Local\\Temp\\ipykernel_17576\\1557613256.py:29: FutureWarning:\n",
      "\n",
      "Series.fillna with 'method' is deprecated and will raise in a future version. Use obj.ffill() or obj.bfill() instead.\n",
      "\n",
      "C:\\Users\\Nikita\\AppData\\Local\\Temp\\ipykernel_17576\\1557613256.py:30: FutureWarning:\n",
      "\n",
      "Series.fillna with 'method' is deprecated and will raise in a future version. Use obj.ffill() or obj.bfill() instead.\n",
      "\n",
      "C:\\Users\\Nikita\\AppData\\Local\\Temp\\ipykernel_17576\\1557613256.py:31: FutureWarning:\n",
      "\n",
      "Series.fillna with 'method' is deprecated and will raise in a future version. Use obj.ffill() or obj.bfill() instead.\n",
      "\n",
      "C:\\Users\\Nikita\\AppData\\Local\\Temp\\ipykernel_17576\\1557613256.py:32: FutureWarning:\n",
      "\n",
      "Series.fillna with 'method' is deprecated and will raise in a future version. Use obj.ffill() or obj.bfill() instead.\n",
      "\n",
      "C:\\Users\\Nikita\\AppData\\Local\\Temp\\ipykernel_17576\\1557613256.py:33: FutureWarning:\n",
      "\n",
      "Series.fillna with 'method' is deprecated and will raise in a future version. Use obj.ffill() or obj.bfill() instead.\n",
      "\n"
     ]
    }
   ],
   "source": [
    "df2022['Employment'] = df2022['Employment'].fillna(method='ffill') #fill the missing values with the previous value\n",
    "df2022['EdLevel']=df2022['EdLevel'].fillna(\"Something else\")#fill the missing values with \"Something else\"\n",
    "df2022['CodingActivities']=df2022['CodingActivities'].fillna(method=\"ffill\")#fill the missing values with \"Something else\"\n",
    "df2022['YearsCode']=df2022['YearsCode'].fillna(method='ffill')#fill the missing values with the previous value\n",
    "df2022['YearsCodePro']=df2022['YearsCodePro'].fillna(method='ffill')#fill the missing values with the previous value\n",
    "df2022['LearnCodeOnline']=df2022['LearnCodeOnline'].fillna(method='ffill')#fill the missing values with the previous value\n",
    "df2022['Blockchain']=df2022['Blockchain'].fillna(method='ffill')#fill the missing values with the previous value\n",
    "df2022['DevType']=df2022['DevType'].fillna(method='ffill')#fill the missing values with \"Something else\"\n",
    "df2022['OrgSize']=df2022['OrgSize'].fillna(method='ffill')\n",
    "df2022['Accessibility']=df2022['Accessibility'].fillna(method='ffill')\n",
    "df2022['MentalHealth']=df2022['MentalHealth'].fillna(method='ffill')\n",
    "df2022['Ethnicity']=df2022['Ethnicity'].fillna(method='ffill')\n",
    "df2022[\"PurchaseInfluence\"]=df2022[\"PurchaseInfluence\"].fillna(method='ffill')\n",
    "df2022['Sexuality']=df2022['Sexuality'].fillna('Prefer not to say')\n",
    "df2022['Gender']=df2022['Gender'].fillna(\"Prefer not to say\")\n",
    "df2022['CompFreq']=df2022['CompFreq'].fillna(df2022['CompFreq'].mode()[0])#fill the missing values with the previous value\n",
    "df2022['CompTotal']=df2022['CompTotal'].fillna(df2022['CompTotal'].mean())#fill the missing values with the mean\n",
    "df2022['LanguageHaveWorkedWith']=df2022['LanguageHaveWorkedWith'].fillna(method='ffill')#fill the missing values with the previous value\n",
    "df2022['LanguageWantToWorkWith']=df2022['LanguageWantToWorkWith'].fillna(method='ffill')#fill the missing values with the previous value\n",
    "df2022['DatabaseHaveWorkedWith']=df2022['DatabaseHaveWorkedWith'].fillna(method='ffill')#fill the missing values with the previous value\n",
    "df2022['DatabaseWantToWorkWith']=df2022['DatabaseWantToWorkWith'].fillna(method='ffill')#fill the missing values with the previous value\n",
    "df2022['WebframeHaveWorkedWith']=df2022['WebframeHaveWorkedWith'].fillna(method='ffill')#fill the missing values with the previous value\n",
    "df2022['WebframeWantToWorkWith']=df2022['WebframeWantToWorkWith'].fillna(method='ffill')#fill the missing values with the previous value\n",
    "df2022['NEWCollabToolsHaveWorkedWith']=df2022['NEWCollabToolsHaveWorkedWith'].fillna(method='ffill')#fill the missing values with the previous value\n",
    "df2022['NEWCollabToolsWantToWorkWith']=df2022['NEWCollabToolsWantToWorkWith'].fillna(method='ffill')#fill the missing values with the previous value\n",
    "df2022['OpSysPersonal use']=df2022['OpSysPersonal use'].fillna(method='ffill')#fill the missing values with the previous value\n",
    "df2022['OpSysProfessional use']=df2022['OpSysProfessional use'].fillna(method='ffill')#fill the missing values with the previous value\n",
    "df2022['ToolsTechHaveWorkedWith']=df2022['ToolsTechHaveWorkedWith'].fillna(method='ffill')#fill the missing values with the previous value\n",
    "df2022['ToolsTechWantToWorkWith']=df2022['ToolsTechWantToWorkWith'].fillna(method='ffill')#fill the missing values with the previous value\n",
    "df2022['Country']=df2022['Country'].fillna(method='ffill')#fill the missing values with the previous value\n",
    "df2022['ProfessionalTech']=df2022['ProfessionalTech'].fillna(method='ffill')#fill the missing values with the previous value\n",
    "df2022['VersionControlSystem']=df2022['VersionControlSystem'].fillna(method='ffill')#fill the missing values with the previous value\n",
    "df2022['VCInteraction']=df2022['VCInteraction'].fillna(method='ffill')#fill the missing values with the previous value"
   ]
  },
  {
   "cell_type": "code",
   "execution_count": 258,
   "metadata": {},
   "outputs": [],
   "source": [
    "df2022.dropna(inplace=True)"
   ]
  },
  {
   "cell_type": "code",
   "execution_count": 259,
   "metadata": {},
   "outputs": [
    {
     "data": {
      "text/plain": [
       "ResponseId                      0\n",
       "MainBranch                      0\n",
       "Employment                      0\n",
       "RemoteWork                      0\n",
       "CodingActivities                0\n",
       "EdLevel                         0\n",
       "LearnCode                       0\n",
       "LearnCodeOnline                 0\n",
       "YearsCode                       0\n",
       "YearsCodePro                    0\n",
       "DevType                         0\n",
       "OrgSize                         0\n",
       "PurchaseInfluence               0\n",
       "Country                         0\n",
       "CompTotal                       0\n",
       "CompFreq                        0\n",
       "LanguageHaveWorkedWith          0\n",
       "LanguageWantToWorkWith          0\n",
       "DatabaseHaveWorkedWith          0\n",
       "DatabaseWantToWorkWith          0\n",
       "WebframeHaveWorkedWith          0\n",
       "WebframeWantToWorkWith          0\n",
       "ToolsTechHaveWorkedWith         0\n",
       "ToolsTechWantToWorkWith         0\n",
       "NEWCollabToolsHaveWorkedWith    0\n",
       "NEWCollabToolsWantToWorkWith    0\n",
       "OpSysProfessional use           0\n",
       "OpSysPersonal use               0\n",
       "VersionControlSystem            0\n",
       "VCInteraction                   0\n",
       "Blockchain                      0\n",
       "Age                             0\n",
       "Gender                          0\n",
       "Sexuality                       0\n",
       "Ethnicity                       0\n",
       "Accessibility                   0\n",
       "MentalHealth                    0\n",
       "ProfessionalTech                0\n",
       "dtype: int64"
      ]
     },
     "execution_count": 259,
     "metadata": {},
     "output_type": "execute_result"
    }
   ],
   "source": [
    "df2022.isnull().sum()"
   ]
  },
  {
   "cell_type": "code",
   "execution_count": 260,
   "metadata": {},
   "outputs": [
    {
     "data": {
      "text/plain": [
       "Country\n",
       "United States of America                                13314\n",
       "India                                                    6507\n",
       "Germany                                                  5364\n",
       "United Kingdom of Great Britain and Northern Ireland     4142\n",
       "Canada                                                   2455\n",
       "                                                        ...  \n",
       "Djibouti                                                    1\n",
       "Seychelles                                                  1\n",
       "Solomon Islands                                             1\n",
       "Saint Kitts and Nevis                                       1\n",
       "Gambia                                                      1\n",
       "Name: count, Length: 180, dtype: int64"
      ]
     },
     "execution_count": 260,
     "metadata": {},
     "output_type": "execute_result"
    }
   ],
   "source": [
    "df2022['Country'].value_counts()"
   ]
  },
  {
   "cell_type": "code",
   "execution_count": 261,
   "metadata": {},
   "outputs": [
    {
     "data": {
      "text/plain": [
       "LearnCodeOnline\n",
       "Technical documentation;Blogs;Written Tutorials;Stack Overflow                                                                                                                                                        1025\n",
       "Technical documentation;Blogs;Written Tutorials;Stack Overflow;Online forum                                                                                                                                            995\n",
       "Technical documentation;Blogs;Stack Overflow                                                                                                                                                                           826\n",
       "Technical documentation;Blogs;Written Tutorials;Stack Overflow;Online books;Online forum                                                                                                                               744\n",
       "Technical documentation;Blogs;Written Tutorials;Stack Overflow;Online books                                                                                                                                            627\n",
       "                                                                                                                                                                                                                      ... \n",
       "Technical documentation;Blogs;Written Tutorials;Stack Overflow;Online challenges (e.g., daily or weekly coding challenges);How-to videos;Coding sessions (live or recorded);Certification videos                         1\n",
       "Technical documentation;Blogs;Online challenges (e.g., daily or weekly coding challenges);Interactive tutorial;Coding sessions (live or recorded)                                                                        1\n",
       "Technical documentation;Blogs;Programming Games;Written Tutorials;Stack Overflow;Online challenges (e.g., daily or weekly coding challenges);How-to videos;Coding sessions (live or recorded);Certification videos       1\n",
       "Blogs;Stack Overflow;Online books;Video-based Online Courses;Online forum;How-to videos;Written-based Online Courses;Interactive tutorial;Coding sessions (live or recorded);Certification videos                        1\n",
       "Stack Overflow;Video-based Online Courses;How-to videos;Auditory material (e.g., podcasts);Coding sessions (live or recorded);Certification videos                                                                       1\n",
       "Name: count, Length: 7160, dtype: int64"
      ]
     },
     "execution_count": 261,
     "metadata": {},
     "output_type": "execute_result"
    }
   ],
   "source": [
    "df2022['LearnCodeOnline'].value_counts()"
   ]
  },
  {
   "cell_type": "code",
   "execution_count": 262,
   "metadata": {},
   "outputs": [
    {
     "data": {
      "text/plain": [
       "Age_avg\n",
       "30.0    28109\n",
       "21.0    16645\n",
       "40.0    13987\n",
       "50.0     5281\n",
       "9.0      3865\n",
       "60.0     1978\n",
       "67.0      554\n",
       "32.0      521\n",
       "Name: count, dtype: int64"
      ]
     },
     "execution_count": 262,
     "metadata": {},
     "output_type": "execute_result"
    }
   ],
   "source": [
    "df2022['Age_avg'] = df2022['Age'].apply(calculate_age_midpoint)\n",
    "df2022['Age_avg']=df2022['Age_avg'].fillna(math.ceil(df2022['Age_avg'].mean()))#fill the missing values with the mean\n",
    "df2022['Age_avg'].value_counts()"
   ]
  },
  {
   "cell_type": "code",
   "execution_count": 263,
   "metadata": {},
   "outputs": [
    {
     "data": {
      "text/plain": [
       "CodingActivities\n",
       "Hobby                                                                                                                                  21761\n",
       "I don’t code outside of work                                                                                                            8690\n",
       "Hobby;Contribute to open-source projects                                                                                                7993\n",
       "Hobby;Freelance/contract work                                                                                                           4293\n",
       "Hobby;School or academic work                                                                                                           3642\n",
       "                                                                                                                                       ...  \n",
       "Contribute to open-source projects;Freelance/contract work;Other (please specify):;School or academic work                                 4\n",
       "Contribute to open-source projects;Bootstrapping a business;Freelance/contract work;Other (please specify):                                2\n",
       "Hobby;Contribute to open-source projects;Bootstrapping a business;Other (please specify):;School or academic work                          2\n",
       "Contribute to open-source projects;Bootstrapping a business;Freelance/contract work;Other (please specify):;School or academic work        1\n",
       "Bootstrapping a business;Other (please specify):;School or academic work                                                                   1\n",
       "Name: count, Length: 63, dtype: int64"
      ]
     },
     "execution_count": 263,
     "metadata": {},
     "output_type": "execute_result"
    }
   ],
   "source": [
    "df2022['CodingActivities'].value_counts()"
   ]
  },
  {
   "cell_type": "code",
   "execution_count": 264,
   "metadata": {},
   "outputs": [
    {
     "data": {
      "text/plain": [
       "LanguageHaveWorkedWith\n",
       "HTML/CSS;JavaScript;TypeScript                                                                 1254\n",
       "Python                                                                                          950\n",
       "HTML/CSS;JavaScript                                                                             915\n",
       "HTML/CSS;JavaScript;PHP;SQL                                                                     747\n",
       "C#;HTML/CSS;JavaScript;SQL;TypeScript                                                           575\n",
       "                                                                                               ... \n",
       "JavaScript;Kotlin;Rust                                                                            1\n",
       "Bash/Shell;C#;Dart;Groovy;HTML/CSS;JavaScript;Kotlin;Objective-C;PHP;Python;Ruby;Rust;Swift       1\n",
       "Bash/Shell;C#;Java;PowerShell;SQL;TypeScript                                                      1\n",
       "Bash/Shell;Groovy;HTML/CSS;Java;JavaScript;Perl;Python;SQL                                        1\n",
       "C#;JavaScript;Lua;PowerShell;SQL;TypeScript                                                       1\n",
       "Name: count, Length: 24854, dtype: int64"
      ]
     },
     "execution_count": 264,
     "metadata": {},
     "output_type": "execute_result"
    }
   ],
   "source": [
    "df2022['LanguageHaveWorkedWith'].value_counts()"
   ]
  },
  {
   "cell_type": "code",
   "execution_count": 280,
   "metadata": {},
   "outputs": [
    {
     "name": "stdout",
     "output_type": "stream",
     "text": [
      "count      70940.000000\n",
      "mean      110641.766488\n",
      "std       106062.230734\n",
      "min            0.000000\n",
      "25%        70000.000000\n",
      "50%       110641.766488\n",
      "75%       110641.766488\n",
      "max      1000000.000000\n",
      "Name: CompTotal, dtype: float64\n"
     ]
    }
   ],
   "source": [
    "mean_comp_total = df2022.loc[df2022['CompTotal'] <= 1000000, 'CompTotal'].mean()\n",
    "\n",
    "df2022.loc[df2022['CompTotal'] > 1000000, 'CompTotal'] = mean_comp_total\n",
    "\n",
    "df2022.reset_index(drop=True, inplace=True)  # Reset index if needed\n",
    "\n",
    "print(df2022['CompTotal'].describe())"
   ]
  },
  {
   "cell_type": "markdown",
   "metadata": {},
   "source": [
    "## Graphs"
   ]
  },
  {
   "cell_type": "code",
   "execution_count": 279,
   "metadata": {},
   "outputs": [
    {
     "data": {
      "application/vnd.plotly.v1+json": {
       "config": {
        "plotlyServerURL": "https://plot.ly"
       },
       "data": [
        {
         "alignmentgroup": "True",
         "hovertemplate": "DevType=%{x}<br>Number of Developers=%{y}<extra></extra>",
         "legendgroup": "Developer, full-stack",
         "marker": {
          "color": "rgb(102, 197, 204)",
          "pattern": {
           "shape": ""
          }
         },
         "name": "Developer, full-stack",
         "offsetgroup": "Developer, full-stack",
         "orientation": "v",
         "showlegend": true,
         "textposition": "auto",
         "type": "bar",
         "x": [
          "Developer, full-stack"
         ],
         "xaxis": "x",
         "y": [
          8234
         ],
         "yaxis": "y"
        },
        {
         "alignmentgroup": "True",
         "hovertemplate": "DevType=%{x}<br>Number of Developers=%{y}<extra></extra>",
         "legendgroup": "Developer, back-end",
         "marker": {
          "color": "rgb(246, 207, 113)",
          "pattern": {
           "shape": ""
          }
         },
         "name": "Developer, back-end",
         "offsetgroup": "Developer, back-end",
         "orientation": "v",
         "showlegend": true,
         "textposition": "auto",
         "type": "bar",
         "x": [
          "Developer, back-end"
         ],
         "xaxis": "x",
         "y": [
          6152
         ],
         "yaxis": "y"
        },
        {
         "alignmentgroup": "True",
         "hovertemplate": "DevType=%{x}<br>Number of Developers=%{y}<extra></extra>",
         "legendgroup": "Developer, front-end",
         "marker": {
          "color": "rgb(248, 156, 116)",
          "pattern": {
           "shape": ""
          }
         },
         "name": "Developer, front-end",
         "offsetgroup": "Developer, front-end",
         "orientation": "v",
         "showlegend": true,
         "textposition": "auto",
         "type": "bar",
         "x": [
          "Developer, front-end"
         ],
         "xaxis": "x",
         "y": [
          2757
         ],
         "yaxis": "y"
        },
        {
         "alignmentgroup": "True",
         "hovertemplate": "DevType=%{x}<br>Number of Developers=%{y}<extra></extra>",
         "legendgroup": "Developer, front-end;Developer, full-stack;Developer, back-end",
         "marker": {
          "color": "rgb(220, 176, 242)",
          "pattern": {
           "shape": ""
          }
         },
         "name": "Developer, front-end;Developer, full-stack;Developer, back-end",
         "offsetgroup": "Developer, front-end;Developer, full-stack;Developer, back-end",
         "orientation": "v",
         "showlegend": true,
         "textposition": "auto",
         "type": "bar",
         "x": [
          "Developer, front-end;Developer, full-stack;Developer, back-end"
         ],
         "xaxis": "x",
         "y": [
          2083
         ],
         "yaxis": "y"
        },
        {
         "alignmentgroup": "True",
         "hovertemplate": "DevType=%{x}<br>Number of Developers=%{y}<extra></extra>",
         "legendgroup": "Developer, full-stack;Developer, back-end",
         "marker": {
          "color": "rgb(135, 197, 95)",
          "pattern": {
           "shape": ""
          }
         },
         "name": "Developer, full-stack;Developer, back-end",
         "offsetgroup": "Developer, full-stack;Developer, back-end",
         "orientation": "v",
         "showlegend": true,
         "textposition": "auto",
         "type": "bar",
         "x": [
          "Developer, full-stack;Developer, back-end"
         ],
         "xaxis": "x",
         "y": [
          1777
         ],
         "yaxis": "y"
        },
        {
         "alignmentgroup": "True",
         "hovertemplate": "DevType=%{x}<br>Number of Developers=%{y}<extra></extra>",
         "legendgroup": "Developer, mobile",
         "marker": {
          "color": "rgb(158, 185, 243)",
          "pattern": {
           "shape": ""
          }
         },
         "name": "Developer, mobile",
         "offsetgroup": "Developer, mobile",
         "orientation": "v",
         "showlegend": true,
         "textposition": "auto",
         "type": "bar",
         "x": [
          "Developer, mobile"
         ],
         "xaxis": "x",
         "y": [
          1700
         ],
         "yaxis": "y"
        },
        {
         "alignmentgroup": "True",
         "hovertemplate": "DevType=%{x}<br>Number of Developers=%{y}<extra></extra>",
         "legendgroup": "Other (please specify):",
         "marker": {
          "color": "rgb(254, 136, 177)",
          "pattern": {
           "shape": ""
          }
         },
         "name": "Other (please specify):",
         "offsetgroup": "Other (please specify):",
         "orientation": "v",
         "showlegend": true,
         "textposition": "auto",
         "type": "bar",
         "x": [
          "Other (please specify):"
         ],
         "xaxis": "x",
         "y": [
          1423
         ],
         "yaxis": "y"
        },
        {
         "alignmentgroup": "True",
         "hovertemplate": "DevType=%{x}<br>Number of Developers=%{y}<extra></extra>",
         "legendgroup": "Student",
         "marker": {
          "color": "rgb(201, 219, 116)",
          "pattern": {
           "shape": ""
          }
         },
         "name": "Student",
         "offsetgroup": "Student",
         "orientation": "v",
         "showlegend": true,
         "textposition": "auto",
         "type": "bar",
         "x": [
          "Student"
         ],
         "xaxis": "x",
         "y": [
          1145
         ],
         "yaxis": "y"
        },
        {
         "alignmentgroup": "True",
         "hovertemplate": "DevType=%{x}<br>Number of Developers=%{y}<extra></extra>",
         "legendgroup": "Developer, front-end;Developer, full-stack",
         "marker": {
          "color": "rgb(139, 224, 164)",
          "pattern": {
           "shape": ""
          }
         },
         "name": "Developer, front-end;Developer, full-stack",
         "offsetgroup": "Developer, front-end;Developer, full-stack",
         "orientation": "v",
         "showlegend": true,
         "textposition": "auto",
         "type": "bar",
         "x": [
          "Developer, front-end;Developer, full-stack"
         ],
         "xaxis": "x",
         "y": [
          1092
         ],
         "yaxis": "y"
        },
        {
         "alignmentgroup": "True",
         "hovertemplate": "DevType=%{x}<br>Number of Developers=%{y}<extra></extra>",
         "legendgroup": "Developer, desktop or enterprise applications",
         "marker": {
          "color": "rgb(180, 151, 231)",
          "pattern": {
           "shape": ""
          }
         },
         "name": "Developer, desktop or enterprise applications",
         "offsetgroup": "Developer, desktop or enterprise applications",
         "orientation": "v",
         "showlegend": true,
         "textposition": "auto",
         "type": "bar",
         "x": [
          "Developer, desktop or enterprise applications"
         ],
         "xaxis": "x",
         "y": [
          865
         ],
         "yaxis": "y"
        }
       ],
       "layout": {
        "barmode": "relative",
        "height": 700,
        "legend": {
         "title": {
          "text": "DevType"
         },
         "tracegroupgap": 0
        },
        "margin": {
         "t": 60
        },
        "template": {
         "data": {
          "candlestick": [
           {
            "decreasing": {
             "line": {
              "color": "#000033"
             }
            },
            "increasing": {
             "line": {
              "color": "#000032"
             }
            },
            "type": "candlestick"
           }
          ],
          "contour": [
           {
            "colorscale": [
             [
              0,
              "#000011"
             ],
             [
              0.1111111111111111,
              "#000012"
             ],
             [
              0.2222222222222222,
              "#000013"
             ],
             [
              0.3333333333333333,
              "#000014"
             ],
             [
              0.4444444444444444,
              "#000015"
             ],
             [
              0.5555555555555556,
              "#000016"
             ],
             [
              0.6666666666666666,
              "#000017"
             ],
             [
              0.7777777777777778,
              "#000018"
             ],
             [
              0.8888888888888888,
              "#000019"
             ],
             [
              1,
              "#000020"
             ]
            ],
            "type": "contour"
           }
          ],
          "contourcarpet": [
           {
            "colorscale": [
             [
              0,
              "#000011"
             ],
             [
              0.1111111111111111,
              "#000012"
             ],
             [
              0.2222222222222222,
              "#000013"
             ],
             [
              0.3333333333333333,
              "#000014"
             ],
             [
              0.4444444444444444,
              "#000015"
             ],
             [
              0.5555555555555556,
              "#000016"
             ],
             [
              0.6666666666666666,
              "#000017"
             ],
             [
              0.7777777777777778,
              "#000018"
             ],
             [
              0.8888888888888888,
              "#000019"
             ],
             [
              1,
              "#000020"
             ]
            ],
            "type": "contourcarpet"
           }
          ],
          "heatmap": [
           {
            "colorscale": [
             [
              0,
              "#000011"
             ],
             [
              0.1111111111111111,
              "#000012"
             ],
             [
              0.2222222222222222,
              "#000013"
             ],
             [
              0.3333333333333333,
              "#000014"
             ],
             [
              0.4444444444444444,
              "#000015"
             ],
             [
              0.5555555555555556,
              "#000016"
             ],
             [
              0.6666666666666666,
              "#000017"
             ],
             [
              0.7777777777777778,
              "#000018"
             ],
             [
              0.8888888888888888,
              "#000019"
             ],
             [
              1,
              "#000020"
             ]
            ],
            "type": "heatmap"
           }
          ],
          "histogram2d": [
           {
            "colorscale": [
             [
              0,
              "#000011"
             ],
             [
              0.1111111111111111,
              "#000012"
             ],
             [
              0.2222222222222222,
              "#000013"
             ],
             [
              0.3333333333333333,
              "#000014"
             ],
             [
              0.4444444444444444,
              "#000015"
             ],
             [
              0.5555555555555556,
              "#000016"
             ],
             [
              0.6666666666666666,
              "#000017"
             ],
             [
              0.7777777777777778,
              "#000018"
             ],
             [
              0.8888888888888888,
              "#000019"
             ],
             [
              1,
              "#000020"
             ]
            ],
            "type": "histogram2d"
           }
          ],
          "icicle": [
           {
            "textfont": {
             "color": "white"
            },
            "type": "icicle"
           }
          ],
          "sankey": [
           {
            "textfont": {
             "color": "#000036"
            },
            "type": "sankey"
           }
          ],
          "scatter": [
           {
            "marker": {
             "line": {
              "width": 0
             }
            },
            "type": "scatter"
           }
          ],
          "table": [
           {
            "cells": {
             "fill": {
              "color": "#000038"
             },
             "font": {
              "color": "#000037"
             },
             "line": {
              "color": "#000039"
             }
            },
            "header": {
             "fill": {
              "color": "#000040"
             },
             "font": {
              "color": "#000036"
             },
             "line": {
              "color": "#000039"
             }
            },
            "type": "table"
           }
          ],
          "waterfall": [
           {
            "connector": {
             "line": {
              "color": "#000036",
              "width": 2
             }
            },
            "decreasing": {
             "marker": {
              "color": "#000033"
             }
            },
            "increasing": {
             "marker": {
              "color": "#000032"
             }
            },
            "totals": {
             "marker": {
              "color": "#000034"
             }
            },
            "type": "waterfall"
           }
          ]
         },
         "layout": {
          "coloraxis": {
           "colorscale": [
            [
             0,
             "#000011"
            ],
            [
             0.1111111111111111,
             "#000012"
            ],
            [
             0.2222222222222222,
             "#000013"
            ],
            [
             0.3333333333333333,
             "#000014"
            ],
            [
             0.4444444444444444,
             "#000015"
            ],
            [
             0.5555555555555556,
             "#000016"
            ],
            [
             0.6666666666666666,
             "#000017"
            ],
            [
             0.7777777777777778,
             "#000018"
            ],
            [
             0.8888888888888888,
             "#000019"
            ],
            [
             1,
             "#000020"
            ]
           ]
          },
          "colorscale": {
           "diverging": [
            [
             0,
             "#000021"
            ],
            [
             0.1,
             "#000022"
            ],
            [
             0.2,
             "#000023"
            ],
            [
             0.3,
             "#000024"
            ],
            [
             0.4,
             "#000025"
            ],
            [
             0.5,
             "#000026"
            ],
            [
             0.6,
             "#000027"
            ],
            [
             0.7,
             "#000028"
            ],
            [
             0.8,
             "#000029"
            ],
            [
             0.9,
             "#000030"
            ],
            [
             1,
             "#000031"
            ]
           ],
           "sequential": [
            [
             0,
             "#000011"
            ],
            [
             0.1111111111111111,
             "#000012"
            ],
            [
             0.2222222222222222,
             "#000013"
            ],
            [
             0.3333333333333333,
             "#000014"
            ],
            [
             0.4444444444444444,
             "#000015"
            ],
            [
             0.5555555555555556,
             "#000016"
            ],
            [
             0.6666666666666666,
             "#000017"
            ],
            [
             0.7777777777777778,
             "#000018"
            ],
            [
             0.8888888888888888,
             "#000019"
            ],
            [
             1,
             "#000020"
            ]
           ],
           "sequentialminus": [
            [
             0,
             "#000011"
            ],
            [
             0.1111111111111111,
             "#000012"
            ],
            [
             0.2222222222222222,
             "#000013"
            ],
            [
             0.3333333333333333,
             "#000014"
            ],
            [
             0.4444444444444444,
             "#000015"
            ],
            [
             0.5555555555555556,
             "#000016"
            ],
            [
             0.6666666666666666,
             "#000017"
            ],
            [
             0.7777777777777778,
             "#000018"
            ],
            [
             0.8888888888888888,
             "#000019"
            ],
            [
             1,
             "#000020"
            ]
           ]
          },
          "colorway": [
           "#000001",
           "#000002",
           "#000003",
           "#000004",
           "#000005",
           "#000006",
           "#000007",
           "#000008",
           "#000009",
           "#000010"
          ]
         }
        },
        "width": 800,
        "xaxis": {
         "anchor": "y",
         "categoryarray": [
          "Developer, full-stack",
          "Developer, back-end",
          "Developer, front-end",
          "Developer, front-end;Developer, full-stack;Developer, back-end",
          "Developer, full-stack;Developer, back-end",
          "Developer, mobile",
          "Other (please specify):",
          "Student",
          "Developer, front-end;Developer, full-stack",
          "Developer, desktop or enterprise applications"
         ],
         "categoryorder": "array",
         "domain": [
          0,
          1
         ],
         "title": {
          "text": "DevType"
         }
        },
        "yaxis": {
         "anchor": "x",
         "domain": [
          0,
          1
         ],
         "title": {
          "text": "Number of Developers"
         }
        }
       }
      }
     },
     "metadata": {},
     "output_type": "display_data"
    }
   ],
   "source": [
    "plot_bar_plotly(df2022, 'DevType', 10, 700, 800)"
   ]
  },
  {
   "cell_type": "code",
   "execution_count": 281,
   "metadata": {},
   "outputs": [
    {
     "data": {
      "application/vnd.plotly.v1+json": {
       "config": {
        "plotlyServerURL": "https://plot.ly"
       },
       "data": [
        {
         "alignmentgroup": "True",
         "hovertemplate": "EdLevel=%{x}<br>Average CompTotal=%{y}<extra></extra>",
         "legendgroup": "",
         "marker": {
          "color": "rgb(102, 197, 204)",
          "pattern": {
           "shape": ""
          }
         },
         "name": "",
         "offsetgroup": "",
         "orientation": "v",
         "showlegend": false,
         "textposition": "auto",
         "type": "bar",
         "x": [
          "Associate degree (A.A., A.S., etc.)",
          "Bachelor’s degree (B.A., B.S., B.Eng., etc.)",
          "Master’s degree (M.A., M.S., M.Eng., MBA, etc.)",
          "Other doctoral degree (Ph.D., Ed.D., etc.)",
          "Primary/elementary school",
          "Professional degree (JD, MD, etc.)",
          "Secondary school (e.g. American high school, German Realschule or Gymnasium, etc.)",
          "Some college/university study without earning a degree",
          "Something else"
         ],
         "xaxis": "x",
         "y": [
          101687.27294711742,
          116204.00822085193,
          109899.31426150315,
          110214.20201831384,
          108054.58859370378,
          102310.7474252992,
          102249.85252358114,
          106174.24575678309,
          100077.26095271841
         ],
         "yaxis": "y"
        }
       ],
       "layout": {
        "barmode": "relative",
        "height": 450,
        "legend": {
         "tracegroupgap": 0
        },
        "margin": {
         "t": 60
        },
        "template": {
         "data": {
          "candlestick": [
           {
            "decreasing": {
             "line": {
              "color": "#000033"
             }
            },
            "increasing": {
             "line": {
              "color": "#000032"
             }
            },
            "type": "candlestick"
           }
          ],
          "contour": [
           {
            "colorscale": [
             [
              0,
              "#000011"
             ],
             [
              0.1111111111111111,
              "#000012"
             ],
             [
              0.2222222222222222,
              "#000013"
             ],
             [
              0.3333333333333333,
              "#000014"
             ],
             [
              0.4444444444444444,
              "#000015"
             ],
             [
              0.5555555555555556,
              "#000016"
             ],
             [
              0.6666666666666666,
              "#000017"
             ],
             [
              0.7777777777777778,
              "#000018"
             ],
             [
              0.8888888888888888,
              "#000019"
             ],
             [
              1,
              "#000020"
             ]
            ],
            "type": "contour"
           }
          ],
          "contourcarpet": [
           {
            "colorscale": [
             [
              0,
              "#000011"
             ],
             [
              0.1111111111111111,
              "#000012"
             ],
             [
              0.2222222222222222,
              "#000013"
             ],
             [
              0.3333333333333333,
              "#000014"
             ],
             [
              0.4444444444444444,
              "#000015"
             ],
             [
              0.5555555555555556,
              "#000016"
             ],
             [
              0.6666666666666666,
              "#000017"
             ],
             [
              0.7777777777777778,
              "#000018"
             ],
             [
              0.8888888888888888,
              "#000019"
             ],
             [
              1,
              "#000020"
             ]
            ],
            "type": "contourcarpet"
           }
          ],
          "heatmap": [
           {
            "colorscale": [
             [
              0,
              "#000011"
             ],
             [
              0.1111111111111111,
              "#000012"
             ],
             [
              0.2222222222222222,
              "#000013"
             ],
             [
              0.3333333333333333,
              "#000014"
             ],
             [
              0.4444444444444444,
              "#000015"
             ],
             [
              0.5555555555555556,
              "#000016"
             ],
             [
              0.6666666666666666,
              "#000017"
             ],
             [
              0.7777777777777778,
              "#000018"
             ],
             [
              0.8888888888888888,
              "#000019"
             ],
             [
              1,
              "#000020"
             ]
            ],
            "type": "heatmap"
           }
          ],
          "histogram2d": [
           {
            "colorscale": [
             [
              0,
              "#000011"
             ],
             [
              0.1111111111111111,
              "#000012"
             ],
             [
              0.2222222222222222,
              "#000013"
             ],
             [
              0.3333333333333333,
              "#000014"
             ],
             [
              0.4444444444444444,
              "#000015"
             ],
             [
              0.5555555555555556,
              "#000016"
             ],
             [
              0.6666666666666666,
              "#000017"
             ],
             [
              0.7777777777777778,
              "#000018"
             ],
             [
              0.8888888888888888,
              "#000019"
             ],
             [
              1,
              "#000020"
             ]
            ],
            "type": "histogram2d"
           }
          ],
          "icicle": [
           {
            "textfont": {
             "color": "white"
            },
            "type": "icicle"
           }
          ],
          "sankey": [
           {
            "textfont": {
             "color": "#000036"
            },
            "type": "sankey"
           }
          ],
          "scatter": [
           {
            "marker": {
             "line": {
              "width": 0
             }
            },
            "type": "scatter"
           }
          ],
          "table": [
           {
            "cells": {
             "fill": {
              "color": "#000038"
             },
             "font": {
              "color": "#000037"
             },
             "line": {
              "color": "#000039"
             }
            },
            "header": {
             "fill": {
              "color": "#000040"
             },
             "font": {
              "color": "#000036"
             },
             "line": {
              "color": "#000039"
             }
            },
            "type": "table"
           }
          ],
          "waterfall": [
           {
            "connector": {
             "line": {
              "color": "#000036",
              "width": 2
             }
            },
            "decreasing": {
             "marker": {
              "color": "#000033"
             }
            },
            "increasing": {
             "marker": {
              "color": "#000032"
             }
            },
            "totals": {
             "marker": {
              "color": "#000034"
             }
            },
            "type": "waterfall"
           }
          ]
         },
         "layout": {
          "coloraxis": {
           "colorscale": [
            [
             0,
             "#000011"
            ],
            [
             0.1111111111111111,
             "#000012"
            ],
            [
             0.2222222222222222,
             "#000013"
            ],
            [
             0.3333333333333333,
             "#000014"
            ],
            [
             0.4444444444444444,
             "#000015"
            ],
            [
             0.5555555555555556,
             "#000016"
            ],
            [
             0.6666666666666666,
             "#000017"
            ],
            [
             0.7777777777777778,
             "#000018"
            ],
            [
             0.8888888888888888,
             "#000019"
            ],
            [
             1,
             "#000020"
            ]
           ]
          },
          "colorscale": {
           "diverging": [
            [
             0,
             "#000021"
            ],
            [
             0.1,
             "#000022"
            ],
            [
             0.2,
             "#000023"
            ],
            [
             0.3,
             "#000024"
            ],
            [
             0.4,
             "#000025"
            ],
            [
             0.5,
             "#000026"
            ],
            [
             0.6,
             "#000027"
            ],
            [
             0.7,
             "#000028"
            ],
            [
             0.8,
             "#000029"
            ],
            [
             0.9,
             "#000030"
            ],
            [
             1,
             "#000031"
            ]
           ],
           "sequential": [
            [
             0,
             "#000011"
            ],
            [
             0.1111111111111111,
             "#000012"
            ],
            [
             0.2222222222222222,
             "#000013"
            ],
            [
             0.3333333333333333,
             "#000014"
            ],
            [
             0.4444444444444444,
             "#000015"
            ],
            [
             0.5555555555555556,
             "#000016"
            ],
            [
             0.6666666666666666,
             "#000017"
            ],
            [
             0.7777777777777778,
             "#000018"
            ],
            [
             0.8888888888888888,
             "#000019"
            ],
            [
             1,
             "#000020"
            ]
           ],
           "sequentialminus": [
            [
             0,
             "#000011"
            ],
            [
             0.1111111111111111,
             "#000012"
            ],
            [
             0.2222222222222222,
             "#000013"
            ],
            [
             0.3333333333333333,
             "#000014"
            ],
            [
             0.4444444444444444,
             "#000015"
            ],
            [
             0.5555555555555556,
             "#000016"
            ],
            [
             0.6666666666666666,
             "#000017"
            ],
            [
             0.7777777777777778,
             "#000018"
            ],
            [
             0.8888888888888888,
             "#000019"
            ],
            [
             1,
             "#000020"
            ]
           ]
          },
          "colorway": [
           "#000001",
           "#000002",
           "#000003",
           "#000004",
           "#000005",
           "#000006",
           "#000007",
           "#000008",
           "#000009",
           "#000010"
          ]
         }
        },
        "width": 700,
        "xaxis": {
         "anchor": "y",
         "domain": [
          0,
          1
         ],
         "title": {
          "text": "EdLevel"
         }
        },
        "yaxis": {
         "anchor": "x",
         "domain": [
          0,
          1
         ],
         "title": {
          "text": "Average CompTotal"
         }
        }
       }
      }
     },
     "metadata": {},
     "output_type": "display_data"
    }
   ],
   "source": [
    "plot_comparison_plotly(df2022,'EdLevel','CompTotal',10,450,700)"
   ]
  },
  {
   "cell_type": "code",
   "execution_count": 282,
   "metadata": {},
   "outputs": [
    {
     "data": {
      "application/vnd.plotly.v1+json": {
       "config": {
        "plotlyServerURL": "https://plot.ly"
       },
       "data": [
        {
         "alignmentgroup": "True",
         "hovertemplate": "DevType=%{x}<br>Average CompTotal=%{y}<extra></extra>",
         "legendgroup": "",
         "marker": {
          "color": "rgb(102, 197, 204)",
          "pattern": {
           "shape": ""
          }
         },
         "name": "",
         "offsetgroup": "",
         "orientation": "v",
         "showlegend": false,
         "textposition": "auto",
         "type": "bar",
         "x": [
          "Developer, back-end",
          "Developer, desktop or enterprise applications",
          "Developer, front-end",
          "Developer, front-end;Developer, full-stack",
          "Developer, front-end;Developer, full-stack;Developer, back-end",
          "Developer, full-stack",
          "Developer, full-stack;Developer, back-end",
          "Developer, mobile",
          "Other (please specify):",
          "Student"
         ],
         "xaxis": "x",
         "y": [
          115004.25879823806,
          101735.20404495049,
          107438.22891887251,
          119165.19601287004,
          109351.34040928776,
          106344.11353100928,
          111064.85045972704,
          112388.58407438092,
          113596.35091771837,
          110260.90826521476
         ],
         "yaxis": "y"
        }
       ],
       "layout": {
        "barmode": "relative",
        "height": 450,
        "legend": {
         "tracegroupgap": 0
        },
        "margin": {
         "t": 60
        },
        "template": {
         "data": {
          "candlestick": [
           {
            "decreasing": {
             "line": {
              "color": "#000033"
             }
            },
            "increasing": {
             "line": {
              "color": "#000032"
             }
            },
            "type": "candlestick"
           }
          ],
          "contour": [
           {
            "colorscale": [
             [
              0,
              "#000011"
             ],
             [
              0.1111111111111111,
              "#000012"
             ],
             [
              0.2222222222222222,
              "#000013"
             ],
             [
              0.3333333333333333,
              "#000014"
             ],
             [
              0.4444444444444444,
              "#000015"
             ],
             [
              0.5555555555555556,
              "#000016"
             ],
             [
              0.6666666666666666,
              "#000017"
             ],
             [
              0.7777777777777778,
              "#000018"
             ],
             [
              0.8888888888888888,
              "#000019"
             ],
             [
              1,
              "#000020"
             ]
            ],
            "type": "contour"
           }
          ],
          "contourcarpet": [
           {
            "colorscale": [
             [
              0,
              "#000011"
             ],
             [
              0.1111111111111111,
              "#000012"
             ],
             [
              0.2222222222222222,
              "#000013"
             ],
             [
              0.3333333333333333,
              "#000014"
             ],
             [
              0.4444444444444444,
              "#000015"
             ],
             [
              0.5555555555555556,
              "#000016"
             ],
             [
              0.6666666666666666,
              "#000017"
             ],
             [
              0.7777777777777778,
              "#000018"
             ],
             [
              0.8888888888888888,
              "#000019"
             ],
             [
              1,
              "#000020"
             ]
            ],
            "type": "contourcarpet"
           }
          ],
          "heatmap": [
           {
            "colorscale": [
             [
              0,
              "#000011"
             ],
             [
              0.1111111111111111,
              "#000012"
             ],
             [
              0.2222222222222222,
              "#000013"
             ],
             [
              0.3333333333333333,
              "#000014"
             ],
             [
              0.4444444444444444,
              "#000015"
             ],
             [
              0.5555555555555556,
              "#000016"
             ],
             [
              0.6666666666666666,
              "#000017"
             ],
             [
              0.7777777777777778,
              "#000018"
             ],
             [
              0.8888888888888888,
              "#000019"
             ],
             [
              1,
              "#000020"
             ]
            ],
            "type": "heatmap"
           }
          ],
          "histogram2d": [
           {
            "colorscale": [
             [
              0,
              "#000011"
             ],
             [
              0.1111111111111111,
              "#000012"
             ],
             [
              0.2222222222222222,
              "#000013"
             ],
             [
              0.3333333333333333,
              "#000014"
             ],
             [
              0.4444444444444444,
              "#000015"
             ],
             [
              0.5555555555555556,
              "#000016"
             ],
             [
              0.6666666666666666,
              "#000017"
             ],
             [
              0.7777777777777778,
              "#000018"
             ],
             [
              0.8888888888888888,
              "#000019"
             ],
             [
              1,
              "#000020"
             ]
            ],
            "type": "histogram2d"
           }
          ],
          "icicle": [
           {
            "textfont": {
             "color": "white"
            },
            "type": "icicle"
           }
          ],
          "sankey": [
           {
            "textfont": {
             "color": "#000036"
            },
            "type": "sankey"
           }
          ],
          "scatter": [
           {
            "marker": {
             "line": {
              "width": 0
             }
            },
            "type": "scatter"
           }
          ],
          "table": [
           {
            "cells": {
             "fill": {
              "color": "#000038"
             },
             "font": {
              "color": "#000037"
             },
             "line": {
              "color": "#000039"
             }
            },
            "header": {
             "fill": {
              "color": "#000040"
             },
             "font": {
              "color": "#000036"
             },
             "line": {
              "color": "#000039"
             }
            },
            "type": "table"
           }
          ],
          "waterfall": [
           {
            "connector": {
             "line": {
              "color": "#000036",
              "width": 2
             }
            },
            "decreasing": {
             "marker": {
              "color": "#000033"
             }
            },
            "increasing": {
             "marker": {
              "color": "#000032"
             }
            },
            "totals": {
             "marker": {
              "color": "#000034"
             }
            },
            "type": "waterfall"
           }
          ]
         },
         "layout": {
          "coloraxis": {
           "colorscale": [
            [
             0,
             "#000011"
            ],
            [
             0.1111111111111111,
             "#000012"
            ],
            [
             0.2222222222222222,
             "#000013"
            ],
            [
             0.3333333333333333,
             "#000014"
            ],
            [
             0.4444444444444444,
             "#000015"
            ],
            [
             0.5555555555555556,
             "#000016"
            ],
            [
             0.6666666666666666,
             "#000017"
            ],
            [
             0.7777777777777778,
             "#000018"
            ],
            [
             0.8888888888888888,
             "#000019"
            ],
            [
             1,
             "#000020"
            ]
           ]
          },
          "colorscale": {
           "diverging": [
            [
             0,
             "#000021"
            ],
            [
             0.1,
             "#000022"
            ],
            [
             0.2,
             "#000023"
            ],
            [
             0.3,
             "#000024"
            ],
            [
             0.4,
             "#000025"
            ],
            [
             0.5,
             "#000026"
            ],
            [
             0.6,
             "#000027"
            ],
            [
             0.7,
             "#000028"
            ],
            [
             0.8,
             "#000029"
            ],
            [
             0.9,
             "#000030"
            ],
            [
             1,
             "#000031"
            ]
           ],
           "sequential": [
            [
             0,
             "#000011"
            ],
            [
             0.1111111111111111,
             "#000012"
            ],
            [
             0.2222222222222222,
             "#000013"
            ],
            [
             0.3333333333333333,
             "#000014"
            ],
            [
             0.4444444444444444,
             "#000015"
            ],
            [
             0.5555555555555556,
             "#000016"
            ],
            [
             0.6666666666666666,
             "#000017"
            ],
            [
             0.7777777777777778,
             "#000018"
            ],
            [
             0.8888888888888888,
             "#000019"
            ],
            [
             1,
             "#000020"
            ]
           ],
           "sequentialminus": [
            [
             0,
             "#000011"
            ],
            [
             0.1111111111111111,
             "#000012"
            ],
            [
             0.2222222222222222,
             "#000013"
            ],
            [
             0.3333333333333333,
             "#000014"
            ],
            [
             0.4444444444444444,
             "#000015"
            ],
            [
             0.5555555555555556,
             "#000016"
            ],
            [
             0.6666666666666666,
             "#000017"
            ],
            [
             0.7777777777777778,
             "#000018"
            ],
            [
             0.8888888888888888,
             "#000019"
            ],
            [
             1,
             "#000020"
            ]
           ]
          },
          "colorway": [
           "#000001",
           "#000002",
           "#000003",
           "#000004",
           "#000005",
           "#000006",
           "#000007",
           "#000008",
           "#000009",
           "#000010"
          ]
         }
        },
        "width": 700,
        "xaxis": {
         "anchor": "y",
         "domain": [
          0,
          1
         ],
         "title": {
          "text": "DevType"
         }
        },
        "yaxis": {
         "anchor": "x",
         "domain": [
          0,
          1
         ],
         "title": {
          "text": "Average CompTotal"
         }
        }
       }
      }
     },
     "metadata": {},
     "output_type": "display_data"
    }
   ],
   "source": [
    "plot_comparison_plotly(df2022,'DevType','CompTotal',10,450,700)"
   ]
  },
  {
   "cell_type": "code",
   "execution_count": 283,
   "metadata": {},
   "outputs": [
    {
     "data": {
      "application/vnd.plotly.v1+json": {
       "config": {
        "plotlyServerURL": "https://plot.ly"
       },
       "data": [
        {
         "alignmentgroup": "True",
         "hovertemplate": "Country=%{y}<br>Average Salary in US$ (Median)=%{x}<extra></extra>",
         "legendgroup": "Senegal",
         "marker": {
          "color": "rgb(141,211,199)",
          "pattern": {
           "shape": ""
          }
         },
         "name": "Senegal",
         "offsetgroup": "Senegal",
         "orientation": "h",
         "showlegend": true,
         "textposition": "auto",
         "type": "bar",
         "x": [
          555320.8832439079
         ],
         "xaxis": "x",
         "y": [
          "Senegal"
         ],
         "yaxis": "y"
        },
        {
         "alignmentgroup": "True",
         "hovertemplate": "Country=%{y}<br>Average Salary in US$ (Median)=%{x}<extra></extra>",
         "legendgroup": "Kazakhstan",
         "marker": {
          "color": "rgb(255,255,179)",
          "pattern": {
           "shape": ""
          }
         },
         "name": "Kazakhstan",
         "offsetgroup": "Kazakhstan",
         "orientation": "h",
         "showlegend": true,
         "textposition": "auto",
         "type": "bar",
         "x": [
          150000
         ],
         "xaxis": "x",
         "y": [
          "Kazakhstan"
         ],
         "yaxis": "y"
        },
        {
         "alignmentgroup": "True",
         "hovertemplate": "Country=%{y}<br>Average Salary in US$ (Median)=%{x}<extra></extra>",
         "legendgroup": "Nicaragua",
         "marker": {
          "color": "rgb(190,186,218)",
          "pattern": {
           "shape": ""
          }
         },
         "name": "Nicaragua",
         "offsetgroup": "Nicaragua",
         "orientation": "h",
         "showlegend": true,
         "textposition": "auto",
         "type": "bar",
         "x": [
          110641.76648781578
         ],
         "xaxis": "x",
         "y": [
          "Nicaragua"
         ],
         "yaxis": "y"
        },
        {
         "alignmentgroup": "True",
         "hovertemplate": "Country=%{y}<br>Average Salary in US$ (Median)=%{x}<extra></extra>",
         "legendgroup": "Portugal",
         "marker": {
          "color": "rgb(251,128,114)",
          "pattern": {
           "shape": ""
          }
         },
         "name": "Portugal",
         "offsetgroup": "Portugal",
         "orientation": "h",
         "showlegend": true,
         "textposition": "auto",
         "type": "bar",
         "x": [
          110641.76648781578
         ],
         "xaxis": "x",
         "y": [
          "Portugal"
         ],
         "yaxis": "y"
        },
        {
         "alignmentgroup": "True",
         "hovertemplate": "Country=%{y}<br>Average Salary in US$ (Median)=%{x}<extra></extra>",
         "legendgroup": "Poland",
         "marker": {
          "color": "rgb(128,177,211)",
          "pattern": {
           "shape": ""
          }
         },
         "name": "Poland",
         "offsetgroup": "Poland",
         "orientation": "h",
         "showlegend": true,
         "textposition": "auto",
         "type": "bar",
         "x": [
          110641.76648781578
         ],
         "xaxis": "x",
         "y": [
          "Poland"
         ],
         "yaxis": "y"
        },
        {
         "alignmentgroup": "True",
         "hovertemplate": "Country=%{y}<br>Average Salary in US$ (Median)=%{x}<extra></extra>",
         "legendgroup": "Philippines",
         "marker": {
          "color": "rgb(253,180,98)",
          "pattern": {
           "shape": ""
          }
         },
         "name": "Philippines",
         "offsetgroup": "Philippines",
         "orientation": "h",
         "showlegend": true,
         "textposition": "auto",
         "type": "bar",
         "x": [
          110641.76648781578
         ],
         "xaxis": "x",
         "y": [
          "Philippines"
         ],
         "yaxis": "y"
        },
        {
         "alignmentgroup": "True",
         "hovertemplate": "Country=%{y}<br>Average Salary in US$ (Median)=%{x}<extra></extra>",
         "legendgroup": "Peru",
         "marker": {
          "color": "rgb(179,222,105)",
          "pattern": {
           "shape": ""
          }
         },
         "name": "Peru",
         "offsetgroup": "Peru",
         "orientation": "h",
         "showlegend": true,
         "textposition": "auto",
         "type": "bar",
         "x": [
          110641.76648781578
         ],
         "xaxis": "x",
         "y": [
          "Peru"
         ],
         "yaxis": "y"
        },
        {
         "alignmentgroup": "True",
         "hovertemplate": "Country=%{y}<br>Average Salary in US$ (Median)=%{x}<extra></extra>",
         "legendgroup": "Paraguay",
         "marker": {
          "color": "rgb(252,205,229)",
          "pattern": {
           "shape": ""
          }
         },
         "name": "Paraguay",
         "offsetgroup": "Paraguay",
         "orientation": "h",
         "showlegend": true,
         "textposition": "auto",
         "type": "bar",
         "x": [
          110641.76648781578
         ],
         "xaxis": "x",
         "y": [
          "Paraguay"
         ],
         "yaxis": "y"
        },
        {
         "alignmentgroup": "True",
         "hovertemplate": "Country=%{y}<br>Average Salary in US$ (Median)=%{x}<extra></extra>",
         "legendgroup": "Panama",
         "marker": {
          "color": "rgb(217,217,217)",
          "pattern": {
           "shape": ""
          }
         },
         "name": "Panama",
         "offsetgroup": "Panama",
         "orientation": "h",
         "showlegend": true,
         "textposition": "auto",
         "type": "bar",
         "x": [
          110641.76648781578
         ],
         "xaxis": "x",
         "y": [
          "Panama"
         ],
         "yaxis": "y"
        },
        {
         "alignmentgroup": "True",
         "hovertemplate": "Country=%{y}<br>Average Salary in US$ (Median)=%{x}<extra></extra>",
         "legendgroup": "Palestine",
         "marker": {
          "color": "rgb(188,128,189)",
          "pattern": {
           "shape": ""
          }
         },
         "name": "Palestine",
         "offsetgroup": "Palestine",
         "orientation": "h",
         "showlegend": true,
         "textposition": "auto",
         "type": "bar",
         "x": [
          110641.76648781578
         ],
         "xaxis": "x",
         "y": [
          "Palestine"
         ],
         "yaxis": "y"
        }
       ],
       "layout": {
        "barmode": "relative",
        "legend": {
         "title": {
          "text": "Country"
         },
         "tracegroupgap": 0
        },
        "template": {
         "data": {
          "candlestick": [
           {
            "decreasing": {
             "line": {
              "color": "#000033"
             }
            },
            "increasing": {
             "line": {
              "color": "#000032"
             }
            },
            "type": "candlestick"
           }
          ],
          "contour": [
           {
            "colorscale": [
             [
              0,
              "#000011"
             ],
             [
              0.1111111111111111,
              "#000012"
             ],
             [
              0.2222222222222222,
              "#000013"
             ],
             [
              0.3333333333333333,
              "#000014"
             ],
             [
              0.4444444444444444,
              "#000015"
             ],
             [
              0.5555555555555556,
              "#000016"
             ],
             [
              0.6666666666666666,
              "#000017"
             ],
             [
              0.7777777777777778,
              "#000018"
             ],
             [
              0.8888888888888888,
              "#000019"
             ],
             [
              1,
              "#000020"
             ]
            ],
            "type": "contour"
           }
          ],
          "contourcarpet": [
           {
            "colorscale": [
             [
              0,
              "#000011"
             ],
             [
              0.1111111111111111,
              "#000012"
             ],
             [
              0.2222222222222222,
              "#000013"
             ],
             [
              0.3333333333333333,
              "#000014"
             ],
             [
              0.4444444444444444,
              "#000015"
             ],
             [
              0.5555555555555556,
              "#000016"
             ],
             [
              0.6666666666666666,
              "#000017"
             ],
             [
              0.7777777777777778,
              "#000018"
             ],
             [
              0.8888888888888888,
              "#000019"
             ],
             [
              1,
              "#000020"
             ]
            ],
            "type": "contourcarpet"
           }
          ],
          "heatmap": [
           {
            "colorscale": [
             [
              0,
              "#000011"
             ],
             [
              0.1111111111111111,
              "#000012"
             ],
             [
              0.2222222222222222,
              "#000013"
             ],
             [
              0.3333333333333333,
              "#000014"
             ],
             [
              0.4444444444444444,
              "#000015"
             ],
             [
              0.5555555555555556,
              "#000016"
             ],
             [
              0.6666666666666666,
              "#000017"
             ],
             [
              0.7777777777777778,
              "#000018"
             ],
             [
              0.8888888888888888,
              "#000019"
             ],
             [
              1,
              "#000020"
             ]
            ],
            "type": "heatmap"
           }
          ],
          "histogram2d": [
           {
            "colorscale": [
             [
              0,
              "#000011"
             ],
             [
              0.1111111111111111,
              "#000012"
             ],
             [
              0.2222222222222222,
              "#000013"
             ],
             [
              0.3333333333333333,
              "#000014"
             ],
             [
              0.4444444444444444,
              "#000015"
             ],
             [
              0.5555555555555556,
              "#000016"
             ],
             [
              0.6666666666666666,
              "#000017"
             ],
             [
              0.7777777777777778,
              "#000018"
             ],
             [
              0.8888888888888888,
              "#000019"
             ],
             [
              1,
              "#000020"
             ]
            ],
            "type": "histogram2d"
           }
          ],
          "icicle": [
           {
            "textfont": {
             "color": "white"
            },
            "type": "icicle"
           }
          ],
          "sankey": [
           {
            "textfont": {
             "color": "#000036"
            },
            "type": "sankey"
           }
          ],
          "scatter": [
           {
            "marker": {
             "line": {
              "width": 0
             }
            },
            "type": "scatter"
           }
          ],
          "table": [
           {
            "cells": {
             "fill": {
              "color": "#000038"
             },
             "font": {
              "color": "#000037"
             },
             "line": {
              "color": "#000039"
             }
            },
            "header": {
             "fill": {
              "color": "#000040"
             },
             "font": {
              "color": "#000036"
             },
             "line": {
              "color": "#000039"
             }
            },
            "type": "table"
           }
          ],
          "waterfall": [
           {
            "connector": {
             "line": {
              "color": "#000036",
              "width": 2
             }
            },
            "decreasing": {
             "marker": {
              "color": "#000033"
             }
            },
            "increasing": {
             "marker": {
              "color": "#000032"
             }
            },
            "totals": {
             "marker": {
              "color": "#000034"
             }
            },
            "type": "waterfall"
           }
          ]
         },
         "layout": {
          "coloraxis": {
           "colorscale": [
            [
             0,
             "#000011"
            ],
            [
             0.1111111111111111,
             "#000012"
            ],
            [
             0.2222222222222222,
             "#000013"
            ],
            [
             0.3333333333333333,
             "#000014"
            ],
            [
             0.4444444444444444,
             "#000015"
            ],
            [
             0.5555555555555556,
             "#000016"
            ],
            [
             0.6666666666666666,
             "#000017"
            ],
            [
             0.7777777777777778,
             "#000018"
            ],
            [
             0.8888888888888888,
             "#000019"
            ],
            [
             1,
             "#000020"
            ]
           ]
          },
          "colorscale": {
           "diverging": [
            [
             0,
             "#000021"
            ],
            [
             0.1,
             "#000022"
            ],
            [
             0.2,
             "#000023"
            ],
            [
             0.3,
             "#000024"
            ],
            [
             0.4,
             "#000025"
            ],
            [
             0.5,
             "#000026"
            ],
            [
             0.6,
             "#000027"
            ],
            [
             0.7,
             "#000028"
            ],
            [
             0.8,
             "#000029"
            ],
            [
             0.9,
             "#000030"
            ],
            [
             1,
             "#000031"
            ]
           ],
           "sequential": [
            [
             0,
             "#000011"
            ],
            [
             0.1111111111111111,
             "#000012"
            ],
            [
             0.2222222222222222,
             "#000013"
            ],
            [
             0.3333333333333333,
             "#000014"
            ],
            [
             0.4444444444444444,
             "#000015"
            ],
            [
             0.5555555555555556,
             "#000016"
            ],
            [
             0.6666666666666666,
             "#000017"
            ],
            [
             0.7777777777777778,
             "#000018"
            ],
            [
             0.8888888888888888,
             "#000019"
            ],
            [
             1,
             "#000020"
            ]
           ],
           "sequentialminus": [
            [
             0,
             "#000011"
            ],
            [
             0.1111111111111111,
             "#000012"
            ],
            [
             0.2222222222222222,
             "#000013"
            ],
            [
             0.3333333333333333,
             "#000014"
            ],
            [
             0.4444444444444444,
             "#000015"
            ],
            [
             0.5555555555555556,
             "#000016"
            ],
            [
             0.6666666666666666,
             "#000017"
            ],
            [
             0.7777777777777778,
             "#000018"
            ],
            [
             0.8888888888888888,
             "#000019"
            ],
            [
             1,
             "#000020"
            ]
           ]
          },
          "colorway": [
           "#000001",
           "#000002",
           "#000003",
           "#000004",
           "#000005",
           "#000006",
           "#000007",
           "#000008",
           "#000009",
           "#000010"
          ]
         }
        },
        "title": {
         "text": "Top 10 highest paying data scientist countries",
         "x": 0.5,
         "xanchor": "center",
         "yanchor": "top"
        },
        "xaxis": {
         "anchor": "y",
         "domain": [
          0,
          1
         ],
         "title": {
          "text": "Average Salary in US$ (Median)"
         }
        },
        "yaxis": {
         "anchor": "x",
         "categoryarray": [
          "Palestine",
          "Panama",
          "Paraguay",
          "Peru",
          "Philippines",
          "Poland",
          "Portugal",
          "Nicaragua",
          "Kazakhstan",
          "Senegal"
         ],
         "categoryorder": "total ascending",
         "domain": [
          0,
          1
         ],
         "title": {
          "text": "Country"
         }
        }
       }
      }
     },
     "metadata": {},
     "output_type": "display_data"
    }
   ],
   "source": [
    "fig = highest_paying_countries(df2022, salary_cap=1000000, top_n=10, name='Median')\n",
    "fig.show()"
   ]
  },
  {
   "cell_type": "code",
   "execution_count": 284,
   "metadata": {},
   "outputs": [
    {
     "data": {
      "application/vnd.plotly.v1+json": {
       "config": {
        "plotlyServerURL": "https://plot.ly"
       },
       "data": [
        {
         "alignmentgroup": "True",
         "hovertemplate": "LearnCode=%{x}<br>Average CompTotal=%{y}<extra></extra>",
         "legendgroup": "",
         "marker": {
          "color": "rgb(102, 197, 204)",
          "pattern": {
           "shape": ""
          }
         },
         "name": "",
         "offsetgroup": "",
         "orientation": "v",
         "showlegend": false,
         "textposition": "auto",
         "type": "bar",
         "x": [
          "college",
          "family",
          "friend",
          "job",
          "mediaother",
          "mediaschool",
          "online",
          "other",
          "school",
          "trainingonline"
         ],
         "xaxis": "x",
         "y": [
          110768.72077284018,
          118841.64263741396,
          106031.00559118502,
          117024.49195051065,
          110899.34980246604,
          117125.85979358935,
          108662.89716025064,
          115392.69827996954,
          108621.92645194932,
          111395.46811271922
         ],
         "yaxis": "y"
        }
       ],
       "layout": {
        "barmode": "relative",
        "height": 450,
        "legend": {
         "tracegroupgap": 0
        },
        "margin": {
         "t": 60
        },
        "template": {
         "data": {
          "candlestick": [
           {
            "decreasing": {
             "line": {
              "color": "#000033"
             }
            },
            "increasing": {
             "line": {
              "color": "#000032"
             }
            },
            "type": "candlestick"
           }
          ],
          "contour": [
           {
            "colorscale": [
             [
              0,
              "#000011"
             ],
             [
              0.1111111111111111,
              "#000012"
             ],
             [
              0.2222222222222222,
              "#000013"
             ],
             [
              0.3333333333333333,
              "#000014"
             ],
             [
              0.4444444444444444,
              "#000015"
             ],
             [
              0.5555555555555556,
              "#000016"
             ],
             [
              0.6666666666666666,
              "#000017"
             ],
             [
              0.7777777777777778,
              "#000018"
             ],
             [
              0.8888888888888888,
              "#000019"
             ],
             [
              1,
              "#000020"
             ]
            ],
            "type": "contour"
           }
          ],
          "contourcarpet": [
           {
            "colorscale": [
             [
              0,
              "#000011"
             ],
             [
              0.1111111111111111,
              "#000012"
             ],
             [
              0.2222222222222222,
              "#000013"
             ],
             [
              0.3333333333333333,
              "#000014"
             ],
             [
              0.4444444444444444,
              "#000015"
             ],
             [
              0.5555555555555556,
              "#000016"
             ],
             [
              0.6666666666666666,
              "#000017"
             ],
             [
              0.7777777777777778,
              "#000018"
             ],
             [
              0.8888888888888888,
              "#000019"
             ],
             [
              1,
              "#000020"
             ]
            ],
            "type": "contourcarpet"
           }
          ],
          "heatmap": [
           {
            "colorscale": [
             [
              0,
              "#000011"
             ],
             [
              0.1111111111111111,
              "#000012"
             ],
             [
              0.2222222222222222,
              "#000013"
             ],
             [
              0.3333333333333333,
              "#000014"
             ],
             [
              0.4444444444444444,
              "#000015"
             ],
             [
              0.5555555555555556,
              "#000016"
             ],
             [
              0.6666666666666666,
              "#000017"
             ],
             [
              0.7777777777777778,
              "#000018"
             ],
             [
              0.8888888888888888,
              "#000019"
             ],
             [
              1,
              "#000020"
             ]
            ],
            "type": "heatmap"
           }
          ],
          "histogram2d": [
           {
            "colorscale": [
             [
              0,
              "#000011"
             ],
             [
              0.1111111111111111,
              "#000012"
             ],
             [
              0.2222222222222222,
              "#000013"
             ],
             [
              0.3333333333333333,
              "#000014"
             ],
             [
              0.4444444444444444,
              "#000015"
             ],
             [
              0.5555555555555556,
              "#000016"
             ],
             [
              0.6666666666666666,
              "#000017"
             ],
             [
              0.7777777777777778,
              "#000018"
             ],
             [
              0.8888888888888888,
              "#000019"
             ],
             [
              1,
              "#000020"
             ]
            ],
            "type": "histogram2d"
           }
          ],
          "icicle": [
           {
            "textfont": {
             "color": "white"
            },
            "type": "icicle"
           }
          ],
          "sankey": [
           {
            "textfont": {
             "color": "#000036"
            },
            "type": "sankey"
           }
          ],
          "scatter": [
           {
            "marker": {
             "line": {
              "width": 0
             }
            },
            "type": "scatter"
           }
          ],
          "table": [
           {
            "cells": {
             "fill": {
              "color": "#000038"
             },
             "font": {
              "color": "#000037"
             },
             "line": {
              "color": "#000039"
             }
            },
            "header": {
             "fill": {
              "color": "#000040"
             },
             "font": {
              "color": "#000036"
             },
             "line": {
              "color": "#000039"
             }
            },
            "type": "table"
           }
          ],
          "waterfall": [
           {
            "connector": {
             "line": {
              "color": "#000036",
              "width": 2
             }
            },
            "decreasing": {
             "marker": {
              "color": "#000033"
             }
            },
            "increasing": {
             "marker": {
              "color": "#000032"
             }
            },
            "totals": {
             "marker": {
              "color": "#000034"
             }
            },
            "type": "waterfall"
           }
          ]
         },
         "layout": {
          "coloraxis": {
           "colorscale": [
            [
             0,
             "#000011"
            ],
            [
             0.1111111111111111,
             "#000012"
            ],
            [
             0.2222222222222222,
             "#000013"
            ],
            [
             0.3333333333333333,
             "#000014"
            ],
            [
             0.4444444444444444,
             "#000015"
            ],
            [
             0.5555555555555556,
             "#000016"
            ],
            [
             0.6666666666666666,
             "#000017"
            ],
            [
             0.7777777777777778,
             "#000018"
            ],
            [
             0.8888888888888888,
             "#000019"
            ],
            [
             1,
             "#000020"
            ]
           ]
          },
          "colorscale": {
           "diverging": [
            [
             0,
             "#000021"
            ],
            [
             0.1,
             "#000022"
            ],
            [
             0.2,
             "#000023"
            ],
            [
             0.3,
             "#000024"
            ],
            [
             0.4,
             "#000025"
            ],
            [
             0.5,
             "#000026"
            ],
            [
             0.6,
             "#000027"
            ],
            [
             0.7,
             "#000028"
            ],
            [
             0.8,
             "#000029"
            ],
            [
             0.9,
             "#000030"
            ],
            [
             1,
             "#000031"
            ]
           ],
           "sequential": [
            [
             0,
             "#000011"
            ],
            [
             0.1111111111111111,
             "#000012"
            ],
            [
             0.2222222222222222,
             "#000013"
            ],
            [
             0.3333333333333333,
             "#000014"
            ],
            [
             0.4444444444444444,
             "#000015"
            ],
            [
             0.5555555555555556,
             "#000016"
            ],
            [
             0.6666666666666666,
             "#000017"
            ],
            [
             0.7777777777777778,
             "#000018"
            ],
            [
             0.8888888888888888,
             "#000019"
            ],
            [
             1,
             "#000020"
            ]
           ],
           "sequentialminus": [
            [
             0,
             "#000011"
            ],
            [
             0.1111111111111111,
             "#000012"
            ],
            [
             0.2222222222222222,
             "#000013"
            ],
            [
             0.3333333333333333,
             "#000014"
            ],
            [
             0.4444444444444444,
             "#000015"
            ],
            [
             0.5555555555555556,
             "#000016"
            ],
            [
             0.6666666666666666,
             "#000017"
            ],
            [
             0.7777777777777778,
             "#000018"
            ],
            [
             0.8888888888888888,
             "#000019"
            ],
            [
             1,
             "#000020"
            ]
           ]
          },
          "colorway": [
           "#000001",
           "#000002",
           "#000003",
           "#000004",
           "#000005",
           "#000006",
           "#000007",
           "#000008",
           "#000009",
           "#000010"
          ]
         }
        },
        "width": 700,
        "xaxis": {
         "anchor": "y",
         "domain": [
          0,
          1
         ],
         "title": {
          "text": "LearnCode"
         }
        },
        "yaxis": {
         "anchor": "x",
         "domain": [
          0,
          1
         ],
         "title": {
          "text": "Average CompTotal"
         }
        }
       }
      }
     },
     "metadata": {},
     "output_type": "display_data"
    }
   ],
   "source": [
    "plot_comparison_plotly(df2022,'LearnCode','CompTotal')"
   ]
  },
  {
   "cell_type": "code",
   "execution_count": 285,
   "metadata": {},
   "outputs": [
    {
     "data": {
      "application/vnd.plotly.v1+json": {
       "config": {
        "plotlyServerURL": "https://plot.ly"
       },
       "data": [
        {
         "alignmentgroup": "True",
         "hovertemplate": "Employment=%{x}<br>Number of Developers=%{y}<extra></extra>",
         "legendgroup": "Employed, full-time",
         "marker": {
          "color": "rgb(102, 197, 204)",
          "pattern": {
           "shape": ""
          }
         },
         "name": "Employed, full-time",
         "offsetgroup": "Employed, full-time",
         "orientation": "v",
         "showlegend": true,
         "textposition": "auto",
         "type": "bar",
         "x": [
          "Employed, full-time"
         ],
         "xaxis": "x",
         "y": [
          42599
         ],
         "yaxis": "y"
        },
        {
         "alignmentgroup": "True",
         "hovertemplate": "Employment=%{x}<br>Number of Developers=%{y}<extra></extra>",
         "legendgroup": "Student, full-time",
         "marker": {
          "color": "rgb(246, 207, 113)",
          "pattern": {
           "shape": ""
          }
         },
         "name": "Student, full-time",
         "offsetgroup": "Student, full-time",
         "orientation": "v",
         "showlegend": true,
         "textposition": "auto",
         "type": "bar",
         "x": [
          "Student, full-time"
         ],
         "xaxis": "x",
         "y": [
          6598
         ],
         "yaxis": "y"
        },
        {
         "alignmentgroup": "True",
         "hovertemplate": "Employment=%{x}<br>Number of Developers=%{y}<extra></extra>",
         "legendgroup": "Independent contractor, freelancer, or self-employed",
         "marker": {
          "color": "rgb(248, 156, 116)",
          "pattern": {
           "shape": ""
          }
         },
         "name": "Independent contractor, freelancer, or self-employed",
         "offsetgroup": "Independent contractor, freelancer, or self-employed",
         "orientation": "v",
         "showlegend": true,
         "textposition": "auto",
         "type": "bar",
         "x": [
          "Independent contractor, freelancer, or self-employed"
         ],
         "xaxis": "x",
         "y": [
          4921
         ],
         "yaxis": "y"
        },
        {
         "alignmentgroup": "True",
         "hovertemplate": "Employment=%{x}<br>Number of Developers=%{y}<extra></extra>",
         "legendgroup": "Employed, full-time;Independent contractor, freelancer, or self-employed",
         "marker": {
          "color": "rgb(220, 176, 242)",
          "pattern": {
           "shape": ""
          }
         },
         "name": "Employed, full-time;Independent contractor, freelancer, or self-employed",
         "offsetgroup": "Employed, full-time;Independent contractor, freelancer, or self-employed",
         "orientation": "v",
         "showlegend": true,
         "textposition": "auto",
         "type": "bar",
         "x": [
          "Employed, full-time;Independent contractor, freelancer, or self-employed"
         ],
         "xaxis": "x",
         "y": [
          3474
         ],
         "yaxis": "y"
        },
        {
         "alignmentgroup": "True",
         "hovertemplate": "Employment=%{x}<br>Number of Developers=%{y}<extra></extra>",
         "legendgroup": "Not employed, but looking for work",
         "marker": {
          "color": "rgb(135, 197, 95)",
          "pattern": {
           "shape": ""
          }
         },
         "name": "Not employed, but looking for work",
         "offsetgroup": "Not employed, but looking for work",
         "orientation": "v",
         "showlegend": true,
         "textposition": "auto",
         "type": "bar",
         "x": [
          "Not employed, but looking for work"
         ],
         "xaxis": "x",
         "y": [
          1820
         ],
         "yaxis": "y"
        },
        {
         "alignmentgroup": "True",
         "hovertemplate": "Employment=%{x}<br>Number of Developers=%{y}<extra></extra>",
         "legendgroup": "Student, full-time;Employed, part-time",
         "marker": {
          "color": "rgb(158, 185, 243)",
          "pattern": {
           "shape": ""
          }
         },
         "name": "Student, full-time;Employed, part-time",
         "offsetgroup": "Student, full-time;Employed, part-time",
         "orientation": "v",
         "showlegend": true,
         "textposition": "auto",
         "type": "bar",
         "x": [
          "Student, full-time;Employed, part-time"
         ],
         "xaxis": "x",
         "y": [
          1159
         ],
         "yaxis": "y"
        },
        {
         "alignmentgroup": "True",
         "hovertemplate": "Employment=%{x}<br>Number of Developers=%{y}<extra></extra>",
         "legendgroup": "Employed, part-time",
         "marker": {
          "color": "rgb(254, 136, 177)",
          "pattern": {
           "shape": ""
          }
         },
         "name": "Employed, part-time",
         "offsetgroup": "Employed, part-time",
         "orientation": "v",
         "showlegend": true,
         "textposition": "auto",
         "type": "bar",
         "x": [
          "Employed, part-time"
         ],
         "xaxis": "x",
         "y": [
          1121
         ],
         "yaxis": "y"
        },
        {
         "alignmentgroup": "True",
         "hovertemplate": "Employment=%{x}<br>Number of Developers=%{y}<extra></extra>",
         "legendgroup": "Student, part-time",
         "marker": {
          "color": "rgb(201, 219, 116)",
          "pattern": {
           "shape": ""
          }
         },
         "name": "Student, part-time",
         "offsetgroup": "Student, part-time",
         "orientation": "v",
         "showlegend": true,
         "textposition": "auto",
         "type": "bar",
         "x": [
          "Student, part-time"
         ],
         "xaxis": "x",
         "y": [
          1031
         ],
         "yaxis": "y"
        },
        {
         "alignmentgroup": "True",
         "hovertemplate": "Employment=%{x}<br>Number of Developers=%{y}<extra></extra>",
         "legendgroup": "Employed, full-time;Student, full-time",
         "marker": {
          "color": "rgb(139, 224, 164)",
          "pattern": {
           "shape": ""
          }
         },
         "name": "Employed, full-time;Student, full-time",
         "offsetgroup": "Employed, full-time;Student, full-time",
         "orientation": "v",
         "showlegend": true,
         "textposition": "auto",
         "type": "bar",
         "x": [
          "Employed, full-time;Student, full-time"
         ],
         "xaxis": "x",
         "y": [
          964
         ],
         "yaxis": "y"
        },
        {
         "alignmentgroup": "True",
         "hovertemplate": "Employment=%{x}<br>Number of Developers=%{y}<extra></extra>",
         "legendgroup": "Employed, full-time;Student, part-time",
         "marker": {
          "color": "rgb(180, 151, 231)",
          "pattern": {
           "shape": ""
          }
         },
         "name": "Employed, full-time;Student, part-time",
         "offsetgroup": "Employed, full-time;Student, part-time",
         "orientation": "v",
         "showlegend": true,
         "textposition": "auto",
         "type": "bar",
         "x": [
          "Employed, full-time;Student, part-time"
         ],
         "xaxis": "x",
         "y": [
          942
         ],
         "yaxis": "y"
        }
       ],
       "layout": {
        "barmode": "relative",
        "height": 700,
        "legend": {
         "title": {
          "text": "Employment"
         },
         "tracegroupgap": 0
        },
        "margin": {
         "t": 60
        },
        "template": {
         "data": {
          "candlestick": [
           {
            "decreasing": {
             "line": {
              "color": "#000033"
             }
            },
            "increasing": {
             "line": {
              "color": "#000032"
             }
            },
            "type": "candlestick"
           }
          ],
          "contour": [
           {
            "colorscale": [
             [
              0,
              "#000011"
             ],
             [
              0.1111111111111111,
              "#000012"
             ],
             [
              0.2222222222222222,
              "#000013"
             ],
             [
              0.3333333333333333,
              "#000014"
             ],
             [
              0.4444444444444444,
              "#000015"
             ],
             [
              0.5555555555555556,
              "#000016"
             ],
             [
              0.6666666666666666,
              "#000017"
             ],
             [
              0.7777777777777778,
              "#000018"
             ],
             [
              0.8888888888888888,
              "#000019"
             ],
             [
              1,
              "#000020"
             ]
            ],
            "type": "contour"
           }
          ],
          "contourcarpet": [
           {
            "colorscale": [
             [
              0,
              "#000011"
             ],
             [
              0.1111111111111111,
              "#000012"
             ],
             [
              0.2222222222222222,
              "#000013"
             ],
             [
              0.3333333333333333,
              "#000014"
             ],
             [
              0.4444444444444444,
              "#000015"
             ],
             [
              0.5555555555555556,
              "#000016"
             ],
             [
              0.6666666666666666,
              "#000017"
             ],
             [
              0.7777777777777778,
              "#000018"
             ],
             [
              0.8888888888888888,
              "#000019"
             ],
             [
              1,
              "#000020"
             ]
            ],
            "type": "contourcarpet"
           }
          ],
          "heatmap": [
           {
            "colorscale": [
             [
              0,
              "#000011"
             ],
             [
              0.1111111111111111,
              "#000012"
             ],
             [
              0.2222222222222222,
              "#000013"
             ],
             [
              0.3333333333333333,
              "#000014"
             ],
             [
              0.4444444444444444,
              "#000015"
             ],
             [
              0.5555555555555556,
              "#000016"
             ],
             [
              0.6666666666666666,
              "#000017"
             ],
             [
              0.7777777777777778,
              "#000018"
             ],
             [
              0.8888888888888888,
              "#000019"
             ],
             [
              1,
              "#000020"
             ]
            ],
            "type": "heatmap"
           }
          ],
          "histogram2d": [
           {
            "colorscale": [
             [
              0,
              "#000011"
             ],
             [
              0.1111111111111111,
              "#000012"
             ],
             [
              0.2222222222222222,
              "#000013"
             ],
             [
              0.3333333333333333,
              "#000014"
             ],
             [
              0.4444444444444444,
              "#000015"
             ],
             [
              0.5555555555555556,
              "#000016"
             ],
             [
              0.6666666666666666,
              "#000017"
             ],
             [
              0.7777777777777778,
              "#000018"
             ],
             [
              0.8888888888888888,
              "#000019"
             ],
             [
              1,
              "#000020"
             ]
            ],
            "type": "histogram2d"
           }
          ],
          "icicle": [
           {
            "textfont": {
             "color": "white"
            },
            "type": "icicle"
           }
          ],
          "sankey": [
           {
            "textfont": {
             "color": "#000036"
            },
            "type": "sankey"
           }
          ],
          "scatter": [
           {
            "marker": {
             "line": {
              "width": 0
             }
            },
            "type": "scatter"
           }
          ],
          "table": [
           {
            "cells": {
             "fill": {
              "color": "#000038"
             },
             "font": {
              "color": "#000037"
             },
             "line": {
              "color": "#000039"
             }
            },
            "header": {
             "fill": {
              "color": "#000040"
             },
             "font": {
              "color": "#000036"
             },
             "line": {
              "color": "#000039"
             }
            },
            "type": "table"
           }
          ],
          "waterfall": [
           {
            "connector": {
             "line": {
              "color": "#000036",
              "width": 2
             }
            },
            "decreasing": {
             "marker": {
              "color": "#000033"
             }
            },
            "increasing": {
             "marker": {
              "color": "#000032"
             }
            },
            "totals": {
             "marker": {
              "color": "#000034"
             }
            },
            "type": "waterfall"
           }
          ]
         },
         "layout": {
          "coloraxis": {
           "colorscale": [
            [
             0,
             "#000011"
            ],
            [
             0.1111111111111111,
             "#000012"
            ],
            [
             0.2222222222222222,
             "#000013"
            ],
            [
             0.3333333333333333,
             "#000014"
            ],
            [
             0.4444444444444444,
             "#000015"
            ],
            [
             0.5555555555555556,
             "#000016"
            ],
            [
             0.6666666666666666,
             "#000017"
            ],
            [
             0.7777777777777778,
             "#000018"
            ],
            [
             0.8888888888888888,
             "#000019"
            ],
            [
             1,
             "#000020"
            ]
           ]
          },
          "colorscale": {
           "diverging": [
            [
             0,
             "#000021"
            ],
            [
             0.1,
             "#000022"
            ],
            [
             0.2,
             "#000023"
            ],
            [
             0.3,
             "#000024"
            ],
            [
             0.4,
             "#000025"
            ],
            [
             0.5,
             "#000026"
            ],
            [
             0.6,
             "#000027"
            ],
            [
             0.7,
             "#000028"
            ],
            [
             0.8,
             "#000029"
            ],
            [
             0.9,
             "#000030"
            ],
            [
             1,
             "#000031"
            ]
           ],
           "sequential": [
            [
             0,
             "#000011"
            ],
            [
             0.1111111111111111,
             "#000012"
            ],
            [
             0.2222222222222222,
             "#000013"
            ],
            [
             0.3333333333333333,
             "#000014"
            ],
            [
             0.4444444444444444,
             "#000015"
            ],
            [
             0.5555555555555556,
             "#000016"
            ],
            [
             0.6666666666666666,
             "#000017"
            ],
            [
             0.7777777777777778,
             "#000018"
            ],
            [
             0.8888888888888888,
             "#000019"
            ],
            [
             1,
             "#000020"
            ]
           ],
           "sequentialminus": [
            [
             0,
             "#000011"
            ],
            [
             0.1111111111111111,
             "#000012"
            ],
            [
             0.2222222222222222,
             "#000013"
            ],
            [
             0.3333333333333333,
             "#000014"
            ],
            [
             0.4444444444444444,
             "#000015"
            ],
            [
             0.5555555555555556,
             "#000016"
            ],
            [
             0.6666666666666666,
             "#000017"
            ],
            [
             0.7777777777777778,
             "#000018"
            ],
            [
             0.8888888888888888,
             "#000019"
            ],
            [
             1,
             "#000020"
            ]
           ]
          },
          "colorway": [
           "#000001",
           "#000002",
           "#000003",
           "#000004",
           "#000005",
           "#000006",
           "#000007",
           "#000008",
           "#000009",
           "#000010"
          ]
         }
        },
        "width": 800,
        "xaxis": {
         "anchor": "y",
         "categoryarray": [
          "Employed, full-time",
          "Student, full-time",
          "Independent contractor, freelancer, or self-employed",
          "Employed, full-time;Independent contractor, freelancer, or self-employed",
          "Not employed, but looking for work",
          "Student, full-time;Employed, part-time",
          "Employed, part-time",
          "Student, part-time",
          "Employed, full-time;Student, full-time",
          "Employed, full-time;Student, part-time"
         ],
         "categoryorder": "array",
         "domain": [
          0,
          1
         ],
         "title": {
          "text": "Employment"
         }
        },
        "yaxis": {
         "anchor": "x",
         "domain": [
          0,
          1
         ],
         "title": {
          "text": "Number of Developers"
         }
        }
       }
      }
     },
     "metadata": {},
     "output_type": "display_data"
    }
   ],
   "source": [
    "plot_bar_plotly(df2022,'Employment',10,700,800)"
   ]
  },
  {
   "cell_type": "code",
   "execution_count": 286,
   "metadata": {},
   "outputs": [
    {
     "data": {
      "application/vnd.plotly.v1+json": {
       "config": {
        "plotlyServerURL": "https://plot.ly"
       },
       "data": [
        {
         "alignmentgroup": "True",
         "hovertemplate": "EdLevel=%{x}<br>Number of Developers=%{y}<extra></extra>",
         "legendgroup": "Bachelor’s degree (B.A., B.S., B.Eng., etc.)",
         "marker": {
          "color": "rgb(102, 197, 204)",
          "pattern": {
           "shape": ""
          }
         },
         "name": "Bachelor’s degree (B.A., B.S., B.Eng., etc.)",
         "offsetgroup": "Bachelor’s degree (B.A., B.S., B.Eng., etc.)",
         "orientation": "v",
         "showlegend": true,
         "textposition": "auto",
         "type": "bar",
         "x": [
          "Bachelor’s degree (B.A., B.S., B.Eng., etc.)"
         ],
         "xaxis": "x",
         "y": [
          29983
         ],
         "yaxis": "y"
        },
        {
         "alignmentgroup": "True",
         "hovertemplate": "EdLevel=%{x}<br>Number of Developers=%{y}<extra></extra>",
         "legendgroup": "Master’s degree (M.A., M.S., M.Eng., MBA, etc.)",
         "marker": {
          "color": "rgb(246, 207, 113)",
          "pattern": {
           "shape": ""
          }
         },
         "name": "Master’s degree (M.A., M.S., M.Eng., MBA, etc.)",
         "offsetgroup": "Master’s degree (M.A., M.S., M.Eng., MBA, etc.)",
         "orientation": "v",
         "showlegend": true,
         "textposition": "auto",
         "type": "bar",
         "x": [
          "Master’s degree (M.A., M.S., M.Eng., MBA, etc.)"
         ],
         "xaxis": "x",
         "y": [
          15344
         ],
         "yaxis": "y"
        },
        {
         "alignmentgroup": "True",
         "hovertemplate": "EdLevel=%{x}<br>Number of Developers=%{y}<extra></extra>",
         "legendgroup": "Some college/university study without earning a degree",
         "marker": {
          "color": "rgb(248, 156, 116)",
          "pattern": {
           "shape": ""
          }
         },
         "name": "Some college/university study without earning a degree",
         "offsetgroup": "Some college/university study without earning a degree",
         "orientation": "v",
         "showlegend": true,
         "textposition": "auto",
         "type": "bar",
         "x": [
          "Some college/university study without earning a degree"
         ],
         "xaxis": "x",
         "y": [
          9258
         ],
         "yaxis": "y"
        },
        {
         "alignmentgroup": "True",
         "hovertemplate": "EdLevel=%{x}<br>Number of Developers=%{y}<extra></extra>",
         "legendgroup": "Secondary school (e.g. American high school, German Realschule or Gymnasium, etc.)",
         "marker": {
          "color": "rgb(220, 176, 242)",
          "pattern": {
           "shape": ""
          }
         },
         "name": "Secondary school (e.g. American high school, German Realschule or Gymnasium, etc.)",
         "offsetgroup": "Secondary school (e.g. American high school, German Realschule or Gymnasium, etc.)",
         "orientation": "v",
         "showlegend": true,
         "textposition": "auto",
         "type": "bar",
         "x": [
          "Secondary school (e.g. American high school, German Realschule or Gymnasium, etc.)"
         ],
         "xaxis": "x",
         "y": [
          7786
         ],
         "yaxis": "y"
        },
        {
         "alignmentgroup": "True",
         "hovertemplate": "EdLevel=%{x}<br>Number of Developers=%{y}<extra></extra>",
         "legendgroup": "Associate degree (A.A., A.S., etc.)",
         "marker": {
          "color": "rgb(135, 197, 95)",
          "pattern": {
           "shape": ""
          }
         },
         "name": "Associate degree (A.A., A.S., etc.)",
         "offsetgroup": "Associate degree (A.A., A.S., etc.)",
         "orientation": "v",
         "showlegend": true,
         "textposition": "auto",
         "type": "bar",
         "x": [
          "Associate degree (A.A., A.S., etc.)"
         ],
         "xaxis": "x",
         "y": [
          2227
         ],
         "yaxis": "y"
        },
        {
         "alignmentgroup": "True",
         "hovertemplate": "EdLevel=%{x}<br>Number of Developers=%{y}<extra></extra>",
         "legendgroup": "Other doctoral degree (Ph.D., Ed.D., etc.)",
         "marker": {
          "color": "rgb(158, 185, 243)",
          "pattern": {
           "shape": ""
          }
         },
         "name": "Other doctoral degree (Ph.D., Ed.D., etc.)",
         "offsetgroup": "Other doctoral degree (Ph.D., Ed.D., etc.)",
         "orientation": "v",
         "showlegend": true,
         "textposition": "auto",
         "type": "bar",
         "x": [
          "Other doctoral degree (Ph.D., Ed.D., etc.)"
         ],
         "xaxis": "x",
         "y": [
          2142
         ],
         "yaxis": "y"
        },
        {
         "alignmentgroup": "True",
         "hovertemplate": "EdLevel=%{x}<br>Number of Developers=%{y}<extra></extra>",
         "legendgroup": "Primary/elementary school",
         "marker": {
          "color": "rgb(254, 136, 177)",
          "pattern": {
           "shape": ""
          }
         },
         "name": "Primary/elementary school",
         "offsetgroup": "Primary/elementary school",
         "orientation": "v",
         "showlegend": true,
         "textposition": "auto",
         "type": "bar",
         "x": [
          "Primary/elementary school"
         ],
         "xaxis": "x",
         "y": [
          1763
         ],
         "yaxis": "y"
        },
        {
         "alignmentgroup": "True",
         "hovertemplate": "EdLevel=%{x}<br>Number of Developers=%{y}<extra></extra>",
         "legendgroup": "Something else",
         "marker": {
          "color": "rgb(201, 219, 116)",
          "pattern": {
           "shape": ""
          }
         },
         "name": "Something else",
         "offsetgroup": "Something else",
         "orientation": "v",
         "showlegend": true,
         "textposition": "auto",
         "type": "bar",
         "x": [
          "Something else"
         ],
         "xaxis": "x",
         "y": [
          1325
         ],
         "yaxis": "y"
        },
        {
         "alignmentgroup": "True",
         "hovertemplate": "EdLevel=%{x}<br>Number of Developers=%{y}<extra></extra>",
         "legendgroup": "Professional degree (JD, MD, etc.)",
         "marker": {
          "color": "rgb(139, 224, 164)",
          "pattern": {
           "shape": ""
          }
         },
         "name": "Professional degree (JD, MD, etc.)",
         "offsetgroup": "Professional degree (JD, MD, etc.)",
         "orientation": "v",
         "showlegend": true,
         "textposition": "auto",
         "type": "bar",
         "x": [
          "Professional degree (JD, MD, etc.)"
         ],
         "xaxis": "x",
         "y": [
          1112
         ],
         "yaxis": "y"
        }
       ],
       "layout": {
        "barmode": "relative",
        "height": 700,
        "legend": {
         "title": {
          "text": "EdLevel"
         },
         "tracegroupgap": 0
        },
        "margin": {
         "t": 60
        },
        "template": {
         "data": {
          "candlestick": [
           {
            "decreasing": {
             "line": {
              "color": "#000033"
             }
            },
            "increasing": {
             "line": {
              "color": "#000032"
             }
            },
            "type": "candlestick"
           }
          ],
          "contour": [
           {
            "colorscale": [
             [
              0,
              "#000011"
             ],
             [
              0.1111111111111111,
              "#000012"
             ],
             [
              0.2222222222222222,
              "#000013"
             ],
             [
              0.3333333333333333,
              "#000014"
             ],
             [
              0.4444444444444444,
              "#000015"
             ],
             [
              0.5555555555555556,
              "#000016"
             ],
             [
              0.6666666666666666,
              "#000017"
             ],
             [
              0.7777777777777778,
              "#000018"
             ],
             [
              0.8888888888888888,
              "#000019"
             ],
             [
              1,
              "#000020"
             ]
            ],
            "type": "contour"
           }
          ],
          "contourcarpet": [
           {
            "colorscale": [
             [
              0,
              "#000011"
             ],
             [
              0.1111111111111111,
              "#000012"
             ],
             [
              0.2222222222222222,
              "#000013"
             ],
             [
              0.3333333333333333,
              "#000014"
             ],
             [
              0.4444444444444444,
              "#000015"
             ],
             [
              0.5555555555555556,
              "#000016"
             ],
             [
              0.6666666666666666,
              "#000017"
             ],
             [
              0.7777777777777778,
              "#000018"
             ],
             [
              0.8888888888888888,
              "#000019"
             ],
             [
              1,
              "#000020"
             ]
            ],
            "type": "contourcarpet"
           }
          ],
          "heatmap": [
           {
            "colorscale": [
             [
              0,
              "#000011"
             ],
             [
              0.1111111111111111,
              "#000012"
             ],
             [
              0.2222222222222222,
              "#000013"
             ],
             [
              0.3333333333333333,
              "#000014"
             ],
             [
              0.4444444444444444,
              "#000015"
             ],
             [
              0.5555555555555556,
              "#000016"
             ],
             [
              0.6666666666666666,
              "#000017"
             ],
             [
              0.7777777777777778,
              "#000018"
             ],
             [
              0.8888888888888888,
              "#000019"
             ],
             [
              1,
              "#000020"
             ]
            ],
            "type": "heatmap"
           }
          ],
          "histogram2d": [
           {
            "colorscale": [
             [
              0,
              "#000011"
             ],
             [
              0.1111111111111111,
              "#000012"
             ],
             [
              0.2222222222222222,
              "#000013"
             ],
             [
              0.3333333333333333,
              "#000014"
             ],
             [
              0.4444444444444444,
              "#000015"
             ],
             [
              0.5555555555555556,
              "#000016"
             ],
             [
              0.6666666666666666,
              "#000017"
             ],
             [
              0.7777777777777778,
              "#000018"
             ],
             [
              0.8888888888888888,
              "#000019"
             ],
             [
              1,
              "#000020"
             ]
            ],
            "type": "histogram2d"
           }
          ],
          "icicle": [
           {
            "textfont": {
             "color": "white"
            },
            "type": "icicle"
           }
          ],
          "sankey": [
           {
            "textfont": {
             "color": "#000036"
            },
            "type": "sankey"
           }
          ],
          "scatter": [
           {
            "marker": {
             "line": {
              "width": 0
             }
            },
            "type": "scatter"
           }
          ],
          "table": [
           {
            "cells": {
             "fill": {
              "color": "#000038"
             },
             "font": {
              "color": "#000037"
             },
             "line": {
              "color": "#000039"
             }
            },
            "header": {
             "fill": {
              "color": "#000040"
             },
             "font": {
              "color": "#000036"
             },
             "line": {
              "color": "#000039"
             }
            },
            "type": "table"
           }
          ],
          "waterfall": [
           {
            "connector": {
             "line": {
              "color": "#000036",
              "width": 2
             }
            },
            "decreasing": {
             "marker": {
              "color": "#000033"
             }
            },
            "increasing": {
             "marker": {
              "color": "#000032"
             }
            },
            "totals": {
             "marker": {
              "color": "#000034"
             }
            },
            "type": "waterfall"
           }
          ]
         },
         "layout": {
          "coloraxis": {
           "colorscale": [
            [
             0,
             "#000011"
            ],
            [
             0.1111111111111111,
             "#000012"
            ],
            [
             0.2222222222222222,
             "#000013"
            ],
            [
             0.3333333333333333,
             "#000014"
            ],
            [
             0.4444444444444444,
             "#000015"
            ],
            [
             0.5555555555555556,
             "#000016"
            ],
            [
             0.6666666666666666,
             "#000017"
            ],
            [
             0.7777777777777778,
             "#000018"
            ],
            [
             0.8888888888888888,
             "#000019"
            ],
            [
             1,
             "#000020"
            ]
           ]
          },
          "colorscale": {
           "diverging": [
            [
             0,
             "#000021"
            ],
            [
             0.1,
             "#000022"
            ],
            [
             0.2,
             "#000023"
            ],
            [
             0.3,
             "#000024"
            ],
            [
             0.4,
             "#000025"
            ],
            [
             0.5,
             "#000026"
            ],
            [
             0.6,
             "#000027"
            ],
            [
             0.7,
             "#000028"
            ],
            [
             0.8,
             "#000029"
            ],
            [
             0.9,
             "#000030"
            ],
            [
             1,
             "#000031"
            ]
           ],
           "sequential": [
            [
             0,
             "#000011"
            ],
            [
             0.1111111111111111,
             "#000012"
            ],
            [
             0.2222222222222222,
             "#000013"
            ],
            [
             0.3333333333333333,
             "#000014"
            ],
            [
             0.4444444444444444,
             "#000015"
            ],
            [
             0.5555555555555556,
             "#000016"
            ],
            [
             0.6666666666666666,
             "#000017"
            ],
            [
             0.7777777777777778,
             "#000018"
            ],
            [
             0.8888888888888888,
             "#000019"
            ],
            [
             1,
             "#000020"
            ]
           ],
           "sequentialminus": [
            [
             0,
             "#000011"
            ],
            [
             0.1111111111111111,
             "#000012"
            ],
            [
             0.2222222222222222,
             "#000013"
            ],
            [
             0.3333333333333333,
             "#000014"
            ],
            [
             0.4444444444444444,
             "#000015"
            ],
            [
             0.5555555555555556,
             "#000016"
            ],
            [
             0.6666666666666666,
             "#000017"
            ],
            [
             0.7777777777777778,
             "#000018"
            ],
            [
             0.8888888888888888,
             "#000019"
            ],
            [
             1,
             "#000020"
            ]
           ]
          },
          "colorway": [
           "#000001",
           "#000002",
           "#000003",
           "#000004",
           "#000005",
           "#000006",
           "#000007",
           "#000008",
           "#000009",
           "#000010"
          ]
         }
        },
        "width": 800,
        "xaxis": {
         "anchor": "y",
         "categoryarray": [
          "Bachelor’s degree (B.A., B.S., B.Eng., etc.)",
          "Master’s degree (M.A., M.S., M.Eng., MBA, etc.)",
          "Some college/university study without earning a degree",
          "Secondary school (e.g. American high school, German Realschule or Gymnasium, etc.)",
          "Associate degree (A.A., A.S., etc.)",
          "Other doctoral degree (Ph.D., Ed.D., etc.)",
          "Primary/elementary school",
          "Something else",
          "Professional degree (JD, MD, etc.)"
         ],
         "categoryorder": "array",
         "domain": [
          0,
          1
         ],
         "title": {
          "text": "EdLevel"
         }
        },
        "yaxis": {
         "anchor": "x",
         "domain": [
          0,
          1
         ],
         "title": {
          "text": "Number of Developers"
         }
        }
       }
      }
     },
     "metadata": {},
     "output_type": "display_data"
    }
   ],
   "source": [
    "plot_bar_plotly(df2022,'EdLevel',10,700,800)"
   ]
  },
  {
   "cell_type": "code",
   "execution_count": 287,
   "metadata": {},
   "outputs": [
    {
     "data": {
      "application/vnd.plotly.v1+json": {
       "config": {
        "plotlyServerURL": "https://plot.ly"
       },
       "data": [
        {
         "marker": {
          "color": "#636EFA"
         },
         "name": "x",
         "type": "bar",
         "x": [
          "APL",
          "Assembly",
          "Bash/Shell",
          "C",
          "C#",
          "C++",
          "COBOL",
          "Clojure",
          "Crystal",
          "Dart",
          "Delphi",
          "Elixir",
          "Erlang",
          "F#",
          "Fortran",
          "Go",
          "Groovy",
          "HTML/CSS",
          "Haskell",
          "Java",
          "JavaScript",
          "Julia",
          "Kotlin",
          "LISP",
          "Lua",
          "MATLAB",
          "OCaml",
          "Objective-C",
          "PHP",
          "Perl",
          "PowerShell",
          "Python",
          "R",
          "Ruby",
          "Rust",
          "SAS",
          "SQL",
          "Scala",
          "Solidity",
          "Swift",
          "TypeScript",
          "VBA"
         ],
         "y": [
          501,
          3875,
          20658,
          13651,
          19924,
          16000,
          465,
          1067,
          337,
          4653,
          2307,
          1528,
          639,
          730,
          636,
          7906,
          2354,
          39138,
          1576,
          23626,
          46470,
          1077,
          6508,
          930,
          2859,
          2906,
          420,
          1694,
          14839,
          1633,
          8584,
          34121,
          3313,
          4314,
          6605,
          434,
          35203,
          1841,
          1030,
          3466,
          24837,
          3193
         ]
        },
        {
         "marker": {
          "color": "#EF553B"
         },
         "name": "y",
         "type": "bar",
         "x": [
          "APL",
          "Assembly",
          "Bash/Shell",
          "C",
          "C#",
          "C++",
          "COBOL",
          "Clojure",
          "Crystal",
          "Dart",
          "Delphi",
          "Elixir",
          "Erlang",
          "F#",
          "Fortran",
          "Go",
          "Groovy",
          "HTML/CSS",
          "Haskell",
          "Java",
          "JavaScript",
          "Julia",
          "Kotlin",
          "LISP",
          "Lua",
          "MATLAB",
          "OCaml",
          "Objective-C",
          "PHP",
          "Perl",
          "PowerShell",
          "Python",
          "R",
          "Ruby",
          "Rust",
          "SAS",
          "SQL",
          "Scala",
          "Solidity",
          "Swift",
          "TypeScript",
          "VBA"
         ],
         "y": [
          655,
          3219,
          14019,
          8291,
          16597,
          12576,
          368,
          2055,
          545,
          6465,
          1745,
          3493,
          1312,
          2063,
          465,
          16422,
          1114,
          26914,
          3154,
          14099,
          33404,
          2349,
          9924,
          1337,
          2520,
          1120,
          783,
          936,
          7766,
          993,
          4977,
          31021,
          3102,
          4168,
          18055,
          403,
          26304,
          2619,
          2772,
          5348,
          27642,
          981
         ]
        }
       ],
       "layout": {
        "barmode": "stack",
        "font": {
         "size": 14
        },
        "height": 600,
        "template": {
         "data": {
          "candlestick": [
           {
            "decreasing": {
             "line": {
              "color": "#000033"
             }
            },
            "increasing": {
             "line": {
              "color": "#000032"
             }
            },
            "type": "candlestick"
           }
          ],
          "contour": [
           {
            "colorscale": [
             [
              0,
              "#000011"
             ],
             [
              0.1111111111111111,
              "#000012"
             ],
             [
              0.2222222222222222,
              "#000013"
             ],
             [
              0.3333333333333333,
              "#000014"
             ],
             [
              0.4444444444444444,
              "#000015"
             ],
             [
              0.5555555555555556,
              "#000016"
             ],
             [
              0.6666666666666666,
              "#000017"
             ],
             [
              0.7777777777777778,
              "#000018"
             ],
             [
              0.8888888888888888,
              "#000019"
             ],
             [
              1,
              "#000020"
             ]
            ],
            "type": "contour"
           }
          ],
          "contourcarpet": [
           {
            "colorscale": [
             [
              0,
              "#000011"
             ],
             [
              0.1111111111111111,
              "#000012"
             ],
             [
              0.2222222222222222,
              "#000013"
             ],
             [
              0.3333333333333333,
              "#000014"
             ],
             [
              0.4444444444444444,
              "#000015"
             ],
             [
              0.5555555555555556,
              "#000016"
             ],
             [
              0.6666666666666666,
              "#000017"
             ],
             [
              0.7777777777777778,
              "#000018"
             ],
             [
              0.8888888888888888,
              "#000019"
             ],
             [
              1,
              "#000020"
             ]
            ],
            "type": "contourcarpet"
           }
          ],
          "heatmap": [
           {
            "colorscale": [
             [
              0,
              "#000011"
             ],
             [
              0.1111111111111111,
              "#000012"
             ],
             [
              0.2222222222222222,
              "#000013"
             ],
             [
              0.3333333333333333,
              "#000014"
             ],
             [
              0.4444444444444444,
              "#000015"
             ],
             [
              0.5555555555555556,
              "#000016"
             ],
             [
              0.6666666666666666,
              "#000017"
             ],
             [
              0.7777777777777778,
              "#000018"
             ],
             [
              0.8888888888888888,
              "#000019"
             ],
             [
              1,
              "#000020"
             ]
            ],
            "type": "heatmap"
           }
          ],
          "histogram2d": [
           {
            "colorscale": [
             [
              0,
              "#000011"
             ],
             [
              0.1111111111111111,
              "#000012"
             ],
             [
              0.2222222222222222,
              "#000013"
             ],
             [
              0.3333333333333333,
              "#000014"
             ],
             [
              0.4444444444444444,
              "#000015"
             ],
             [
              0.5555555555555556,
              "#000016"
             ],
             [
              0.6666666666666666,
              "#000017"
             ],
             [
              0.7777777777777778,
              "#000018"
             ],
             [
              0.8888888888888888,
              "#000019"
             ],
             [
              1,
              "#000020"
             ]
            ],
            "type": "histogram2d"
           }
          ],
          "icicle": [
           {
            "textfont": {
             "color": "white"
            },
            "type": "icicle"
           }
          ],
          "sankey": [
           {
            "textfont": {
             "color": "#000036"
            },
            "type": "sankey"
           }
          ],
          "scatter": [
           {
            "marker": {
             "line": {
              "width": 0
             }
            },
            "type": "scatter"
           }
          ],
          "table": [
           {
            "cells": {
             "fill": {
              "color": "#000038"
             },
             "font": {
              "color": "#000037"
             },
             "line": {
              "color": "#000039"
             }
            },
            "header": {
             "fill": {
              "color": "#000040"
             },
             "font": {
              "color": "#000036"
             },
             "line": {
              "color": "#000039"
             }
            },
            "type": "table"
           }
          ],
          "waterfall": [
           {
            "connector": {
             "line": {
              "color": "#000036",
              "width": 2
             }
            },
            "decreasing": {
             "marker": {
              "color": "#000033"
             }
            },
            "increasing": {
             "marker": {
              "color": "#000032"
             }
            },
            "totals": {
             "marker": {
              "color": "#000034"
             }
            },
            "type": "waterfall"
           }
          ]
         },
         "layout": {
          "coloraxis": {
           "colorscale": [
            [
             0,
             "#000011"
            ],
            [
             0.1111111111111111,
             "#000012"
            ],
            [
             0.2222222222222222,
             "#000013"
            ],
            [
             0.3333333333333333,
             "#000014"
            ],
            [
             0.4444444444444444,
             "#000015"
            ],
            [
             0.5555555555555556,
             "#000016"
            ],
            [
             0.6666666666666666,
             "#000017"
            ],
            [
             0.7777777777777778,
             "#000018"
            ],
            [
             0.8888888888888888,
             "#000019"
            ],
            [
             1,
             "#000020"
            ]
           ]
          },
          "colorscale": {
           "diverging": [
            [
             0,
             "#000021"
            ],
            [
             0.1,
             "#000022"
            ],
            [
             0.2,
             "#000023"
            ],
            [
             0.3,
             "#000024"
            ],
            [
             0.4,
             "#000025"
            ],
            [
             0.5,
             "#000026"
            ],
            [
             0.6,
             "#000027"
            ],
            [
             0.7,
             "#000028"
            ],
            [
             0.8,
             "#000029"
            ],
            [
             0.9,
             "#000030"
            ],
            [
             1,
             "#000031"
            ]
           ],
           "sequential": [
            [
             0,
             "#000011"
            ],
            [
             0.1111111111111111,
             "#000012"
            ],
            [
             0.2222222222222222,
             "#000013"
            ],
            [
             0.3333333333333333,
             "#000014"
            ],
            [
             0.4444444444444444,
             "#000015"
            ],
            [
             0.5555555555555556,
             "#000016"
            ],
            [
             0.6666666666666666,
             "#000017"
            ],
            [
             0.7777777777777778,
             "#000018"
            ],
            [
             0.8888888888888888,
             "#000019"
            ],
            [
             1,
             "#000020"
            ]
           ],
           "sequentialminus": [
            [
             0,
             "#000011"
            ],
            [
             0.1111111111111111,
             "#000012"
            ],
            [
             0.2222222222222222,
             "#000013"
            ],
            [
             0.3333333333333333,
             "#000014"
            ],
            [
             0.4444444444444444,
             "#000015"
            ],
            [
             0.5555555555555556,
             "#000016"
            ],
            [
             0.6666666666666666,
             "#000017"
            ],
            [
             0.7777777777777778,
             "#000018"
            ],
            [
             0.8888888888888888,
             "#000019"
            ],
            [
             1,
             "#000020"
            ]
           ]
          },
          "colorway": [
           "#000001",
           "#000002",
           "#000003",
           "#000004",
           "#000005",
           "#000006",
           "#000007",
           "#000008",
           "#000009",
           "#000010"
          ]
         }
        },
        "title": {
         "text": "Comparison of Languages Worked With and Want to Work With"
        },
        "width": 800,
        "xaxis": {
         "title": {
          "text": "Programming Languages"
         }
        },
        "yaxis": {
         "title": {
          "text": "Count"
         }
        }
       }
      }
     },
     "metadata": {},
     "output_type": "display_data"
    }
   ],
   "source": [
    "fig = compare_language_columns_and_plot(df2022, 'LanguageHaveWorkedWith', 'LanguageWantToWorkWith')\n",
    "fig.show()"
   ]
  },
  {
   "cell_type": "code",
   "execution_count": 289,
   "metadata": {},
   "outputs": [
    {
     "data": {
      "application/vnd.plotly.v1+json": {
       "config": {
        "plotlyServerURL": "https://plot.ly"
       },
       "data": [
        {
         "marker": {
          "color": "#636EFA"
         },
         "name": "x",
         "type": "bar",
         "x": [
          "Cassandra",
          "Cloud Firestore",
          "CouchDB",
          "Couchbase",
          "DynamoDB",
          "Elasticsearch",
          "Firebase Realtime Database",
          "IBM DB2",
          "MariaDB",
          "Microsoft SQL Server",
          "MongoDB",
          "MySQL",
          "Neo4j",
          "Oracle",
          "PostgreSQL",
          "Redis",
          "SQLite"
         ],
         "y": [
          1927,
          5354,
          929,
          948,
          5947,
          8798,
          6275,
          1450,
          12824,
          19340,
          20263,
          33541,
          1501,
          8214,
          31335,
          15990,
          23072
         ]
        },
        {
         "marker": {
          "color": "#EF553B"
         },
         "name": "y",
         "type": "bar",
         "x": [
          "Cassandra",
          "Cloud Firestore",
          "CouchDB",
          "Couchbase",
          "DynamoDB",
          "Elasticsearch",
          "Firebase Realtime Database",
          "IBM DB2",
          "MariaDB",
          "Microsoft SQL Server",
          "MongoDB",
          "MySQL",
          "Neo4j",
          "Oracle",
          "PostgreSQL",
          "Redis",
          "SQLite"
         ],
         "y": [
          4424,
          5324,
          1610,
          1319,
          7413,
          11901,
          7406,
          716,
          10009,
          13684,
          23945,
          22478,
          3304,
          4849,
          35164,
          22618,
          19602
         ]
        }
       ],
       "layout": {
        "barmode": "stack",
        "font": {
         "size": 14
        },
        "height": 600,
        "template": {
         "data": {
          "candlestick": [
           {
            "decreasing": {
             "line": {
              "color": "#000033"
             }
            },
            "increasing": {
             "line": {
              "color": "#000032"
             }
            },
            "type": "candlestick"
           }
          ],
          "contour": [
           {
            "colorscale": [
             [
              0,
              "#000011"
             ],
             [
              0.1111111111111111,
              "#000012"
             ],
             [
              0.2222222222222222,
              "#000013"
             ],
             [
              0.3333333333333333,
              "#000014"
             ],
             [
              0.4444444444444444,
              "#000015"
             ],
             [
              0.5555555555555556,
              "#000016"
             ],
             [
              0.6666666666666666,
              "#000017"
             ],
             [
              0.7777777777777778,
              "#000018"
             ],
             [
              0.8888888888888888,
              "#000019"
             ],
             [
              1,
              "#000020"
             ]
            ],
            "type": "contour"
           }
          ],
          "contourcarpet": [
           {
            "colorscale": [
             [
              0,
              "#000011"
             ],
             [
              0.1111111111111111,
              "#000012"
             ],
             [
              0.2222222222222222,
              "#000013"
             ],
             [
              0.3333333333333333,
              "#000014"
             ],
             [
              0.4444444444444444,
              "#000015"
             ],
             [
              0.5555555555555556,
              "#000016"
             ],
             [
              0.6666666666666666,
              "#000017"
             ],
             [
              0.7777777777777778,
              "#000018"
             ],
             [
              0.8888888888888888,
              "#000019"
             ],
             [
              1,
              "#000020"
             ]
            ],
            "type": "contourcarpet"
           }
          ],
          "heatmap": [
           {
            "colorscale": [
             [
              0,
              "#000011"
             ],
             [
              0.1111111111111111,
              "#000012"
             ],
             [
              0.2222222222222222,
              "#000013"
             ],
             [
              0.3333333333333333,
              "#000014"
             ],
             [
              0.4444444444444444,
              "#000015"
             ],
             [
              0.5555555555555556,
              "#000016"
             ],
             [
              0.6666666666666666,
              "#000017"
             ],
             [
              0.7777777777777778,
              "#000018"
             ],
             [
              0.8888888888888888,
              "#000019"
             ],
             [
              1,
              "#000020"
             ]
            ],
            "type": "heatmap"
           }
          ],
          "histogram2d": [
           {
            "colorscale": [
             [
              0,
              "#000011"
             ],
             [
              0.1111111111111111,
              "#000012"
             ],
             [
              0.2222222222222222,
              "#000013"
             ],
             [
              0.3333333333333333,
              "#000014"
             ],
             [
              0.4444444444444444,
              "#000015"
             ],
             [
              0.5555555555555556,
              "#000016"
             ],
             [
              0.6666666666666666,
              "#000017"
             ],
             [
              0.7777777777777778,
              "#000018"
             ],
             [
              0.8888888888888888,
              "#000019"
             ],
             [
              1,
              "#000020"
             ]
            ],
            "type": "histogram2d"
           }
          ],
          "icicle": [
           {
            "textfont": {
             "color": "white"
            },
            "type": "icicle"
           }
          ],
          "sankey": [
           {
            "textfont": {
             "color": "#000036"
            },
            "type": "sankey"
           }
          ],
          "scatter": [
           {
            "marker": {
             "line": {
              "width": 0
             }
            },
            "type": "scatter"
           }
          ],
          "table": [
           {
            "cells": {
             "fill": {
              "color": "#000038"
             },
             "font": {
              "color": "#000037"
             },
             "line": {
              "color": "#000039"
             }
            },
            "header": {
             "fill": {
              "color": "#000040"
             },
             "font": {
              "color": "#000036"
             },
             "line": {
              "color": "#000039"
             }
            },
            "type": "table"
           }
          ],
          "waterfall": [
           {
            "connector": {
             "line": {
              "color": "#000036",
              "width": 2
             }
            },
            "decreasing": {
             "marker": {
              "color": "#000033"
             }
            },
            "increasing": {
             "marker": {
              "color": "#000032"
             }
            },
            "totals": {
             "marker": {
              "color": "#000034"
             }
            },
            "type": "waterfall"
           }
          ]
         },
         "layout": {
          "coloraxis": {
           "colorscale": [
            [
             0,
             "#000011"
            ],
            [
             0.1111111111111111,
             "#000012"
            ],
            [
             0.2222222222222222,
             "#000013"
            ],
            [
             0.3333333333333333,
             "#000014"
            ],
            [
             0.4444444444444444,
             "#000015"
            ],
            [
             0.5555555555555556,
             "#000016"
            ],
            [
             0.6666666666666666,
             "#000017"
            ],
            [
             0.7777777777777778,
             "#000018"
            ],
            [
             0.8888888888888888,
             "#000019"
            ],
            [
             1,
             "#000020"
            ]
           ]
          },
          "colorscale": {
           "diverging": [
            [
             0,
             "#000021"
            ],
            [
             0.1,
             "#000022"
            ],
            [
             0.2,
             "#000023"
            ],
            [
             0.3,
             "#000024"
            ],
            [
             0.4,
             "#000025"
            ],
            [
             0.5,
             "#000026"
            ],
            [
             0.6,
             "#000027"
            ],
            [
             0.7,
             "#000028"
            ],
            [
             0.8,
             "#000029"
            ],
            [
             0.9,
             "#000030"
            ],
            [
             1,
             "#000031"
            ]
           ],
           "sequential": [
            [
             0,
             "#000011"
            ],
            [
             0.1111111111111111,
             "#000012"
            ],
            [
             0.2222222222222222,
             "#000013"
            ],
            [
             0.3333333333333333,
             "#000014"
            ],
            [
             0.4444444444444444,
             "#000015"
            ],
            [
             0.5555555555555556,
             "#000016"
            ],
            [
             0.6666666666666666,
             "#000017"
            ],
            [
             0.7777777777777778,
             "#000018"
            ],
            [
             0.8888888888888888,
             "#000019"
            ],
            [
             1,
             "#000020"
            ]
           ],
           "sequentialminus": [
            [
             0,
             "#000011"
            ],
            [
             0.1111111111111111,
             "#000012"
            ],
            [
             0.2222222222222222,
             "#000013"
            ],
            [
             0.3333333333333333,
             "#000014"
            ],
            [
             0.4444444444444444,
             "#000015"
            ],
            [
             0.5555555555555556,
             "#000016"
            ],
            [
             0.6666666666666666,
             "#000017"
            ],
            [
             0.7777777777777778,
             "#000018"
            ],
            [
             0.8888888888888888,
             "#000019"
            ],
            [
             1,
             "#000020"
            ]
           ]
          },
          "colorway": [
           "#000001",
           "#000002",
           "#000003",
           "#000004",
           "#000005",
           "#000006",
           "#000007",
           "#000008",
           "#000009",
           "#000010"
          ]
         }
        },
        "title": {
         "text": "Comparison of Languages Worked With and Want to Work With"
        },
        "width": 800,
        "xaxis": {
         "title": {
          "text": "Programming Languages"
         }
        },
        "yaxis": {
         "title": {
          "text": "Count"
         }
        }
       }
      }
     },
     "metadata": {},
     "output_type": "display_data"
    }
   ],
   "source": [
    "fig = compare_language_columns_and_plot(df2022, 'DatabaseHaveWorkedWith', 'DatabaseWantToWorkWith')\n",
    "fig.show()"
   ]
  },
  {
   "cell_type": "code",
   "execution_count": 293,
   "metadata": {},
   "outputs": [
    {
     "data": {
      "application/vnd.plotly.v1+json": {
       "config": {
        "plotlyServerURL": "https://plot.ly"
       },
       "data": [
        {
         "marker": {
          "color": "#636EFA"
         },
         "name": "x",
         "type": "bar",
         "x": [
          "BSD",
          "Linux-based",
          "Other (please specify):",
          "Windows",
          "Windows Subsystem for Linux (WSL)",
          "macOS"
         ],
         "y": [
          1051,
          28729,
          351,
          44614,
          10721,
          22227
         ]
        },
        {
         "marker": {
          "color": "#EF553B"
         },
         "name": "y",
         "type": "bar",
         "x": [
          "BSD",
          "Linux-based",
          "Other (please specify):",
          "Windows",
          "Windows Subsystem for Linux (WSL)",
          "macOS"
         ],
         "y": [
          790,
          30910,
          307,
          37777,
          11093,
          25593
         ]
        }
       ],
       "layout": {
        "barmode": "stack",
        "font": {
         "size": 14
        },
        "height": 600,
        "template": {
         "data": {
          "candlestick": [
           {
            "decreasing": {
             "line": {
              "color": "#000033"
             }
            },
            "increasing": {
             "line": {
              "color": "#000032"
             }
            },
            "type": "candlestick"
           }
          ],
          "contour": [
           {
            "colorscale": [
             [
              0,
              "#000011"
             ],
             [
              0.1111111111111111,
              "#000012"
             ],
             [
              0.2222222222222222,
              "#000013"
             ],
             [
              0.3333333333333333,
              "#000014"
             ],
             [
              0.4444444444444444,
              "#000015"
             ],
             [
              0.5555555555555556,
              "#000016"
             ],
             [
              0.6666666666666666,
              "#000017"
             ],
             [
              0.7777777777777778,
              "#000018"
             ],
             [
              0.8888888888888888,
              "#000019"
             ],
             [
              1,
              "#000020"
             ]
            ],
            "type": "contour"
           }
          ],
          "contourcarpet": [
           {
            "colorscale": [
             [
              0,
              "#000011"
             ],
             [
              0.1111111111111111,
              "#000012"
             ],
             [
              0.2222222222222222,
              "#000013"
             ],
             [
              0.3333333333333333,
              "#000014"
             ],
             [
              0.4444444444444444,
              "#000015"
             ],
             [
              0.5555555555555556,
              "#000016"
             ],
             [
              0.6666666666666666,
              "#000017"
             ],
             [
              0.7777777777777778,
              "#000018"
             ],
             [
              0.8888888888888888,
              "#000019"
             ],
             [
              1,
              "#000020"
             ]
            ],
            "type": "contourcarpet"
           }
          ],
          "heatmap": [
           {
            "colorscale": [
             [
              0,
              "#000011"
             ],
             [
              0.1111111111111111,
              "#000012"
             ],
             [
              0.2222222222222222,
              "#000013"
             ],
             [
              0.3333333333333333,
              "#000014"
             ],
             [
              0.4444444444444444,
              "#000015"
             ],
             [
              0.5555555555555556,
              "#000016"
             ],
             [
              0.6666666666666666,
              "#000017"
             ],
             [
              0.7777777777777778,
              "#000018"
             ],
             [
              0.8888888888888888,
              "#000019"
             ],
             [
              1,
              "#000020"
             ]
            ],
            "type": "heatmap"
           }
          ],
          "histogram2d": [
           {
            "colorscale": [
             [
              0,
              "#000011"
             ],
             [
              0.1111111111111111,
              "#000012"
             ],
             [
              0.2222222222222222,
              "#000013"
             ],
             [
              0.3333333333333333,
              "#000014"
             ],
             [
              0.4444444444444444,
              "#000015"
             ],
             [
              0.5555555555555556,
              "#000016"
             ],
             [
              0.6666666666666666,
              "#000017"
             ],
             [
              0.7777777777777778,
              "#000018"
             ],
             [
              0.8888888888888888,
              "#000019"
             ],
             [
              1,
              "#000020"
             ]
            ],
            "type": "histogram2d"
           }
          ],
          "icicle": [
           {
            "textfont": {
             "color": "white"
            },
            "type": "icicle"
           }
          ],
          "sankey": [
           {
            "textfont": {
             "color": "#000036"
            },
            "type": "sankey"
           }
          ],
          "scatter": [
           {
            "marker": {
             "line": {
              "width": 0
             }
            },
            "type": "scatter"
           }
          ],
          "table": [
           {
            "cells": {
             "fill": {
              "color": "#000038"
             },
             "font": {
              "color": "#000037"
             },
             "line": {
              "color": "#000039"
             }
            },
            "header": {
             "fill": {
              "color": "#000040"
             },
             "font": {
              "color": "#000036"
             },
             "line": {
              "color": "#000039"
             }
            },
            "type": "table"
           }
          ],
          "waterfall": [
           {
            "connector": {
             "line": {
              "color": "#000036",
              "width": 2
             }
            },
            "decreasing": {
             "marker": {
              "color": "#000033"
             }
            },
            "increasing": {
             "marker": {
              "color": "#000032"
             }
            },
            "totals": {
             "marker": {
              "color": "#000034"
             }
            },
            "type": "waterfall"
           }
          ]
         },
         "layout": {
          "coloraxis": {
           "colorscale": [
            [
             0,
             "#000011"
            ],
            [
             0.1111111111111111,
             "#000012"
            ],
            [
             0.2222222222222222,
             "#000013"
            ],
            [
             0.3333333333333333,
             "#000014"
            ],
            [
             0.4444444444444444,
             "#000015"
            ],
            [
             0.5555555555555556,
             "#000016"
            ],
            [
             0.6666666666666666,
             "#000017"
            ],
            [
             0.7777777777777778,
             "#000018"
            ],
            [
             0.8888888888888888,
             "#000019"
            ],
            [
             1,
             "#000020"
            ]
           ]
          },
          "colorscale": {
           "diverging": [
            [
             0,
             "#000021"
            ],
            [
             0.1,
             "#000022"
            ],
            [
             0.2,
             "#000023"
            ],
            [
             0.3,
             "#000024"
            ],
            [
             0.4,
             "#000025"
            ],
            [
             0.5,
             "#000026"
            ],
            [
             0.6,
             "#000027"
            ],
            [
             0.7,
             "#000028"
            ],
            [
             0.8,
             "#000029"
            ],
            [
             0.9,
             "#000030"
            ],
            [
             1,
             "#000031"
            ]
           ],
           "sequential": [
            [
             0,
             "#000011"
            ],
            [
             0.1111111111111111,
             "#000012"
            ],
            [
             0.2222222222222222,
             "#000013"
            ],
            [
             0.3333333333333333,
             "#000014"
            ],
            [
             0.4444444444444444,
             "#000015"
            ],
            [
             0.5555555555555556,
             "#000016"
            ],
            [
             0.6666666666666666,
             "#000017"
            ],
            [
             0.7777777777777778,
             "#000018"
            ],
            [
             0.8888888888888888,
             "#000019"
            ],
            [
             1,
             "#000020"
            ]
           ],
           "sequentialminus": [
            [
             0,
             "#000011"
            ],
            [
             0.1111111111111111,
             "#000012"
            ],
            [
             0.2222222222222222,
             "#000013"
            ],
            [
             0.3333333333333333,
             "#000014"
            ],
            [
             0.4444444444444444,
             "#000015"
            ],
            [
             0.5555555555555556,
             "#000016"
            ],
            [
             0.6666666666666666,
             "#000017"
            ],
            [
             0.7777777777777778,
             "#000018"
            ],
            [
             0.8888888888888888,
             "#000019"
            ],
            [
             1,
             "#000020"
            ]
           ]
          },
          "colorway": [
           "#000001",
           "#000002",
           "#000003",
           "#000004",
           "#000005",
           "#000006",
           "#000007",
           "#000008",
           "#000009",
           "#000010"
          ]
         }
        },
        "title": {
         "text": "Comparison of Languages Worked With and Want to Work With"
        },
        "width": 800,
        "xaxis": {
         "title": {
          "text": "Programming Languages"
         }
        },
        "yaxis": {
         "title": {
          "text": "Count"
         }
        }
       }
      }
     },
     "metadata": {},
     "output_type": "display_data"
    }
   ],
   "source": [
    "fig = compare_language_columns_and_plot(df2022, 'OpSysPersonal use', 'OpSysProfessional use')\n",
    "fig.show()"
   ]
  },
  {
   "cell_type": "code",
   "execution_count": 295,
   "metadata": {},
   "outputs": [
    {
     "data": {
      "application/vnd.plotly.v1+json": {
       "config": {
        "plotlyServerURL": "https://plot.ly"
       },
       "data": [
        {
         "alignmentgroup": "True",
         "hovertemplate": "MentalHealth=Anxiety Disorder<br>Sexuality=%{x}<br>Counts=%{y}<extra></extra>",
         "legendgroup": "Anxiety Disorder",
         "marker": {
          "color": "#000001",
          "pattern": {
           "shape": ""
          }
         },
         "name": "Anxiety Disorder",
         "offsetgroup": "Anxiety Disorder",
         "orientation": "v",
         "showlegend": true,
         "textposition": "auto",
         "type": "bar",
         "x": [
          "Bisexual",
          "Bisexual;Gay or Lesbian",
          "Bisexual;Gay or Lesbian;Queer",
          "Bisexual;Prefer to self-describe:",
          "Bisexual;Prefer to self-describe:;Gay or Lesbian;Queer",
          "Bisexual;Prefer to self-describe:;Queer",
          "Bisexual;Queer",
          "Bisexual;Straight / Heterosexual",
          "Bisexual;Straight / Heterosexual;Gay or Lesbian",
          "Bisexual;Straight / Heterosexual;Gay or Lesbian;Queer",
          "Bisexual;Straight / Heterosexual;Prefer to self-describe:",
          "Bisexual;Straight / Heterosexual;Queer",
          "Gay or Lesbian",
          "Gay or Lesbian;Queer",
          "Prefer not to say",
          "Prefer to self-describe:",
          "Prefer to self-describe:;Gay or Lesbian",
          "Prefer to self-describe:;Gay or Lesbian;Queer",
          "Prefer to self-describe:;Queer",
          "Queer",
          "Straight / Heterosexual",
          "Straight / Heterosexual;Prefer to self-describe:",
          "Straight / Heterosexual;Queer"
         ],
         "xaxis": "x",
         "y": [
          325,
          5,
          7,
          10,
          1,
          5,
          49,
          44,
          2,
          3,
          1,
          3,
          175,
          25,
          410,
          88,
          3,
          1,
          10,
          74,
          3439,
          14,
          10
         ],
         "yaxis": "y"
        },
        {
         "alignmentgroup": "True",
         "hovertemplate": "MentalHealth=Autism Spectrum Disorder<br>Sexuality=%{x}<br>Counts=%{y}<extra></extra>",
         "legendgroup": "Autism Spectrum Disorder",
         "marker": {
          "color": "#000002",
          "pattern": {
           "shape": ""
          }
         },
         "name": "Autism Spectrum Disorder",
         "offsetgroup": "Autism Spectrum Disorder",
         "orientation": "v",
         "showlegend": true,
         "textposition": "auto",
         "type": "bar",
         "x": [
          "Bisexual",
          "Bisexual;Gay or Lesbian",
          "Bisexual;Gay or Lesbian;Queer",
          "Bisexual;Prefer to self-describe:",
          "Bisexual;Prefer to self-describe:;Gay or Lesbian",
          "Bisexual;Prefer to self-describe:;Queer",
          "Bisexual;Queer",
          "Bisexual;Straight / Heterosexual",
          "Bisexual;Straight / Heterosexual;Gay or Lesbian",
          "Bisexual;Straight / Heterosexual;Prefer to self-describe:;Gay or Lesbian;Queer",
          "Bisexual;Straight / Heterosexual;Queer",
          "Gay or Lesbian",
          "Gay or Lesbian;Queer",
          "Prefer not to say",
          "Prefer to self-describe:",
          "Prefer to self-describe:;Gay or Lesbian",
          "Prefer to self-describe:;Queer",
          "Queer",
          "Straight / Heterosexual",
          "Straight / Heterosexual;Gay or Lesbian",
          "Straight / Heterosexual;Prefer to self-describe:",
          "Straight / Heterosexual;Prefer to self-describe:;Gay or Lesbian",
          "Straight / Heterosexual;Queer"
         ],
         "xaxis": "x",
         "y": [
          83,
          2,
          3,
          1,
          1,
          3,
          15,
          4,
          2,
          2,
          1,
          50,
          5,
          137,
          55,
          2,
          1,
          11,
          781,
          1,
          7,
          1,
          3
         ],
         "yaxis": "y"
        },
        {
         "alignmentgroup": "True",
         "hovertemplate": "MentalHealth=Concentration/Memory Disorder<br>Sexuality=%{x}<br>Counts=%{y}<extra></extra>",
         "legendgroup": "Concentration/Memory Disorder",
         "marker": {
          "color": "#000003",
          "pattern": {
           "shape": ""
          }
         },
         "name": "Concentration/Memory Disorder",
         "offsetgroup": "Concentration/Memory Disorder",
         "orientation": "v",
         "showlegend": true,
         "textposition": "auto",
         "type": "bar",
         "x": [
          "Bisexual",
          "Bisexual;Gay or Lesbian",
          "Bisexual;Gay or Lesbian;Queer",
          "Bisexual;Prefer to self-describe:",
          "Bisexual;Prefer to self-describe:;Queer",
          "Bisexual;Queer",
          "Bisexual;Straight / Heterosexual",
          "Bisexual;Straight / Heterosexual;Gay or Lesbian",
          "Bisexual;Straight / Heterosexual;Gay or Lesbian;Queer",
          "Bisexual;Straight / Heterosexual;Prefer to self-describe:",
          "Bisexual;Straight / Heterosexual;Prefer to self-describe:;Gay or Lesbian",
          "Bisexual;Straight / Heterosexual;Prefer to self-describe:;Gay or Lesbian;Queer",
          "Bisexual;Straight / Heterosexual;Queer",
          "Gay or Lesbian",
          "Gay or Lesbian;Queer",
          "Prefer not to say",
          "Prefer to self-describe:",
          "Prefer to self-describe:;Gay or Lesbian",
          "Prefer to self-describe:;Gay or Lesbian;Queer",
          "Prefer to self-describe:;Queer",
          "Queer",
          "Straight / Heterosexual",
          "Straight / Heterosexual;Gay or Lesbian",
          "Straight / Heterosexual;Gay or Lesbian;Queer",
          "Straight / Heterosexual;Prefer to self-describe:",
          "Straight / Heterosexual;Prefer to self-describe:;Gay or Lesbian;Queer",
          "Straight / Heterosexual;Prefer to self-describe:;Queer",
          "Straight / Heterosexual;Queer"
         ],
         "xaxis": "x",
         "y": [
          608,
          16,
          21,
          10,
          12,
          115,
          77,
          3,
          17,
          4,
          2,
          13,
          7,
          263,
          70,
          726,
          189,
          1,
          10,
          21,
          118,
          5129,
          2,
          2,
          20,
          1,
          5,
          22
         ],
         "yaxis": "y"
        },
        {
         "alignmentgroup": "True",
         "hovertemplate": "MentalHealth=Mood/Emotional Disorder<br>Sexuality=%{x}<br>Counts=%{y}<extra></extra>",
         "legendgroup": "Mood/Emotional Disorder",
         "marker": {
          "color": "#000004",
          "pattern": {
           "shape": ""
          }
         },
         "name": "Mood/Emotional Disorder",
         "offsetgroup": "Mood/Emotional Disorder",
         "orientation": "v",
         "showlegend": true,
         "textposition": "auto",
         "type": "bar",
         "x": [
          "Bisexual",
          "Bisexual;Gay or Lesbian",
          "Bisexual;Gay or Lesbian;Queer",
          "Bisexual;Prefer to self-describe:",
          "Bisexual;Prefer to self-describe:;Queer",
          "Bisexual;Queer",
          "Bisexual;Straight / Heterosexual",
          "Bisexual;Straight / Heterosexual;Gay or Lesbian",
          "Bisexual;Straight / Heterosexual;Gay or Lesbian;Queer",
          "Bisexual;Straight / Heterosexual;Prefer to self-describe:;Gay or Lesbian;Queer",
          "Gay or Lesbian",
          "Gay or Lesbian;Queer",
          "Prefer not to say",
          "Prefer to self-describe:",
          "Prefer to self-describe:;Gay or Lesbian",
          "Prefer to self-describe:;Queer",
          "Queer",
          "Straight / Heterosexual",
          "Straight / Heterosexual;Gay or Lesbian",
          "Straight / Heterosexual;Prefer to self-describe:",
          "Straight / Heterosexual;Prefer to self-describe:;Queer",
          "Straight / Heterosexual;Queer"
         ],
         "xaxis": "x",
         "y": [
          174,
          3,
          2,
          3,
          2,
          21,
          25,
          2,
          1,
          1,
          104,
          12,
          212,
          38,
          2,
          2,
          42,
          1662,
          1,
          5,
          1,
          6
         ],
         "yaxis": "y"
        },
        {
         "alignmentgroup": "True",
         "hovertemplate": "MentalHealth=Multiple Disorders<br>Sexuality=%{x}<br>Counts=%{y}<extra></extra>",
         "legendgroup": "Multiple Disorders",
         "marker": {
          "color": "#000005",
          "pattern": {
           "shape": ""
          }
         },
         "name": "Multiple Disorders",
         "offsetgroup": "Multiple Disorders",
         "orientation": "v",
         "showlegend": true,
         "textposition": "auto",
         "type": "bar",
         "x": [
          "Straight / Heterosexual"
         ],
         "xaxis": "x",
         "y": [
          5
         ],
         "yaxis": "y"
        },
        {
         "alignmentgroup": "True",
         "hovertemplate": "MentalHealth=Other/Prefer not to say/Or, in your own words<br>Sexuality=%{x}<br>Counts=%{y}<extra></extra>",
         "legendgroup": "Other/Prefer not to say/Or, in your own words",
         "marker": {
          "color": "#000006",
          "pattern": {
           "shape": ""
          }
         },
         "name": "Other/Prefer not to say/Or, in your own words",
         "offsetgroup": "Other/Prefer not to say/Or, in your own words",
         "orientation": "v",
         "showlegend": true,
         "textposition": "auto",
         "type": "bar",
         "x": [
          "Bisexual",
          "Bisexual;Gay or Lesbian",
          "Bisexual;Gay or Lesbian;Queer",
          "Bisexual;Prefer to self-describe:",
          "Bisexual;Prefer to self-describe:;Gay or Lesbian",
          "Bisexual;Prefer to self-describe:;Gay or Lesbian;Queer",
          "Bisexual;Prefer to self-describe:;Queer",
          "Bisexual;Queer",
          "Bisexual;Straight / Heterosexual",
          "Bisexual;Straight / Heterosexual;Gay or Lesbian",
          "Bisexual;Straight / Heterosexual;Gay or Lesbian;Queer",
          "Bisexual;Straight / Heterosexual;Prefer to self-describe:",
          "Bisexual;Straight / Heterosexual;Prefer to self-describe:;Gay or Lesbian;Queer",
          "Bisexual;Straight / Heterosexual;Prefer to self-describe:;Queer",
          "Bisexual;Straight / Heterosexual;Queer",
          "Gay or Lesbian",
          "Gay or Lesbian;Queer",
          "Prefer not to say",
          "Prefer to self-describe:",
          "Prefer to self-describe:;Gay or Lesbian",
          "Prefer to self-describe:;Gay or Lesbian;Queer",
          "Prefer to self-describe:;Queer",
          "Queer",
          "Straight / Heterosexual",
          "Straight / Heterosexual;Gay or Lesbian",
          "Straight / Heterosexual;Prefer to self-describe:",
          "Straight / Heterosexual;Prefer to self-describe:;Queer",
          "Straight / Heterosexual;Queer"
         ],
         "xaxis": "x",
         "y": [
          1505,
          47,
          11,
          6,
          2,
          1,
          4,
          82,
          204,
          12,
          15,
          3,
          9,
          1,
          8,
          784,
          37,
          7402,
          695,
          4,
          1,
          17,
          149,
          44086,
          8,
          123,
          1,
          38
         ],
         "yaxis": "y"
        }
       ],
       "layout": {
        "barmode": "relative",
        "height": 1400,
        "legend": {
         "title": {
          "text": "MentalHealth"
         },
         "tracegroupgap": 0,
         "x": 1,
         "y": 1
        },
        "template": {
         "data": {
          "candlestick": [
           {
            "decreasing": {
             "line": {
              "color": "#000033"
             }
            },
            "increasing": {
             "line": {
              "color": "#000032"
             }
            },
            "type": "candlestick"
           }
          ],
          "contour": [
           {
            "colorscale": [
             [
              0,
              "#000011"
             ],
             [
              0.1111111111111111,
              "#000012"
             ],
             [
              0.2222222222222222,
              "#000013"
             ],
             [
              0.3333333333333333,
              "#000014"
             ],
             [
              0.4444444444444444,
              "#000015"
             ],
             [
              0.5555555555555556,
              "#000016"
             ],
             [
              0.6666666666666666,
              "#000017"
             ],
             [
              0.7777777777777778,
              "#000018"
             ],
             [
              0.8888888888888888,
              "#000019"
             ],
             [
              1,
              "#000020"
             ]
            ],
            "type": "contour"
           }
          ],
          "contourcarpet": [
           {
            "colorscale": [
             [
              0,
              "#000011"
             ],
             [
              0.1111111111111111,
              "#000012"
             ],
             [
              0.2222222222222222,
              "#000013"
             ],
             [
              0.3333333333333333,
              "#000014"
             ],
             [
              0.4444444444444444,
              "#000015"
             ],
             [
              0.5555555555555556,
              "#000016"
             ],
             [
              0.6666666666666666,
              "#000017"
             ],
             [
              0.7777777777777778,
              "#000018"
             ],
             [
              0.8888888888888888,
              "#000019"
             ],
             [
              1,
              "#000020"
             ]
            ],
            "type": "contourcarpet"
           }
          ],
          "heatmap": [
           {
            "colorscale": [
             [
              0,
              "#000011"
             ],
             [
              0.1111111111111111,
              "#000012"
             ],
             [
              0.2222222222222222,
              "#000013"
             ],
             [
              0.3333333333333333,
              "#000014"
             ],
             [
              0.4444444444444444,
              "#000015"
             ],
             [
              0.5555555555555556,
              "#000016"
             ],
             [
              0.6666666666666666,
              "#000017"
             ],
             [
              0.7777777777777778,
              "#000018"
             ],
             [
              0.8888888888888888,
              "#000019"
             ],
             [
              1,
              "#000020"
             ]
            ],
            "type": "heatmap"
           }
          ],
          "histogram2d": [
           {
            "colorscale": [
             [
              0,
              "#000011"
             ],
             [
              0.1111111111111111,
              "#000012"
             ],
             [
              0.2222222222222222,
              "#000013"
             ],
             [
              0.3333333333333333,
              "#000014"
             ],
             [
              0.4444444444444444,
              "#000015"
             ],
             [
              0.5555555555555556,
              "#000016"
             ],
             [
              0.6666666666666666,
              "#000017"
             ],
             [
              0.7777777777777778,
              "#000018"
             ],
             [
              0.8888888888888888,
              "#000019"
             ],
             [
              1,
              "#000020"
             ]
            ],
            "type": "histogram2d"
           }
          ],
          "icicle": [
           {
            "textfont": {
             "color": "white"
            },
            "type": "icicle"
           }
          ],
          "sankey": [
           {
            "textfont": {
             "color": "#000036"
            },
            "type": "sankey"
           }
          ],
          "scatter": [
           {
            "marker": {
             "line": {
              "width": 0
             }
            },
            "type": "scatter"
           }
          ],
          "table": [
           {
            "cells": {
             "fill": {
              "color": "#000038"
             },
             "font": {
              "color": "#000037"
             },
             "line": {
              "color": "#000039"
             }
            },
            "header": {
             "fill": {
              "color": "#000040"
             },
             "font": {
              "color": "#000036"
             },
             "line": {
              "color": "#000039"
             }
            },
            "type": "table"
           }
          ],
          "waterfall": [
           {
            "connector": {
             "line": {
              "color": "#000036",
              "width": 2
             }
            },
            "decreasing": {
             "marker": {
              "color": "#000033"
             }
            },
            "increasing": {
             "marker": {
              "color": "#000032"
             }
            },
            "totals": {
             "marker": {
              "color": "#000034"
             }
            },
            "type": "waterfall"
           }
          ]
         },
         "layout": {
          "coloraxis": {
           "colorscale": [
            [
             0,
             "#000011"
            ],
            [
             0.1111111111111111,
             "#000012"
            ],
            [
             0.2222222222222222,
             "#000013"
            ],
            [
             0.3333333333333333,
             "#000014"
            ],
            [
             0.4444444444444444,
             "#000015"
            ],
            [
             0.5555555555555556,
             "#000016"
            ],
            [
             0.6666666666666666,
             "#000017"
            ],
            [
             0.7777777777777778,
             "#000018"
            ],
            [
             0.8888888888888888,
             "#000019"
            ],
            [
             1,
             "#000020"
            ]
           ]
          },
          "colorscale": {
           "diverging": [
            [
             0,
             "#000021"
            ],
            [
             0.1,
             "#000022"
            ],
            [
             0.2,
             "#000023"
            ],
            [
             0.3,
             "#000024"
            ],
            [
             0.4,
             "#000025"
            ],
            [
             0.5,
             "#000026"
            ],
            [
             0.6,
             "#000027"
            ],
            [
             0.7,
             "#000028"
            ],
            [
             0.8,
             "#000029"
            ],
            [
             0.9,
             "#000030"
            ],
            [
             1,
             "#000031"
            ]
           ],
           "sequential": [
            [
             0,
             "#000011"
            ],
            [
             0.1111111111111111,
             "#000012"
            ],
            [
             0.2222222222222222,
             "#000013"
            ],
            [
             0.3333333333333333,
             "#000014"
            ],
            [
             0.4444444444444444,
             "#000015"
            ],
            [
             0.5555555555555556,
             "#000016"
            ],
            [
             0.6666666666666666,
             "#000017"
            ],
            [
             0.7777777777777778,
             "#000018"
            ],
            [
             0.8888888888888888,
             "#000019"
            ],
            [
             1,
             "#000020"
            ]
           ],
           "sequentialminus": [
            [
             0,
             "#000011"
            ],
            [
             0.1111111111111111,
             "#000012"
            ],
            [
             0.2222222222222222,
             "#000013"
            ],
            [
             0.3333333333333333,
             "#000014"
            ],
            [
             0.4444444444444444,
             "#000015"
            ],
            [
             0.5555555555555556,
             "#000016"
            ],
            [
             0.6666666666666666,
             "#000017"
            ],
            [
             0.7777777777777778,
             "#000018"
            ],
            [
             0.8888888888888888,
             "#000019"
            ],
            [
             1,
             "#000020"
            ]
           ]
          },
          "colorway": [
           "#000001",
           "#000002",
           "#000003",
           "#000004",
           "#000005",
           "#000006",
           "#000007",
           "#000008",
           "#000009",
           "#000010"
          ]
         }
        },
        "title": {
         "text": "MentalHealth Distribution by Sexuality",
         "x": 0.5
        },
        "width": 1000,
        "xaxis": {
         "anchor": "y",
         "domain": [
          0,
          1
         ],
         "title": {
          "text": "Sexuality"
         }
        },
        "yaxis": {
         "anchor": "x",
         "domain": [
          0,
          1
         ],
         "title": {
          "text": "Counts"
         }
        }
       }
      }
     },
     "metadata": {},
     "output_type": "display_data"
    }
   ],
   "source": [
    "\n",
    "df2022['MentalHealth'] = df2022['MentalHealth'].apply(map_mental_health)\n",
    "df2022['EthnicityCategory'] = df2022['Ethnicity'].apply(map_ethnicity)\n",
    "fig = stacked_graph_for_correlation(df2022, 'MentalHealth', 'Sexuality', 1400, 1000)\n",
    "fig.show()"
   ]
  },
  {
   "cell_type": "code",
   "execution_count": null,
   "metadata": {},
   "outputs": [],
   "source": []
  }
 ],
 "metadata": {
  "kernelspec": {
   "display_name": "Python 3 (ipykernel)",
   "language": "python",
   "name": "python3"
  },
  "language_info": {
   "codemirror_mode": {
    "name": "ipython",
    "version": 3
   },
   "file_extension": ".py",
   "mimetype": "text/x-python",
   "name": "python",
   "nbconvert_exporter": "python",
   "pygments_lexer": "ipython3",
   "version": "3.12.2"
  }
 },
 "nbformat": 4,
 "nbformat_minor": 2
}
