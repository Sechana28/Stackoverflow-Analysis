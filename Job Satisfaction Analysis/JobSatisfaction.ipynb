{
  "cells": [
    {
      "cell_type": "code",
      "execution_count": null,
      "metadata": {
        "id": "eOEX0amSNBuA"
      },
      "outputs": [],
      "source": [
        "#imorting neccessory libraries\n",
        "import pandas as pd\n",
        "import numpy as np\n",
        "import matplotlib.pyplot as plt\n",
        "import seaborn as sns\n",
        "from sklearn.model_selection import train_test_split\n",
        "from sklearn.preprocessing import StandardScaler, OneHotEncoder\n",
        "from sklearn.compose import ColumnTransformer\n",
        "from sklearn.pipeline import Pipeline\n",
        "from sklearn.impute import SimpleImputer\n",
        "from sklearn.ensemble import RandomForestClassifier\n",
        "from sklearn.metrics import accuracy_score, confusion_matrix, classification_report"
      ]
    },
    {
      "cell_type": "code",
      "execution_count": null,
      "metadata": {
        "colab": {
          "base_uri": "https://localhost:8080/"
        },
        "id": "0FRoQw7_O5fu",
        "outputId": "fbb15331-be13-4390-b5b9-b11ee41d173b"
      },
      "outputs": [
        {
          "name": "stdout",
          "output_type": "stream",
          "text": [
            "Drive already mounted at /content/drive; to attempt to forcibly remount, call drive.mount(\"/content/drive\", force_remount=True).\n"
          ]
        }
      ],
      "source": [
        "from google.colab import drive\n",
        "drive.mount('/content/drive')"
      ]
    },
    {
      "cell_type": "code",
      "execution_count": null,
      "metadata": {
        "colab": {
          "base_uri": "https://localhost:8080/"
        },
        "id": "TklQk9bTOIv4",
        "outputId": "c94f994c-119f-4707-f657-05e6690287dc"
      },
      "outputs": [
        {
          "name": "stderr",
          "output_type": "stream",
          "text": [
            "<ipython-input-3-c242cc7acb8e>:2: DtypeWarning: Columns (8,12,13,14,15,16,50,51,52,53,55,56,57,58,59,60,61,62,63,64,65,66,67,68,69,70,71,72,73,74,75,76,77,78,79,80,81,82,83,84,85,93,94,95,96,97,98,99,100,101,102,103,104,105,106,107,108,109,110,111,112,113,114,115,116,117,118,119,120,121,122,123,124,125,126,127,128) have mixed types. Specify dtype option on import or set low_memory=False.\n",
            "  df = pd.read_csv('/content/drive/MyDrive/GirlsScriptOpenSource/StockOverflow/survey_results_public_2018.csv')\n"
          ]
        }
      ],
      "source": [
        "# Load the dataset\n",
        "df = pd.read_csv('/content/drive/MyDrive/GirlsScriptOpenSource/StockOverflow/survey_results_public_2018.csv')"
      ]
    },
    {
      "cell_type": "code",
      "execution_count": null,
      "metadata": {
        "colab": {
          "base_uri": "https://localhost:8080/"
        },
        "id": "3y-4rilZPa-4",
        "outputId": "8d10e4d5-3240-4709-ec96-12c4031884db"
      },
      "outputs": [
        {
          "name": "stdout",
          "output_type": "stream",
          "text": [
            "   Respondent Hobby OpenSource         Country         Student  \\\n",
            "0           1   Yes         No           Kenya              No   \n",
            "1           3   Yes        Yes  United Kingdom              No   \n",
            "2           4   Yes        Yes   United States              No   \n",
            "3           5    No         No   United States              No   \n",
            "4           7   Yes         No    South Africa  Yes, part-time   \n",
            "\n",
            "           Employment                                    FormalEducation  \\\n",
            "0  Employed part-time           Bachelor’s degree (BA, BS, B.Eng., etc.)   \n",
            "1  Employed full-time           Bachelor’s degree (BA, BS, B.Eng., etc.)   \n",
            "2  Employed full-time                                   Associate degree   \n",
            "3  Employed full-time           Bachelor’s degree (BA, BS, B.Eng., etc.)   \n",
            "4  Employed full-time  Some college/university study without earning ...   \n",
            "\n",
            "                                      UndergradMajor  \\\n",
            "0                          Mathematics or statistics   \n",
            "1  A natural science (ex. biology, chemistry, phy...   \n",
            "2  Computer science, computer engineering, or sof...   \n",
            "3  Computer science, computer engineering, or sof...   \n",
            "4  Computer science, computer engineering, or sof...   \n",
            "\n",
            "                CompanySize  \\\n",
            "0        20 to 99 employees   \n",
            "1  10,000 or more employees   \n",
            "2        20 to 99 employees   \n",
            "3      100 to 499 employees   \n",
            "4  10,000 or more employees   \n",
            "\n",
            "                                             DevType  ...  \\\n",
            "0                               Full-stack developer  ...   \n",
            "1  Database administrator;DevOps specialist;Full-...  ...   \n",
            "2           Engineering manager;Full-stack developer  ...   \n",
            "3                               Full-stack developer  ...   \n",
            "4  Data or business analyst;Desktop or enterprise...  ...   \n",
            "\n",
            "                     Exercise Gender         SexualOrientation  \\\n",
            "0        3 - 4 times per week   Male  Straight or heterosexual   \n",
            "1   Daily or almost every day   Male  Straight or heterosexual   \n",
            "2                         NaN    NaN                       NaN   \n",
            "3  I don't typically exercise   Male  Straight or heterosexual   \n",
            "4        3 - 4 times per week   Male  Straight or heterosexual   \n",
            "\n",
            "                                    EducationParents  \\\n",
            "0           Bachelor’s degree (BA, BS, B.Eng., etc.)   \n",
            "1           Bachelor’s degree (BA, BS, B.Eng., etc.)   \n",
            "2                                                NaN   \n",
            "3  Some college/university study without earning ...   \n",
            "4  Some college/university study without earning ...   \n",
            "\n",
            "                  RaceEthnicity                Age Dependents  MilitaryUS  \\\n",
            "0   Black or of African descent  25 - 34 years old        Yes         NaN   \n",
            "1  White or of European descent  35 - 44 years old        Yes         NaN   \n",
            "2                           NaN                NaN        NaN         NaN   \n",
            "3  White or of European descent  35 - 44 years old         No          No   \n",
            "4  White or of European descent  18 - 24 years old        Yes         NaN   \n",
            "\n",
            "                          SurveyTooLong     SurveyEasy  \n",
            "0  The survey was an appropriate length      Very easy  \n",
            "1  The survey was an appropriate length  Somewhat easy  \n",
            "2                                   NaN            NaN  \n",
            "3  The survey was an appropriate length  Somewhat easy  \n",
            "4  The survey was an appropriate length  Somewhat easy  \n",
            "\n",
            "[5 rows x 129 columns]\n"
          ]
        }
      ],
      "source": [
        "# Display the first few rows of the dataframe\n",
        "print(df.head())\n"
      ]
    },
    {
      "cell_type": "code",
      "execution_count": null,
      "metadata": {
        "colab": {
          "base_uri": "https://localhost:8080/"
        },
        "id": "smR6ZcZ6OIzF",
        "outputId": "89365fe3-5451-4578-de35-68c8d3ba8e4e"
      },
      "outputs": [
        {
          "name": "stdout",
          "output_type": "stream",
          "text": [
            "          Respondent    AssessJob1    AssessJob2    AssessJob3    AssessJob4  \\\n",
            "count   98855.000000  66985.000000  66985.000000  66985.000000  66985.000000   \n",
            "mean    50822.971635      6.397089      6.673524      5.906875      4.065791   \n",
            "std     29321.650410      2.788428      2.531202      2.642734      2.541196   \n",
            "min         1.000000      1.000000      1.000000      1.000000      1.000000   \n",
            "25%     25443.500000      4.000000      5.000000      4.000000      2.000000   \n",
            "50%     50823.000000      7.000000      7.000000      6.000000      4.000000   \n",
            "75%     76219.500000      9.000000      9.000000      8.000000      6.000000   \n",
            "max    101592.000000     10.000000     10.000000     10.000000     10.000000   \n",
            "\n",
            "         AssessJob5    AssessJob6    AssessJob7    AssessJob8    AssessJob9  \\\n",
            "count  66985.000000  66985.000000  66985.000000  66985.000000  66985.000000   \n",
            "mean       3.953243      4.407196      5.673181      4.225200      7.640009   \n",
            "std        2.520499      2.502069      2.923998      2.507411      2.407457   \n",
            "min        1.000000      1.000000      1.000000      1.000000      1.000000   \n",
            "25%        2.000000      2.000000      3.000000      2.000000      6.000000   \n",
            "50%        3.000000      4.000000      6.000000      4.000000      8.000000   \n",
            "75%        6.000000      6.000000      8.000000      6.000000     10.000000   \n",
            "max       10.000000     10.000000     10.000000     10.000000     10.000000   \n",
            "\n",
            "       ...  JobEmailPriorities6  JobEmailPriorities7  ConvertedSalary  \\\n",
            "count  ...          46213.00000         46213.000000     4.770200e+04   \n",
            "mean   ...              4.97425             4.836388     9.578086e+04   \n",
            "std    ...              1.86063             1.659844     2.023482e+05   \n",
            "min    ...              1.00000             1.000000     0.000000e+00   \n",
            "25%    ...              4.00000             4.000000     2.384400e+04   \n",
            "50%    ...              5.00000             5.000000     5.507500e+04   \n",
            "75%    ...              7.00000             6.000000     9.300000e+04   \n",
            "max    ...              7.00000             7.000000     2.000000e+06   \n",
            "\n",
            "       AdsPriorities1  AdsPriorities2  AdsPriorities3  AdsPriorities4  \\\n",
            "count    60479.000000    60479.000000    60479.000000    60479.000000   \n",
            "mean         2.726880        3.805784        3.340945        3.782470   \n",
            "std          1.881078        1.821323        1.673485        1.844864   \n",
            "min          1.000000        1.000000        1.000000        1.000000   \n",
            "25%          1.000000        2.000000        2.000000        2.000000   \n",
            "50%          2.000000        4.000000        3.000000        4.000000   \n",
            "75%          4.000000        5.000000        5.000000        5.000000   \n",
            "max          7.000000        7.000000        7.000000        7.000000   \n",
            "\n",
            "       AdsPriorities5  AdsPriorities6  AdsPriorities7  \n",
            "count    60479.000000    60479.000000    60479.000000  \n",
            "mean         4.383604        5.138809        4.821459  \n",
            "std          1.931746        1.853249        1.874895  \n",
            "min          1.000000        1.000000        1.000000  \n",
            "25%          3.000000        4.000000        3.000000  \n",
            "50%          5.000000        6.000000        5.000000  \n",
            "75%          6.000000        7.000000        7.000000  \n",
            "max          7.000000        7.000000        7.000000  \n",
            "\n",
            "[8 rows x 42 columns]\n"
          ]
        }
      ],
      "source": [
        "# Summary statistics\n",
        "print(df.describe())"
      ]
    },
    {
      "cell_type": "code",
      "execution_count": null,
      "metadata": {
        "colab": {
          "base_uri": "https://localhost:8080/"
        },
        "id": "bvc8e8D7PfFC",
        "outputId": "4f08b6d0-73ca-40cc-c70b-5a0b0b70fdb4"
      },
      "outputs": [
        {
          "name": "stdout",
          "output_type": "stream",
          "text": [
            "Respondent           0\n",
            "Hobby                0\n",
            "OpenSource           0\n",
            "Country            412\n",
            "Student           3954\n",
            "                 ...  \n",
            "Age              34281\n",
            "Dependents       36259\n",
            "MilitaryUS       83074\n",
            "SurveyTooLong    32914\n",
            "SurveyEasy       32976\n",
            "Length: 129, dtype: int64\n"
          ]
        }
      ],
      "source": [
        "# Check for missing values\n",
        "print(df.isnull().sum())"
      ]
    },
    {
      "cell_type": "code",
      "execution_count": null,
      "metadata": {
        "colab": {
          "base_uri": "https://localhost:8080/",
          "height": 564
        },
        "id": "9SdbszuTPfXT",
        "outputId": "1d71f563-51e2-45fc-e154-0d925b9624f5"
      },
      "outputs": [
        {
          "data": {
            "image/png": "[encoded data removed]",
            "text/plain": [
              "<Figure size 1000x600 with 1 Axes>"
            ]
          },
          "metadata": {},
          "output_type": "display_data"
        }
      ],
      "source": [
        "import matplotlib.pyplot as plt\n",
        "import seaborn as sns\n",
        "\n",
        "plt.figure(figsize=(12, 8))\n",
        "sns.set(style=\"whitegrid\")\n",
        "\n",
        "# Create the count plot\n",
        "ax = sns.countplot(x='JobSatisfaction', data=df, palette='viridis')\n",
        "\n",
        "# Add title and labels\n",
        "plt.title('Job Satisfaction Distribution', fontsize=16)\n",
        "plt.xlabel('Job Satisfaction Level', fontsize=14)\n",
        "plt.ylabel('Count', fontsize=14)\n",
        "\n",
        "# Display counts on top of the bars\n",
        "for p in ax.patches:\n",
        "    ax.annotate(f'{p.get_height()}', (p.get_x() + p.get_width() / 2., p.get_height()), \n",
        "                ha='center', va='baseline', fontsize=12, color='black', xytext=(0, 5), \n",
        "                textcoords='offset points')\n",
        "\n",
        "# Rotate x-axis labels if necessary\n",
        "plt.xticks(rotation=45, fontsize=12)\n",
        "plt.yticks(fontsize=12)\n",
        "\n",
        "# Show the plot\n",
        "plt.tight_layout()\n",
        "plt.show()\n"
      ]
    },
    {
      "cell_type": "code",
      "execution_count": null,
      "metadata": {
        "id": "7x73vib8Obvk"
      },
      "outputs": [],
      "source": [
        "# Select relevant features for prediction , which are relatade to job\n",
        "features = ['Hobby', 'OpenSource', 'Country', 'Student', 'Employment', 'FormalEducation',\n",
        "            'UndergradMajor', 'CompanySize', 'DevType', 'YearsCoding', 'YearsCodingProf',\n",
        "            'JobSatisfaction']"
      ]
    },
    {
      "cell_type": "code",
      "execution_count": null,
      "metadata": {
        "id": "5ivNFXwbO2Vl"
      },
      "outputs": [],
      "source": [
        "# Filter the dataset with selected features\n",
        "df = df[features]"
      ]
    },
    {
      "cell_type": "code",
      "execution_count": null,
      "metadata": {
        "id": "5IC3YEsDObyf"
      },
      "outputs": [],
      "source": [
        "# Drop rows with missing target value\n",
        "df = df.dropna(subset=['JobSatisfaction'])"
      ]
    },
    {
      "cell_type": "code",
      "execution_count": null,
      "metadata": {
        "id": "z7tM54s9Ob1I"
      },
      "outputs": [],
      "source": [
        "# Split features and target\n",
        "X = df.drop('JobSatisfaction', axis=1)\n",
        "y = df['JobSatisfaction']"
      ]
    },
    {
      "cell_type": "code",
      "execution_count": null,
      "metadata": {
        "id": "mb_yUbbWOb37"
      },
      "outputs": [],
      "source": [
        "# Define categorical and numerical features\n",
        "categorical_features = X.select_dtypes(include=['object']).columns\n",
        "numerical_features = X.select_dtypes(include=['int64', 'float64']).columns"
      ]
    },
    {
      "cell_type": "code",
      "execution_count": null,
      "metadata": {
        "id": "5luiMUypOI3h"
      },
      "outputs": [],
      "source": [
        "# Preprocessing pipelines for numerical and categorical data\n",
        "numerical_pipeline = Pipeline(steps=[\n",
        "    ('imputer', SimpleImputer(strategy='median')),\n",
        "    ('scaler', StandardScaler())\n",
        "])"
      ]
    },
    {
      "cell_type": "code",
      "execution_count": null,
      "metadata": {
        "id": "wzSnaqicPyd8"
      },
      "outputs": [],
      "source": [
        "categorical_pipeline = Pipeline(steps=[\n",
        "    ('imputer', SimpleImputer(strategy='most_frequent')),\n",
        "    ('onehot', OneHotEncoder(handle_unknown='ignore'))\n",
        "])"
      ]
    },
    {
      "cell_type": "code",
      "execution_count": null,
      "metadata": {
        "id": "GN5N9QGrPyg-"
      },
      "outputs": [],
      "source": [
        "# Combine preprocessing pipelines\n",
        "preprocessor = ColumnTransformer(\n",
        "    transformers=[\n",
        "        ('num', numerical_pipeline, numerical_features),\n",
        "        ('cat', categorical_pipeline, categorical_features)\n",
        "    ]\n",
        ")"
      ]
    },
    {
      "cell_type": "code",
      "execution_count": null,
      "metadata": {
        "id": "Hb2Osu0ZPykj"
      },
      "outputs": [],
      "source": [
        "# Split the data into training and testing sets\n",
        "X_train, X_test, y_train, y_test = train_test_split(X, y, test_size=0.2, random_state=42)\n"
      ]
    },
    {
      "cell_type": "code",
      "execution_count": null,
      "metadata": {
        "id": "5oOnOyFaQTsA"
      },
      "outputs": [],
      "source": [
        "# Create and fit the pipeline\n",
        "model = Pipeline(steps=[\n",
        "    ('preprocessor', preprocessor),\n",
        "    ('classifier', RandomForestClassifier(random_state=42))\n",
        "])"
      ]
    },
    {
      "cell_type": "code",
      "execution_count": null,
      "metadata": {
        "id": "XOaOUYi1P2yA"
      },
      "outputs": [],
      "source": [
        "model.fit(X_train, y_train)"
      ]
    },
    {
      "cell_type": "code",
      "execution_count": null,
      "metadata": {
        "id": "y6mT8lvLQbtg"
      },
      "outputs": [],
      "source": [
        "# Make predictions\n",
        "y_pred = model.predict(X_test)"
      ]
    },
    {
      "cell_type": "code",
      "execution_count": null,
      "metadata": {
        "id": "ZCSpSAuDdNgi"
      },
      "outputs": [],
      "source": [
        "import joblib"
      ]
    },
    {
      "cell_type": "code",
      "execution_count": null,
      "metadata": {
        "colab": {
          "background_save": true
        },
        "id": "yksyXWGZdR4_",
        "outputId": "3deaf8a9-8e7f-4d48-9562-60b99aa96e01"
      },
      "outputs": [
        {
          "data": {
            "text/plain": [
              "['model.pkl']"
            ]
          },
          "execution_count": 21,
          "metadata": {},
          "output_type": "execute_result"
        }
      ],
      "source": [
        "# Save the model to a file\n",
        "joblib.dump(model, 'model.pkl')"
      ]
    },
    {
      "cell_type": "code",
      "execution_count": null,
      "metadata": {
        "colab": {
          "background_save": true
        },
        "id": "fw6wBmNwQko4",
        "outputId": "486c5704-db44-44db-8d00-c6928a43810e"
      },
      "outputs": [
        {
          "name": "stdout",
          "output_type": "stream",
          "text": [
            "Accuracy: 0.3393475750577367\n",
            "Confusion Matrix:\n",
            "[[   6   52    9  382    8   14   26]\n",
            " [   3  298   37 1950   28   56   87]\n",
            " [   7  113   25 1006   14   46   67]\n",
            " [  15  466   88 4182   61  118  275]\n",
            " [   6   85   19  818   26   38   51]\n",
            " [   5  104   24 1107   21   60   85]\n",
            " [  12  181   37 1548   32   53  105]]\n",
            "Classification Report:\n",
            "                                    precision    recall  f1-score   support\n",
            "\n",
            "            Extremely dissatisfied       0.11      0.01      0.02       497\n",
            "               Extremely satisfied       0.23      0.12      0.16      2459\n",
            "           Moderately dissatisfied       0.10      0.02      0.03      1278\n",
            "              Moderately satisfied       0.38      0.80      0.52      5205\n",
            "Neither satisfied nor dissatisfied       0.14      0.02      0.04      1043\n",
            "             Slightly dissatisfied       0.16      0.04      0.07      1406\n",
            "                Slightly satisfied       0.15      0.05      0.08      1968\n",
            "\n",
            "                          accuracy                           0.34     13856\n",
            "                         macro avg       0.18      0.15      0.13     13856\n",
            "                      weighted avg       0.24      0.34      0.25     13856\n",
            "\n"
          ]
        }
      ],
      "source": [
        "import matplotlib.pyplot as plt\n",
        "import seaborn as sns\n",
        "#Adding more libraries required\n",
        "from sklearn.metrics import accuracy_score, confusion_matrix, classification_report, roc_curve, auc\n",
        "\n",
        "\n",
        "\n",
        "# Printing accuracy\n",
        "accuracy = accuracy_score(y_test, y_pred)\n",
        "print(f'Accuracy: {accuracy:.2f}')\n",
        "\n",
        "# Printing classification report\n",
        "print('Classification Report:')\n",
        "report = classification_report(y_test, y_pred, output_dict=True)\n",
        "print(classification_report(y_test, y_pred))\n",
        "\n",
        "# Converting classification report to a DataFrame for better readability\n",
        "report_df = pd.DataFrame(report).transpose()\n",
        "\n",
        "# Plotting confusion matrix\n",
        "cm = confusion_matrix(y_test, y_pred)\n",
        "plt.figure(figsize=(10, 6))\n",
        "sns.heatmap(cm, annot=True, fmt='d', cmap='Blues', cbar=False)\n",
        "plt.title('Confusion Matrix')\n",
        "plt.xlabel('Predicted')\n",
        "plt.ylabel('Actual')\n",
        "plt.show()\n",
        "\n",
        "# If the model is a binary classifier, plot the ROC curve\n",
        "if len(set(y_test)) == 2:\n",
        "    fpr, tpr, _ = roc_curve(y_test, y_pred)\n",
        "    roc_auc = auc(fpr, tpr)\n",
        "    \n",
        "    plt.figure(figsize=(10, 6))\n",
        "    plt.plot(fpr, tpr, color='darkorange', lw=2, label=f'ROC curve (area = {roc_auc:.2f})')\n",
        "    plt.plot([0, 1], [0, 1], color='navy', lw=2, linestyle='--')\n",
        "    plt.xlim([0.0, 1.0])\n",
        "    plt.ylim([0.0, 1.05])\n",
        "    plt.xlabel('False Positive Rate')\n",
        "    plt.ylabel('True Positive Rate')\n",
        "    plt.title('Receiver Operating Characteristic (ROC) Curve')\n",
        "    plt.legend(loc='lower right')\n",
        "    plt.show()\n"
      ]
    },
    {
      "cell_type": "code",
      "execution_count": null,
      "metadata": {
        "colab": {
          "background_save": true
        },
        "id": "huZqOC5mTaJm"
      },
      "outputs": [],
      "source": [
        "#Testing the Model\n",
        "def predict_job_satisfaction(user_input):\n",
        "    # Convert user input to DataFrame\n",
        "    input_df = pd.DataFrame([user_input])\n",
        "\n",
        "    # Ensure the input has the same columns as the training data\n",
        "    input_df = input_df[X.columns]\n",
        "\n",
        "    # Make prediction\n",
        "    prediction = model.predict(input_df)\n",
        "\n",
        "    return prediction[0]"
      ]
    },
    {
      "cell_type": "code",
      "execution_count": null,
      "metadata": {
        "colab": {
          "background_save": true
        },
        "id": "yHhyCWmNTi-Y"
      },
      "outputs": [],
      "source": [
        "# Example user input\n",
        "user_input_example = {\n",
        "    'Hobby': 'Yes',\n",
        "    'OpenSource': 'Yes',\n",
        "    'Country': 'United States',\n",
        "    'Student': 'No',\n",
        "    'Employment': 'Employed full-time',\n",
        "    'FormalEducation': 'Bachelor’s degree (BA, BS, B.Eng., etc.)',\n",
        "    'UndergradMajor': 'Computer science, computer engineering, or software engineering',\n",
        "    'CompanySize': '100 to 499 employees',\n",
        "    'DevType': 'Developer, back-end',\n",
        "    'YearsCoding': '6-8 years',\n",
        "    'YearsCodingProf': '3-5 years'\n",
        "}"
      ]
    },
    {
      "cell_type": "code",
      "execution_count": null,
      "metadata": {
        "colab": {
          "background_save": true
        },
        "id": "vvGywGhnTlRM",
        "outputId": "f00c365e-1f2b-4c39-cee5-41a68383c64c"
      },
      "outputs": [
        {
          "name": "stdout",
          "output_type": "stream",
          "text": [
            "Predicted Job Satisfaction: Slightly satisfied\n"
          ]
        }
      ],
      "source": [
        "# Predict job satisfaction for the example input\n",
        "predicted_satisfaction = predict_job_satisfaction(user_input_example)\n",
        "print(f'Predicted Job Satisfaction: {predicted_satisfaction}')"
      ]
    }
  ],
  "metadata": {
    "accelerator": "GPU",
    "colab": {
      "gpuType": "T4",
      "provenance": []
    },
    "kernelspec": {
      "display_name": "Python 3",
      "name": "python3"
    },
    "language_info": {
      "name": "python"
    }
  },
  "nbformat": 4,
  "nbformat_minor": 0
}
